{
 "cells": [
  {
   "cell_type": "markdown",
   "metadata": {},
   "source": [
    "## 1. Data Loading & Importing Libraries"
   ]
  },
  {
   "cell_type": "code",
   "execution_count": 294,
   "metadata": {},
   "outputs": [
    {
     "data": {
      "text/html": [
       "<div>\n",
       "<style scoped>\n",
       "    .dataframe tbody tr th:only-of-type {\n",
       "        vertical-align: middle;\n",
       "    }\n",
       "\n",
       "    .dataframe tbody tr th {\n",
       "        vertical-align: top;\n",
       "    }\n",
       "\n",
       "    .dataframe thead th {\n",
       "        text-align: right;\n",
       "    }\n",
       "</style>\n",
       "<table border=\"1\" class=\"dataframe\">\n",
       "  <thead>\n",
       "    <tr style=\"text-align: right;\">\n",
       "      <th></th>\n",
       "      <th>satisfaction_level</th>\n",
       "      <th>last_evaluation</th>\n",
       "      <th>number_project</th>\n",
       "      <th>average_montly_hours</th>\n",
       "      <th>time_spend_company</th>\n",
       "      <th>Work_accident</th>\n",
       "      <th>left</th>\n",
       "      <th>promotion_last_5years</th>\n",
       "      <th>sales</th>\n",
       "      <th>salary</th>\n",
       "    </tr>\n",
       "  </thead>\n",
       "  <tbody>\n",
       "    <tr>\n",
       "      <th>0</th>\n",
       "      <td>0.38</td>\n",
       "      <td>0.53</td>\n",
       "      <td>2.0</td>\n",
       "      <td>157.0</td>\n",
       "      <td>3.0</td>\n",
       "      <td>0.0</td>\n",
       "      <td>1.0</td>\n",
       "      <td>0.0</td>\n",
       "      <td>sales</td>\n",
       "      <td>low</td>\n",
       "    </tr>\n",
       "    <tr>\n",
       "      <th>1</th>\n",
       "      <td>0.80</td>\n",
       "      <td>0.86</td>\n",
       "      <td>5.0</td>\n",
       "      <td>262.0</td>\n",
       "      <td>6.0</td>\n",
       "      <td>0.0</td>\n",
       "      <td>1.0</td>\n",
       "      <td>0.0</td>\n",
       "      <td>sales</td>\n",
       "      <td>medium</td>\n",
       "    </tr>\n",
       "    <tr>\n",
       "      <th>2</th>\n",
       "      <td>0.11</td>\n",
       "      <td>0.88</td>\n",
       "      <td>7.0</td>\n",
       "      <td>272.0</td>\n",
       "      <td>4.0</td>\n",
       "      <td>0.0</td>\n",
       "      <td>1.0</td>\n",
       "      <td>0.0</td>\n",
       "      <td>sales</td>\n",
       "      <td>medium</td>\n",
       "    </tr>\n",
       "    <tr>\n",
       "      <th>3</th>\n",
       "      <td>0.72</td>\n",
       "      <td>0.87</td>\n",
       "      <td>5.0</td>\n",
       "      <td>223.0</td>\n",
       "      <td>5.0</td>\n",
       "      <td>0.0</td>\n",
       "      <td>1.0</td>\n",
       "      <td>0.0</td>\n",
       "      <td>sales</td>\n",
       "      <td>low</td>\n",
       "    </tr>\n",
       "    <tr>\n",
       "      <th>4</th>\n",
       "      <td>0.37</td>\n",
       "      <td>0.52</td>\n",
       "      <td>2.0</td>\n",
       "      <td>159.0</td>\n",
       "      <td>3.0</td>\n",
       "      <td>0.0</td>\n",
       "      <td>1.0</td>\n",
       "      <td>0.0</td>\n",
       "      <td>sales</td>\n",
       "      <td>low</td>\n",
       "    </tr>\n",
       "    <tr>\n",
       "      <th>...</th>\n",
       "      <td>...</td>\n",
       "      <td>...</td>\n",
       "      <td>...</td>\n",
       "      <td>...</td>\n",
       "      <td>...</td>\n",
       "      <td>...</td>\n",
       "      <td>...</td>\n",
       "      <td>...</td>\n",
       "      <td>...</td>\n",
       "      <td>...</td>\n",
       "    </tr>\n",
       "    <tr>\n",
       "      <th>14994</th>\n",
       "      <td>0.40</td>\n",
       "      <td>0.57</td>\n",
       "      <td>2.0</td>\n",
       "      <td>151.0</td>\n",
       "      <td>3.0</td>\n",
       "      <td>0.0</td>\n",
       "      <td>1.0</td>\n",
       "      <td>0.0</td>\n",
       "      <td>support</td>\n",
       "      <td>low</td>\n",
       "    </tr>\n",
       "    <tr>\n",
       "      <th>14995</th>\n",
       "      <td>0.37</td>\n",
       "      <td>0.48</td>\n",
       "      <td>2.0</td>\n",
       "      <td>160.0</td>\n",
       "      <td>3.0</td>\n",
       "      <td>0.0</td>\n",
       "      <td>1.0</td>\n",
       "      <td>0.0</td>\n",
       "      <td>support</td>\n",
       "      <td>low</td>\n",
       "    </tr>\n",
       "    <tr>\n",
       "      <th>14996</th>\n",
       "      <td>0.37</td>\n",
       "      <td>0.53</td>\n",
       "      <td>2.0</td>\n",
       "      <td>143.0</td>\n",
       "      <td>3.0</td>\n",
       "      <td>0.0</td>\n",
       "      <td>1.0</td>\n",
       "      <td>0.0</td>\n",
       "      <td>support</td>\n",
       "      <td>low</td>\n",
       "    </tr>\n",
       "    <tr>\n",
       "      <th>14997</th>\n",
       "      <td>0.11</td>\n",
       "      <td>0.96</td>\n",
       "      <td>6.0</td>\n",
       "      <td>280.0</td>\n",
       "      <td>4.0</td>\n",
       "      <td>0.0</td>\n",
       "      <td>1.0</td>\n",
       "      <td>0.0</td>\n",
       "      <td>support</td>\n",
       "      <td>low</td>\n",
       "    </tr>\n",
       "    <tr>\n",
       "      <th>14998</th>\n",
       "      <td>0.37</td>\n",
       "      <td>0.52</td>\n",
       "      <td>2.0</td>\n",
       "      <td>158.0</td>\n",
       "      <td>3.0</td>\n",
       "      <td>0.0</td>\n",
       "      <td>1.0</td>\n",
       "      <td>0.0</td>\n",
       "      <td>support</td>\n",
       "      <td>low</td>\n",
       "    </tr>\n",
       "  </tbody>\n",
       "</table>\n",
       "<p>14999 rows × 10 columns</p>\n",
       "</div>"
      ],
      "text/plain": [
       "       satisfaction_level  last_evaluation  number_project  \\\n",
       "0                    0.38             0.53             2.0   \n",
       "1                    0.80             0.86             5.0   \n",
       "2                    0.11             0.88             7.0   \n",
       "3                    0.72             0.87             5.0   \n",
       "4                    0.37             0.52             2.0   \n",
       "...                   ...              ...             ...   \n",
       "14994                0.40             0.57             2.0   \n",
       "14995                0.37             0.48             2.0   \n",
       "14996                0.37             0.53             2.0   \n",
       "14997                0.11             0.96             6.0   \n",
       "14998                0.37             0.52             2.0   \n",
       "\n",
       "       average_montly_hours  time_spend_company  Work_accident  left  \\\n",
       "0                     157.0                 3.0            0.0   1.0   \n",
       "1                     262.0                 6.0            0.0   1.0   \n",
       "2                     272.0                 4.0            0.0   1.0   \n",
       "3                     223.0                 5.0            0.0   1.0   \n",
       "4                     159.0                 3.0            0.0   1.0   \n",
       "...                     ...                 ...            ...   ...   \n",
       "14994                 151.0                 3.0            0.0   1.0   \n",
       "14995                 160.0                 3.0            0.0   1.0   \n",
       "14996                 143.0                 3.0            0.0   1.0   \n",
       "14997                 280.0                 4.0            0.0   1.0   \n",
       "14998                 158.0                 3.0            0.0   1.0   \n",
       "\n",
       "       promotion_last_5years    sales  salary  \n",
       "0                        0.0    sales     low  \n",
       "1                        0.0    sales  medium  \n",
       "2                        0.0    sales  medium  \n",
       "3                        0.0    sales     low  \n",
       "4                        0.0    sales     low  \n",
       "...                      ...      ...     ...  \n",
       "14994                    0.0  support     low  \n",
       "14995                    0.0  support     low  \n",
       "14996                    0.0  support     low  \n",
       "14997                    0.0  support     low  \n",
       "14998                    0.0  support     low  \n",
       "\n",
       "[14999 rows x 10 columns]"
      ]
     },
     "execution_count": 294,
     "metadata": {},
     "output_type": "execute_result"
    }
   ],
   "source": [
    "from dataset import Dataset\n",
    "import numpy as np\n",
    "import matplotlib.pyplot as plt\n",
    "\n",
    "from sklearn.linear_model import LogisticRegression\n",
    "from sklearn.metrics import accuracy_score, f1_score, recall_score, matthews_corrcoef\n",
    "\n",
    "turnover = Dataset('/Users/kuka/Downloads/turnover.csv', delimiter=',', header=0)\n",
    "\n",
    "turnover.features"
   ]
  },
  {
   "cell_type": "markdown",
   "metadata": {},
   "source": [
    "## 2. Data Preparation"
   ]
  },
  {
   "cell_type": "markdown",
   "metadata": {},
   "source": [
    "## A. Data Overview (basic statistics)"
   ]
  },
  {
   "cell_type": "code",
   "execution_count": 3,
   "metadata": {},
   "outputs": [
    {
     "name": "stdout",
     "output_type": "stream",
     "text": [
      "Summary of all columns:\n",
      "Features Summary (all):\n",
      "'satisfaction_level'   : float64    Min.(0.09) 1stQ(0.44) Med.(0.64) Mean(0.61) 3rdQ(0.82) Max.(1.0)\n",
      "'last_evaluation'      : float64    Min.(0.36) 1stQ(0.56) Med.(0.72) Mean(0.71) 3rdQ(0.87) Max.(1.0)\n",
      "'number_project'       : float64    Min.(2.0) 1stQ(3.0) Med.(4.0) Mean(3.80) 3rdQ(5.0) Max.(7.0)\n",
      "'average_montly_hours' : float64    Min.(96.0) 1stQ(156.) Med.(200.) Mean(201.) 3rdQ(245.) Max.(310.)\n",
      "'time_spend_company'   : float64    Min.(2.0) 1stQ(3.0) Med.(3.0) Mean(3.49) 3rdQ(4.0) Max.(10.0)\n",
      "'Work_accident'        : float64    Min.(0.0) 1stQ(0.0) Med.(0.0) Mean(0.14) 3rdQ(0.0) Max.(1.0)\n",
      "'left'                 : float64    Min.(0.0) 1stQ(0.0) Med.(0.0) Mean(0.23) 3rdQ(0.0) Max.(1.0)\n",
      "'promotion_last_5years': float64    Min.(0.0) 1stQ(0.0) Med.(0.0) Mean(0.02) 3rdQ(0.0) Max.(1.0)\n",
      "'sales'                : object     10 categs. 'sales'(4140, 0.2760) 'accounting'(2720, 0.1813) 'hr'(2229, 0.1486) 'technical'(1227, 0.0818) ...\n",
      "'salary'               : object     3 categs. 'low'(7316, 0.4878) 'medium'(6446, 0.4298) 'high'(1237, 0.0825) \n"
     ]
    }
   ],
   "source": [
    "print (\"Summary of all columns:\")\n",
    "turnover.summary()"
   ]
  },
  {
   "cell_type": "code",
   "execution_count": 4,
   "metadata": {},
   "outputs": [
    {
     "name": "stdout",
     "output_type": "stream",
     "text": [
      "10 Features. 14999 Samples\n",
      "Available types: [dtype('float64') dtype('O')]\n",
      "  · 2 categorical features\n",
      "  · 8 numerical features\n",
      "  · 0 categorical features with NAs\n",
      "  · 0 numerical features with NAs\n",
      "  · 10 Complete features\n",
      "--\n",
      "Target: Not set\n"
     ]
    }
   ],
   "source": [
    "turnover.describe()"
   ]
  },
  {
   "cell_type": "code",
   "execution_count": 5,
   "metadata": {},
   "outputs": [
    {
     "name": "stdout",
     "output_type": "stream",
     "text": [
      "Accessing Numerical values:\n"
     ]
    },
    {
     "data": {
      "text/html": [
       "<div>\n",
       "<style scoped>\n",
       "    .dataframe tbody tr th:only-of-type {\n",
       "        vertical-align: middle;\n",
       "    }\n",
       "\n",
       "    .dataframe tbody tr th {\n",
       "        vertical-align: top;\n",
       "    }\n",
       "\n",
       "    .dataframe thead th {\n",
       "        text-align: right;\n",
       "    }\n",
       "</style>\n",
       "<table border=\"1\" class=\"dataframe\">\n",
       "  <thead>\n",
       "    <tr style=\"text-align: right;\">\n",
       "      <th></th>\n",
       "      <th>satisfaction_level</th>\n",
       "      <th>last_evaluation</th>\n",
       "      <th>number_project</th>\n",
       "      <th>average_montly_hours</th>\n",
       "      <th>time_spend_company</th>\n",
       "      <th>Work_accident</th>\n",
       "      <th>left</th>\n",
       "      <th>promotion_last_5years</th>\n",
       "    </tr>\n",
       "  </thead>\n",
       "  <tbody>\n",
       "    <tr>\n",
       "      <th>0</th>\n",
       "      <td>0.38</td>\n",
       "      <td>0.53</td>\n",
       "      <td>2.0</td>\n",
       "      <td>157.0</td>\n",
       "      <td>3.0</td>\n",
       "      <td>0.0</td>\n",
       "      <td>1.0</td>\n",
       "      <td>0.0</td>\n",
       "    </tr>\n",
       "    <tr>\n",
       "      <th>1</th>\n",
       "      <td>0.80</td>\n",
       "      <td>0.86</td>\n",
       "      <td>5.0</td>\n",
       "      <td>262.0</td>\n",
       "      <td>6.0</td>\n",
       "      <td>0.0</td>\n",
       "      <td>1.0</td>\n",
       "      <td>0.0</td>\n",
       "    </tr>\n",
       "    <tr>\n",
       "      <th>2</th>\n",
       "      <td>0.11</td>\n",
       "      <td>0.88</td>\n",
       "      <td>7.0</td>\n",
       "      <td>272.0</td>\n",
       "      <td>4.0</td>\n",
       "      <td>0.0</td>\n",
       "      <td>1.0</td>\n",
       "      <td>0.0</td>\n",
       "    </tr>\n",
       "    <tr>\n",
       "      <th>3</th>\n",
       "      <td>0.72</td>\n",
       "      <td>0.87</td>\n",
       "      <td>5.0</td>\n",
       "      <td>223.0</td>\n",
       "      <td>5.0</td>\n",
       "      <td>0.0</td>\n",
       "      <td>1.0</td>\n",
       "      <td>0.0</td>\n",
       "    </tr>\n",
       "    <tr>\n",
       "      <th>4</th>\n",
       "      <td>0.37</td>\n",
       "      <td>0.52</td>\n",
       "      <td>2.0</td>\n",
       "      <td>159.0</td>\n",
       "      <td>3.0</td>\n",
       "      <td>0.0</td>\n",
       "      <td>1.0</td>\n",
       "      <td>0.0</td>\n",
       "    </tr>\n",
       "  </tbody>\n",
       "</table>\n",
       "</div>"
      ],
      "text/plain": [
       "   satisfaction_level  last_evaluation  number_project  average_montly_hours  \\\n",
       "0                0.38             0.53             2.0                 157.0   \n",
       "1                0.80             0.86             5.0                 262.0   \n",
       "2                0.11             0.88             7.0                 272.0   \n",
       "3                0.72             0.87             5.0                 223.0   \n",
       "4                0.37             0.52             2.0                 159.0   \n",
       "\n",
       "   time_spend_company  Work_accident  left  promotion_last_5years  \n",
       "0                 3.0            0.0   1.0                    0.0  \n",
       "1                 6.0            0.0   1.0                    0.0  \n",
       "2                 4.0            0.0   1.0                    0.0  \n",
       "3                 5.0            0.0   1.0                    0.0  \n",
       "4                 3.0            0.0   1.0                    0.0  "
      ]
     },
     "execution_count": 5,
     "metadata": {},
     "output_type": "execute_result"
    }
   ],
   "source": [
    "#Names of the availble numerical values in our dataset and five examles of some of this values\n",
    "print (\"Accessing Numerical values:\")\n",
    "turnover.numerical.head(5)"
   ]
  },
  {
   "cell_type": "code",
   "execution_count": 6,
   "metadata": {},
   "outputs": [
    {
     "name": "stdout",
     "output_type": "stream",
     "text": [
      "Accessing Categorial values:\n"
     ]
    },
    {
     "data": {
      "text/html": [
       "<div>\n",
       "<style scoped>\n",
       "    .dataframe tbody tr th:only-of-type {\n",
       "        vertical-align: middle;\n",
       "    }\n",
       "\n",
       "    .dataframe tbody tr th {\n",
       "        vertical-align: top;\n",
       "    }\n",
       "\n",
       "    .dataframe thead th {\n",
       "        text-align: right;\n",
       "    }\n",
       "</style>\n",
       "<table border=\"1\" class=\"dataframe\">\n",
       "  <thead>\n",
       "    <tr style=\"text-align: right;\">\n",
       "      <th></th>\n",
       "      <th>satisfaction_level</th>\n",
       "      <th>last_evaluation</th>\n",
       "      <th>number_project</th>\n",
       "      <th>average_montly_hours</th>\n",
       "      <th>time_spend_company</th>\n",
       "      <th>Work_accident</th>\n",
       "      <th>left</th>\n",
       "      <th>promotion_last_5years</th>\n",
       "    </tr>\n",
       "  </thead>\n",
       "  <tbody>\n",
       "    <tr>\n",
       "      <th>0</th>\n",
       "      <td>0.38</td>\n",
       "      <td>0.53</td>\n",
       "      <td>2.0</td>\n",
       "      <td>157.0</td>\n",
       "      <td>3.0</td>\n",
       "      <td>0.0</td>\n",
       "      <td>1.0</td>\n",
       "      <td>0.0</td>\n",
       "    </tr>\n",
       "    <tr>\n",
       "      <th>1</th>\n",
       "      <td>0.80</td>\n",
       "      <td>0.86</td>\n",
       "      <td>5.0</td>\n",
       "      <td>262.0</td>\n",
       "      <td>6.0</td>\n",
       "      <td>0.0</td>\n",
       "      <td>1.0</td>\n",
       "      <td>0.0</td>\n",
       "    </tr>\n",
       "    <tr>\n",
       "      <th>2</th>\n",
       "      <td>0.11</td>\n",
       "      <td>0.88</td>\n",
       "      <td>7.0</td>\n",
       "      <td>272.0</td>\n",
       "      <td>4.0</td>\n",
       "      <td>0.0</td>\n",
       "      <td>1.0</td>\n",
       "      <td>0.0</td>\n",
       "    </tr>\n",
       "    <tr>\n",
       "      <th>3</th>\n",
       "      <td>0.72</td>\n",
       "      <td>0.87</td>\n",
       "      <td>5.0</td>\n",
       "      <td>223.0</td>\n",
       "      <td>5.0</td>\n",
       "      <td>0.0</td>\n",
       "      <td>1.0</td>\n",
       "      <td>0.0</td>\n",
       "    </tr>\n",
       "    <tr>\n",
       "      <th>4</th>\n",
       "      <td>0.37</td>\n",
       "      <td>0.52</td>\n",
       "      <td>2.0</td>\n",
       "      <td>159.0</td>\n",
       "      <td>3.0</td>\n",
       "      <td>0.0</td>\n",
       "      <td>1.0</td>\n",
       "      <td>0.0</td>\n",
       "    </tr>\n",
       "  </tbody>\n",
       "</table>\n",
       "</div>"
      ],
      "text/plain": [
       "   satisfaction_level  last_evaluation  number_project  average_montly_hours  \\\n",
       "0                0.38             0.53             2.0                 157.0   \n",
       "1                0.80             0.86             5.0                 262.0   \n",
       "2                0.11             0.88             7.0                 272.0   \n",
       "3                0.72             0.87             5.0                 223.0   \n",
       "4                0.37             0.52             2.0                 159.0   \n",
       "\n",
       "   time_spend_company  Work_accident  left  promotion_last_5years  \n",
       "0                 3.0            0.0   1.0                    0.0  \n",
       "1                 6.0            0.0   1.0                    0.0  \n",
       "2                 4.0            0.0   1.0                    0.0  \n",
       "3                 5.0            0.0   1.0                    0.0  \n",
       "4                 3.0            0.0   1.0                    0.0  "
      ]
     },
     "execution_count": 6,
     "metadata": {},
     "output_type": "execute_result"
    }
   ],
   "source": [
    "#Names of the availble categorical values in our dataset and five examles of some of this values\n",
    "print (\"Accessing Categorial values:\")\n",
    "turnover.numerical.head(5)"
   ]
  },
  {
   "cell_type": "markdown",
   "metadata": {},
   "source": [
    "## B. Analysing NA's\n"
   ]
  },
  {
   "cell_type": "code",
   "execution_count": 7,
   "metadata": {},
   "outputs": [
    {
     "name": "stdout",
     "output_type": "stream",
     "text": [
      "Checking for NA's:\n"
     ]
    },
    {
     "data": {
      "text/plain": [
       "[]"
      ]
     },
     "execution_count": 7,
     "metadata": {},
     "output_type": "execute_result"
    }
   ],
   "source": [
    "print (\"Checking for NA's:\")\n",
    "turnover.nas()"
   ]
  },
  {
   "cell_type": "code",
   "execution_count": 8,
   "metadata": {},
   "outputs": [
    {
     "name": "stdout",
     "output_type": "stream",
     "text": [
      "Since there are no NA's in our Dataset, we will continue to proceed to the conversion of Datatypes\n"
     ]
    }
   ],
   "source": [
    "print(\"Since there are no NA's in our Dataset, we will continue to proceed to the conversion of Datatypes\")"
   ]
  },
  {
   "cell_type": "markdown",
   "metadata": {},
   "source": [
    "## C. Restructuring to the proper data type\n"
   ]
  },
  {
   "cell_type": "code",
   "execution_count": 9,
   "metadata": {},
   "outputs": [
    {
     "name": "stdout",
     "output_type": "stream",
     "text": [
      "Data conversion: in this case we will be converting our variable Left into numeric\n"
     ]
    },
    {
     "data": {
      "text/plain": [
       "<dataset.dataset.Dataset at 0x122b2ddd8>"
      ]
     },
     "execution_count": 9,
     "metadata": {},
     "output_type": "execute_result"
    }
   ],
   "source": [
    "#Now we will type the conversion of one of our variables that we will be using as a target variable\n",
    "print (\"Data conversion: in this case we will be converting our variable Left into numeric\")\n",
    "turnover.to_numerical('left')"
   ]
  },
  {
   "cell_type": "code",
   "execution_count": 10,
   "metadata": {},
   "outputs": [
    {
     "name": "stdout",
     "output_type": "stream",
     "text": [
      "Data conversion: in this case we will be converting our variable Left to an integer\n"
     ]
    },
    {
     "data": {
      "text/plain": [
       "<dataset.dataset.Dataset at 0x122b2ddd8>"
      ]
     },
     "execution_count": 10,
     "metadata": {},
     "output_type": "execute_result"
    }
   ],
   "source": [
    "#Now we will type the conversion of one of our variables that we will be using as a target variable\n",
    "print (\"Data conversion: in this case we will be converting our variable Left to an integer\")\n",
    "turnover.to_int(\"left\")"
   ]
  },
  {
   "cell_type": "code",
   "execution_count": 11,
   "metadata": {},
   "outputs": [
    {
     "name": "stdout",
     "output_type": "stream",
     "text": [
      "Data conversion: in this case we will be converting our variable Work_accident to an integer\n"
     ]
    },
    {
     "data": {
      "text/plain": [
       "<dataset.dataset.Dataset at 0x122b2ddd8>"
      ]
     },
     "execution_count": 11,
     "metadata": {},
     "output_type": "execute_result"
    }
   ],
   "source": [
    "#Now we will type the conversion of one of our variables \n",
    "print (\"Data conversion: in this case we will be converting our variable Work_accident to an integer\")\n",
    "turnover.to_int(\"Work_accident\")"
   ]
  },
  {
   "cell_type": "code",
   "execution_count": 12,
   "metadata": {},
   "outputs": [
    {
     "name": "stdout",
     "output_type": "stream",
     "text": [
      "Data conversion: in this case we will be converting our variable promotion_last_5years to an integer\n"
     ]
    },
    {
     "data": {
      "text/plain": [
       "<dataset.dataset.Dataset at 0x122b2ddd8>"
      ]
     },
     "execution_count": 12,
     "metadata": {},
     "output_type": "execute_result"
    }
   ],
   "source": [
    "#Now we will type the conversion of one of our variables \n",
    "print (\"Data conversion: in this case we will be converting our variable promotion_last_5years to an integer\")\n",
    "turnover.to_int(\"promotion_last_5years\")"
   ]
  },
  {
   "cell_type": "markdown",
   "metadata": {},
   "source": [
    "## D. Setting our Target Variable\n"
   ]
  },
  {
   "cell_type": "code",
   "execution_count": 13,
   "metadata": {},
   "outputs": [
    {
     "name": "stdout",
     "output_type": "stream",
     "text": [
      "Setting target variable: left\n",
      "First 5 rows of dataset without left\n"
     ]
    },
    {
     "data": {
      "text/html": [
       "<div>\n",
       "<style scoped>\n",
       "    .dataframe tbody tr th:only-of-type {\n",
       "        vertical-align: middle;\n",
       "    }\n",
       "\n",
       "    .dataframe tbody tr th {\n",
       "        vertical-align: top;\n",
       "    }\n",
       "\n",
       "    .dataframe thead th {\n",
       "        text-align: right;\n",
       "    }\n",
       "</style>\n",
       "<table border=\"1\" class=\"dataframe\">\n",
       "  <thead>\n",
       "    <tr style=\"text-align: right;\">\n",
       "      <th></th>\n",
       "      <th>satisfaction_level</th>\n",
       "      <th>last_evaluation</th>\n",
       "      <th>number_project</th>\n",
       "      <th>average_montly_hours</th>\n",
       "      <th>time_spend_company</th>\n",
       "      <th>Work_accident</th>\n",
       "      <th>promotion_last_5years</th>\n",
       "      <th>sales</th>\n",
       "      <th>salary</th>\n",
       "    </tr>\n",
       "  </thead>\n",
       "  <tbody>\n",
       "    <tr>\n",
       "      <th>0</th>\n",
       "      <td>0.38</td>\n",
       "      <td>0.53</td>\n",
       "      <td>2.0</td>\n",
       "      <td>157.0</td>\n",
       "      <td>3.0</td>\n",
       "      <td>0</td>\n",
       "      <td>0</td>\n",
       "      <td>sales</td>\n",
       "      <td>low</td>\n",
       "    </tr>\n",
       "    <tr>\n",
       "      <th>1</th>\n",
       "      <td>0.80</td>\n",
       "      <td>0.86</td>\n",
       "      <td>5.0</td>\n",
       "      <td>262.0</td>\n",
       "      <td>6.0</td>\n",
       "      <td>0</td>\n",
       "      <td>0</td>\n",
       "      <td>sales</td>\n",
       "      <td>medium</td>\n",
       "    </tr>\n",
       "    <tr>\n",
       "      <th>2</th>\n",
       "      <td>0.11</td>\n",
       "      <td>0.88</td>\n",
       "      <td>7.0</td>\n",
       "      <td>272.0</td>\n",
       "      <td>4.0</td>\n",
       "      <td>0</td>\n",
       "      <td>0</td>\n",
       "      <td>sales</td>\n",
       "      <td>medium</td>\n",
       "    </tr>\n",
       "    <tr>\n",
       "      <th>3</th>\n",
       "      <td>0.72</td>\n",
       "      <td>0.87</td>\n",
       "      <td>5.0</td>\n",
       "      <td>223.0</td>\n",
       "      <td>5.0</td>\n",
       "      <td>0</td>\n",
       "      <td>0</td>\n",
       "      <td>sales</td>\n",
       "      <td>low</td>\n",
       "    </tr>\n",
       "    <tr>\n",
       "      <th>4</th>\n",
       "      <td>0.37</td>\n",
       "      <td>0.52</td>\n",
       "      <td>2.0</td>\n",
       "      <td>159.0</td>\n",
       "      <td>3.0</td>\n",
       "      <td>0</td>\n",
       "      <td>0</td>\n",
       "      <td>sales</td>\n",
       "      <td>low</td>\n",
       "    </tr>\n",
       "  </tbody>\n",
       "</table>\n",
       "</div>"
      ],
      "text/plain": [
       "   satisfaction_level  last_evaluation  number_project  average_montly_hours  \\\n",
       "0                0.38             0.53             2.0                 157.0   \n",
       "1                0.80             0.86             5.0                 262.0   \n",
       "2                0.11             0.88             7.0                 272.0   \n",
       "3                0.72             0.87             5.0                 223.0   \n",
       "4                0.37             0.52             2.0                 159.0   \n",
       "\n",
       "   time_spend_company  Work_accident  promotion_last_5years  sales  salary  \n",
       "0                 3.0              0                      0  sales     low  \n",
       "1                 6.0              0                      0  sales  medium  \n",
       "2                 4.0              0                      0  sales  medium  \n",
       "3                 5.0              0                      0  sales     low  \n",
       "4                 3.0              0                      0  sales     low  "
      ]
     },
     "execution_count": 13,
     "metadata": {},
     "output_type": "execute_result"
    }
   ],
   "source": [
    "#Setting the target variable of staff/employee attrition, in other words, employees who have left\n",
    "print (\"Setting target variable: left\")\n",
    "turnover.set_target(\"left\")\n",
    "\n",
    "#Reviewing the first 5 rows, but this time with our target variable \"left\" gone\n",
    "print (\"First 5 rows of dataset without left\")\n",
    "turnover.features.head(5)"
   ]
  },
  {
   "cell_type": "code",
   "execution_count": 14,
   "metadata": {},
   "outputs": [
    {
     "data": {
      "text/plain": [
       "0    1\n",
       "1    1\n",
       "2    1\n",
       "3    1\n",
       "4    1\n",
       "Name: left, dtype: int64"
      ]
     },
     "execution_count": 14,
     "metadata": {},
     "output_type": "execute_result"
    }
   ],
   "source": [
    "#Viewing our target variable\n",
    "turnover.target.head(5)"
   ]
  },
  {
   "cell_type": "markdown",
   "metadata": {},
   "source": [
    "## E. Feature Importance"
   ]
  },
  {
   "cell_type": "code",
   "execution_count": 15,
   "metadata": {},
   "outputs": [
    {
     "name": "stdout",
     "output_type": "stream",
     "text": [
      "Overall feature importance:\n"
     ]
    },
    {
     "data": {
      "text/plain": [
       "{'Work_accident': 0.052333488899259754,\n",
       " 'average_montly_hours': 0.09307556640847725,\n",
       " 'last_evaluation': 0.07264166569437949,\n",
       " 'number_project': 0.27921528101873083,\n",
       " 'promotion_last_5years': 0.00891059403960258,\n",
       " 'satisfaction_level': 0.09462550250602815,\n",
       " 'time_spend_company': 0.3794586305753766}"
      ]
     },
     "execution_count": 15,
     "metadata": {},
     "output_type": "execute_result"
    }
   ],
   "source": [
    "#Importance of features by using ReliefF algorithm to identify the reltaive importance of features to the target variable\n",
    "print (\"Overall feature importance:\")\n",
    "turnover.features_importance()"
   ]
  },
  {
   "cell_type": "code",
   "execution_count": 16,
   "metadata": {},
   "outputs": [
    {
     "name": "stdout",
     "output_type": "stream",
     "text": [
      "Graphical plot of feature importance:\n"
     ]
    },
    {
     "data": {
      "image/png": "[encoded data removed]",
      "text/plain": [
       "<Figure size 576x576 with 1 Axes>"
      ]
     },
     "metadata": {},
     "output_type": "display_data"
    }
   ],
   "source": [
    "print (\"Graphical plot of feature importance:\")\n",
    "turnover.plot_importance()"
   ]
  },
  {
   "cell_type": "markdown",
   "metadata": {},
   "source": [
    "## F. One-Hot Encoding"
   ]
  },
  {
   "cell_type": "code",
   "execution_count": 17,
   "metadata": {},
   "outputs": [
    {
     "name": "stdout",
     "output_type": "stream",
     "text": [
      "Features Summary (all):\n",
      "'Work_accident'        : int64      Min.(0) 1stQ(0.0) Med.(0.0) Mean(0.14) 3rdQ(0.0) Max.(1)\n",
      "'average_montly_hours' : float64    Min.(96.0) 1stQ(156.) Med.(200.) Mean(201.) 3rdQ(245.) Max.(310.)\n",
      "'last_evaluation'      : float64    Min.(0.36) 1stQ(0.56) Med.(0.72) Mean(0.71) 3rdQ(0.87) Max.(1.0)\n",
      "'number_project'       : float64    Min.(2.0) 1stQ(3.0) Med.(4.0) Mean(3.80) 3rdQ(5.0) Max.(7.0)\n",
      "'promotion_last_5years': int64      Min.(0) 1stQ(0.0) Med.(0.0) Mean(0.02) 3rdQ(0.0) Max.(1)\n",
      "'salary'               : object     3 categs. 'low'(7316, 0.4878) 'medium'(6446, 0.4298) 'high'(1237, 0.0825) \n",
      "'satisfaction_level'   : float64    Min.(0.09) 1stQ(0.44) Med.(0.64) Mean(0.61) 3rdQ(0.82) Max.(1.0)\n",
      "'time_spend_company'   : float64    Min.(2.0) 1stQ(3.0) Med.(3.0) Mean(3.49) 3rdQ(4.0) Max.(10.0)\n",
      "'sales_IT'             : float64    Min.(0.0) 1stQ(0.0) Med.(0.0) Mean(0.08) 3rdQ(0.0) Max.(1.0)\n",
      "'sales_RandD'          : float64    Min.(0.0) 1stQ(0.0) Med.(0.0) Mean(0.05) 3rdQ(0.0) Max.(1.0)\n",
      "'sales_accounting'     : float64    Min.(0.0) 1stQ(0.0) Med.(0.0) Mean(0.05) 3rdQ(0.0) Max.(1.0)\n",
      "'sales_hr'             : float64    Min.(0.0) 1stQ(0.0) Med.(0.0) Mean(0.04) 3rdQ(0.0) Max.(1.0)\n",
      "'sales_management'     : float64    Min.(0.0) 1stQ(0.0) Med.(0.0) Mean(0.04) 3rdQ(0.0) Max.(1.0)\n",
      "'sales_marketing'      : float64    Min.(0.0) 1stQ(0.0) Med.(0.0) Mean(0.05) 3rdQ(0.0) Max.(1.0)\n",
      "'sales_product_mng'    : float64    Min.(0.0) 1stQ(0.0) Med.(0.0) Mean(0.06) 3rdQ(0.0) Max.(1.0)\n",
      "'sales_sales'          : float64    Min.(0.0) 1stQ(0.0) Med.(0.0) Mean(0.27) 3rdQ(1.0) Max.(1.0)\n",
      "'sales_support'        : float64    Min.(0.0) 1stQ(0.0) Med.(0.0) Mean(0.14) 3rdQ(0.0) Max.(1.0)\n",
      "'sales_technical'      : float64    Min.(0.0) 1stQ(0.0) Med.(0.0) Mean(0.18) 3rdQ(0.0) Max.(1.0)\n",
      "'left'                 : int64      Min.(0) 1stQ(0.0) Med.(0.0) Mean(0.23) 3rdQ(0.0) Max.(1)\n"
     ]
    }
   ],
   "source": [
    "#Tranforming the sales variable into dummyfied versions, which will produce more variable\n",
    "turnover1 = turnover.onehot_encode(\"sales\").summary()"
   ]
  },
  {
   "cell_type": "code",
   "execution_count": 18,
   "metadata": {},
   "outputs": [
    {
     "name": "stdout",
     "output_type": "stream",
     "text": [
      "Features Summary (all):\n",
      "'Work_accident'        : int64      Min.(0) 1stQ(0.0) Med.(0.0) Mean(0.14) 3rdQ(0.0) Max.(1)\n",
      "'average_montly_hours' : float64    Min.(96.0) 1stQ(156.) Med.(200.) Mean(201.) 3rdQ(245.) Max.(310.)\n",
      "'last_evaluation'      : float64    Min.(0.36) 1stQ(0.56) Med.(0.72) Mean(0.71) 3rdQ(0.87) Max.(1.0)\n",
      "'number_project'       : float64    Min.(2.0) 1stQ(3.0) Med.(4.0) Mean(3.80) 3rdQ(5.0) Max.(7.0)\n",
      "'promotion_last_5years': int64      Min.(0) 1stQ(0.0) Med.(0.0) Mean(0.02) 3rdQ(0.0) Max.(1)\n",
      "'sales_IT'             : float64    Min.(0.0) 1stQ(0.0) Med.(0.0) Mean(0.08) 3rdQ(0.0) Max.(1.0)\n",
      "'sales_RandD'          : float64    Min.(0.0) 1stQ(0.0) Med.(0.0) Mean(0.05) 3rdQ(0.0) Max.(1.0)\n",
      "'sales_accounting'     : float64    Min.(0.0) 1stQ(0.0) Med.(0.0) Mean(0.05) 3rdQ(0.0) Max.(1.0)\n",
      "'sales_hr'             : float64    Min.(0.0) 1stQ(0.0) Med.(0.0) Mean(0.04) 3rdQ(0.0) Max.(1.0)\n",
      "'sales_management'     : float64    Min.(0.0) 1stQ(0.0) Med.(0.0) Mean(0.04) 3rdQ(0.0) Max.(1.0)\n",
      "'sales_marketing'      : float64    Min.(0.0) 1stQ(0.0) Med.(0.0) Mean(0.05) 3rdQ(0.0) Max.(1.0)\n",
      "'sales_product_mng'    : float64    Min.(0.0) 1stQ(0.0) Med.(0.0) Mean(0.06) 3rdQ(0.0) Max.(1.0)\n",
      "'sales_sales'          : float64    Min.(0.0) 1stQ(0.0) Med.(0.0) Mean(0.27) 3rdQ(1.0) Max.(1.0)\n",
      "'sales_support'        : float64    Min.(0.0) 1stQ(0.0) Med.(0.0) Mean(0.14) 3rdQ(0.0) Max.(1.0)\n",
      "'sales_technical'      : float64    Min.(0.0) 1stQ(0.0) Med.(0.0) Mean(0.18) 3rdQ(0.0) Max.(1.0)\n",
      "'satisfaction_level'   : float64    Min.(0.09) 1stQ(0.44) Med.(0.64) Mean(0.61) 3rdQ(0.82) Max.(1.0)\n",
      "'time_spend_company'   : float64    Min.(2.0) 1stQ(3.0) Med.(3.0) Mean(3.49) 3rdQ(4.0) Max.(10.0)\n",
      "'salary_high'          : float64    Min.(0.0) 1stQ(0.0) Med.(0.0) Mean(0.08) 3rdQ(0.0) Max.(1.0)\n",
      "'salary_low'           : float64    Min.(0.0) 1stQ(0.0) Med.(0.0) Mean(0.48) 3rdQ(1.0) Max.(1.0)\n",
      "'salary_medium'        : float64    Min.(0.0) 1stQ(0.0) Med.(0.0) Mean(0.42) 3rdQ(1.0) Max.(1.0)\n",
      "'left'                 : int64      Min.(0) 1stQ(0.0) Med.(0.0) Mean(0.23) 3rdQ(0.0) Max.(1)\n"
     ]
    }
   ],
   "source": [
    "#Tranforming the salary variable into dummyfied versions, which will produce more variable\n",
    "turnover_final = turnover.onehot_encode(\"salary\").summary()"
   ]
  },
  {
   "cell_type": "markdown",
   "metadata": {},
   "source": [
    "## G. Skewness"
   ]
  },
  {
   "cell_type": "code",
   "execution_count": 19,
   "metadata": {},
   "outputs": [
    {
     "name": "stdout",
     "output_type": "stream",
     "text": [
      "Evaluating features skeness:\n"
     ]
    },
    {
     "data": {
      "text/plain": [
       "promotion_last_5years    6.636305\n",
       "sales_management         4.566375\n",
       "sales_hr                 4.165113\n",
       "sales_accounting         4.075451\n",
       "sales_RandD              4.014203\n",
       "sales_marketing          3.813401\n",
       "sales_product_mng        3.700350\n",
       "sales_IT                 3.051756\n",
       "salary_high              3.035653\n",
       "Work_accident            2.020947\n",
       "sales_support            1.975747\n",
       "time_spend_company       1.853134\n",
       "sales_technical          1.654042\n",
       "sales_sales              1.002097\n",
       "number_project           0.337672\n",
       "salary_medium            0.283766\n",
       "average_montly_hours     0.052837\n",
       "salary_low               0.048951\n",
       "last_evaluation         -0.026619\n",
       "satisfaction_level      -0.476313\n",
       "dtype: float64"
      ]
     },
     "execution_count": 19,
     "metadata": {},
     "output_type": "execute_result"
    }
   ],
   "source": [
    "#Before possibly removing features that have skewness we need to analyse the leve of skewness present in this variables\n",
    "print (\"Evaluating features skeness:\")\n",
    "turnover.skewed_features()"
   ]
  },
  {
   "cell_type": "code",
   "execution_count": 20,
   "metadata": {},
   "outputs": [
    {
     "data": {
      "image/png": "[encoded data removed]",
      "text/plain": [
       "<Figure size 1152x1080 with 18 Axes>"
      ]
     },
     "metadata": {},
     "output_type": "display_data"
    }
   ],
   "source": [
    "#Before Plotting, let's set the siz of all the plots\n",
    "plt.figure(figsize=(16,15))\n",
    "\n",
    "#Plotting the skeness for number_project\n",
    "\n",
    "plt.subplot(6,4,1)\n",
    "plt.tight_layout()\n",
    "plt.title(\"number_project\",fontdict = {\"fontsize\":16, \"fontweight\":1},loc = \"center\")\n",
    "turnover.features[\"number_project\"].hist(color = \"skyblue\")\n",
    "\n",
    "#Plotting the skeness for satisfacation_level\n",
    "\n",
    "plt.subplot(6,4,2)\n",
    "plt.tight_layout()\n",
    "plt.title(\"satisfaction_level\",fontdict = {\"fontsize\":16, \"fontweight\":1},loc = \"center\")\n",
    "turnover.features[\"satisfaction_level\"].hist(color = \"skyblue\")\n",
    "\n",
    "#Plotting the skeness for time_spend_company\n",
    "\n",
    "plt.subplot(6,4,3)\n",
    "plt.tight_layout()\n",
    "plt.title(\"time_spend_company\",fontdict = {\"fontsize\":16, \"fontweight\":1},loc = \"center\")\n",
    "turnover.features[\"time_spend_company\"].hist(color = \"skyblue\")\n",
    "\n",
    "#Plotting the skeness for average_monthly hours\n",
    "\n",
    "plt.subplot(6,4,4)\n",
    "plt.tight_layout()\n",
    "plt.title(\"average_montly_hours\",fontdict = {\"fontsize\":16, \"fontweight\":1},loc = \"center\")\n",
    "turnover.features[\"average_montly_hours\"].hist(color = \"skyblue\")\n",
    "\n",
    "#Plotting the skeness for last_evaluation\n",
    "\n",
    "plt.subplot(6,4,5)\n",
    "plt.tight_layout()\n",
    "plt.title(\"last_evaluation\",fontdict = {\"fontsize\":16, \"fontweight\":1},loc = \"center\")\n",
    "turnover.features[\"last_evaluation\"].hist(color = \"skyblue\")\n",
    "\n",
    "#Plotting the skeness for sales_hr\n",
    "\n",
    "plt.subplot(6,4,10)\n",
    "plt.tight_layout()\n",
    "plt.title(\"sales_hr\",fontdict = {\"fontsize\":16, \"fontweight\":1},loc = \"center\")\n",
    "turnover.features[\"sales_hr\"].hist(color = \"skyblue\")\n",
    "\n",
    "#Plotting the skeness for sales_management\n",
    "\n",
    "plt.subplot(6,4,11)\n",
    "plt.tight_layout()\n",
    "plt.title(\"sales_management\",fontdict = {\"fontsize\":16, \"fontweight\":1},loc = \"center\")\n",
    "turnover.features[\"sales_management\"].hist(color = \"skyblue\")\n",
    "\n",
    "#Plotting the skeness for sales_ accounting\n",
    "\n",
    "plt.subplot(6,4,12)\n",
    "plt.tight_layout()\n",
    "plt.title(\"sales_accounting\",fontdict = {\"fontsize\":16, \"fontweight\":1},loc = \"center\")\n",
    "turnover.features[\"sales_accounting\"].hist(color = \"skyblue\")\n",
    "\n",
    "#Plotting the skeness for sales_marketing\n",
    "\n",
    "plt.subplot(6,4,13)\n",
    "plt.tight_layout()\n",
    "plt.title(\"sales_marketing\",fontdict = {\"fontsize\":16, \"fontweight\":1},loc = \"center\")\n",
    "turnover.features[\"sales_marketing\"].hist(color = \"skyblue\")\n",
    "\n",
    "#Plotting the skeness for sales_RandD\n",
    "\n",
    "plt.subplot(6,4,14)\n",
    "plt.tight_layout()\n",
    "plt.title(\"sales_RandD\",fontdict = {\"fontsize\":16, \"fontweight\":1},loc = \"center\")\n",
    "turnover.features[\"sales_RandD\"].hist(color = \"skyblue\")\n",
    "\n",
    "#Plotting the skeness for sales_IT\n",
    "\n",
    "plt.subplot(6,4,15)\n",
    "plt.tight_layout()\n",
    "plt.title(\"sales_IT\",fontdict = {\"fontsize\":16, \"fontweight\":1},loc = \"center\")\n",
    "turnover.features[\"sales_IT\"].hist(color = \"skyblue\")\n",
    "\n",
    "#Plotting the skeness for sales_product_mng\n",
    "\n",
    "plt.subplot(6,4,16)\n",
    "plt.tight_layout()\n",
    "plt.title(\"sales_product_mng\",fontdict = {\"fontsize\":16, \"fontweight\":1},loc = \"center\")\n",
    "turnover.features[\"sales_product_mng\"].hist(color = \"skyblue\")\n",
    "\n",
    "#Plotting the skeness for sales_support\n",
    "\n",
    "plt.subplot(6,4,17)\n",
    "plt.tight_layout()\n",
    "plt.title(\"sales_support\",fontdict = {\"fontsize\":16, \"fontweight\":1},loc = \"center\")\n",
    "turnover.features[\"sales_support\"].hist(color = \"skyblue\")\n",
    "\n",
    "#Plotting the skeness for sales_sales\n",
    "\n",
    "plt.subplot(6,4,18)\n",
    "plt.tight_layout()\n",
    "plt.title(\"sales_sales\",fontdict = {\"fontsize\":16, \"fontweight\":1},loc = \"center\")\n",
    "turnover.features[\"sales_sales\"].hist(color = \"skyblue\")\n",
    "\n",
    "#Plotting the skeness for sales_technical\n",
    "\n",
    "plt.subplot(6,4,20)\n",
    "plt.tight_layout()\n",
    "plt.title(\"sales_technical\",fontdict = {\"fontsize\":16, \"fontweight\":1},loc = \"center\")\n",
    "turnover.features[\"sales_technical\"].hist(color = \"skyblue\")\n",
    "\n",
    "#Plotting the skeness for salary_low\n",
    "\n",
    "plt.subplot(6,4,21)\n",
    "plt.tight_layout()\n",
    "plt.title(\"salary_low\",fontdict = {'fontsize':16, 'fontweight':1},loc = 'center')\n",
    "turnover.features[\"salary_low\"].hist(color = \"skyblue\")\n",
    "\n",
    "#Plotting the skeness for salary_medium\n",
    "\n",
    "plt.subplot(6,4,22)\n",
    "plt.tight_layout()\n",
    "plt.title(\"salary_medium\",fontdict = {\"fontsize\":16, \"fontweight\":1},loc = \"center\")\n",
    "turnover.features[\"salary_medium\"].hist(color = \"skyblue\")\n",
    "\n",
    "#Plotting the skeness for salary_high\n",
    "\n",
    "plt.subplot(6,4,23)\n",
    "plt.tight_layout()\n",
    "plt.title(\"salary_high\",fontdict = {\"fontsize\":16, \"fontweight\":1},loc = \"center\")\n",
    "turnover.features[\"salary_high\"].hist(color = \"skyblue\")\n",
    "\n",
    "\n",
    "plt.show()\n"
   ]
  },
  {
   "cell_type": "markdown",
   "metadata": {},
   "source": [
    "**Fixing Skewness**\n"
   ]
  },
  {
   "cell_type": "code",
   "execution_count": 21,
   "metadata": {},
   "outputs": [
    {
     "data": {
      "image/png": "[encoded data removed]",
      "text/plain": [
       "<Figure size 1224x1152 with 18 Axes>"
      ]
     },
     "metadata": {},
     "output_type": "display_data"
    }
   ],
   "source": [
    "#Fixing the skeness that we may have for all the variables in our dataset\n",
    "turnover.fix_skewness()\n",
    "\n",
    "#Before Plotting, let's set the siz of all the plots\n",
    "plt.figure(figsize=(17,16))\n",
    "\n",
    "#Plotting the skeness for number_project\n",
    "\n",
    "plt.subplot(6,4,1)\n",
    "plt.tight_layout()\n",
    "plt.title(\"number_project\",fontdict = {\"fontsize\":16, \"fontweight\":1},loc = \"center\")\n",
    "turnover.features[\"number_project\"].hist(color = \"salmon\")\n",
    "\n",
    "#Plotting the skeness for satisfacation_level\n",
    "\n",
    "plt.subplot(6,4,2)\n",
    "plt.tight_layout()\n",
    "plt.title(\"satisfaction_level\",fontdict = {\"fontsize\":16, \"fontweight\":1},loc = \"center\")\n",
    "turnover.features[\"satisfaction_level\"].hist(color = \"salmon\")\n",
    "\n",
    "#Plotting the skeness for time_spend_company\n",
    "\n",
    "plt.subplot(6,4,3)\n",
    "plt.tight_layout()\n",
    "plt.title(\"time_spend_company\",fontdict = {\"fontsize\":16, \"fontweight\":1},loc = \"center\")\n",
    "turnover.features[\"time_spend_company\"].hist(color = \"salmon\")\n",
    "\n",
    "#Plotting the skeness for average_monthly hours\n",
    "\n",
    "plt.subplot(6,4,4)\n",
    "plt.tight_layout()\n",
    "plt.title(\"average_montly_hours\",fontdict = {\"fontsize\":16, \"fontweight\":1},loc = \"center\")\n",
    "turnover.features[\"average_montly_hours\"].hist(color = \"salmon\")\n",
    "\n",
    "#Plotting the skeness for last_evaluation\n",
    "\n",
    "plt.subplot(6,4,5)\n",
    "plt.tight_layout()\n",
    "plt.title(\"last_evaluation\",fontdict = {\"fontsize\":16, \"fontweight\":1},loc = \"center\")\n",
    "turnover.features[\"last_evaluation\"].hist(color = \"salmon\")\n",
    "\n",
    "#Plotting the skeness for sales_hr\n",
    "\n",
    "plt.subplot(6,4,10)\n",
    "plt.tight_layout()\n",
    "plt.title(\"sales_hr\",fontdict = {\"fontsize\":16, \"fontweight\":1},loc = \"center\")\n",
    "turnover.features[\"sales_hr\"].hist(color = \"salmon\")\n",
    "\n",
    "#Plotting the skeness for sales_management\n",
    "\n",
    "plt.subplot(6,4,11)\n",
    "plt.tight_layout()\n",
    "plt.title(\"sales_management\",fontdict = {\"fontsize\":16, \"fontweight\":1},loc = \"center\")\n",
    "turnover.features[\"sales_management\"].hist(color = \"salmon\")\n",
    "\n",
    "#Plotting the skeness for sales_ accounting\n",
    "\n",
    "plt.subplot(6,4,12)\n",
    "plt.tight_layout()\n",
    "plt.title(\"sales_accounting\",fontdict = {\"fontsize\":16, \"fontweight\":1},loc = \"center\")\n",
    "turnover.features[\"sales_accounting\"].hist(color = \"salmon\")\n",
    "\n",
    "#Plotting the skeness for sales_marketing\n",
    "\n",
    "plt.subplot(6,4,13)\n",
    "plt.tight_layout()\n",
    "plt.title(\"sales_marketing\",fontdict = {\"fontsize\":16, \"fontweight\":1},loc = \"center\")\n",
    "turnover.features[\"sales_marketing\"].hist(color = \"salmon\")\n",
    "\n",
    "#Plotting the skeness for sales_RandD\n",
    "\n",
    "plt.subplot(6,4,14)\n",
    "plt.tight_layout()\n",
    "plt.title(\"sales_RandD\",fontdict = {\"fontsize\":16, \"fontweight\":1},loc = \"center\")\n",
    "turnover.features[\"sales_RandD\"].hist(color = \"salmon\")\n",
    "\n",
    "#Plotting the skeness for sales_IT\n",
    "\n",
    "plt.subplot(6,4,15)\n",
    "plt.tight_layout()\n",
    "plt.title(\"sales_IT\",fontdict = {\"fontsize\":16, \"fontweight\":1},loc = \"center\")\n",
    "turnover.features[\"sales_IT\"].hist(color = \"salmon\")\n",
    "\n",
    "#Plotting the skeness for sales_product_mng\n",
    "\n",
    "plt.subplot(6,4,16)\n",
    "plt.tight_layout()\n",
    "plt.title(\"sales_product_mng\",fontdict = {\"fontsize\":16, \"fontweight\":1},loc = \"center\")\n",
    "turnover.features[\"sales_product_mng\"].hist(color = \"salmon\")\n",
    "\n",
    "#Plotting the skeness for sales_support\n",
    "\n",
    "plt.subplot(6,4,17)\n",
    "plt.tight_layout()\n",
    "plt.title(\"sales_support\",fontdict = {\"fontsize\":16, \"fontweight\":1},loc = \"center\")\n",
    "turnover.features[\"sales_support\"].hist(color = \"salmon\")\n",
    "\n",
    "#Plotting the skeness for sales_sales\n",
    "\n",
    "plt.subplot(6,4,18)\n",
    "plt.tight_layout()\n",
    "plt.title(\"sales_sales\",fontdict = {\"fontsize\":16, \"fontweight\":1},loc = \"center\")\n",
    "turnover.features[\"sales_sales\"].hist(color = \"salmon\")\n",
    "\n",
    "#Plotting the skeness for sales_technical\n",
    "\n",
    "plt.subplot(6,4,20)\n",
    "plt.tight_layout()\n",
    "plt.title(\"sales_technical\",fontdict = {\"fontsize\":16, \"fontweight\":1},loc = \"center\")\n",
    "turnover.features[\"sales_technical\"].hist(color = \"salmon\")\n",
    "\n",
    "#Plotting the skeness for salary_low\n",
    "\n",
    "plt.subplot(6,4,21)\n",
    "plt.tight_layout()\n",
    "plt.title(\"salary_low\",fontdict = {'fontsize':16, 'fontweight':1},loc = 'center')\n",
    "turnover.features[\"salary_low\"].hist(color = \"salmon\")\n",
    "\n",
    "#Plotting the skeness for salary_medium\n",
    "\n",
    "plt.subplot(6,4,22)\n",
    "plt.tight_layout()\n",
    "plt.title(\"salary_medium\",fontdict = {\"fontsize\":16, \"fontweight\":1},loc = \"center\")\n",
    "turnover.features[\"salary_medium\"].hist(color = \"salmon\")\n",
    "\n",
    "#Plotting the skeness for salary_high\n",
    "\n",
    "plt.subplot(6,4,23)\n",
    "plt.tight_layout()\n",
    "plt.title(\"salary_high\",fontdict = {\"fontsize\":16, \"fontweight\":1},loc = \"center\")\n",
    "turnover.features[\"salary_high\"].hist(color = \"salmon\")\n",
    "\n",
    "\n",
    "\n",
    "\n",
    "plt.show()"
   ]
  },
  {
   "cell_type": "markdown",
   "metadata": {},
   "source": [
    "## H. Scaling"
   ]
  },
  {
   "cell_type": "code",
   "execution_count": 22,
   "metadata": {},
   "outputs": [
    {
     "data": {
      "image/png": "[encoded data removed]",
      "text/plain": [
       "<Figure size 432x288 with 1 Axes>"
      ]
     },
     "metadata": {},
     "output_type": "display_data"
    }
   ],
   "source": [
    "#Scaling our numerical variables to range between 0 and 1\n",
    "turnover.scale(method ='MinMaxScaler')\n",
    "\n",
    "#Basic plot, to check if we were able to succesfully scale this variables\n",
    "plt.title(\"satisfaction_level\",fontdict = {\"fontsize\":16, \"fontweight\":1},loc = \"center\")\n",
    "turnover.features[\"satisfaction_level\"].hist(color = \"salmon\")\n",
    "\n",
    "plt.show()"
   ]
  },
  {
   "cell_type": "markdown",
   "metadata": {},
   "source": [
    "## I. Dataset Splitting"
   ]
  },
  {
   "cell_type": "code",
   "execution_count": 23,
   "metadata": {},
   "outputs": [
    {
     "data": {
      "text/html": [
       "<div>\n",
       "<style scoped>\n",
       "    .dataframe tbody tr th:only-of-type {\n",
       "        vertical-align: middle;\n",
       "    }\n",
       "\n",
       "    .dataframe tbody tr th {\n",
       "        vertical-align: top;\n",
       "    }\n",
       "\n",
       "    .dataframe thead th {\n",
       "        text-align: right;\n",
       "    }\n",
       "</style>\n",
       "<table border=\"1\" class=\"dataframe\">\n",
       "  <thead>\n",
       "    <tr style=\"text-align: right;\">\n",
       "      <th></th>\n",
       "      <th>Work_accident</th>\n",
       "      <th>average_montly_hours</th>\n",
       "      <th>last_evaluation</th>\n",
       "      <th>number_project</th>\n",
       "      <th>promotion_last_5years</th>\n",
       "      <th>sales_IT</th>\n",
       "      <th>sales_RandD</th>\n",
       "      <th>sales_accounting</th>\n",
       "      <th>sales_hr</th>\n",
       "      <th>sales_management</th>\n",
       "      <th>sales_marketing</th>\n",
       "      <th>sales_product_mng</th>\n",
       "      <th>sales_sales</th>\n",
       "      <th>sales_support</th>\n",
       "      <th>sales_technical</th>\n",
       "      <th>satisfaction_level</th>\n",
       "      <th>time_spend_company</th>\n",
       "      <th>salary_high</th>\n",
       "      <th>salary_low</th>\n",
       "      <th>salary_medium</th>\n",
       "    </tr>\n",
       "  </thead>\n",
       "  <tbody>\n",
       "    <tr>\n",
       "      <th>2560</th>\n",
       "      <td>0.0</td>\n",
       "      <td>0.464335</td>\n",
       "      <td>0.535738</td>\n",
       "      <td>0.485294</td>\n",
       "      <td>0.0</td>\n",
       "      <td>0.0</td>\n",
       "      <td>0.0</td>\n",
       "      <td>0.0</td>\n",
       "      <td>0.0</td>\n",
       "      <td>0.0</td>\n",
       "      <td>0.0</td>\n",
       "      <td>0.0</td>\n",
       "      <td>0.0</td>\n",
       "      <td>0.0</td>\n",
       "      <td>1.0</td>\n",
       "      <td>0.557766</td>\n",
       "      <td>0.554511</td>\n",
       "      <td>0.0</td>\n",
       "      <td>0.0</td>\n",
       "      <td>1.0</td>\n",
       "    </tr>\n",
       "    <tr>\n",
       "      <th>12305</th>\n",
       "      <td>0.0</td>\n",
       "      <td>0.216313</td>\n",
       "      <td>0.174578</td>\n",
       "      <td>0.000000</td>\n",
       "      <td>0.0</td>\n",
       "      <td>0.0</td>\n",
       "      <td>1.0</td>\n",
       "      <td>0.0</td>\n",
       "      <td>0.0</td>\n",
       "      <td>0.0</td>\n",
       "      <td>0.0</td>\n",
       "      <td>0.0</td>\n",
       "      <td>0.0</td>\n",
       "      <td>0.0</td>\n",
       "      <td>0.0</td>\n",
       "      <td>0.302229</td>\n",
       "      <td>0.347557</td>\n",
       "      <td>0.0</td>\n",
       "      <td>0.0</td>\n",
       "      <td>1.0</td>\n",
       "    </tr>\n",
       "    <tr>\n",
       "      <th>6513</th>\n",
       "      <td>0.0</td>\n",
       "      <td>0.216313</td>\n",
       "      <td>0.984636</td>\n",
       "      <td>0.676670</td>\n",
       "      <td>0.0</td>\n",
       "      <td>0.0</td>\n",
       "      <td>0.0</td>\n",
       "      <td>0.0</td>\n",
       "      <td>0.0</td>\n",
       "      <td>0.0</td>\n",
       "      <td>0.0</td>\n",
       "      <td>0.0</td>\n",
       "      <td>1.0</td>\n",
       "      <td>0.0</td>\n",
       "      <td>0.0</td>\n",
       "      <td>0.582400</td>\n",
       "      <td>0.554511</td>\n",
       "      <td>0.0</td>\n",
       "      <td>0.0</td>\n",
       "      <td>1.0</td>\n",
       "    </tr>\n",
       "    <tr>\n",
       "      <th>7083</th>\n",
       "      <td>0.0</td>\n",
       "      <td>0.146925</td>\n",
       "      <td>0.347925</td>\n",
       "      <td>0.264433</td>\n",
       "      <td>0.0</td>\n",
       "      <td>0.0</td>\n",
       "      <td>0.0</td>\n",
       "      <td>0.0</td>\n",
       "      <td>0.0</td>\n",
       "      <td>1.0</td>\n",
       "      <td>0.0</td>\n",
       "      <td>0.0</td>\n",
       "      <td>0.0</td>\n",
       "      <td>0.0</td>\n",
       "      <td>0.0</td>\n",
       "      <td>0.440444</td>\n",
       "      <td>0.347557</td>\n",
       "      <td>1.0</td>\n",
       "      <td>0.0</td>\n",
       "      <td>0.0</td>\n",
       "    </tr>\n",
       "    <tr>\n",
       "      <th>6952</th>\n",
       "      <td>1.0</td>\n",
       "      <td>0.473740</td>\n",
       "      <td>0.347925</td>\n",
       "      <td>0.485294</td>\n",
       "      <td>0.0</td>\n",
       "      <td>0.0</td>\n",
       "      <td>0.0</td>\n",
       "      <td>0.0</td>\n",
       "      <td>0.0</td>\n",
       "      <td>1.0</td>\n",
       "      <td>0.0</td>\n",
       "      <td>0.0</td>\n",
       "      <td>0.0</td>\n",
       "      <td>0.0</td>\n",
       "      <td>0.0</td>\n",
       "      <td>0.954107</td>\n",
       "      <td>0.554511</td>\n",
       "      <td>1.0</td>\n",
       "      <td>0.0</td>\n",
       "      <td>0.0</td>\n",
       "    </tr>\n",
       "  </tbody>\n",
       "</table>\n",
       "</div>"
      ],
      "text/plain": [
       "       Work_accident  average_montly_hours  last_evaluation  number_project  \\\n",
       "2560             0.0              0.464335         0.535738        0.485294   \n",
       "12305            0.0              0.216313         0.174578        0.000000   \n",
       "6513             0.0              0.216313         0.984636        0.676670   \n",
       "7083             0.0              0.146925         0.347925        0.264433   \n",
       "6952             1.0              0.473740         0.347925        0.485294   \n",
       "\n",
       "       promotion_last_5years  sales_IT  sales_RandD  sales_accounting  \\\n",
       "2560                     0.0       0.0          0.0               0.0   \n",
       "12305                    0.0       0.0          1.0               0.0   \n",
       "6513                     0.0       0.0          0.0               0.0   \n",
       "7083                     0.0       0.0          0.0               0.0   \n",
       "6952                     0.0       0.0          0.0               0.0   \n",
       "\n",
       "       sales_hr  sales_management  sales_marketing  sales_product_mng  \\\n",
       "2560        0.0               0.0              0.0                0.0   \n",
       "12305       0.0               0.0              0.0                0.0   \n",
       "6513        0.0               0.0              0.0                0.0   \n",
       "7083        0.0               1.0              0.0                0.0   \n",
       "6952        0.0               1.0              0.0                0.0   \n",
       "\n",
       "       sales_sales  sales_support  sales_technical  satisfaction_level  \\\n",
       "2560           0.0            0.0              1.0            0.557766   \n",
       "12305          0.0            0.0              0.0            0.302229   \n",
       "6513           1.0            0.0              0.0            0.582400   \n",
       "7083           0.0            0.0              0.0            0.440444   \n",
       "6952           0.0            0.0              0.0            0.954107   \n",
       "\n",
       "       time_spend_company  salary_high  salary_low  salary_medium  \n",
       "2560             0.554511          0.0         0.0            1.0  \n",
       "12305            0.347557          0.0         0.0            1.0  \n",
       "6513             0.554511          0.0         0.0            1.0  \n",
       "7083             0.347557          1.0         0.0            0.0  \n",
       "6952             0.554511          1.0         0.0            0.0  "
      ]
     },
     "execution_count": 23,
     "metadata": {},
     "output_type": "execute_result"
    }
   ],
   "source": [
    "#Dataset Split: **Creating the test set**\n",
    "X, y = turnover.split(test_size= 0.2)\n",
    "\n",
    "#Or\n",
    "\n",
    "X, y = turnover.split(seed=1)\n",
    "\n",
    "X.train.head(5)"
   ]
  },
  {
   "cell_type": "code",
   "execution_count": 24,
   "metadata": {},
   "outputs": [
    {
     "data": {
      "text/html": [
       "<div>\n",
       "<style scoped>\n",
       "    .dataframe tbody tr th:only-of-type {\n",
       "        vertical-align: middle;\n",
       "    }\n",
       "\n",
       "    .dataframe tbody tr th {\n",
       "        vertical-align: top;\n",
       "    }\n",
       "\n",
       "    .dataframe thead th {\n",
       "        text-align: right;\n",
       "    }\n",
       "</style>\n",
       "<table border=\"1\" class=\"dataframe\">\n",
       "  <thead>\n",
       "    <tr style=\"text-align: right;\">\n",
       "      <th></th>\n",
       "      <th>left</th>\n",
       "    </tr>\n",
       "  </thead>\n",
       "  <tbody>\n",
       "    <tr>\n",
       "      <th>2560</th>\n",
       "      <td>0</td>\n",
       "    </tr>\n",
       "    <tr>\n",
       "      <th>12305</th>\n",
       "      <td>1</td>\n",
       "    </tr>\n",
       "    <tr>\n",
       "      <th>6513</th>\n",
       "      <td>0</td>\n",
       "    </tr>\n",
       "    <tr>\n",
       "      <th>7083</th>\n",
       "      <td>0</td>\n",
       "    </tr>\n",
       "    <tr>\n",
       "      <th>6952</th>\n",
       "      <td>0</td>\n",
       "    </tr>\n",
       "  </tbody>\n",
       "</table>\n",
       "</div>"
      ],
      "text/plain": [
       "       left\n",
       "2560      0\n",
       "12305     1\n",
       "6513      0\n",
       "7083      0\n",
       "6952      0"
      ]
     },
     "execution_count": 24,
     "metadata": {},
     "output_type": "execute_result"
    }
   ],
   "source": [
    "y.train.head(5)"
   ]
  },
  {
   "cell_type": "markdown",
   "metadata": {},
   "source": [
    "## 3. Baseline"
   ]
  },
  {
   "cell_type": "code",
   "execution_count": 25,
   "metadata": {},
   "outputs": [
    {
     "name": "stdout",
     "output_type": "stream",
     "text": [
      "Accuracy:  0.799\n",
      "F1:  0.5144694533762058\n"
     ]
    }
   ],
   "source": [
    "clf_baseline = LogisticRegression().fit(X.train, y.train)\n",
    "pred_baseline = clf_baseline.predict(X.test)\n",
    "\n",
    "#Measuring Accuracy of our Model\n",
    "\n",
    "print(\"Accuracy: \", accuracy_score(y.test, pred_baseline).round(3))\n",
    "\n",
    "#Measuring F1\n",
    "print(\"F1: \", f1_score(y.test, pred_baseline))"
   ]
  },
  {
   "cell_type": "markdown",
   "metadata": {},
   "source": [
    "## 1st ATTEMPT"
   ]
  },
  {
   "cell_type": "markdown",
   "metadata": {},
   "source": [
    "For this first attempet we will perform analysis which includes outliers but with the removal of some not significant variables, in this case we decided to remove all variables related to sales."
   ]
  },
  {
   "cell_type": "markdown",
   "metadata": {},
   "source": [
    "## 1) DATA LOADING & IMPORTING LIBRARIES"
   ]
  },
  {
   "cell_type": "code",
   "execution_count": 197,
   "metadata": {},
   "outputs": [],
   "source": [
    "from dataset import Dataset\n",
    "import numpy as np\n",
    "import matplotlib.pyplot as plt\n",
    "\n",
    "from sklearn.linear_model import LogisticRegression\n",
    "from sklearn.metrics import accuracy_score, f1_score, recall_score, matthews_corrcoef\n",
    "\n",
    "turnover = Dataset('/Users/kuka/Downloads/turnover.csv', delimiter=',', header=0)"
   ]
  },
  {
   "cell_type": "markdown",
   "metadata": {},
   "source": [
    "## A. Data Description"
   ]
  },
  {
   "cell_type": "code",
   "execution_count": 198,
   "metadata": {},
   "outputs": [
    {
     "name": "stdout",
     "output_type": "stream",
     "text": [
      "10 Features. 14999 Samples\n",
      "Available types: [dtype('float64') dtype('O')]\n",
      "  · 2 categorical features\n",
      "  · 8 numerical features\n",
      "  · 0 categorical features with NAs\n",
      "  · 0 numerical features with NAs\n",
      "  · 10 Complete features\n",
      "--\n",
      "Target: Not set\n"
     ]
    }
   ],
   "source": [
    "turnover.describe()"
   ]
  },
  {
   "cell_type": "markdown",
   "metadata": {},
   "source": [
    "## 2) DATA PREPARATION & DATA TRANSFORMATION"
   ]
  },
  {
   "cell_type": "markdown",
   "metadata": {},
   "source": [
    "## A. Setting Target Variable"
   ]
  },
  {
   "cell_type": "code",
   "execution_count": 199,
   "metadata": {},
   "outputs": [
    {
     "name": "stdout",
     "output_type": "stream",
     "text": [
      "Setting target variable: left\n",
      "First 5 rows of dataset without left\n"
     ]
    },
    {
     "data": {
      "text/html": [
       "<div>\n",
       "<style scoped>\n",
       "    .dataframe tbody tr th:only-of-type {\n",
       "        vertical-align: middle;\n",
       "    }\n",
       "\n",
       "    .dataframe tbody tr th {\n",
       "        vertical-align: top;\n",
       "    }\n",
       "\n",
       "    .dataframe thead th {\n",
       "        text-align: right;\n",
       "    }\n",
       "</style>\n",
       "<table border=\"1\" class=\"dataframe\">\n",
       "  <thead>\n",
       "    <tr style=\"text-align: right;\">\n",
       "      <th></th>\n",
       "      <th>satisfaction_level</th>\n",
       "      <th>last_evaluation</th>\n",
       "      <th>number_project</th>\n",
       "      <th>average_montly_hours</th>\n",
       "      <th>time_spend_company</th>\n",
       "      <th>Work_accident</th>\n",
       "      <th>promotion_last_5years</th>\n",
       "      <th>sales</th>\n",
       "      <th>salary</th>\n",
       "    </tr>\n",
       "  </thead>\n",
       "  <tbody>\n",
       "    <tr>\n",
       "      <th>0</th>\n",
       "      <td>0.38</td>\n",
       "      <td>0.53</td>\n",
       "      <td>2.0</td>\n",
       "      <td>157.0</td>\n",
       "      <td>3.0</td>\n",
       "      <td>0.0</td>\n",
       "      <td>0.0</td>\n",
       "      <td>sales</td>\n",
       "      <td>low</td>\n",
       "    </tr>\n",
       "    <tr>\n",
       "      <th>1</th>\n",
       "      <td>0.80</td>\n",
       "      <td>0.86</td>\n",
       "      <td>5.0</td>\n",
       "      <td>262.0</td>\n",
       "      <td>6.0</td>\n",
       "      <td>0.0</td>\n",
       "      <td>0.0</td>\n",
       "      <td>sales</td>\n",
       "      <td>medium</td>\n",
       "    </tr>\n",
       "    <tr>\n",
       "      <th>2</th>\n",
       "      <td>0.11</td>\n",
       "      <td>0.88</td>\n",
       "      <td>7.0</td>\n",
       "      <td>272.0</td>\n",
       "      <td>4.0</td>\n",
       "      <td>0.0</td>\n",
       "      <td>0.0</td>\n",
       "      <td>sales</td>\n",
       "      <td>medium</td>\n",
       "    </tr>\n",
       "    <tr>\n",
       "      <th>3</th>\n",
       "      <td>0.72</td>\n",
       "      <td>0.87</td>\n",
       "      <td>5.0</td>\n",
       "      <td>223.0</td>\n",
       "      <td>5.0</td>\n",
       "      <td>0.0</td>\n",
       "      <td>0.0</td>\n",
       "      <td>sales</td>\n",
       "      <td>low</td>\n",
       "    </tr>\n",
       "    <tr>\n",
       "      <th>4</th>\n",
       "      <td>0.37</td>\n",
       "      <td>0.52</td>\n",
       "      <td>2.0</td>\n",
       "      <td>159.0</td>\n",
       "      <td>3.0</td>\n",
       "      <td>0.0</td>\n",
       "      <td>0.0</td>\n",
       "      <td>sales</td>\n",
       "      <td>low</td>\n",
       "    </tr>\n",
       "  </tbody>\n",
       "</table>\n",
       "</div>"
      ],
      "text/plain": [
       "   satisfaction_level  last_evaluation  number_project  average_montly_hours  \\\n",
       "0                0.38             0.53             2.0                 157.0   \n",
       "1                0.80             0.86             5.0                 262.0   \n",
       "2                0.11             0.88             7.0                 272.0   \n",
       "3                0.72             0.87             5.0                 223.0   \n",
       "4                0.37             0.52             2.0                 159.0   \n",
       "\n",
       "   time_spend_company  Work_accident  promotion_last_5years  sales  salary  \n",
       "0                 3.0            0.0                    0.0  sales     low  \n",
       "1                 6.0            0.0                    0.0  sales  medium  \n",
       "2                 4.0            0.0                    0.0  sales  medium  \n",
       "3                 5.0            0.0                    0.0  sales     low  \n",
       "4                 3.0            0.0                    0.0  sales     low  "
      ]
     },
     "execution_count": 199,
     "metadata": {},
     "output_type": "execute_result"
    }
   ],
   "source": [
    "#Setting the target variable of staff/employee attrition, in other words, employees who have left\n",
    "print (\"Setting target variable: left\")\n",
    "turnover.set_target(\"left\")\n",
    "\n",
    "#Reviewing the first 5 rows, but this time with our target variable \"left\" gone\n",
    "print (\"First 5 rows of dataset without left\")\n",
    "turnover.features.head(5)"
   ]
  },
  {
   "cell_type": "markdown",
   "metadata": {},
   "source": [
    "## B. One-Hot Encoding"
   ]
  },
  {
   "cell_type": "code",
   "execution_count": 200,
   "metadata": {},
   "outputs": [
    {
     "name": "stdout",
     "output_type": "stream",
     "text": [
      "Features Summary (all):\n",
      "'Work_accident'        : float64    Min.(0.0) 1stQ(0.0) Med.(0.0) Mean(0.14) 3rdQ(0.0) Max.(1.0)\n",
      "'average_montly_hours' : float64    Min.(96.0) 1stQ(156.) Med.(200.) Mean(201.) 3rdQ(245.) Max.(310.)\n",
      "'last_evaluation'      : float64    Min.(0.36) 1stQ(0.56) Med.(0.72) Mean(0.71) 3rdQ(0.87) Max.(1.0)\n",
      "'number_project'       : float64    Min.(2.0) 1stQ(3.0) Med.(4.0) Mean(3.80) 3rdQ(5.0) Max.(7.0)\n",
      "'promotion_last_5years': float64    Min.(0.0) 1stQ(0.0) Med.(0.0) Mean(0.02) 3rdQ(0.0) Max.(1.0)\n",
      "'salary'               : object     3 categs. 'low'(7316, 0.4878) 'medium'(6446, 0.4298) 'high'(1237, 0.0825) \n",
      "'satisfaction_level'   : float64    Min.(0.09) 1stQ(0.44) Med.(0.64) Mean(0.61) 3rdQ(0.82) Max.(1.0)\n",
      "'time_spend_company'   : float64    Min.(2.0) 1stQ(3.0) Med.(3.0) Mean(3.49) 3rdQ(4.0) Max.(10.0)\n",
      "'sales_IT'             : float64    Min.(0.0) 1stQ(0.0) Med.(0.0) Mean(0.08) 3rdQ(0.0) Max.(1.0)\n",
      "'sales_RandD'          : float64    Min.(0.0) 1stQ(0.0) Med.(0.0) Mean(0.05) 3rdQ(0.0) Max.(1.0)\n",
      "'sales_accounting'     : float64    Min.(0.0) 1stQ(0.0) Med.(0.0) Mean(0.05) 3rdQ(0.0) Max.(1.0)\n",
      "'sales_hr'             : float64    Min.(0.0) 1stQ(0.0) Med.(0.0) Mean(0.04) 3rdQ(0.0) Max.(1.0)\n",
      "'sales_management'     : float64    Min.(0.0) 1stQ(0.0) Med.(0.0) Mean(0.04) 3rdQ(0.0) Max.(1.0)\n",
      "'sales_marketing'      : float64    Min.(0.0) 1stQ(0.0) Med.(0.0) Mean(0.05) 3rdQ(0.0) Max.(1.0)\n",
      "'sales_product_mng'    : float64    Min.(0.0) 1stQ(0.0) Med.(0.0) Mean(0.06) 3rdQ(0.0) Max.(1.0)\n",
      "'sales_sales'          : float64    Min.(0.0) 1stQ(0.0) Med.(0.0) Mean(0.27) 3rdQ(1.0) Max.(1.0)\n",
      "'sales_support'        : float64    Min.(0.0) 1stQ(0.0) Med.(0.0) Mean(0.14) 3rdQ(0.0) Max.(1.0)\n",
      "'sales_technical'      : float64    Min.(0.0) 1stQ(0.0) Med.(0.0) Mean(0.18) 3rdQ(0.0) Max.(1.0)\n",
      "'left'                 : float64    Min.(0.0) 1stQ(0.0) Med.(0.0) Mean(0.23) 3rdQ(0.0) Max.(1.0)\n"
     ]
    }
   ],
   "source": [
    "#Tranforming the sales variable into dummyfied versions, which will produce more variable\n",
    "turnover1 = turnover.onehot_encode(\"sales\").summary()"
   ]
  },
  {
   "cell_type": "code",
   "execution_count": 201,
   "metadata": {},
   "outputs": [
    {
     "name": "stdout",
     "output_type": "stream",
     "text": [
      "Features Summary (all):\n",
      "'Work_accident'        : float64    Min.(0.0) 1stQ(0.0) Med.(0.0) Mean(0.14) 3rdQ(0.0) Max.(1.0)\n",
      "'average_montly_hours' : float64    Min.(96.0) 1stQ(156.) Med.(200.) Mean(201.) 3rdQ(245.) Max.(310.)\n",
      "'last_evaluation'      : float64    Min.(0.36) 1stQ(0.56) Med.(0.72) Mean(0.71) 3rdQ(0.87) Max.(1.0)\n",
      "'number_project'       : float64    Min.(2.0) 1stQ(3.0) Med.(4.0) Mean(3.80) 3rdQ(5.0) Max.(7.0)\n",
      "'promotion_last_5years': float64    Min.(0.0) 1stQ(0.0) Med.(0.0) Mean(0.02) 3rdQ(0.0) Max.(1.0)\n",
      "'sales_IT'             : float64    Min.(0.0) 1stQ(0.0) Med.(0.0) Mean(0.08) 3rdQ(0.0) Max.(1.0)\n",
      "'sales_RandD'          : float64    Min.(0.0) 1stQ(0.0) Med.(0.0) Mean(0.05) 3rdQ(0.0) Max.(1.0)\n",
      "'sales_accounting'     : float64    Min.(0.0) 1stQ(0.0) Med.(0.0) Mean(0.05) 3rdQ(0.0) Max.(1.0)\n",
      "'sales_hr'             : float64    Min.(0.0) 1stQ(0.0) Med.(0.0) Mean(0.04) 3rdQ(0.0) Max.(1.0)\n",
      "'sales_management'     : float64    Min.(0.0) 1stQ(0.0) Med.(0.0) Mean(0.04) 3rdQ(0.0) Max.(1.0)\n",
      "'sales_marketing'      : float64    Min.(0.0) 1stQ(0.0) Med.(0.0) Mean(0.05) 3rdQ(0.0) Max.(1.0)\n",
      "'sales_product_mng'    : float64    Min.(0.0) 1stQ(0.0) Med.(0.0) Mean(0.06) 3rdQ(0.0) Max.(1.0)\n",
      "'sales_sales'          : float64    Min.(0.0) 1stQ(0.0) Med.(0.0) Mean(0.27) 3rdQ(1.0) Max.(1.0)\n",
      "'sales_support'        : float64    Min.(0.0) 1stQ(0.0) Med.(0.0) Mean(0.14) 3rdQ(0.0) Max.(1.0)\n",
      "'sales_technical'      : float64    Min.(0.0) 1stQ(0.0) Med.(0.0) Mean(0.18) 3rdQ(0.0) Max.(1.0)\n",
      "'satisfaction_level'   : float64    Min.(0.09) 1stQ(0.44) Med.(0.64) Mean(0.61) 3rdQ(0.82) Max.(1.0)\n",
      "'time_spend_company'   : float64    Min.(2.0) 1stQ(3.0) Med.(3.0) Mean(3.49) 3rdQ(4.0) Max.(10.0)\n",
      "'salary_high'          : float64    Min.(0.0) 1stQ(0.0) Med.(0.0) Mean(0.08) 3rdQ(0.0) Max.(1.0)\n",
      "'salary_low'           : float64    Min.(0.0) 1stQ(0.0) Med.(0.0) Mean(0.48) 3rdQ(1.0) Max.(1.0)\n",
      "'salary_medium'        : float64    Min.(0.0) 1stQ(0.0) Med.(0.0) Mean(0.42) 3rdQ(1.0) Max.(1.0)\n",
      "'left'                 : float64    Min.(0.0) 1stQ(0.0) Med.(0.0) Mean(0.23) 3rdQ(0.0) Max.(1.0)\n"
     ]
    }
   ],
   "source": [
    "#Tranforming the salary variable into dummyfied versions, which will produce more variable\n",
    "turnover_final = turnover.onehot_encode(\"salary\").summary()"
   ]
  },
  {
   "cell_type": "markdown",
   "metadata": {},
   "source": [
    "## C. Fixing Scale & Skewness"
   ]
  },
  {
   "cell_type": "code",
   "execution_count": 202,
   "metadata": {},
   "outputs": [
    {
     "data": {
      "text/plain": [
       "<dataset.dataset.Dataset at 0x12382ba58>"
      ]
     },
     "execution_count": 202,
     "metadata": {},
     "output_type": "execute_result"
    }
   ],
   "source": [
    "turnover.fix_skewness()\n",
    "turnover.scale(method='MinMaxScaler')"
   ]
  },
  {
   "cell_type": "markdown",
   "metadata": {},
   "source": [
    "## 3) FEATURE ENGINEERING"
   ]
  },
  {
   "cell_type": "markdown",
   "metadata": {},
   "source": [
    "## A. Feature importance after One-hot encoding"
   ]
  },
  {
   "cell_type": "code",
   "execution_count": 203,
   "metadata": {},
   "outputs": [
    {
     "name": "stdout",
     "output_type": "stream",
     "text": [
      "Overall feature importance:\n"
     ]
    },
    {
     "data": {
      "text/plain": [
       "{'Work_accident': 0.023638242549502496,\n",
       " 'average_montly_hours': 0.07205417363177988,\n",
       " 'last_evaluation': 0.058494472809333904,\n",
       " 'number_project': 0.2703413560904036,\n",
       " 'promotion_last_5years': 0.005583705580371965,\n",
       " 'salary_high': 0.03847923194879565,\n",
       " 'salary_low': 0.11581105407027008,\n",
       " 'salary_medium': 0.09860657377158362,\n",
       " 'sales_IT': 0.01946463097539824,\n",
       " 'sales_RandD': 0.009247283152210227,\n",
       " 'sales_accounting': 0.011800786719114739,\n",
       " 'sales_hr': 0.025155010334022062,\n",
       " 'sales_management': 0.01102073471564777,\n",
       " 'sales_marketing': 0.007960530702046808,\n",
       " 'sales_product_mng': 0.00436029068604577,\n",
       " 'sales_sales': 0.06840122674844934,\n",
       " 'sales_support': 0.05451030068671271,\n",
       " 'sales_technical': 0.08537902526835106,\n",
       " 'satisfaction_level': 0.07667409243195107,\n",
       " 'time_spend_company': 0.32653176878459056}"
      ]
     },
     "execution_count": 203,
     "metadata": {},
     "output_type": "execute_result"
    }
   ],
   "source": [
    "#After we preformed an One-Hot encoding we will now analyse the feature importance\n",
    "\n",
    "print (\"Overall feature importance:\")\n",
    "turnover.features_importance()"
   ]
  },
  {
   "cell_type": "code",
   "execution_count": 204,
   "metadata": {},
   "outputs": [
    {
     "name": "stdout",
     "output_type": "stream",
     "text": [
      "Graphical plot of feature importance:\n"
     ]
    },
    {
     "data": {
      "image/png": "[encoded data removed]",
      "text/plain": [
       "<Figure size 576x576 with 1 Axes>"
      ]
     },
     "metadata": {},
     "output_type": "display_data"
    }
   ],
   "source": [
    "print (\"Graphical plot of feature importance:\")\n",
    "turnover.plot_importance()"
   ]
  },
  {
   "cell_type": "markdown",
   "metadata": {},
   "source": [
    "## B. Drop not Relevant Features"
   ]
  },
  {
   "cell_type": "code",
   "execution_count": 205,
   "metadata": {},
   "outputs": [
    {
     "data": {
      "text/plain": [
       "<dataset.dataset.Dataset at 0x12382ba58>"
      ]
     },
     "execution_count": 205,
     "metadata": {},
     "output_type": "execute_result"
    }
   ],
   "source": [
    "#In this first try we will remove/drop all variables related to sales because they don't demonstrate high importance to the model\n",
    "\n",
    "turnover.drop_columns('sales_IT')\n",
    "turnover.drop_columns('sales_RandD')\n",
    "turnover.drop_columns('sales_accounting')\n",
    "turnover.drop_columns('sales_hr')\n",
    "turnover.drop_columns('sales_management')\n",
    "turnover.drop_columns('sales_marketing')\n",
    "turnover.drop_columns('sales_product_mng')\n",
    "turnover.drop_columns('sales_sales')\n",
    "turnover.drop_columns('sales_support')\n",
    "turnover.drop_columns('sales_technical')"
   ]
  },
  {
   "cell_type": "code",
   "execution_count": 206,
   "metadata": {},
   "outputs": [
    {
     "name": "stdout",
     "output_type": "stream",
     "text": [
      "Features Summary (all):\n",
      "'Work_accident'        : float64    Min.(0.0) 1stQ(0.0) Med.(0.0) Mean(0.14) 3rdQ(0.0) Max.(1.0)\n",
      "'average_montly_hours' : float64    Min.(0.0) 1stQ(0.32) Med.(0.53) Mean(0.52) 3rdQ(0.73) Max.(1.0)\n",
      "'last_evaluation'      : float64    Min.(0.0) 1stQ(0.31) Med.(0.56) Mean(0.55) 3rdQ(0.79) Max.(1.0)\n",
      "'number_project'       : float64    Min.(0.0) 1stQ(0.26) Med.(0.48) Mean(0.42) 3rdQ(0.67) Max.(1.0)\n",
      "'promotion_last_5years': float64    Min.(0.0) 1stQ(0.0) Med.(0.0) Mean(0.02) 3rdQ(0.0) Max.(0.99)\n",
      "'satisfaction_level'   : float64    Min.(0.0) 1stQ(0.29) Med.(0.50) Mean(0.50) 3rdQ(0.73) Max.(0.99)\n",
      "'time_spend_company'   : float64    Min.(0.0) 1stQ(0.34) Med.(0.34) Mean(0.38) 3rdQ(0.55) Max.(1.0)\n",
      "'salary_high'          : float64    Min.(0.0) 1stQ(0.0) Med.(0.0) Mean(0.08) 3rdQ(0.0) Max.(0.99)\n",
      "'salary_low'           : float64    Min.(0.0) 1stQ(0.0) Med.(0.0) Mean(0.48) 3rdQ(1.0) Max.(1.0)\n",
      "'salary_medium'        : float64    Min.(0.0) 1stQ(0.0) Med.(0.0) Mean(0.42) 3rdQ(0.99) Max.(0.99)\n",
      "'left'                 : float64    Min.(0.0) 1stQ(0.0) Med.(0.0) Mean(0.23) 3rdQ(0.0) Max.(1.0)\n"
     ]
    }
   ],
   "source": [
    "#Check if the variables were removed\n",
    "turnover.summary()"
   ]
  },
  {
   "cell_type": "markdown",
   "metadata": {},
   "source": [
    "## C. Dataset Splitting"
   ]
  },
  {
   "cell_type": "code",
   "execution_count": 207,
   "metadata": {},
   "outputs": [
    {
     "data": {
      "text/html": [
       "<div>\n",
       "<style scoped>\n",
       "    .dataframe tbody tr th:only-of-type {\n",
       "        vertical-align: middle;\n",
       "    }\n",
       "\n",
       "    .dataframe tbody tr th {\n",
       "        vertical-align: top;\n",
       "    }\n",
       "\n",
       "    .dataframe thead th {\n",
       "        text-align: right;\n",
       "    }\n",
       "</style>\n",
       "<table border=\"1\" class=\"dataframe\">\n",
       "  <thead>\n",
       "    <tr style=\"text-align: right;\">\n",
       "      <th></th>\n",
       "      <th>Work_accident</th>\n",
       "      <th>average_montly_hours</th>\n",
       "      <th>last_evaluation</th>\n",
       "      <th>number_project</th>\n",
       "      <th>promotion_last_5years</th>\n",
       "      <th>satisfaction_level</th>\n",
       "      <th>time_spend_company</th>\n",
       "      <th>salary_high</th>\n",
       "      <th>salary_low</th>\n",
       "      <th>salary_medium</th>\n",
       "    </tr>\n",
       "  </thead>\n",
       "  <tbody>\n",
       "    <tr>\n",
       "      <th>2560</th>\n",
       "      <td>0.0</td>\n",
       "      <td>0.464335</td>\n",
       "      <td>0.535738</td>\n",
       "      <td>0.485294</td>\n",
       "      <td>0.0</td>\n",
       "      <td>0.557766</td>\n",
       "      <td>0.554511</td>\n",
       "      <td>0.0</td>\n",
       "      <td>0.0</td>\n",
       "      <td>1.0</td>\n",
       "    </tr>\n",
       "    <tr>\n",
       "      <th>12305</th>\n",
       "      <td>0.0</td>\n",
       "      <td>0.216313</td>\n",
       "      <td>0.174578</td>\n",
       "      <td>0.000000</td>\n",
       "      <td>0.0</td>\n",
       "      <td>0.302229</td>\n",
       "      <td>0.347557</td>\n",
       "      <td>0.0</td>\n",
       "      <td>0.0</td>\n",
       "      <td>1.0</td>\n",
       "    </tr>\n",
       "    <tr>\n",
       "      <th>6513</th>\n",
       "      <td>0.0</td>\n",
       "      <td>0.216313</td>\n",
       "      <td>0.984636</td>\n",
       "      <td>0.676670</td>\n",
       "      <td>0.0</td>\n",
       "      <td>0.582400</td>\n",
       "      <td>0.554511</td>\n",
       "      <td>0.0</td>\n",
       "      <td>0.0</td>\n",
       "      <td>1.0</td>\n",
       "    </tr>\n",
       "    <tr>\n",
       "      <th>7083</th>\n",
       "      <td>0.0</td>\n",
       "      <td>0.146925</td>\n",
       "      <td>0.347925</td>\n",
       "      <td>0.264433</td>\n",
       "      <td>0.0</td>\n",
       "      <td>0.440444</td>\n",
       "      <td>0.347557</td>\n",
       "      <td>1.0</td>\n",
       "      <td>0.0</td>\n",
       "      <td>0.0</td>\n",
       "    </tr>\n",
       "    <tr>\n",
       "      <th>6952</th>\n",
       "      <td>1.0</td>\n",
       "      <td>0.473740</td>\n",
       "      <td>0.347925</td>\n",
       "      <td>0.485294</td>\n",
       "      <td>0.0</td>\n",
       "      <td>0.954107</td>\n",
       "      <td>0.554511</td>\n",
       "      <td>1.0</td>\n",
       "      <td>0.0</td>\n",
       "      <td>0.0</td>\n",
       "    </tr>\n",
       "  </tbody>\n",
       "</table>\n",
       "</div>"
      ],
      "text/plain": [
       "       Work_accident  average_montly_hours  last_evaluation  number_project  \\\n",
       "2560             0.0              0.464335         0.535738        0.485294   \n",
       "12305            0.0              0.216313         0.174578        0.000000   \n",
       "6513             0.0              0.216313         0.984636        0.676670   \n",
       "7083             0.0              0.146925         0.347925        0.264433   \n",
       "6952             1.0              0.473740         0.347925        0.485294   \n",
       "\n",
       "       promotion_last_5years  satisfaction_level  time_spend_company  \\\n",
       "2560                     0.0            0.557766            0.554511   \n",
       "12305                    0.0            0.302229            0.347557   \n",
       "6513                     0.0            0.582400            0.554511   \n",
       "7083                     0.0            0.440444            0.347557   \n",
       "6952                     0.0            0.954107            0.554511   \n",
       "\n",
       "       salary_high  salary_low  salary_medium  \n",
       "2560           0.0         0.0            1.0  \n",
       "12305          0.0         0.0            1.0  \n",
       "6513           0.0         0.0            1.0  \n",
       "7083           1.0         0.0            0.0  \n",
       "6952           1.0         0.0            0.0  "
      ]
     },
     "execution_count": 207,
     "metadata": {},
     "output_type": "execute_result"
    }
   ],
   "source": [
    "#Dataset Split: **Creating the test set**\n",
    "X, y = turnover.split(test_size= 0.2)\n",
    "\n",
    "#Or\n",
    "\n",
    "X, y = turnover.split(seed=1)\n",
    "\n",
    "X.train.head(5)"
   ]
  },
  {
   "cell_type": "code",
   "execution_count": 208,
   "metadata": {},
   "outputs": [
    {
     "data": {
      "text/html": [
       "<div>\n",
       "<style scoped>\n",
       "    .dataframe tbody tr th:only-of-type {\n",
       "        vertical-align: middle;\n",
       "    }\n",
       "\n",
       "    .dataframe tbody tr th {\n",
       "        vertical-align: top;\n",
       "    }\n",
       "\n",
       "    .dataframe thead th {\n",
       "        text-align: right;\n",
       "    }\n",
       "</style>\n",
       "<table border=\"1\" class=\"dataframe\">\n",
       "  <thead>\n",
       "    <tr style=\"text-align: right;\">\n",
       "      <th></th>\n",
       "      <th>left</th>\n",
       "    </tr>\n",
       "  </thead>\n",
       "  <tbody>\n",
       "    <tr>\n",
       "      <th>2560</th>\n",
       "      <td>0.0</td>\n",
       "    </tr>\n",
       "    <tr>\n",
       "      <th>12305</th>\n",
       "      <td>1.0</td>\n",
       "    </tr>\n",
       "    <tr>\n",
       "      <th>6513</th>\n",
       "      <td>0.0</td>\n",
       "    </tr>\n",
       "    <tr>\n",
       "      <th>7083</th>\n",
       "      <td>0.0</td>\n",
       "    </tr>\n",
       "    <tr>\n",
       "      <th>6952</th>\n",
       "      <td>0.0</td>\n",
       "    </tr>\n",
       "  </tbody>\n",
       "</table>\n",
       "</div>"
      ],
      "text/plain": [
       "       left\n",
       "2560    0.0\n",
       "12305   1.0\n",
       "6513    0.0\n",
       "7083    0.0\n",
       "6952    0.0"
      ]
     },
     "execution_count": 208,
     "metadata": {},
     "output_type": "execute_result"
    }
   ],
   "source": [
    "y.train.head(5)"
   ]
  },
  {
   "cell_type": "markdown",
   "metadata": {},
   "source": [
    "## D. Cross Validation"
   ]
  },
  {
   "cell_type": "code",
   "execution_count": 209,
   "metadata": {},
   "outputs": [
    {
     "name": "stdout",
     "output_type": "stream",
     "text": [
      "F1: 0.5231259968102074\n"
     ]
    }
   ],
   "source": [
    "from sklearn.linear_model import LogisticRegression\n",
    "from sklearn.model_selection import cross_val_score, StratifiedKFold\n",
    "from sklearn.metrics import accuracy_score, f1_score, recall_score, matthews_corrcoef\n",
    "\n",
    "\n",
    "clf_baseline = LogisticRegression().fit(X.train, y.train)\n",
    "pred_baseline = clf_baseline.predict(X.test)\n",
    "\n",
    "\n",
    "print('F1:', f1_score(y.test, pred_baseline))"
   ]
  },
  {
   "cell_type": "markdown",
   "metadata": {},
   "source": [
    "## E. Check Results: Weighted F1"
   ]
  },
  {
   "cell_type": "code",
   "execution_count": 210,
   "metadata": {},
   "outputs": [
    {
     "name": "stdout",
     "output_type": "stream",
     "text": [
      "F1: 0.5231259968102074\n",
      "              precision    recall  f1-score   support\n",
      "\n",
      "         0.0       0.84      0.91      0.87      2287\n",
      "         1.0       0.61      0.46      0.52       713\n",
      "\n",
      "    accuracy                           0.80      3000\n",
      "   macro avg       0.72      0.68      0.70      3000\n",
      "weighted avg       0.79      0.80      0.79      3000\n",
      "\n"
     ]
    }
   ],
   "source": [
    "from sklearn.metrics import accuracy_score, f1_score, recall_score, matthews_corrcoef, classification_report\n",
    "\n",
    "\n",
    "clf_baseline = LogisticRegression().fit(X.train, y.train)\n",
    "pred_baseline = clf_baseline.predict(X.test)\n",
    "\n",
    "\n",
    "print('F1:', f1_score(y.test, pred_baseline,))\n",
    "print(classification_report(y.test,pred_baseline))\n"
   ]
  },
  {
   "cell_type": "markdown",
   "metadata": {},
   "source": [
    "## 2nd ATTEMPT"
   ]
  },
  {
   "cell_type": "markdown",
   "metadata": {},
   "source": [
    "For this second attempt we will perform analysis which does not include outliers but with the removal of some not significant variables, in this case we decided to remove all variables related to sales."
   ]
  },
  {
   "cell_type": "markdown",
   "metadata": {},
   "source": [
    "## 1) DATA LOADING & IMPORTING LIBRARIES"
   ]
  },
  {
   "cell_type": "code",
   "execution_count": 15,
   "metadata": {},
   "outputs": [],
   "source": [
    "from dataset import Dataset\n",
    "import numpy as np\n",
    "import matplotlib.pyplot as plt\n",
    "\n",
    "from sklearn.linear_model import LogisticRegression\n",
    "from sklearn.metrics import accuracy_score, f1_score, recall_score, matthews_corrcoef\n",
    "\n",
    "turnover = Dataset('/Users/kuka/Downloads/turnover.csv', delimiter=',', header=0)"
   ]
  },
  {
   "cell_type": "markdown",
   "metadata": {},
   "source": [
    "## A. Data Description"
   ]
  },
  {
   "cell_type": "code",
   "execution_count": 285,
   "metadata": {},
   "outputs": [
    {
     "name": "stdout",
     "output_type": "stream",
     "text": [
      "10 Features. 14999 Samples\n",
      "Available types: [dtype('float64') dtype('O')]\n",
      "  · 2 categorical features\n",
      "  · 8 numerical features\n",
      "  · 0 categorical features with NAs\n",
      "  · 0 numerical features with NAs\n",
      "  · 10 Complete features\n",
      "--\n",
      "Target: Not set\n"
     ]
    }
   ],
   "source": [
    "turnover.describe()"
   ]
  },
  {
   "cell_type": "markdown",
   "metadata": {},
   "source": [
    "## 2) DATA PREPARATION & TRANSFORMATION"
   ]
  },
  {
   "cell_type": "markdown",
   "metadata": {},
   "source": [
    "## A. Setting Target Variable\n"
   ]
  },
  {
   "cell_type": "code",
   "execution_count": 286,
   "metadata": {},
   "outputs": [
    {
     "name": "stdout",
     "output_type": "stream",
     "text": [
      "Setting target variable: left\n",
      "First 5 rows of dataset without left\n"
     ]
    },
    {
     "data": {
      "text/html": [
       "<div>\n",
       "<style scoped>\n",
       "    .dataframe tbody tr th:only-of-type {\n",
       "        vertical-align: middle;\n",
       "    }\n",
       "\n",
       "    .dataframe tbody tr th {\n",
       "        vertical-align: top;\n",
       "    }\n",
       "\n",
       "    .dataframe thead th {\n",
       "        text-align: right;\n",
       "    }\n",
       "</style>\n",
       "<table border=\"1\" class=\"dataframe\">\n",
       "  <thead>\n",
       "    <tr style=\"text-align: right;\">\n",
       "      <th></th>\n",
       "      <th>satisfaction_level</th>\n",
       "      <th>last_evaluation</th>\n",
       "      <th>number_project</th>\n",
       "      <th>average_montly_hours</th>\n",
       "      <th>time_spend_company</th>\n",
       "      <th>Work_accident</th>\n",
       "      <th>promotion_last_5years</th>\n",
       "      <th>sales</th>\n",
       "      <th>salary</th>\n",
       "    </tr>\n",
       "  </thead>\n",
       "  <tbody>\n",
       "    <tr>\n",
       "      <th>0</th>\n",
       "      <td>0.38</td>\n",
       "      <td>0.53</td>\n",
       "      <td>2.0</td>\n",
       "      <td>157.0</td>\n",
       "      <td>3.0</td>\n",
       "      <td>0.0</td>\n",
       "      <td>0.0</td>\n",
       "      <td>sales</td>\n",
       "      <td>low</td>\n",
       "    </tr>\n",
       "    <tr>\n",
       "      <th>1</th>\n",
       "      <td>0.80</td>\n",
       "      <td>0.86</td>\n",
       "      <td>5.0</td>\n",
       "      <td>262.0</td>\n",
       "      <td>6.0</td>\n",
       "      <td>0.0</td>\n",
       "      <td>0.0</td>\n",
       "      <td>sales</td>\n",
       "      <td>medium</td>\n",
       "    </tr>\n",
       "    <tr>\n",
       "      <th>2</th>\n",
       "      <td>0.11</td>\n",
       "      <td>0.88</td>\n",
       "      <td>7.0</td>\n",
       "      <td>272.0</td>\n",
       "      <td>4.0</td>\n",
       "      <td>0.0</td>\n",
       "      <td>0.0</td>\n",
       "      <td>sales</td>\n",
       "      <td>medium</td>\n",
       "    </tr>\n",
       "    <tr>\n",
       "      <th>3</th>\n",
       "      <td>0.72</td>\n",
       "      <td>0.87</td>\n",
       "      <td>5.0</td>\n",
       "      <td>223.0</td>\n",
       "      <td>5.0</td>\n",
       "      <td>0.0</td>\n",
       "      <td>0.0</td>\n",
       "      <td>sales</td>\n",
       "      <td>low</td>\n",
       "    </tr>\n",
       "    <tr>\n",
       "      <th>4</th>\n",
       "      <td>0.37</td>\n",
       "      <td>0.52</td>\n",
       "      <td>2.0</td>\n",
       "      <td>159.0</td>\n",
       "      <td>3.0</td>\n",
       "      <td>0.0</td>\n",
       "      <td>0.0</td>\n",
       "      <td>sales</td>\n",
       "      <td>low</td>\n",
       "    </tr>\n",
       "  </tbody>\n",
       "</table>\n",
       "</div>"
      ],
      "text/plain": [
       "   satisfaction_level  last_evaluation  number_project  average_montly_hours  \\\n",
       "0                0.38             0.53             2.0                 157.0   \n",
       "1                0.80             0.86             5.0                 262.0   \n",
       "2                0.11             0.88             7.0                 272.0   \n",
       "3                0.72             0.87             5.0                 223.0   \n",
       "4                0.37             0.52             2.0                 159.0   \n",
       "\n",
       "   time_spend_company  Work_accident  promotion_last_5years  sales  salary  \n",
       "0                 3.0            0.0                    0.0  sales     low  \n",
       "1                 6.0            0.0                    0.0  sales  medium  \n",
       "2                 4.0            0.0                    0.0  sales  medium  \n",
       "3                 5.0            0.0                    0.0  sales     low  \n",
       "4                 3.0            0.0                    0.0  sales     low  "
      ]
     },
     "execution_count": 286,
     "metadata": {},
     "output_type": "execute_result"
    }
   ],
   "source": [
    "#Setting the target variable of staff/employee attrition, in other words, employees who have left\n",
    "print (\"Setting target variable: left\")\n",
    "turnover.set_target(\"left\")\n",
    "\n",
    "#Reviewing the first 5 rows, but this time with our target variable \"left\" gone\n",
    "print (\"First 5 rows of dataset without left\")\n",
    "turnover.features.head(5)"
   ]
  },
  {
   "cell_type": "markdown",
   "metadata": {},
   "source": [
    "## B. One-Hot Encoding"
   ]
  },
  {
   "cell_type": "code",
   "execution_count": 287,
   "metadata": {},
   "outputs": [
    {
     "name": "stdout",
     "output_type": "stream",
     "text": [
      "Features Summary (all):\n",
      "'Work_accident'        : float64    Min.(0.0) 1stQ(0.0) Med.(0.0) Mean(0.14) 3rdQ(0.0) Max.(1.0)\n",
      "'average_montly_hours' : float64    Min.(96.0) 1stQ(156.) Med.(200.) Mean(201.) 3rdQ(245.) Max.(310.)\n",
      "'last_evaluation'      : float64    Min.(0.36) 1stQ(0.56) Med.(0.72) Mean(0.71) 3rdQ(0.87) Max.(1.0)\n",
      "'number_project'       : float64    Min.(2.0) 1stQ(3.0) Med.(4.0) Mean(3.80) 3rdQ(5.0) Max.(7.0)\n",
      "'promotion_last_5years': float64    Min.(0.0) 1stQ(0.0) Med.(0.0) Mean(0.02) 3rdQ(0.0) Max.(1.0)\n",
      "'salary'               : object     3 categs. 'low'(7316, 0.4878) 'medium'(6446, 0.4298) 'high'(1237, 0.0825) \n",
      "'satisfaction_level'   : float64    Min.(0.09) 1stQ(0.44) Med.(0.64) Mean(0.61) 3rdQ(0.82) Max.(1.0)\n",
      "'time_spend_company'   : float64    Min.(2.0) 1stQ(3.0) Med.(3.0) Mean(3.49) 3rdQ(4.0) Max.(10.0)\n",
      "'sales_IT'             : float64    Min.(0.0) 1stQ(0.0) Med.(0.0) Mean(0.08) 3rdQ(0.0) Max.(1.0)\n",
      "'sales_RandD'          : float64    Min.(0.0) 1stQ(0.0) Med.(0.0) Mean(0.05) 3rdQ(0.0) Max.(1.0)\n",
      "'sales_accounting'     : float64    Min.(0.0) 1stQ(0.0) Med.(0.0) Mean(0.05) 3rdQ(0.0) Max.(1.0)\n",
      "'sales_hr'             : float64    Min.(0.0) 1stQ(0.0) Med.(0.0) Mean(0.04) 3rdQ(0.0) Max.(1.0)\n",
      "'sales_management'     : float64    Min.(0.0) 1stQ(0.0) Med.(0.0) Mean(0.04) 3rdQ(0.0) Max.(1.0)\n",
      "'sales_marketing'      : float64    Min.(0.0) 1stQ(0.0) Med.(0.0) Mean(0.05) 3rdQ(0.0) Max.(1.0)\n",
      "'sales_product_mng'    : float64    Min.(0.0) 1stQ(0.0) Med.(0.0) Mean(0.06) 3rdQ(0.0) Max.(1.0)\n",
      "'sales_sales'          : float64    Min.(0.0) 1stQ(0.0) Med.(0.0) Mean(0.27) 3rdQ(1.0) Max.(1.0)\n",
      "'sales_support'        : float64    Min.(0.0) 1stQ(0.0) Med.(0.0) Mean(0.14) 3rdQ(0.0) Max.(1.0)\n",
      "'sales_technical'      : float64    Min.(0.0) 1stQ(0.0) Med.(0.0) Mean(0.18) 3rdQ(0.0) Max.(1.0)\n",
      "'left'                 : float64    Min.(0.0) 1stQ(0.0) Med.(0.0) Mean(0.23) 3rdQ(0.0) Max.(1.0)\n"
     ]
    }
   ],
   "source": [
    "#Tranforming the sales variable into dummyfied versions, which will produce more variable\n",
    "turnover1 = turnover.onehot_encode(\"sales\").summary()"
   ]
  },
  {
   "cell_type": "code",
   "execution_count": 288,
   "metadata": {},
   "outputs": [
    {
     "name": "stdout",
     "output_type": "stream",
     "text": [
      "Features Summary (all):\n",
      "'Work_accident'        : float64    Min.(0.0) 1stQ(0.0) Med.(0.0) Mean(0.14) 3rdQ(0.0) Max.(1.0)\n",
      "'average_montly_hours' : float64    Min.(96.0) 1stQ(156.) Med.(200.) Mean(201.) 3rdQ(245.) Max.(310.)\n",
      "'last_evaluation'      : float64    Min.(0.36) 1stQ(0.56) Med.(0.72) Mean(0.71) 3rdQ(0.87) Max.(1.0)\n",
      "'number_project'       : float64    Min.(2.0) 1stQ(3.0) Med.(4.0) Mean(3.80) 3rdQ(5.0) Max.(7.0)\n",
      "'promotion_last_5years': float64    Min.(0.0) 1stQ(0.0) Med.(0.0) Mean(0.02) 3rdQ(0.0) Max.(1.0)\n",
      "'sales_IT'             : float64    Min.(0.0) 1stQ(0.0) Med.(0.0) Mean(0.08) 3rdQ(0.0) Max.(1.0)\n",
      "'sales_RandD'          : float64    Min.(0.0) 1stQ(0.0) Med.(0.0) Mean(0.05) 3rdQ(0.0) Max.(1.0)\n",
      "'sales_accounting'     : float64    Min.(0.0) 1stQ(0.0) Med.(0.0) Mean(0.05) 3rdQ(0.0) Max.(1.0)\n",
      "'sales_hr'             : float64    Min.(0.0) 1stQ(0.0) Med.(0.0) Mean(0.04) 3rdQ(0.0) Max.(1.0)\n",
      "'sales_management'     : float64    Min.(0.0) 1stQ(0.0) Med.(0.0) Mean(0.04) 3rdQ(0.0) Max.(1.0)\n",
      "'sales_marketing'      : float64    Min.(0.0) 1stQ(0.0) Med.(0.0) Mean(0.05) 3rdQ(0.0) Max.(1.0)\n",
      "'sales_product_mng'    : float64    Min.(0.0) 1stQ(0.0) Med.(0.0) Mean(0.06) 3rdQ(0.0) Max.(1.0)\n",
      "'sales_sales'          : float64    Min.(0.0) 1stQ(0.0) Med.(0.0) Mean(0.27) 3rdQ(1.0) Max.(1.0)\n",
      "'sales_support'        : float64    Min.(0.0) 1stQ(0.0) Med.(0.0) Mean(0.14) 3rdQ(0.0) Max.(1.0)\n",
      "'sales_technical'      : float64    Min.(0.0) 1stQ(0.0) Med.(0.0) Mean(0.18) 3rdQ(0.0) Max.(1.0)\n",
      "'satisfaction_level'   : float64    Min.(0.09) 1stQ(0.44) Med.(0.64) Mean(0.61) 3rdQ(0.82) Max.(1.0)\n",
      "'time_spend_company'   : float64    Min.(2.0) 1stQ(3.0) Med.(3.0) Mean(3.49) 3rdQ(4.0) Max.(10.0)\n",
      "'salary_high'          : float64    Min.(0.0) 1stQ(0.0) Med.(0.0) Mean(0.08) 3rdQ(0.0) Max.(1.0)\n",
      "'salary_low'           : float64    Min.(0.0) 1stQ(0.0) Med.(0.0) Mean(0.48) 3rdQ(1.0) Max.(1.0)\n",
      "'salary_medium'        : float64    Min.(0.0) 1stQ(0.0) Med.(0.0) Mean(0.42) 3rdQ(1.0) Max.(1.0)\n",
      "'left'                 : float64    Min.(0.0) 1stQ(0.0) Med.(0.0) Mean(0.23) 3rdQ(0.0) Max.(1.0)\n"
     ]
    }
   ],
   "source": [
    "#Tranforming the salary variable into dummyfied versions, which will produce more variable\n",
    "turnover_final = turnover.onehot_encode(\"salary\").summary()"
   ]
  },
  {
   "cell_type": "markdown",
   "metadata": {},
   "source": [
    "## C. Fixing Scale & Skewness"
   ]
  },
  {
   "cell_type": "code",
   "execution_count": 289,
   "metadata": {},
   "outputs": [
    {
     "data": {
      "text/plain": [
       "<dataset.dataset.Dataset at 0x123413080>"
      ]
     },
     "execution_count": 289,
     "metadata": {},
     "output_type": "execute_result"
    }
   ],
   "source": [
    "turnover.fix_skewness()\n",
    "turnover.scale(method='MinMaxScaler')"
   ]
  },
  {
   "cell_type": "markdown",
   "metadata": {},
   "source": [
    "## 3) FEATURE ENGINEERING"
   ]
  },
  {
   "cell_type": "markdown",
   "metadata": {},
   "source": [
    "## A. Removing Outliers"
   ]
  },
  {
   "cell_type": "code",
   "execution_count": 216,
   "metadata": {},
   "outputs": [
    {
     "data": {
      "text/plain": [
       "array([   18,    54,    82,    86,   105,   168,   171,   196,   239,\n",
       "         287,   307,   354,   397,   441,   476,   479,   584,   632,\n",
       "         664,   751,   765,   797,   849,   897,   916,  1031,  1138,\n",
       "        1358,  1417,  1481,  1502,  1514,  1573,  1578,  1667,  1721,\n",
       "        1775,  1957,  1992,  2006,  2011,  2031,  2043,  2088,  2091,\n",
       "        2125,  2137,  2154,  2180,  2187,  2188,  2214,  2250,  2289,\n",
       "        2296,  2299,  2327,  2330,  2346,  2352,  2376,  2404,  2410,\n",
       "        2420,  2426,  2452,  2475,  2498,  2539,  2550,  2591,  2622,\n",
       "        2723,  2769,  2788,  2801,  2812,  2819,  2846,  2868,  2929,\n",
       "        2932,  2941,  2983,  3027,  3071,  3098,  3099,  3106,  3124,\n",
       "        3138,  3245,  3320,  3365,  3434,  3544,  3560,  3597,  3598,\n",
       "        3632,  3673,  3732,  3737,  3786,  3822,  3843,  3874,  3883,\n",
       "        3915,  3921,  3943,  4000,  4015,  4062,  4068,  4073,  4094,\n",
       "        4169,  4187,  4212,  4215,  4240,  4263,  4323,  4352,  4382,\n",
       "        4392,  4431,  4444,  4453,  4455,  4460,  4473,  4489,  4491,\n",
       "        4499,  4501,  4506,  4507,  4508,  4510,  4525,  4536,  4537,\n",
       "        4538,  4539,  4540,  4541,  4542,  4543,  4544,  4545,  4546,\n",
       "        4547,  4548,  4549,  4550,  4551,  4552,  4553,  4554,  4555,\n",
       "        4556,  4557,  4558,  4612,  4621,  4623,  4647,  4691,  4717,\n",
       "        4727,  4728,  4729,  4730,  4734,  4735,  4736,  4739,  4774,\n",
       "        4783,  4799,  4801,  4803,  4812,  4822,  4830,  4870,  4879,\n",
       "        4892,  4930,  4942,  4950,  4982,  4983,  5000,  5005,  5031,\n",
       "        5034,  5035,  5036,  5038,  5039,  5040,  5066,  5072,  5074,\n",
       "        5082,  5115,  5116,  5179,  5180,  5245,  5270,  5292,  5307,\n",
       "        5322,  5333,  5335,  5356,  5384,  5411,  5425,  5502,  5518,\n",
       "        5519,  5520,  5521,  5522,  5523,  5525,  5526,  5527,  5528,\n",
       "        5529,  5530,  5531,  5532,  5540,  5553,  5557,  5559,  5573,\n",
       "        5635,  5637,  5638,  5784,  5788,  5805,  5815,  5840,  5908,\n",
       "        5910,  5919,  5941,  5944,  6018,  6049,  6055,  6056,  6086,\n",
       "        6111,  6155,  6180,  6216,  6243,  6260,  6267,  6286,  6290,\n",
       "        6291,  6301,  6322,  6329,  6365,  6367,  6372,  6416,  6443,\n",
       "        6497,  6500,  6515,  6517,  6556,  6572,  6620,  6641,  6668,\n",
       "        6691,  6719,  6724,  6726,  6728,  6779,  6811,  6826,  6854,\n",
       "        6857,  6870,  6880,  6884,  6898,  6925,  7006,  7008,  7016,\n",
       "        7119,  7132,  7135,  7136,  7160,  7205,  7227,  7260,  7288,\n",
       "        7313,  7318,  7323,  7371,  7376,  7405,  7430,  7431,  7466,\n",
       "        7492,  7496,  7539,  7555,  7560,  7590,  7625,  7665,  7691,\n",
       "        7727,  7745,  7802,  7805,  7831,  7848,  7868,  7905,  7952,\n",
       "        8002,  8010,  8022,  8024,  8043,  8062,  8084,  8099,  8153,\n",
       "        8157,  8161,  8177,  8257,  8270,  8278,  8283,  8294,  8301,\n",
       "        8306,  8309,  8335,  8352,  8354,  8379,  8416,  8427,  8435,\n",
       "        8438,  8492,  8499,  8553,  8585,  8593,  8605,  8622,  8654,\n",
       "        8675,  8680,  8691,  8741,  8750,  8812,  8826,  8833,  8846,\n",
       "        8867,  8882,  8887,  9012,  9037,  9039,  9059,  9066,  9069,\n",
       "        9131,  9148,  9157,  9166,  9171,  9197,  9219,  9220,  9244,\n",
       "        9281,  9292,  9301,  9304,  9387,  9388,  9444,  9460,  9478,\n",
       "        9481,  9487,  9492,  9497,  9512,  9515,  9568,  9580,  9583,\n",
       "        9589,  9612,  9652,  9657,  9662,  9682,  9684,  9729,  9762,\n",
       "        9763,  9796,  9803,  9821,  9839,  9878,  9881,  9946,  9971,\n",
       "        9985,  9991, 10099, 10100, 10122, 10146, 10181, 10197, 10199,\n",
       "       10258, 10292, 10318, 10335, 10358, 10360, 10371, 10409, 10430,\n",
       "       10438, 10463, 10469, 10501, 10507, 10524, 10541, 10596, 10625,\n",
       "       10750, 10777, 10779, 10792, 10805, 10817, 10828, 10846, 10888,\n",
       "       10893, 10908, 10974, 11000, 11002, 11010, 11107, 11110, 11153,\n",
       "       11179, 11180, 11181, 11183, 11199, 11213, 11214, 11215, 11216,\n",
       "       11217, 11220, 11226, 11232, 11254, 11275, 11276, 11279, 11282,\n",
       "       11299, 11300, 11309, 11325, 11363, 11387, 11400, 11401, 11402,\n",
       "       11446, 11458, 11459, 11461, 11462, 11463, 11464, 11465, 11466,\n",
       "       11467, 11477, 11490, 11492, 11500, 11514, 11565, 11569, 11572,\n",
       "       11579, 11691, 11705, 11725, 11729, 11731, 11743, 11777, 11781,\n",
       "       11796, 11797, 11821, 11838, 11877, 11882, 11895, 11911, 11923,\n",
       "       11945, 11958, 11959, 11962, 11970, 11998, 12018, 12054, 12082,\n",
       "       12086, 12105, 12168, 12171, 12196, 12239, 12287, 12307, 12354,\n",
       "       12397, 12441, 12476, 12479, 12584, 12632, 12664, 12751, 12765,\n",
       "       12807, 12836, 12961, 12988, 12990, 13003, 13016, 13028, 13039,\n",
       "       13057, 13099, 13104, 13119, 13185, 13211, 13213, 13221, 13318,\n",
       "       13321, 13364, 13390, 13391, 13392, 13394, 13410, 13424, 13425,\n",
       "       13426, 13427, 13428, 13431, 13437, 13443, 13465, 13486, 13487,\n",
       "       13490, 13493, 13510, 13511, 13520, 13536, 13574, 13598, 13611,\n",
       "       13612, 13613, 13657, 13669, 13670, 13672, 13673, 13674, 13675,\n",
       "       13676, 13677, 13678, 13688, 13701, 13703, 13711, 13725, 13776,\n",
       "       13780, 13783, 13790, 13902, 13916, 13936, 13940, 13942, 13954,\n",
       "       13988, 13992, 14007, 14008, 14032, 14049, 14088, 14093, 14106,\n",
       "       14122, 14134, 14156, 14169, 14170, 14173, 14181, 14209, 14229,\n",
       "       14265, 14293, 14297, 14316, 14379, 14382, 14407, 14450, 14498,\n",
       "       14518, 14565, 14608, 14652, 14687, 14690, 14795, 14843, 14993])"
      ]
     },
     "execution_count": 216,
     "metadata": {},
     "output_type": "execute_result"
    }
   ],
   "source": [
    "#Identifying indeces that may contain outliers\n",
    "\n",
    "turnover.outliers()"
   ]
  },
  {
   "cell_type": "code",
   "execution_count": 217,
   "metadata": {},
   "outputs": [
    {
     "data": {
      "text/plain": [
       "<dataset.dataset.Dataset at 0x122e11470>"
      ]
     },
     "execution_count": 217,
     "metadata": {},
     "output_type": "execute_result"
    }
   ],
   "source": [
    "#Dropping outliers\n",
    "\n",
    "turnover.drop_samples(turnover.outliers())"
   ]
  },
  {
   "cell_type": "markdown",
   "metadata": {},
   "source": [
    "## B. Feature importance after One-hot encoding"
   ]
  },
  {
   "cell_type": "code",
   "execution_count": 218,
   "metadata": {},
   "outputs": [
    {
     "name": "stdout",
     "output_type": "stream",
     "text": [
      "Overall feature importance:\n"
     ]
    },
    {
     "data": {
      "text/plain": [
       "{'Work_accident': 0.029294446384910414,\n",
       " 'average_montly_hours': 0.07452175317066259,\n",
       " 'last_evaluation': 0.06094791467436458,\n",
       " 'number_project': 0.2926336011177127,\n",
       " 'promotion_last_5years': -0.00092560251484457,\n",
       " 'salary_high': 0.04305623471882601,\n",
       " 'salary_low': 0.12245546629409639,\n",
       " 'salary_medium': 0.10449877750611125,\n",
       " 'sales_IT': 0.02209919664687323,\n",
       " 'sales_RandD': 0.012850157177785681,\n",
       " 'sales_accounting': 0.013793223891023535,\n",
       " 'sales_hr': 0.02859238560950039,\n",
       " 'sales_management': 0.005934334614041223,\n",
       " 'sales_marketing': 0.008470136220747423,\n",
       " 'sales_product_mng': 0.007300034928396765,\n",
       " 'sales_sales': 0.07346489696122899,\n",
       " 'sales_support': 0.05974851554313592,\n",
       " 'sales_technical': 0.09070206077540884,\n",
       " 'satisfaction_level': 0.08114290616461625,\n",
       " 'time_spend_company': 0.34323087670275954}"
      ]
     },
     "execution_count": 218,
     "metadata": {},
     "output_type": "execute_result"
    }
   ],
   "source": [
    "#After we preformed an One-Hot encoding we will now analyse the feature importance\n",
    "\n",
    "print (\"Overall feature importance:\")\n",
    "turnover.features_importance()"
   ]
  },
  {
   "cell_type": "code",
   "execution_count": 219,
   "metadata": {},
   "outputs": [
    {
     "name": "stdout",
     "output_type": "stream",
     "text": [
      "Graphical plot of feature importance:\n"
     ]
    },
    {
     "data": {
      "image/png": "[encoded data removed]",
      "text/plain": [
       "<Figure size 576x576 with 1 Axes>"
      ]
     },
     "metadata": {},
     "output_type": "display_data"
    }
   ],
   "source": [
    "print (\"Graphical plot of feature importance:\")\n",
    "turnover.plot_importance()"
   ]
  },
  {
   "cell_type": "markdown",
   "metadata": {},
   "source": [
    "## C. Drop not Relevant Features"
   ]
  },
  {
   "cell_type": "code",
   "execution_count": 220,
   "metadata": {},
   "outputs": [
    {
     "data": {
      "text/plain": [
       "<dataset.dataset.Dataset at 0x122e11470>"
      ]
     },
     "execution_count": 220,
     "metadata": {},
     "output_type": "execute_result"
    }
   ],
   "source": [
    "#In this first try we will remove/drop all variables related to sales because they don't demonstrate high importance to the model\n",
    "\n",
    "turnover.drop_columns('sales_IT')\n",
    "turnover.drop_columns('sales_RandD')\n",
    "turnover.drop_columns('sales_accounting')\n",
    "turnover.drop_columns('sales_hr')\n",
    "turnover.drop_columns('sales_management')\n",
    "turnover.drop_columns('sales_marketing')\n",
    "turnover.drop_columns('sales_product_mng')\n",
    "turnover.drop_columns('sales_sales')\n",
    "turnover.drop_columns('sales_support')\n",
    "turnover.drop_columns('sales_technical')"
   ]
  },
  {
   "cell_type": "code",
   "execution_count": 221,
   "metadata": {},
   "outputs": [
    {
     "name": "stdout",
     "output_type": "stream",
     "text": [
      "Features Summary (all):\n",
      "'Work_accident'        : float64    Min.(0.0) 1stQ(0.0) Med.(0.0) Mean(0.14) 3rdQ(0.0) Max.(1.0)\n",
      "'average_montly_hours' : float64    Min.(0.0) 1stQ(0.32) Med.(0.53) Mean(0.53) 3rdQ(0.73) Max.(1.0)\n",
      "'last_evaluation'      : float64    Min.(0.0) 1stQ(0.31) Med.(0.58) Mean(0.56) 3rdQ(0.79) Max.(1.0)\n",
      "'number_project'       : float64    Min.(0.0) 1stQ(0.26) Med.(0.48) Mean(0.42) 3rdQ(0.67) Max.(1.0)\n",
      "'promotion_last_5years': float64    Min.(0.0) 1stQ(0.0) Med.(0.0) Mean(0.01) 3rdQ(0.0) Max.(0.99)\n",
      "'satisfaction_level'   : float64    Min.(0.0) 1stQ(0.30) Med.(0.52) Mean(0.51) 3rdQ(0.73) Max.(0.99)\n",
      "'time_spend_company'   : float64    Min.(0.0) 1stQ(0.34) Med.(0.34) Mean(0.38) 3rdQ(0.55) Max.(1.0)\n",
      "'salary_high'          : float64    Min.(0.0) 1stQ(0.0) Med.(0.0) Mean(0.08) 3rdQ(0.0) Max.(0.99)\n",
      "'salary_low'           : float64    Min.(0.0) 1stQ(0.0) Med.(0.0) Mean(0.48) 3rdQ(1.0) Max.(1.0)\n",
      "'salary_medium'        : float64    Min.(0.0) 1stQ(0.0) Med.(0.0) Mean(0.43) 3rdQ(0.99) Max.(0.99)\n",
      "'left'                 : float64    Min.(0.0) 1stQ(0.0) Med.(0.0) Mean(0.24) 3rdQ(0.0) Max.(1.0)\n"
     ]
    }
   ],
   "source": [
    "#Check if the variables were removed\n",
    "turnover.summary()"
   ]
  },
  {
   "cell_type": "markdown",
   "metadata": {},
   "source": [
    "## D. Dataset Splitting"
   ]
  },
  {
   "cell_type": "code",
   "execution_count": 222,
   "metadata": {},
   "outputs": [
    {
     "data": {
      "text/html": [
       "<div>\n",
       "<style scoped>\n",
       "    .dataframe tbody tr th:only-of-type {\n",
       "        vertical-align: middle;\n",
       "    }\n",
       "\n",
       "    .dataframe tbody tr th {\n",
       "        vertical-align: top;\n",
       "    }\n",
       "\n",
       "    .dataframe thead th {\n",
       "        text-align: right;\n",
       "    }\n",
       "</style>\n",
       "<table border=\"1\" class=\"dataframe\">\n",
       "  <thead>\n",
       "    <tr style=\"text-align: right;\">\n",
       "      <th></th>\n",
       "      <th>Work_accident</th>\n",
       "      <th>average_montly_hours</th>\n",
       "      <th>last_evaluation</th>\n",
       "      <th>number_project</th>\n",
       "      <th>promotion_last_5years</th>\n",
       "      <th>satisfaction_level</th>\n",
       "      <th>time_spend_company</th>\n",
       "      <th>salary_high</th>\n",
       "      <th>salary_low</th>\n",
       "      <th>salary_medium</th>\n",
       "    </tr>\n",
       "  </thead>\n",
       "  <tbody>\n",
       "    <tr>\n",
       "      <th>129</th>\n",
       "      <td>0.0</td>\n",
       "      <td>0.200511</td>\n",
       "      <td>0.221972</td>\n",
       "      <td>0.000000</td>\n",
       "      <td>0.0</td>\n",
       "      <td>0.215786</td>\n",
       "      <td>0.347557</td>\n",
       "      <td>0.0</td>\n",
       "      <td>1.0</td>\n",
       "      <td>0.0</td>\n",
       "    </tr>\n",
       "    <tr>\n",
       "      <th>4119</th>\n",
       "      <td>1.0</td>\n",
       "      <td>0.231996</td>\n",
       "      <td>0.206184</td>\n",
       "      <td>0.264433</td>\n",
       "      <td>0.0</td>\n",
       "      <td>0.658668</td>\n",
       "      <td>0.000000</td>\n",
       "      <td>0.0</td>\n",
       "      <td>0.0</td>\n",
       "      <td>1.0</td>\n",
       "    </tr>\n",
       "    <tr>\n",
       "      <th>1071</th>\n",
       "      <td>0.0</td>\n",
       "      <td>0.211059</td>\n",
       "      <td>0.190386</td>\n",
       "      <td>0.000000</td>\n",
       "      <td>0.0</td>\n",
       "      <td>0.234352</td>\n",
       "      <td>0.347557</td>\n",
       "      <td>0.0</td>\n",
       "      <td>1.0</td>\n",
       "      <td>0.0</td>\n",
       "    </tr>\n",
       "    <tr>\n",
       "      <th>10869</th>\n",
       "      <td>1.0</td>\n",
       "      <td>0.231996</td>\n",
       "      <td>0.269277</td>\n",
       "      <td>0.264433</td>\n",
       "      <td>0.0</td>\n",
       "      <td>0.557766</td>\n",
       "      <td>0.000000</td>\n",
       "      <td>0.0</td>\n",
       "      <td>1.0</td>\n",
       "      <td>0.0</td>\n",
       "    </tr>\n",
       "    <tr>\n",
       "      <th>2131</th>\n",
       "      <td>0.0</td>\n",
       "      <td>0.069307</td>\n",
       "      <td>0.174578</td>\n",
       "      <td>0.485294</td>\n",
       "      <td>0.0</td>\n",
       "      <td>0.836269</td>\n",
       "      <td>0.347557</td>\n",
       "      <td>0.0</td>\n",
       "      <td>1.0</td>\n",
       "      <td>0.0</td>\n",
       "    </tr>\n",
       "  </tbody>\n",
       "</table>\n",
       "</div>"
      ],
      "text/plain": [
       "       Work_accident  average_montly_hours  last_evaluation  number_project  \\\n",
       "129              0.0              0.200511         0.221972        0.000000   \n",
       "4119             1.0              0.231996         0.206184        0.264433   \n",
       "1071             0.0              0.211059         0.190386        0.000000   \n",
       "10869            1.0              0.231996         0.269277        0.264433   \n",
       "2131             0.0              0.069307         0.174578        0.485294   \n",
       "\n",
       "       promotion_last_5years  satisfaction_level  time_spend_company  \\\n",
       "129                      0.0            0.215786            0.347557   \n",
       "4119                     0.0            0.658668            0.000000   \n",
       "1071                     0.0            0.234352            0.347557   \n",
       "10869                    0.0            0.557766            0.000000   \n",
       "2131                     0.0            0.836269            0.347557   \n",
       "\n",
       "       salary_high  salary_low  salary_medium  \n",
       "129            0.0         1.0            0.0  \n",
       "4119           0.0         0.0            1.0  \n",
       "1071           0.0         1.0            0.0  \n",
       "10869          0.0         1.0            0.0  \n",
       "2131           0.0         1.0            0.0  "
      ]
     },
     "execution_count": 222,
     "metadata": {},
     "output_type": "execute_result"
    }
   ],
   "source": [
    "#Dataset Split: **Creating the test set**\n",
    "X, y = turnover.split(test_size= 0.2)\n",
    "\n",
    "#Or\n",
    "\n",
    "X, y = turnover.split(seed=1)\n",
    "\n",
    "X.train.head(5)"
   ]
  },
  {
   "cell_type": "code",
   "execution_count": 223,
   "metadata": {},
   "outputs": [
    {
     "data": {
      "text/html": [
       "<div>\n",
       "<style scoped>\n",
       "    .dataframe tbody tr th:only-of-type {\n",
       "        vertical-align: middle;\n",
       "    }\n",
       "\n",
       "    .dataframe tbody tr th {\n",
       "        vertical-align: top;\n",
       "    }\n",
       "\n",
       "    .dataframe thead th {\n",
       "        text-align: right;\n",
       "    }\n",
       "</style>\n",
       "<table border=\"1\" class=\"dataframe\">\n",
       "  <thead>\n",
       "    <tr style=\"text-align: right;\">\n",
       "      <th></th>\n",
       "      <th>left</th>\n",
       "    </tr>\n",
       "  </thead>\n",
       "  <tbody>\n",
       "    <tr>\n",
       "      <th>129</th>\n",
       "      <td>1.0</td>\n",
       "    </tr>\n",
       "    <tr>\n",
       "      <th>4119</th>\n",
       "      <td>0.0</td>\n",
       "    </tr>\n",
       "    <tr>\n",
       "      <th>1071</th>\n",
       "      <td>1.0</td>\n",
       "    </tr>\n",
       "    <tr>\n",
       "      <th>10869</th>\n",
       "      <td>0.0</td>\n",
       "    </tr>\n",
       "    <tr>\n",
       "      <th>2131</th>\n",
       "      <td>0.0</td>\n",
       "    </tr>\n",
       "  </tbody>\n",
       "</table>\n",
       "</div>"
      ],
      "text/plain": [
       "       left\n",
       "129     1.0\n",
       "4119    0.0\n",
       "1071    1.0\n",
       "10869   0.0\n",
       "2131    0.0"
      ]
     },
     "execution_count": 223,
     "metadata": {},
     "output_type": "execute_result"
    }
   ],
   "source": [
    "y.train.head(5)"
   ]
  },
  {
   "cell_type": "markdown",
   "metadata": {},
   "source": [
    "## E. Cross Validation"
   ]
  },
  {
   "cell_type": "code",
   "execution_count": 224,
   "metadata": {},
   "outputs": [
    {
     "name": "stdout",
     "output_type": "stream",
     "text": [
      "F1: 0.5910596026490067\n"
     ]
    }
   ],
   "source": [
    "from sklearn.linear_model import LogisticRegression\n",
    "from sklearn.model_selection import cross_val_score, StratifiedKFold\n",
    "from sklearn.metrics import accuracy_score, f1_score, recall_score, matthews_corrcoef\n",
    "\n",
    "\n",
    "clf_baseline = LogisticRegression().fit(X.train, y.train)\n",
    "pred_baseline = clf_baseline.predict(X.test)\n",
    "\n",
    "\n",
    "print('F1:', f1_score(y.test, pred_baseline))"
   ]
  },
  {
   "cell_type": "markdown",
   "metadata": {},
   "source": [
    "## F. Check Results: Weighted F1"
   ]
  },
  {
   "cell_type": "code",
   "execution_count": 225,
   "metadata": {},
   "outputs": [
    {
     "name": "stdout",
     "output_type": "stream",
     "text": [
      "F1: 0.5910596026490067\n",
      "              precision    recall  f1-score   support\n",
      "\n",
      "         0.0       0.86      0.92      0.89      2177\n",
      "         1.0       0.68      0.52      0.59       686\n",
      "\n",
      "    accuracy                           0.83      2863\n",
      "   macro avg       0.77      0.72      0.74      2863\n",
      "weighted avg       0.82      0.83      0.82      2863\n",
      "\n"
     ]
    }
   ],
   "source": [
    "from sklearn.metrics import accuracy_score, f1_score, recall_score, matthews_corrcoef, classification_report\n",
    "\n",
    "\n",
    "clf_baseline = LogisticRegression().fit(X.train, y.train)\n",
    "pred_baseline = clf_baseline.predict(X.test)\n",
    "\n",
    "\n",
    "print('F1:', f1_score(y.test, pred_baseline,))\n",
    "print(classification_report(y.test,pred_baseline))"
   ]
  },
  {
   "cell_type": "markdown",
   "metadata": {},
   "source": [
    "## 3rd Attempt"
   ]
  },
  {
   "cell_type": "markdown",
   "metadata": {},
   "source": [
    "For this third attempet we will perform analysis which does not include outliers but with the removal of some not significant variables, in this case we decided to remove all variables related to sales & salary."
   ]
  },
  {
   "cell_type": "markdown",
   "metadata": {},
   "source": [
    "## 1) DATA LOADING & IMPORTING LIBRARIES"
   ]
  },
  {
   "cell_type": "code",
   "execution_count": 259,
   "metadata": {},
   "outputs": [],
   "source": [
    "from dataset import Dataset\n",
    "import numpy as np\n",
    "import matplotlib.pyplot as plt\n",
    "\n",
    "from sklearn.linear_model import LogisticRegression\n",
    "from sklearn.metrics import accuracy_score, f1_score, recall_score, matthews_corrcoef\n",
    "\n",
    "turnover = Dataset('/Users/kuka/Downloads/turnover.csv', delimiter=',', header=0)\n"
   ]
  },
  {
   "cell_type": "markdown",
   "metadata": {},
   "source": [
    "## A. Data Description"
   ]
  },
  {
   "cell_type": "code",
   "execution_count": 260,
   "metadata": {},
   "outputs": [
    {
     "name": "stdout",
     "output_type": "stream",
     "text": [
      "10 Features. 14999 Samples\n",
      "Available types: [dtype('float64') dtype('O')]\n",
      "  · 2 categorical features\n",
      "  · 8 numerical features\n",
      "  · 0 categorical features with NAs\n",
      "  · 0 numerical features with NAs\n",
      "  · 10 Complete features\n",
      "--\n",
      "Target: Not set\n"
     ]
    }
   ],
   "source": [
    "turnover.describe()"
   ]
  },
  {
   "cell_type": "markdown",
   "metadata": {},
   "source": [
    "\n",
    "## 2) DATA PREPARATION & TRANSFORMATION"
   ]
  },
  {
   "cell_type": "markdown",
   "metadata": {},
   "source": [
    "## A. Setting Target Variable"
   ]
  },
  {
   "cell_type": "code",
   "execution_count": 227,
   "metadata": {},
   "outputs": [
    {
     "name": "stdout",
     "output_type": "stream",
     "text": [
      "Setting target variable: left\n",
      "First 5 rows of dataset without left\n"
     ]
    },
    {
     "data": {
      "text/html": [
       "<div>\n",
       "<style scoped>\n",
       "    .dataframe tbody tr th:only-of-type {\n",
       "        vertical-align: middle;\n",
       "    }\n",
       "\n",
       "    .dataframe tbody tr th {\n",
       "        vertical-align: top;\n",
       "    }\n",
       "\n",
       "    .dataframe thead th {\n",
       "        text-align: right;\n",
       "    }\n",
       "</style>\n",
       "<table border=\"1\" class=\"dataframe\">\n",
       "  <thead>\n",
       "    <tr style=\"text-align: right;\">\n",
       "      <th></th>\n",
       "      <th>satisfaction_level</th>\n",
       "      <th>last_evaluation</th>\n",
       "      <th>number_project</th>\n",
       "      <th>average_montly_hours</th>\n",
       "      <th>time_spend_company</th>\n",
       "      <th>Work_accident</th>\n",
       "      <th>promotion_last_5years</th>\n",
       "      <th>sales</th>\n",
       "      <th>salary</th>\n",
       "    </tr>\n",
       "  </thead>\n",
       "  <tbody>\n",
       "    <tr>\n",
       "      <th>0</th>\n",
       "      <td>0.38</td>\n",
       "      <td>0.53</td>\n",
       "      <td>2.0</td>\n",
       "      <td>157.0</td>\n",
       "      <td>3.0</td>\n",
       "      <td>0.0</td>\n",
       "      <td>0.0</td>\n",
       "      <td>sales</td>\n",
       "      <td>low</td>\n",
       "    </tr>\n",
       "    <tr>\n",
       "      <th>1</th>\n",
       "      <td>0.80</td>\n",
       "      <td>0.86</td>\n",
       "      <td>5.0</td>\n",
       "      <td>262.0</td>\n",
       "      <td>6.0</td>\n",
       "      <td>0.0</td>\n",
       "      <td>0.0</td>\n",
       "      <td>sales</td>\n",
       "      <td>medium</td>\n",
       "    </tr>\n",
       "    <tr>\n",
       "      <th>2</th>\n",
       "      <td>0.11</td>\n",
       "      <td>0.88</td>\n",
       "      <td>7.0</td>\n",
       "      <td>272.0</td>\n",
       "      <td>4.0</td>\n",
       "      <td>0.0</td>\n",
       "      <td>0.0</td>\n",
       "      <td>sales</td>\n",
       "      <td>medium</td>\n",
       "    </tr>\n",
       "    <tr>\n",
       "      <th>3</th>\n",
       "      <td>0.72</td>\n",
       "      <td>0.87</td>\n",
       "      <td>5.0</td>\n",
       "      <td>223.0</td>\n",
       "      <td>5.0</td>\n",
       "      <td>0.0</td>\n",
       "      <td>0.0</td>\n",
       "      <td>sales</td>\n",
       "      <td>low</td>\n",
       "    </tr>\n",
       "    <tr>\n",
       "      <th>4</th>\n",
       "      <td>0.37</td>\n",
       "      <td>0.52</td>\n",
       "      <td>2.0</td>\n",
       "      <td>159.0</td>\n",
       "      <td>3.0</td>\n",
       "      <td>0.0</td>\n",
       "      <td>0.0</td>\n",
       "      <td>sales</td>\n",
       "      <td>low</td>\n",
       "    </tr>\n",
       "  </tbody>\n",
       "</table>\n",
       "</div>"
      ],
      "text/plain": [
       "   satisfaction_level  last_evaluation  number_project  average_montly_hours  \\\n",
       "0                0.38             0.53             2.0                 157.0   \n",
       "1                0.80             0.86             5.0                 262.0   \n",
       "2                0.11             0.88             7.0                 272.0   \n",
       "3                0.72             0.87             5.0                 223.0   \n",
       "4                0.37             0.52             2.0                 159.0   \n",
       "\n",
       "   time_spend_company  Work_accident  promotion_last_5years  sales  salary  \n",
       "0                 3.0            0.0                    0.0  sales     low  \n",
       "1                 6.0            0.0                    0.0  sales  medium  \n",
       "2                 4.0            0.0                    0.0  sales  medium  \n",
       "3                 5.0            0.0                    0.0  sales     low  \n",
       "4                 3.0            0.0                    0.0  sales     low  "
      ]
     },
     "execution_count": 227,
     "metadata": {},
     "output_type": "execute_result"
    }
   ],
   "source": [
    "#Setting the target variable of staff/employee attrition, in other words, employees who have left\n",
    "print (\"Setting target variable: left\")\n",
    "turnover.set_target(\"left\")\n",
    "\n",
    "#Reviewing the first 5 rows, but this time with our target variable \"left\" gone\n",
    "print (\"First 5 rows of dataset without left\")\n",
    "turnover.features.head(5)"
   ]
  },
  {
   "cell_type": "markdown",
   "metadata": {},
   "source": [
    "## B. One-Hot Encoding"
   ]
  },
  {
   "cell_type": "code",
   "execution_count": 228,
   "metadata": {},
   "outputs": [
    {
     "name": "stdout",
     "output_type": "stream",
     "text": [
      "Features Summary (all):\n",
      "'Work_accident'        : float64    Min.(0.0) 1stQ(0.0) Med.(0.0) Mean(0.14) 3rdQ(0.0) Max.(1.0)\n",
      "'average_montly_hours' : float64    Min.(96.0) 1stQ(156.) Med.(200.) Mean(201.) 3rdQ(245.) Max.(310.)\n",
      "'last_evaluation'      : float64    Min.(0.36) 1stQ(0.56) Med.(0.72) Mean(0.71) 3rdQ(0.87) Max.(1.0)\n",
      "'number_project'       : float64    Min.(2.0) 1stQ(3.0) Med.(4.0) Mean(3.80) 3rdQ(5.0) Max.(7.0)\n",
      "'promotion_last_5years': float64    Min.(0.0) 1stQ(0.0) Med.(0.0) Mean(0.02) 3rdQ(0.0) Max.(1.0)\n",
      "'salary'               : object     3 categs. 'low'(7316, 0.4878) 'medium'(6446, 0.4298) 'high'(1237, 0.0825) \n",
      "'satisfaction_level'   : float64    Min.(0.09) 1stQ(0.44) Med.(0.64) Mean(0.61) 3rdQ(0.82) Max.(1.0)\n",
      "'time_spend_company'   : float64    Min.(2.0) 1stQ(3.0) Med.(3.0) Mean(3.49) 3rdQ(4.0) Max.(10.0)\n",
      "'sales_IT'             : float64    Min.(0.0) 1stQ(0.0) Med.(0.0) Mean(0.08) 3rdQ(0.0) Max.(1.0)\n",
      "'sales_RandD'          : float64    Min.(0.0) 1stQ(0.0) Med.(0.0) Mean(0.05) 3rdQ(0.0) Max.(1.0)\n",
      "'sales_accounting'     : float64    Min.(0.0) 1stQ(0.0) Med.(0.0) Mean(0.05) 3rdQ(0.0) Max.(1.0)\n",
      "'sales_hr'             : float64    Min.(0.0) 1stQ(0.0) Med.(0.0) Mean(0.04) 3rdQ(0.0) Max.(1.0)\n",
      "'sales_management'     : float64    Min.(0.0) 1stQ(0.0) Med.(0.0) Mean(0.04) 3rdQ(0.0) Max.(1.0)\n",
      "'sales_marketing'      : float64    Min.(0.0) 1stQ(0.0) Med.(0.0) Mean(0.05) 3rdQ(0.0) Max.(1.0)\n",
      "'sales_product_mng'    : float64    Min.(0.0) 1stQ(0.0) Med.(0.0) Mean(0.06) 3rdQ(0.0) Max.(1.0)\n",
      "'sales_sales'          : float64    Min.(0.0) 1stQ(0.0) Med.(0.0) Mean(0.27) 3rdQ(1.0) Max.(1.0)\n",
      "'sales_support'        : float64    Min.(0.0) 1stQ(0.0) Med.(0.0) Mean(0.14) 3rdQ(0.0) Max.(1.0)\n",
      "'sales_technical'      : float64    Min.(0.0) 1stQ(0.0) Med.(0.0) Mean(0.18) 3rdQ(0.0) Max.(1.0)\n",
      "'left'                 : float64    Min.(0.0) 1stQ(0.0) Med.(0.0) Mean(0.23) 3rdQ(0.0) Max.(1.0)\n"
     ]
    }
   ],
   "source": [
    "#Tranforming the sales variable into dummyfied versions, which will produce more variable\n",
    "turnover1 = turnover.onehot_encode(\"sales\").summary()"
   ]
  },
  {
   "cell_type": "code",
   "execution_count": 229,
   "metadata": {},
   "outputs": [
    {
     "name": "stdout",
     "output_type": "stream",
     "text": [
      "Features Summary (all):\n",
      "'Work_accident'        : float64    Min.(0.0) 1stQ(0.0) Med.(0.0) Mean(0.14) 3rdQ(0.0) Max.(1.0)\n",
      "'average_montly_hours' : float64    Min.(96.0) 1stQ(156.) Med.(200.) Mean(201.) 3rdQ(245.) Max.(310.)\n",
      "'last_evaluation'      : float64    Min.(0.36) 1stQ(0.56) Med.(0.72) Mean(0.71) 3rdQ(0.87) Max.(1.0)\n",
      "'number_project'       : float64    Min.(2.0) 1stQ(3.0) Med.(4.0) Mean(3.80) 3rdQ(5.0) Max.(7.0)\n",
      "'promotion_last_5years': float64    Min.(0.0) 1stQ(0.0) Med.(0.0) Mean(0.02) 3rdQ(0.0) Max.(1.0)\n",
      "'sales_IT'             : float64    Min.(0.0) 1stQ(0.0) Med.(0.0) Mean(0.08) 3rdQ(0.0) Max.(1.0)\n",
      "'sales_RandD'          : float64    Min.(0.0) 1stQ(0.0) Med.(0.0) Mean(0.05) 3rdQ(0.0) Max.(1.0)\n",
      "'sales_accounting'     : float64    Min.(0.0) 1stQ(0.0) Med.(0.0) Mean(0.05) 3rdQ(0.0) Max.(1.0)\n",
      "'sales_hr'             : float64    Min.(0.0) 1stQ(0.0) Med.(0.0) Mean(0.04) 3rdQ(0.0) Max.(1.0)\n",
      "'sales_management'     : float64    Min.(0.0) 1stQ(0.0) Med.(0.0) Mean(0.04) 3rdQ(0.0) Max.(1.0)\n",
      "'sales_marketing'      : float64    Min.(0.0) 1stQ(0.0) Med.(0.0) Mean(0.05) 3rdQ(0.0) Max.(1.0)\n",
      "'sales_product_mng'    : float64    Min.(0.0) 1stQ(0.0) Med.(0.0) Mean(0.06) 3rdQ(0.0) Max.(1.0)\n",
      "'sales_sales'          : float64    Min.(0.0) 1stQ(0.0) Med.(0.0) Mean(0.27) 3rdQ(1.0) Max.(1.0)\n",
      "'sales_support'        : float64    Min.(0.0) 1stQ(0.0) Med.(0.0) Mean(0.14) 3rdQ(0.0) Max.(1.0)\n",
      "'sales_technical'      : float64    Min.(0.0) 1stQ(0.0) Med.(0.0) Mean(0.18) 3rdQ(0.0) Max.(1.0)\n",
      "'satisfaction_level'   : float64    Min.(0.09) 1stQ(0.44) Med.(0.64) Mean(0.61) 3rdQ(0.82) Max.(1.0)\n",
      "'time_spend_company'   : float64    Min.(2.0) 1stQ(3.0) Med.(3.0) Mean(3.49) 3rdQ(4.0) Max.(10.0)\n",
      "'salary_high'          : float64    Min.(0.0) 1stQ(0.0) Med.(0.0) Mean(0.08) 3rdQ(0.0) Max.(1.0)\n",
      "'salary_low'           : float64    Min.(0.0) 1stQ(0.0) Med.(0.0) Mean(0.48) 3rdQ(1.0) Max.(1.0)\n",
      "'salary_medium'        : float64    Min.(0.0) 1stQ(0.0) Med.(0.0) Mean(0.42) 3rdQ(1.0) Max.(1.0)\n",
      "'left'                 : float64    Min.(0.0) 1stQ(0.0) Med.(0.0) Mean(0.23) 3rdQ(0.0) Max.(1.0)\n"
     ]
    }
   ],
   "source": [
    "#Tranforming the salary variable into dummyfied versions, which will produce more variable\n",
    "turnover_final = turnover.onehot_encode(\"salary\").summary()"
   ]
  },
  {
   "cell_type": "markdown",
   "metadata": {},
   "source": [
    "## C. Fixing Scale & Skewness"
   ]
  },
  {
   "cell_type": "code",
   "execution_count": 230,
   "metadata": {},
   "outputs": [
    {
     "data": {
      "text/plain": [
       "<dataset.dataset.Dataset at 0x122e11710>"
      ]
     },
     "execution_count": 230,
     "metadata": {},
     "output_type": "execute_result"
    }
   ],
   "source": [
    "turnover.fix_skewness()\n",
    "turnover.scale(method='MinMaxScaler')"
   ]
  },
  {
   "cell_type": "markdown",
   "metadata": {},
   "source": [
    "## 3) FEATURE ENGINEERING"
   ]
  },
  {
   "cell_type": "markdown",
   "metadata": {},
   "source": [
    "## A. Outliers"
   ]
  },
  {
   "cell_type": "code",
   "execution_count": 231,
   "metadata": {},
   "outputs": [
    {
     "data": {
      "text/plain": [
       "array([   18,    54,    82,    86,   105,   168,   171,   196,   239,\n",
       "         287,   307,   354,   397,   441,   476,   479,   584,   632,\n",
       "         664,   751,   765,   797,   849,   897,   916,  1031,  1138,\n",
       "        1358,  1417,  1481,  1502,  1514,  1573,  1578,  1667,  1721,\n",
       "        1775,  1957,  1992,  2006,  2011,  2031,  2043,  2088,  2091,\n",
       "        2125,  2137,  2154,  2180,  2187,  2188,  2214,  2250,  2289,\n",
       "        2296,  2299,  2327,  2330,  2346,  2352,  2376,  2404,  2410,\n",
       "        2420,  2426,  2452,  2475,  2498,  2539,  2550,  2591,  2622,\n",
       "        2723,  2769,  2788,  2801,  2812,  2819,  2846,  2868,  2929,\n",
       "        2932,  2941,  2983,  3027,  3071,  3098,  3099,  3106,  3124,\n",
       "        3138,  3245,  3320,  3365,  3434,  3544,  3560,  3597,  3598,\n",
       "        3632,  3673,  3732,  3737,  3786,  3822,  3843,  3874,  3883,\n",
       "        3915,  3921,  3943,  4000,  4015,  4062,  4068,  4073,  4094,\n",
       "        4169,  4187,  4212,  4215,  4240,  4263,  4323,  4352,  4382,\n",
       "        4392,  4431,  4444,  4453,  4455,  4460,  4473,  4489,  4491,\n",
       "        4499,  4501,  4506,  4507,  4508,  4510,  4525,  4536,  4537,\n",
       "        4538,  4539,  4540,  4541,  4542,  4543,  4544,  4545,  4546,\n",
       "        4547,  4548,  4549,  4550,  4551,  4552,  4553,  4554,  4555,\n",
       "        4556,  4557,  4558,  4612,  4621,  4623,  4647,  4691,  4717,\n",
       "        4727,  4728,  4729,  4730,  4734,  4735,  4736,  4739,  4774,\n",
       "        4783,  4799,  4801,  4803,  4812,  4822,  4830,  4870,  4879,\n",
       "        4892,  4930,  4942,  4950,  4982,  4983,  5000,  5005,  5031,\n",
       "        5034,  5035,  5036,  5038,  5039,  5040,  5066,  5072,  5074,\n",
       "        5082,  5115,  5116,  5179,  5180,  5245,  5270,  5292,  5307,\n",
       "        5322,  5333,  5335,  5356,  5384,  5411,  5425,  5502,  5518,\n",
       "        5519,  5520,  5521,  5522,  5523,  5525,  5526,  5527,  5528,\n",
       "        5529,  5530,  5531,  5532,  5540,  5553,  5557,  5559,  5573,\n",
       "        5635,  5637,  5638,  5784,  5788,  5805,  5815,  5840,  5908,\n",
       "        5910,  5919,  5941,  5944,  6018,  6049,  6055,  6056,  6086,\n",
       "        6111,  6155,  6180,  6216,  6243,  6260,  6267,  6286,  6290,\n",
       "        6291,  6301,  6322,  6329,  6365,  6367,  6372,  6416,  6443,\n",
       "        6497,  6500,  6515,  6517,  6556,  6572,  6620,  6641,  6668,\n",
       "        6691,  6719,  6724,  6726,  6728,  6779,  6811,  6826,  6854,\n",
       "        6857,  6870,  6880,  6884,  6898,  6925,  7006,  7008,  7016,\n",
       "        7119,  7132,  7135,  7136,  7160,  7205,  7227,  7260,  7288,\n",
       "        7313,  7318,  7323,  7371,  7376,  7405,  7430,  7431,  7466,\n",
       "        7492,  7496,  7539,  7555,  7560,  7590,  7625,  7665,  7691,\n",
       "        7727,  7745,  7802,  7805,  7831,  7848,  7868,  7905,  7952,\n",
       "        8002,  8010,  8022,  8024,  8043,  8062,  8084,  8099,  8153,\n",
       "        8157,  8161,  8177,  8257,  8270,  8278,  8283,  8294,  8301,\n",
       "        8306,  8309,  8335,  8352,  8354,  8379,  8416,  8427,  8435,\n",
       "        8438,  8492,  8499,  8553,  8585,  8593,  8605,  8622,  8654,\n",
       "        8675,  8680,  8691,  8741,  8750,  8812,  8826,  8833,  8846,\n",
       "        8867,  8882,  8887,  9012,  9037,  9039,  9059,  9066,  9069,\n",
       "        9131,  9148,  9157,  9166,  9171,  9197,  9219,  9220,  9244,\n",
       "        9281,  9292,  9301,  9304,  9387,  9388,  9444,  9460,  9478,\n",
       "        9481,  9487,  9492,  9497,  9512,  9515,  9568,  9580,  9583,\n",
       "        9589,  9612,  9652,  9657,  9662,  9682,  9684,  9729,  9762,\n",
       "        9763,  9796,  9803,  9821,  9839,  9878,  9881,  9946,  9971,\n",
       "        9985,  9991, 10099, 10100, 10122, 10146, 10181, 10197, 10199,\n",
       "       10258, 10292, 10318, 10335, 10358, 10360, 10371, 10409, 10430,\n",
       "       10438, 10463, 10469, 10501, 10507, 10524, 10541, 10596, 10625,\n",
       "       10750, 10777, 10779, 10792, 10805, 10817, 10828, 10846, 10888,\n",
       "       10893, 10908, 10974, 11000, 11002, 11010, 11107, 11110, 11153,\n",
       "       11179, 11180, 11181, 11183, 11199, 11213, 11214, 11215, 11216,\n",
       "       11217, 11220, 11226, 11232, 11254, 11275, 11276, 11279, 11282,\n",
       "       11299, 11300, 11309, 11325, 11363, 11387, 11400, 11401, 11402,\n",
       "       11446, 11458, 11459, 11461, 11462, 11463, 11464, 11465, 11466,\n",
       "       11467, 11477, 11490, 11492, 11500, 11514, 11565, 11569, 11572,\n",
       "       11579, 11691, 11705, 11725, 11729, 11731, 11743, 11777, 11781,\n",
       "       11796, 11797, 11821, 11838, 11877, 11882, 11895, 11911, 11923,\n",
       "       11945, 11958, 11959, 11962, 11970, 11998, 12018, 12054, 12082,\n",
       "       12086, 12105, 12168, 12171, 12196, 12239, 12287, 12307, 12354,\n",
       "       12397, 12441, 12476, 12479, 12584, 12632, 12664, 12751, 12765,\n",
       "       12807, 12836, 12961, 12988, 12990, 13003, 13016, 13028, 13039,\n",
       "       13057, 13099, 13104, 13119, 13185, 13211, 13213, 13221, 13318,\n",
       "       13321, 13364, 13390, 13391, 13392, 13394, 13410, 13424, 13425,\n",
       "       13426, 13427, 13428, 13431, 13437, 13443, 13465, 13486, 13487,\n",
       "       13490, 13493, 13510, 13511, 13520, 13536, 13574, 13598, 13611,\n",
       "       13612, 13613, 13657, 13669, 13670, 13672, 13673, 13674, 13675,\n",
       "       13676, 13677, 13678, 13688, 13701, 13703, 13711, 13725, 13776,\n",
       "       13780, 13783, 13790, 13902, 13916, 13936, 13940, 13942, 13954,\n",
       "       13988, 13992, 14007, 14008, 14032, 14049, 14088, 14093, 14106,\n",
       "       14122, 14134, 14156, 14169, 14170, 14173, 14181, 14209, 14229,\n",
       "       14265, 14293, 14297, 14316, 14379, 14382, 14407, 14450, 14498,\n",
       "       14518, 14565, 14608, 14652, 14687, 14690, 14795, 14843, 14993])"
      ]
     },
     "execution_count": 231,
     "metadata": {},
     "output_type": "execute_result"
    }
   ],
   "source": [
    "#Identifying indeces that may contain outliers\n",
    "\n",
    "turnover.outliers()"
   ]
  },
  {
   "cell_type": "code",
   "execution_count": 232,
   "metadata": {},
   "outputs": [
    {
     "data": {
      "text/plain": [
       "<dataset.dataset.Dataset at 0x122e11710>"
      ]
     },
     "execution_count": 232,
     "metadata": {},
     "output_type": "execute_result"
    }
   ],
   "source": [
    "#Dropping outliers\n",
    "\n",
    "turnover.drop_samples(turnover.outliers())"
   ]
  },
  {
   "cell_type": "markdown",
   "metadata": {},
   "source": [
    "## B. Feature Importance One-Hot Encoding"
   ]
  },
  {
   "cell_type": "code",
   "execution_count": 233,
   "metadata": {},
   "outputs": [
    {
     "name": "stdout",
     "output_type": "stream",
     "text": [
      "Overall feature importance:\n"
     ]
    },
    {
     "data": {
      "text/plain": [
       "{'Work_accident': 0.029294446384910414,\n",
       " 'average_montly_hours': 0.07452175317066259,\n",
       " 'last_evaluation': 0.06094791467436458,\n",
       " 'number_project': 0.2926336011177127,\n",
       " 'promotion_last_5years': -0.00092560251484457,\n",
       " 'salary_high': 0.04305623471882601,\n",
       " 'salary_low': 0.12245546629409639,\n",
       " 'salary_medium': 0.10449877750611125,\n",
       " 'sales_IT': 0.02209919664687323,\n",
       " 'sales_RandD': 0.012850157177785681,\n",
       " 'sales_accounting': 0.013793223891023535,\n",
       " 'sales_hr': 0.02859238560950039,\n",
       " 'sales_management': 0.005934334614041223,\n",
       " 'sales_marketing': 0.008470136220747423,\n",
       " 'sales_product_mng': 0.007300034928396765,\n",
       " 'sales_sales': 0.07346489696122899,\n",
       " 'sales_support': 0.05974851554313592,\n",
       " 'sales_technical': 0.09070206077540884,\n",
       " 'satisfaction_level': 0.08114290616461625,\n",
       " 'time_spend_company': 0.34323087670275954}"
      ]
     },
     "execution_count": 233,
     "metadata": {},
     "output_type": "execute_result"
    }
   ],
   "source": [
    "#After we preformed an One-Hot encoding we will now analyse the feature importance\n",
    "\n",
    "print (\"Overall feature importance:\")\n",
    "turnover.features_importance()"
   ]
  },
  {
   "cell_type": "code",
   "execution_count": 234,
   "metadata": {},
   "outputs": [
    {
     "name": "stdout",
     "output_type": "stream",
     "text": [
      "Graphical plot of feature importance:\n"
     ]
    },
    {
     "data": {
      "image/png": "[encoded data removed]",
      "text/plain": [
       "<Figure size 576x576 with 1 Axes>"
      ]
     },
     "metadata": {},
     "output_type": "display_data"
    }
   ],
   "source": [
    "print (\"Graphical plot of feature importance:\")\n",
    "turnover.plot_importance()"
   ]
  },
  {
   "cell_type": "markdown",
   "metadata": {},
   "source": [
    "## C. Drop Not Relevant Features"
   ]
  },
  {
   "cell_type": "code",
   "execution_count": 235,
   "metadata": {},
   "outputs": [
    {
     "data": {
      "text/plain": [
       "<dataset.dataset.Dataset at 0x122e11710>"
      ]
     },
     "execution_count": 235,
     "metadata": {},
     "output_type": "execute_result"
    }
   ],
   "source": [
    "#In this first try we will remove/drop all variables related to sales & salary because they don't demonstrate high importance to the model\n",
    "\n",
    "turnover.drop_columns('sales_IT')\n",
    "turnover.drop_columns('sales_RandD')\n",
    "turnover.drop_columns('sales_accounting')\n",
    "turnover.drop_columns('sales_hr')\n",
    "turnover.drop_columns('sales_management')\n",
    "turnover.drop_columns('sales_marketing')\n",
    "turnover.drop_columns('sales_product_mng')\n",
    "turnover.drop_columns('sales_sales')\n",
    "turnover.drop_columns('sales_support')\n",
    "turnover.drop_columns('sales_technical')\n",
    "turnover.drop_columns('salary_high')\n",
    "turnover.drop_columns('salary_low')\n",
    "turnover.drop_columns('salary_medium')"
   ]
  },
  {
   "cell_type": "code",
   "execution_count": 236,
   "metadata": {},
   "outputs": [
    {
     "name": "stdout",
     "output_type": "stream",
     "text": [
      "Features Summary (all):\n",
      "'Work_accident'        : float64    Min.(0.0) 1stQ(0.0) Med.(0.0) Mean(0.14) 3rdQ(0.0) Max.(1.0)\n",
      "'average_montly_hours' : float64    Min.(0.0) 1stQ(0.32) Med.(0.53) Mean(0.53) 3rdQ(0.73) Max.(1.0)\n",
      "'last_evaluation'      : float64    Min.(0.0) 1stQ(0.31) Med.(0.58) Mean(0.56) 3rdQ(0.79) Max.(1.0)\n",
      "'number_project'       : float64    Min.(0.0) 1stQ(0.26) Med.(0.48) Mean(0.42) 3rdQ(0.67) Max.(1.0)\n",
      "'promotion_last_5years': float64    Min.(0.0) 1stQ(0.0) Med.(0.0) Mean(0.01) 3rdQ(0.0) Max.(0.99)\n",
      "'satisfaction_level'   : float64    Min.(0.0) 1stQ(0.30) Med.(0.52) Mean(0.51) 3rdQ(0.73) Max.(0.99)\n",
      "'time_spend_company'   : float64    Min.(0.0) 1stQ(0.34) Med.(0.34) Mean(0.38) 3rdQ(0.55) Max.(1.0)\n",
      "'left'                 : float64    Min.(0.0) 1stQ(0.0) Med.(0.0) Mean(0.24) 3rdQ(0.0) Max.(1.0)\n"
     ]
    }
   ],
   "source": [
    "#Check if the variables were removed\n",
    "turnover.summary()"
   ]
  },
  {
   "cell_type": "markdown",
   "metadata": {},
   "source": [
    "## D. Dataset Splitting"
   ]
  },
  {
   "cell_type": "code",
   "execution_count": 237,
   "metadata": {},
   "outputs": [
    {
     "data": {
      "text/html": [
       "<div>\n",
       "<style scoped>\n",
       "    .dataframe tbody tr th:only-of-type {\n",
       "        vertical-align: middle;\n",
       "    }\n",
       "\n",
       "    .dataframe tbody tr th {\n",
       "        vertical-align: top;\n",
       "    }\n",
       "\n",
       "    .dataframe thead th {\n",
       "        text-align: right;\n",
       "    }\n",
       "</style>\n",
       "<table border=\"1\" class=\"dataframe\">\n",
       "  <thead>\n",
       "    <tr style=\"text-align: right;\">\n",
       "      <th></th>\n",
       "      <th>Work_accident</th>\n",
       "      <th>average_montly_hours</th>\n",
       "      <th>last_evaluation</th>\n",
       "      <th>number_project</th>\n",
       "      <th>promotion_last_5years</th>\n",
       "      <th>satisfaction_level</th>\n",
       "      <th>time_spend_company</th>\n",
       "    </tr>\n",
       "  </thead>\n",
       "  <tbody>\n",
       "    <tr>\n",
       "      <th>129</th>\n",
       "      <td>0.0</td>\n",
       "      <td>0.200511</td>\n",
       "      <td>0.221972</td>\n",
       "      <td>0.000000</td>\n",
       "      <td>0.0</td>\n",
       "      <td>0.215786</td>\n",
       "      <td>0.347557</td>\n",
       "    </tr>\n",
       "    <tr>\n",
       "      <th>4119</th>\n",
       "      <td>1.0</td>\n",
       "      <td>0.231996</td>\n",
       "      <td>0.206184</td>\n",
       "      <td>0.264433</td>\n",
       "      <td>0.0</td>\n",
       "      <td>0.658668</td>\n",
       "      <td>0.000000</td>\n",
       "    </tr>\n",
       "    <tr>\n",
       "      <th>1071</th>\n",
       "      <td>0.0</td>\n",
       "      <td>0.211059</td>\n",
       "      <td>0.190386</td>\n",
       "      <td>0.000000</td>\n",
       "      <td>0.0</td>\n",
       "      <td>0.234352</td>\n",
       "      <td>0.347557</td>\n",
       "    </tr>\n",
       "    <tr>\n",
       "      <th>10869</th>\n",
       "      <td>1.0</td>\n",
       "      <td>0.231996</td>\n",
       "      <td>0.269277</td>\n",
       "      <td>0.264433</td>\n",
       "      <td>0.0</td>\n",
       "      <td>0.557766</td>\n",
       "      <td>0.000000</td>\n",
       "    </tr>\n",
       "    <tr>\n",
       "      <th>2131</th>\n",
       "      <td>0.0</td>\n",
       "      <td>0.069307</td>\n",
       "      <td>0.174578</td>\n",
       "      <td>0.485294</td>\n",
       "      <td>0.0</td>\n",
       "      <td>0.836269</td>\n",
       "      <td>0.347557</td>\n",
       "    </tr>\n",
       "  </tbody>\n",
       "</table>\n",
       "</div>"
      ],
      "text/plain": [
       "       Work_accident  average_montly_hours  last_evaluation  number_project  \\\n",
       "129              0.0              0.200511         0.221972        0.000000   \n",
       "4119             1.0              0.231996         0.206184        0.264433   \n",
       "1071             0.0              0.211059         0.190386        0.000000   \n",
       "10869            1.0              0.231996         0.269277        0.264433   \n",
       "2131             0.0              0.069307         0.174578        0.485294   \n",
       "\n",
       "       promotion_last_5years  satisfaction_level  time_spend_company  \n",
       "129                      0.0            0.215786            0.347557  \n",
       "4119                     0.0            0.658668            0.000000  \n",
       "1071                     0.0            0.234352            0.347557  \n",
       "10869                    0.0            0.557766            0.000000  \n",
       "2131                     0.0            0.836269            0.347557  "
      ]
     },
     "execution_count": 237,
     "metadata": {},
     "output_type": "execute_result"
    }
   ],
   "source": [
    "#Dataset Split: **Creating the test set**\n",
    "X, y = turnover.split(test_size= 0.2)\n",
    "\n",
    "#Or\n",
    "\n",
    "X, y = turnover.split(seed=1)\n",
    "\n",
    "X.train.head(5)"
   ]
  },
  {
   "cell_type": "markdown",
   "metadata": {},
   "source": [
    "## E. Cross-Validation"
   ]
  },
  {
   "cell_type": "code",
   "execution_count": 238,
   "metadata": {},
   "outputs": [
    {
     "name": "stdout",
     "output_type": "stream",
     "text": [
      "F1: 0.5303678357570574\n"
     ]
    }
   ],
   "source": [
    "from sklearn.linear_model import LogisticRegression\n",
    "from sklearn.model_selection import cross_val_score, StratifiedKFold\n",
    "from sklearn.metrics import accuracy_score, f1_score, recall_score, matthews_corrcoef\n",
    "\n",
    "\n",
    "clf_baseline = LogisticRegression().fit(X.train, y.train)\n",
    "pred_baseline = clf_baseline.predict(X.test)\n",
    "\n",
    "\n",
    "print('F1:', f1_score(y.test, pred_baseline))"
   ]
  },
  {
   "cell_type": "markdown",
   "metadata": {},
   "source": [
    "## F. Check Results: Weighted F1"
   ]
  },
  {
   "cell_type": "code",
   "execution_count": 239,
   "metadata": {},
   "outputs": [
    {
     "name": "stdout",
     "output_type": "stream",
     "text": [
      "F1: 0.5303678357570574\n",
      "              precision    recall  f1-score   support\n",
      "\n",
      "         0.0       0.84      0.92      0.88      2177\n",
      "         1.0       0.64      0.45      0.53       686\n",
      "\n",
      "    accuracy                           0.81      2863\n",
      "   macro avg       0.74      0.69      0.70      2863\n",
      "weighted avg       0.79      0.81      0.80      2863\n",
      "\n"
     ]
    }
   ],
   "source": [
    "from sklearn.metrics import accuracy_score, f1_score, recall_score, matthews_corrcoef, classification_report\n",
    "\n",
    "\n",
    "clf_baseline = LogisticRegression().fit(X.train, y.train)\n",
    "pred_baseline = clf_baseline.predict(X.test)\n",
    "\n",
    "\n",
    "print('F1:', f1_score(y.test, pred_baseline,))\n",
    "print(classification_report(y.test,pred_baseline))"
   ]
  },
  {
   "cell_type": "markdown",
   "metadata": {},
   "source": [
    "## 4th ATTEMPT\n"
   ]
  },
  {
   "cell_type": "markdown",
   "metadata": {},
   "source": [
    "As seen, from the second to the third attempt we just decided to remove the salary variables but as seen from our F1 score, the score actually went down. So therefore we will just remove the sales variables, remove outliers and preform some discritization to see if we can improve the results. But so far as seen from  our results, our highest score was on the second attempt."
   ]
  },
  {
   "cell_type": "markdown",
   "metadata": {},
   "source": [
    "## 1) DATA LOADING & IMPORTING LIBRARIES"
   ]
  },
  {
   "cell_type": "code",
   "execution_count": 40,
   "metadata": {},
   "outputs": [],
   "source": [
    "from dataset import Dataset\n",
    "import numpy as np\n",
    "import matplotlib.pyplot as plt\n",
    "\n",
    "from sklearn.linear_model import LogisticRegression\n",
    "from sklearn.metrics import accuracy_score, f1_score, recall_score, matthews_corrcoef\n",
    "\n",
    "turnover = Dataset('/Users/kuka/Downloads/turnover.csv', delimiter=',', header=0)"
   ]
  },
  {
   "cell_type": "markdown",
   "metadata": {},
   "source": [
    "## A. Data Description"
   ]
  },
  {
   "cell_type": "code",
   "execution_count": 41,
   "metadata": {},
   "outputs": [
    {
     "name": "stdout",
     "output_type": "stream",
     "text": [
      "10 Features. 14999 Samples\n",
      "Available types: [dtype('float64') dtype('O')]\n",
      "  · 2 categorical features\n",
      "  · 8 numerical features\n",
      "  · 0 categorical features with NAs\n",
      "  · 0 numerical features with NAs\n",
      "  · 10 Complete features\n",
      "--\n",
      "Target: Not set\n"
     ]
    }
   ],
   "source": [
    "turnover.describe()"
   ]
  },
  {
   "cell_type": "markdown",
   "metadata": {},
   "source": [
    "## 2) DATA PREPARATION & TRANSFORMATION"
   ]
  },
  {
   "cell_type": "markdown",
   "metadata": {},
   "source": [
    "## A. Setting Target Variable"
   ]
  },
  {
   "cell_type": "code",
   "execution_count": 42,
   "metadata": {},
   "outputs": [
    {
     "name": "stdout",
     "output_type": "stream",
     "text": [
      "Setting target variable: left\n",
      "First 5 rows of dataset without left\n"
     ]
    },
    {
     "data": {
      "text/html": [
       "<div>\n",
       "<style scoped>\n",
       "    .dataframe tbody tr th:only-of-type {\n",
       "        vertical-align: middle;\n",
       "    }\n",
       "\n",
       "    .dataframe tbody tr th {\n",
       "        vertical-align: top;\n",
       "    }\n",
       "\n",
       "    .dataframe thead th {\n",
       "        text-align: right;\n",
       "    }\n",
       "</style>\n",
       "<table border=\"1\" class=\"dataframe\">\n",
       "  <thead>\n",
       "    <tr style=\"text-align: right;\">\n",
       "      <th></th>\n",
       "      <th>satisfaction_level</th>\n",
       "      <th>last_evaluation</th>\n",
       "      <th>number_project</th>\n",
       "      <th>average_montly_hours</th>\n",
       "      <th>time_spend_company</th>\n",
       "      <th>Work_accident</th>\n",
       "      <th>promotion_last_5years</th>\n",
       "      <th>sales</th>\n",
       "      <th>salary</th>\n",
       "    </tr>\n",
       "  </thead>\n",
       "  <tbody>\n",
       "    <tr>\n",
       "      <th>0</th>\n",
       "      <td>0.38</td>\n",
       "      <td>0.53</td>\n",
       "      <td>2.0</td>\n",
       "      <td>157.0</td>\n",
       "      <td>3.0</td>\n",
       "      <td>0.0</td>\n",
       "      <td>0.0</td>\n",
       "      <td>sales</td>\n",
       "      <td>low</td>\n",
       "    </tr>\n",
       "    <tr>\n",
       "      <th>1</th>\n",
       "      <td>0.80</td>\n",
       "      <td>0.86</td>\n",
       "      <td>5.0</td>\n",
       "      <td>262.0</td>\n",
       "      <td>6.0</td>\n",
       "      <td>0.0</td>\n",
       "      <td>0.0</td>\n",
       "      <td>sales</td>\n",
       "      <td>medium</td>\n",
       "    </tr>\n",
       "    <tr>\n",
       "      <th>2</th>\n",
       "      <td>0.11</td>\n",
       "      <td>0.88</td>\n",
       "      <td>7.0</td>\n",
       "      <td>272.0</td>\n",
       "      <td>4.0</td>\n",
       "      <td>0.0</td>\n",
       "      <td>0.0</td>\n",
       "      <td>sales</td>\n",
       "      <td>medium</td>\n",
       "    </tr>\n",
       "    <tr>\n",
       "      <th>3</th>\n",
       "      <td>0.72</td>\n",
       "      <td>0.87</td>\n",
       "      <td>5.0</td>\n",
       "      <td>223.0</td>\n",
       "      <td>5.0</td>\n",
       "      <td>0.0</td>\n",
       "      <td>0.0</td>\n",
       "      <td>sales</td>\n",
       "      <td>low</td>\n",
       "    </tr>\n",
       "    <tr>\n",
       "      <th>4</th>\n",
       "      <td>0.37</td>\n",
       "      <td>0.52</td>\n",
       "      <td>2.0</td>\n",
       "      <td>159.0</td>\n",
       "      <td>3.0</td>\n",
       "      <td>0.0</td>\n",
       "      <td>0.0</td>\n",
       "      <td>sales</td>\n",
       "      <td>low</td>\n",
       "    </tr>\n",
       "  </tbody>\n",
       "</table>\n",
       "</div>"
      ],
      "text/plain": [
       "   satisfaction_level  last_evaluation  number_project  average_montly_hours  \\\n",
       "0                0.38             0.53             2.0                 157.0   \n",
       "1                0.80             0.86             5.0                 262.0   \n",
       "2                0.11             0.88             7.0                 272.0   \n",
       "3                0.72             0.87             5.0                 223.0   \n",
       "4                0.37             0.52             2.0                 159.0   \n",
       "\n",
       "   time_spend_company  Work_accident  promotion_last_5years  sales  salary  \n",
       "0                 3.0            0.0                    0.0  sales     low  \n",
       "1                 6.0            0.0                    0.0  sales  medium  \n",
       "2                 4.0            0.0                    0.0  sales  medium  \n",
       "3                 5.0            0.0                    0.0  sales     low  \n",
       "4                 3.0            0.0                    0.0  sales     low  "
      ]
     },
     "execution_count": 42,
     "metadata": {},
     "output_type": "execute_result"
    }
   ],
   "source": [
    "#Setting the target variable of staff/employee attrition, in other words, employees who have left\n",
    "print (\"Setting target variable: left\")\n",
    "turnover.set_target(\"left\")\n",
    "\n",
    "#Reviewing the first 5 rows, but this time with our target variable \"left\" gone\n",
    "print (\"First 5 rows of dataset without left\")\n",
    "turnover.features.head(5)"
   ]
  },
  {
   "cell_type": "markdown",
   "metadata": {},
   "source": [
    "## B. Discretization\n"
   ]
  },
  {
   "cell_type": "code",
   "execution_count": 43,
   "metadata": {},
   "outputs": [
    {
     "name": "stdout",
     "output_type": "stream",
     "text": [
      "Features Summary (all):\n",
      "'satisfaction_level'   : float64    Min.(0.09) 1stQ(0.44) Med.(0.64) Mean(0.61) 3rdQ(0.82) Max.(1.0)\n",
      "'last_evaluation'      : float64    Min.(0.36) 1stQ(0.56) Med.(0.72) Mean(0.71) 3rdQ(0.87) Max.(1.0)\n",
      "'number_project'       : category   3 categs. 'nan'(4055, 0.5734) 'a couple'(2761, 0.3904) 'many'(256, 0.0362) \n",
      "'average_montly_hours' : float64    Min.(96.0) 1stQ(156.) Med.(200.) Mean(201.) 3rdQ(245.) Max.(310.)\n",
      "'time_spend_company'   : float64    Min.(2.0) 1stQ(3.0) Med.(3.0) Mean(3.49) 3rdQ(4.0) Max.(10.0)\n",
      "'Work_accident'        : float64    Min.(0.0) 1stQ(0.0) Med.(0.0) Mean(0.14) 3rdQ(0.0) Max.(1.0)\n",
      "'promotion_last_5years': float64    Min.(0.0) 1stQ(0.0) Med.(0.0) Mean(0.02) 3rdQ(0.0) Max.(1.0)\n",
      "'sales'                : object     10 categs. 'sales'(4140, 0.2760) 'accounting'(2720, 0.1813) 'hr'(2229, 0.1486) 'technical'(1227, 0.0818) ...\n",
      "'salary'               : object     3 categs. 'low'(7316, 0.4878) 'medium'(6446, 0.4298) 'high'(1237, 0.0825) \n",
      "'left'                 : float64    Min.(0.0) 1stQ(0.0) Med.(0.0) Mean(0.23) 3rdQ(0.0) Max.(1.0)\n"
     ]
    }
   ],
   "source": [
    "turnover.discretize('number_project', [(2, 3),(4, 5),(6, 7)],\n",
    "                   category_names=['a few', 'a couple', 'many']).summary()"
   ]
  },
  {
   "cell_type": "markdown",
   "metadata": {},
   "source": [
    "## C. One-Hot Encoding"
   ]
  },
  {
   "cell_type": "code",
   "execution_count": 44,
   "metadata": {},
   "outputs": [
    {
     "name": "stdout",
     "output_type": "stream",
     "text": [
      "Features Summary (all):\n",
      "'Work_accident'        : float64    Min.(0.0) 1stQ(0.0) Med.(0.0) Mean(0.14) 3rdQ(0.0) Max.(1.0)\n",
      "'average_montly_hours' : float64    Min.(96.0) 1stQ(156.) Med.(200.) Mean(201.) 3rdQ(245.) Max.(310.)\n",
      "'last_evaluation'      : float64    Min.(0.36) 1stQ(0.56) Med.(0.72) Mean(0.71) 3rdQ(0.87) Max.(1.0)\n",
      "'number_project'       : category   3 categs. 'nan'(4055, 0.5734) 'a couple'(2761, 0.3904) 'many'(256, 0.0362) \n",
      "'promotion_last_5years': float64    Min.(0.0) 1stQ(0.0) Med.(0.0) Mean(0.02) 3rdQ(0.0) Max.(1.0)\n",
      "'salary'               : object     3 categs. 'low'(7316, 0.4878) 'medium'(6446, 0.4298) 'high'(1237, 0.0825) \n",
      "'satisfaction_level'   : float64    Min.(0.09) 1stQ(0.44) Med.(0.64) Mean(0.61) 3rdQ(0.82) Max.(1.0)\n",
      "'time_spend_company'   : float64    Min.(2.0) 1stQ(3.0) Med.(3.0) Mean(3.49) 3rdQ(4.0) Max.(10.0)\n",
      "'sales_IT'             : float64    Min.(0.0) 1stQ(0.0) Med.(0.0) Mean(0.08) 3rdQ(0.0) Max.(1.0)\n",
      "'sales_RandD'          : float64    Min.(0.0) 1stQ(0.0) Med.(0.0) Mean(0.05) 3rdQ(0.0) Max.(1.0)\n",
      "'sales_accounting'     : float64    Min.(0.0) 1stQ(0.0) Med.(0.0) Mean(0.05) 3rdQ(0.0) Max.(1.0)\n",
      "'sales_hr'             : float64    Min.(0.0) 1stQ(0.0) Med.(0.0) Mean(0.04) 3rdQ(0.0) Max.(1.0)\n",
      "'sales_management'     : float64    Min.(0.0) 1stQ(0.0) Med.(0.0) Mean(0.04) 3rdQ(0.0) Max.(1.0)\n",
      "'sales_marketing'      : float64    Min.(0.0) 1stQ(0.0) Med.(0.0) Mean(0.05) 3rdQ(0.0) Max.(1.0)\n",
      "'sales_product_mng'    : float64    Min.(0.0) 1stQ(0.0) Med.(0.0) Mean(0.06) 3rdQ(0.0) Max.(1.0)\n",
      "'sales_sales'          : float64    Min.(0.0) 1stQ(0.0) Med.(0.0) Mean(0.27) 3rdQ(1.0) Max.(1.0)\n",
      "'sales_support'        : float64    Min.(0.0) 1stQ(0.0) Med.(0.0) Mean(0.14) 3rdQ(0.0) Max.(1.0)\n",
      "'sales_technical'      : float64    Min.(0.0) 1stQ(0.0) Med.(0.0) Mean(0.18) 3rdQ(0.0) Max.(1.0)\n",
      "'left'                 : float64    Min.(0.0) 1stQ(0.0) Med.(0.0) Mean(0.23) 3rdQ(0.0) Max.(1.0)\n"
     ]
    }
   ],
   "source": [
    "#Tranforming the sales variable into dummyfied versions, which will produce more variable\n",
    "turnover1 = turnover.onehot_encode(\"sales\").summary()"
   ]
  },
  {
   "cell_type": "code",
   "execution_count": 45,
   "metadata": {},
   "outputs": [
    {
     "name": "stdout",
     "output_type": "stream",
     "text": [
      "Features Summary (all):\n",
      "'Work_accident'        : float64    Min.(0.0) 1stQ(0.0) Med.(0.0) Mean(0.14) 3rdQ(0.0) Max.(1.0)\n",
      "'average_montly_hours' : float64    Min.(96.0) 1stQ(156.) Med.(200.) Mean(201.) 3rdQ(245.) Max.(310.)\n",
      "'last_evaluation'      : float64    Min.(0.36) 1stQ(0.56) Med.(0.72) Mean(0.71) 3rdQ(0.87) Max.(1.0)\n",
      "'number_project'       : category   3 categs. 'nan'(4055, 0.5734) 'a couple'(2761, 0.3904) 'many'(256, 0.0362) \n",
      "'promotion_last_5years': float64    Min.(0.0) 1stQ(0.0) Med.(0.0) Mean(0.02) 3rdQ(0.0) Max.(1.0)\n",
      "'sales_IT'             : float64    Min.(0.0) 1stQ(0.0) Med.(0.0) Mean(0.08) 3rdQ(0.0) Max.(1.0)\n",
      "'sales_RandD'          : float64    Min.(0.0) 1stQ(0.0) Med.(0.0) Mean(0.05) 3rdQ(0.0) Max.(1.0)\n",
      "'sales_accounting'     : float64    Min.(0.0) 1stQ(0.0) Med.(0.0) Mean(0.05) 3rdQ(0.0) Max.(1.0)\n",
      "'sales_hr'             : float64    Min.(0.0) 1stQ(0.0) Med.(0.0) Mean(0.04) 3rdQ(0.0) Max.(1.0)\n",
      "'sales_management'     : float64    Min.(0.0) 1stQ(0.0) Med.(0.0) Mean(0.04) 3rdQ(0.0) Max.(1.0)\n",
      "'sales_marketing'      : float64    Min.(0.0) 1stQ(0.0) Med.(0.0) Mean(0.05) 3rdQ(0.0) Max.(1.0)\n",
      "'sales_product_mng'    : float64    Min.(0.0) 1stQ(0.0) Med.(0.0) Mean(0.06) 3rdQ(0.0) Max.(1.0)\n",
      "'sales_sales'          : float64    Min.(0.0) 1stQ(0.0) Med.(0.0) Mean(0.27) 3rdQ(1.0) Max.(1.0)\n",
      "'sales_support'        : float64    Min.(0.0) 1stQ(0.0) Med.(0.0) Mean(0.14) 3rdQ(0.0) Max.(1.0)\n",
      "'sales_technical'      : float64    Min.(0.0) 1stQ(0.0) Med.(0.0) Mean(0.18) 3rdQ(0.0) Max.(1.0)\n",
      "'satisfaction_level'   : float64    Min.(0.09) 1stQ(0.44) Med.(0.64) Mean(0.61) 3rdQ(0.82) Max.(1.0)\n",
      "'time_spend_company'   : float64    Min.(2.0) 1stQ(3.0) Med.(3.0) Mean(3.49) 3rdQ(4.0) Max.(10.0)\n",
      "'salary_high'          : float64    Min.(0.0) 1stQ(0.0) Med.(0.0) Mean(0.08) 3rdQ(0.0) Max.(1.0)\n",
      "'salary_low'           : float64    Min.(0.0) 1stQ(0.0) Med.(0.0) Mean(0.48) 3rdQ(1.0) Max.(1.0)\n",
      "'salary_medium'        : float64    Min.(0.0) 1stQ(0.0) Med.(0.0) Mean(0.42) 3rdQ(1.0) Max.(1.0)\n",
      "'left'                 : float64    Min.(0.0) 1stQ(0.0) Med.(0.0) Mean(0.23) 3rdQ(0.0) Max.(1.0)\n"
     ]
    }
   ],
   "source": [
    "#Tranforming the salary variable into dummyfied versions, which will produce more variable\n",
    "turnover_final = turnover.onehot_encode(\"salary\").summary()"
   ]
  },
  {
   "cell_type": "code",
   "execution_count": 46,
   "metadata": {},
   "outputs": [
    {
     "name": "stdout",
     "output_type": "stream",
     "text": [
      "Features Summary (all):\n",
      "'Work_accident'          : float64    Min.(0.0) 1stQ(0.0) Med.(0.0) Mean(0.14) 3rdQ(0.0) Max.(1.0)\n",
      "'average_montly_hours'   : float64    Min.(96.0) 1stQ(156.) Med.(200.) Mean(201.) 3rdQ(245.) Max.(310.)\n",
      "'last_evaluation'        : float64    Min.(0.36) 1stQ(0.56) Med.(0.72) Mean(0.71) 3rdQ(0.87) Max.(1.0)\n",
      "'promotion_last_5years'  : float64    Min.(0.0) 1stQ(0.0) Med.(0.0) Mean(0.02) 3rdQ(0.0) Max.(1.0)\n",
      "'salary_high'            : float64    Min.(0.0) 1stQ(0.0) Med.(0.0) Mean(0.08) 3rdQ(0.0) Max.(1.0)\n",
      "'salary_low'             : float64    Min.(0.0) 1stQ(0.0) Med.(0.0) Mean(0.48) 3rdQ(1.0) Max.(1.0)\n",
      "'salary_medium'          : float64    Min.(0.0) 1stQ(0.0) Med.(0.0) Mean(0.42) 3rdQ(1.0) Max.(1.0)\n",
      "'sales_IT'               : float64    Min.(0.0) 1stQ(0.0) Med.(0.0) Mean(0.08) 3rdQ(0.0) Max.(1.0)\n",
      "'sales_RandD'            : float64    Min.(0.0) 1stQ(0.0) Med.(0.0) Mean(0.05) 3rdQ(0.0) Max.(1.0)\n",
      "'sales_accounting'       : float64    Min.(0.0) 1stQ(0.0) Med.(0.0) Mean(0.05) 3rdQ(0.0) Max.(1.0)\n",
      "'sales_hr'               : float64    Min.(0.0) 1stQ(0.0) Med.(0.0) Mean(0.04) 3rdQ(0.0) Max.(1.0)\n",
      "'sales_management'       : float64    Min.(0.0) 1stQ(0.0) Med.(0.0) Mean(0.04) 3rdQ(0.0) Max.(1.0)\n",
      "'sales_marketing'        : float64    Min.(0.0) 1stQ(0.0) Med.(0.0) Mean(0.05) 3rdQ(0.0) Max.(1.0)\n",
      "'sales_product_mng'      : float64    Min.(0.0) 1stQ(0.0) Med.(0.0) Mean(0.06) 3rdQ(0.0) Max.(1.0)\n",
      "'sales_sales'            : float64    Min.(0.0) 1stQ(0.0) Med.(0.0) Mean(0.27) 3rdQ(1.0) Max.(1.0)\n",
      "'sales_support'          : float64    Min.(0.0) 1stQ(0.0) Med.(0.0) Mean(0.14) 3rdQ(0.0) Max.(1.0)\n",
      "'sales_technical'        : float64    Min.(0.0) 1stQ(0.0) Med.(0.0) Mean(0.18) 3rdQ(0.0) Max.(1.0)\n",
      "'satisfaction_level'     : float64    Min.(0.09) 1stQ(0.44) Med.(0.64) Mean(0.61) 3rdQ(0.82) Max.(1.0)\n",
      "'time_spend_company'     : float64    Min.(2.0) 1stQ(3.0) Med.(3.0) Mean(3.49) 3rdQ(4.0) Max.(10.0)\n",
      "'number_project_a few'   : float64    Min.(0.0) 1stQ(0.0) Med.(0.0) Mean(0.27) 3rdQ(1.0) Max.(1.0)\n",
      "'number_project_a couple': float64    Min.(0.0) 1stQ(0.0) Med.(0.0) Mean(0.18) 3rdQ(0.0) Max.(1.0)\n",
      "'number_project_many'    : float64    Min.(0.0) 1stQ(0.0) Med.(0.0) Mean(0.01) 3rdQ(0.0) Max.(1.0)\n",
      "'left'                   : float64    Min.(0.0) 1stQ(0.0) Med.(0.0) Mean(0.23) 3rdQ(0.0) Max.(1.0)\n"
     ]
    }
   ],
   "source": [
    "#Tranforming the salary variable into dummyfied versions, which will produce more variable\n",
    "turnover_final = turnover.onehot_encode(\"number_project\").summary()"
   ]
  },
  {
   "cell_type": "markdown",
   "metadata": {},
   "source": [
    "## D. Fixing Scale & Skewness\n"
   ]
  },
  {
   "cell_type": "code",
   "execution_count": 47,
   "metadata": {},
   "outputs": [
    {
     "data": {
      "text/plain": [
       "<dataset.dataset.Dataset at 0x11c8f2da0>"
      ]
     },
     "execution_count": 47,
     "metadata": {},
     "output_type": "execute_result"
    }
   ],
   "source": [
    "turnover.fix_skewness()\n",
    "turnover.scale(method='MinMaxScaler')"
   ]
  },
  {
   "cell_type": "markdown",
   "metadata": {},
   "source": [
    "## 3) FEATURE ENGINEERING"
   ]
  },
  {
   "cell_type": "markdown",
   "metadata": {},
   "source": [
    "## A. Outliers"
   ]
  },
  {
   "cell_type": "code",
   "execution_count": 48,
   "metadata": {},
   "outputs": [
    {
     "data": {
      "text/plain": [
       "array([   18,    54,    56, ..., 14940, 14949, 14975])"
      ]
     },
     "execution_count": 48,
     "metadata": {},
     "output_type": "execute_result"
    }
   ],
   "source": [
    "#Identifying indeces that may contain outliers\n",
    "\n",
    "turnover.outliers()"
   ]
  },
  {
   "cell_type": "code",
   "execution_count": 49,
   "metadata": {},
   "outputs": [
    {
     "data": {
      "text/plain": [
       "<dataset.dataset.Dataset at 0x11c8f2da0>"
      ]
     },
     "execution_count": 49,
     "metadata": {},
     "output_type": "execute_result"
    }
   ],
   "source": [
    "#Dropping outliers\n",
    "\n",
    "turnover.drop_samples(turnover.outliers())"
   ]
  },
  {
   "cell_type": "markdown",
   "metadata": {},
   "source": [
    "## B. Feature Importance One-Hot Encoding"
   ]
  },
  {
   "cell_type": "code",
   "execution_count": 249,
   "metadata": {},
   "outputs": [
    {
     "name": "stdout",
     "output_type": "stream",
     "text": [
      "Overall feature importance:\n"
     ]
    },
    {
     "data": {
      "text/plain": [
       "{'Work_accident': 0.025893626184324076,\n",
       " 'average_montly_hours': 0.07416812126718833,\n",
       " 'last_evaluation': 0.06447957174057291,\n",
       " 'number_project_a couple': 0.09545291415445915,\n",
       " 'number_project_a few': 0.14970212460522103,\n",
       " 'number_project_many': 0.00933103646281947,\n",
       " 'promotion_last_5years': -0.0011269020958943486,\n",
       " 'salary_high': 0.04126471432672873,\n",
       " 'salary_low': 0.1263242894056771,\n",
       " 'salary_medium': 0.10702339936835374,\n",
       " 'sales_IT': 0.02037037037037052,\n",
       " 'sales_RandD': 0.009682744760264215,\n",
       " 'sales_accounting': 0.008584553545793907,\n",
       " 'sales_hr': 0.02899799023830055,\n",
       " 'sales_management': 0.002788544358311777,\n",
       " 'sales_marketing': 0.0088357737582544,\n",
       " 'sales_product_mng': 0.005914441573356308,\n",
       " 'sales_sales': 0.07161211599195784,\n",
       " 'sales_support': 0.04959445879988305,\n",
       " 'sales_technical': 0.09484639678437445,\n",
       " 'satisfaction_level': 0.08741632614724239,\n",
       " 'time_spend_company': 0.32279643985068385}"
      ]
     },
     "execution_count": 249,
     "metadata": {},
     "output_type": "execute_result"
    }
   ],
   "source": [
    "#After we preformed an One-Hot encoding we will now analyse the feature importance\n",
    "\n",
    "print (\"Overall feature importance:\")\n",
    "turnover.features_importance()"
   ]
  },
  {
   "cell_type": "code",
   "execution_count": 250,
   "metadata": {},
   "outputs": [
    {
     "name": "stdout",
     "output_type": "stream",
     "text": [
      "Graphical plot of feature importance:\n"
     ]
    },
    {
     "data": {
      "image/png": "[encoded data removed]",
      "text/plain": [
       "<Figure size 576x576 with 1 Axes>"
      ]
     },
     "metadata": {},
     "output_type": "display_data"
    }
   ],
   "source": [
    "print (\"Graphical plot of feature importance:\")\n",
    "turnover.plot_importance()"
   ]
  },
  {
   "cell_type": "markdown",
   "metadata": {},
   "source": [
    "## C. Drop Not Relevant Features\n"
   ]
  },
  {
   "cell_type": "code",
   "execution_count": 50,
   "metadata": {},
   "outputs": [
    {
     "data": {
      "text/plain": [
       "<dataset.dataset.Dataset at 0x11c8f2da0>"
      ]
     },
     "execution_count": 50,
     "metadata": {},
     "output_type": "execute_result"
    }
   ],
   "source": [
    "\n",
    "#In this first try we will remove/drop all variables related to sales & salary because they don't demonstrate high importance to the model\n",
    "\n",
    "turnover.drop_columns('sales_IT')\n",
    "turnover.drop_columns('sales_RandD')\n",
    "turnover.drop_columns('sales_accounting')\n",
    "turnover.drop_columns('sales_hr')\n",
    "turnover.drop_columns('sales_management')\n",
    "turnover.drop_columns('sales_marketing')\n",
    "turnover.drop_columns('sales_product_mng')\n",
    "turnover.drop_columns('sales_sales')\n",
    "turnover.drop_columns('sales_support')\n",
    "turnover.drop_columns('sales_technical')\n",
    "turnover.drop_columns('salary_high')\n",
    "turnover.drop_columns('salary_low')\n",
    "turnover.drop_columns('salary_medium')"
   ]
  },
  {
   "cell_type": "code",
   "execution_count": 51,
   "metadata": {},
   "outputs": [
    {
     "name": "stdout",
     "output_type": "stream",
     "text": [
      "Features Summary (all):\n",
      "'Work_accident'          : float64    Min.(0.0) 1stQ(0.0) Med.(0.0) Mean(0.14) 3rdQ(0.0) Max.(1.0)\n",
      "'average_montly_hours'   : float64    Min.(0.0) 1stQ(0.32) Med.(0.54) Mean(0.53) 3rdQ(0.73) Max.(1.0)\n",
      "'last_evaluation'        : float64    Min.(0.0) 1stQ(0.31) Med.(0.58) Mean(0.56) 3rdQ(0.79) Max.(1.0)\n",
      "'promotion_last_5years'  : float64    Min.(0.0) 1stQ(0.0) Med.(0.0) Mean(0.00) 3rdQ(0.0) Max.(0.99)\n",
      "'satisfaction_level'     : float64    Min.(0.0) 1stQ(0.30) Med.(0.53) Mean(0.52) 3rdQ(0.73) Max.(0.99)\n",
      "'time_spend_company'     : float64    Min.(0.0) 1stQ(0.34) Med.(0.34) Mean(0.37) 3rdQ(0.55) Max.(1.0)\n",
      "'number_project_a few'   : float64    Min.(0.0) 1stQ(0.0) Med.(0.0) Mean(0.28) 3rdQ(1.0) Max.(1.0)\n",
      "'number_project_a couple': float64    Min.(0.0) 1stQ(0.0) Med.(0.0) Mean(0.18) 3rdQ(0.0) Max.(1.0)\n",
      "'number_project_many'    : float64    Min.(0.0) 1stQ(0.0) Med.(0.0) Mean(0.00) 3rdQ(0.0) Max.(0.99)\n",
      "'left'                   : float64    Min.(0.0) 1stQ(0.0) Med.(0.0) Mean(0.24) 3rdQ(0.0) Max.(1.0)\n"
     ]
    }
   ],
   "source": [
    "#Check if the variables were removed\n",
    "turnover.summary()"
   ]
  },
  {
   "cell_type": "markdown",
   "metadata": {},
   "source": [
    "## D. Dataset Splitting\n"
   ]
  },
  {
   "cell_type": "code",
   "execution_count": 52,
   "metadata": {},
   "outputs": [
    {
     "data": {
      "text/html": [
       "<div>\n",
       "<style scoped>\n",
       "    .dataframe tbody tr th:only-of-type {\n",
       "        vertical-align: middle;\n",
       "    }\n",
       "\n",
       "    .dataframe tbody tr th {\n",
       "        vertical-align: top;\n",
       "    }\n",
       "\n",
       "    .dataframe thead th {\n",
       "        text-align: right;\n",
       "    }\n",
       "</style>\n",
       "<table border=\"1\" class=\"dataframe\">\n",
       "  <thead>\n",
       "    <tr style=\"text-align: right;\">\n",
       "      <th></th>\n",
       "      <th>Work_accident</th>\n",
       "      <th>average_montly_hours</th>\n",
       "      <th>last_evaluation</th>\n",
       "      <th>promotion_last_5years</th>\n",
       "      <th>satisfaction_level</th>\n",
       "      <th>time_spend_company</th>\n",
       "      <th>number_project_a few</th>\n",
       "      <th>number_project_a couple</th>\n",
       "      <th>number_project_many</th>\n",
       "    </tr>\n",
       "  </thead>\n",
       "  <tbody>\n",
       "    <tr>\n",
       "      <th>8098</th>\n",
       "      <td>1.0</td>\n",
       "      <td>0.556893</td>\n",
       "      <td>0.441994</td>\n",
       "      <td>0.0</td>\n",
       "      <td>0.057300</td>\n",
       "      <td>0.691654</td>\n",
       "      <td>0.0</td>\n",
       "      <td>0.0</td>\n",
       "      <td>0.0</td>\n",
       "    </tr>\n",
       "    <tr>\n",
       "      <th>10283</th>\n",
       "      <td>0.0</td>\n",
       "      <td>0.879532</td>\n",
       "      <td>0.737795</td>\n",
       "      <td>0.0</td>\n",
       "      <td>0.072484</td>\n",
       "      <td>0.554511</td>\n",
       "      <td>0.0</td>\n",
       "      <td>1.0</td>\n",
       "      <td>0.0</td>\n",
       "    </tr>\n",
       "    <tr>\n",
       "      <th>2896</th>\n",
       "      <td>0.0</td>\n",
       "      <td>0.724654</td>\n",
       "      <td>0.253518</td>\n",
       "      <td>0.0</td>\n",
       "      <td>0.418136</td>\n",
       "      <td>0.347557</td>\n",
       "      <td>1.0</td>\n",
       "      <td>0.0</td>\n",
       "      <td>0.0</td>\n",
       "    </tr>\n",
       "    <tr>\n",
       "      <th>4233</th>\n",
       "      <td>0.0</td>\n",
       "      <td>0.668348</td>\n",
       "      <td>0.598060</td>\n",
       "      <td>0.0</td>\n",
       "      <td>0.620089</td>\n",
       "      <td>0.347557</td>\n",
       "      <td>0.0</td>\n",
       "      <td>1.0</td>\n",
       "      <td>0.0</td>\n",
       "    </tr>\n",
       "    <tr>\n",
       "      <th>728</th>\n",
       "      <td>0.0</td>\n",
       "      <td>0.303698</td>\n",
       "      <td>0.221972</td>\n",
       "      <td>0.0</td>\n",
       "      <td>0.234352</td>\n",
       "      <td>0.347557</td>\n",
       "      <td>0.0</td>\n",
       "      <td>0.0</td>\n",
       "      <td>0.0</td>\n",
       "    </tr>\n",
       "  </tbody>\n",
       "</table>\n",
       "</div>"
      ],
      "text/plain": [
       "       Work_accident  average_montly_hours  last_evaluation  \\\n",
       "8098             1.0              0.556893         0.441994   \n",
       "10283            0.0              0.879532         0.737795   \n",
       "2896             0.0              0.724654         0.253518   \n",
       "4233             0.0              0.668348         0.598060   \n",
       "728              0.0              0.303698         0.221972   \n",
       "\n",
       "       promotion_last_5years  satisfaction_level  time_spend_company  \\\n",
       "8098                     0.0            0.057300            0.691654   \n",
       "10283                    0.0            0.072484            0.554511   \n",
       "2896                     0.0            0.418136            0.347557   \n",
       "4233                     0.0            0.620089            0.347557   \n",
       "728                      0.0            0.234352            0.347557   \n",
       "\n",
       "       number_project_a few  number_project_a couple  number_project_many  \n",
       "8098                    0.0                      0.0                  0.0  \n",
       "10283                   0.0                      1.0                  0.0  \n",
       "2896                    1.0                      0.0                  0.0  \n",
       "4233                    0.0                      1.0                  0.0  \n",
       "728                     0.0                      0.0                  0.0  "
      ]
     },
     "execution_count": 52,
     "metadata": {},
     "output_type": "execute_result"
    }
   ],
   "source": [
    "#Dataset Split: **Creating the test set**\n",
    "X, y = turnover.split(test_size= 0.2)\n",
    "\n",
    "#Or\n",
    "\n",
    "X, y = turnover.split(seed=1)\n",
    "\n",
    "X.train.head(5)"
   ]
  },
  {
   "cell_type": "markdown",
   "metadata": {},
   "source": [
    "## E. Cross-Validation"
   ]
  },
  {
   "cell_type": "code",
   "execution_count": 53,
   "metadata": {},
   "outputs": [
    {
     "name": "stdout",
     "output_type": "stream",
     "text": [
      "F1: 0.5950413223140495\n"
     ]
    }
   ],
   "source": [
    "from sklearn.linear_model import LogisticRegression\n",
    "from sklearn.model_selection import cross_val_score, StratifiedKFold\n",
    "from sklearn.metrics import accuracy_score, f1_score, recall_score, matthews_corrcoef\n",
    "\n",
    "\n",
    "clf_baseline = LogisticRegression().fit(X.train, y.train)\n",
    "pred_baseline = clf_baseline.predict(X.test)\n",
    "\n",
    "\n",
    "print('F1:', f1_score(y.test, pred_baseline))"
   ]
  },
  {
   "cell_type": "markdown",
   "metadata": {},
   "source": [
    "## F. Check Results: Weighted F1"
   ]
  },
  {
   "cell_type": "code",
   "execution_count": 54,
   "metadata": {},
   "outputs": [
    {
     "name": "stdout",
     "output_type": "stream",
     "text": [
      "F1: 0.5950413223140495\n",
      "              precision    recall  f1-score   support\n",
      "\n",
      "         0.0       0.86      0.91      0.89      2122\n",
      "         1.0       0.66      0.54      0.60       665\n",
      "\n",
      "    accuracy                           0.82      2787\n",
      "   macro avg       0.76      0.73      0.74      2787\n",
      "weighted avg       0.82      0.82      0.82      2787\n",
      "\n"
     ]
    }
   ],
   "source": [
    "from sklearn.metrics import accuracy_score, f1_score, recall_score, matthews_corrcoef, classification_report\n",
    "\n",
    "\n",
    "clf_baseline = LogisticRegression().fit(X.train, y.train)\n",
    "pred_baseline = clf_baseline.predict(X.test)\n",
    "\n",
    "\n",
    "print('F1:', f1_score(y.test, pred_baseline,))\n",
    "print(classification_report(y.test,pred_baseline))"
   ]
  },
  {
   "cell_type": "markdown",
   "metadata": {},
   "source": [
    "## 5th ATTEMPT"
   ]
  },
  {
   "cell_type": "markdown",
   "metadata": {},
   "source": [
    "On this attempt we have decided to discritize two variables, number_project and satisfaction_level, remove outliers related to sales and promotion in last 5 years, since they seemed the least relevant according to the feature importance."
   ]
  },
  {
   "cell_type": "markdown",
   "metadata": {},
   "source": [
    "## 1) DATA LOADING & IMPORTING LIBRARIES"
   ]
  },
  {
   "cell_type": "code",
   "execution_count": 256,
   "metadata": {},
   "outputs": [],
   "source": [
    "from dataset import Dataset\n",
    "import numpy as np\n",
    "import matplotlib.pyplot as plt\n",
    "\n",
    "from sklearn.linear_model import LogisticRegression\n",
    "from sklearn.metrics import accuracy_score, f1_score, recall_score, matthews_corrcoef\n",
    "\n",
    "turnover = Dataset('/Users/kuka/Downloads/turnover.csv', delimiter=',', header=0)"
   ]
  },
  {
   "cell_type": "markdown",
   "metadata": {},
   "source": [
    "## A. Data Description"
   ]
  },
  {
   "cell_type": "code",
   "execution_count": 257,
   "metadata": {},
   "outputs": [
    {
     "name": "stdout",
     "output_type": "stream",
     "text": [
      "10 Features. 14999 Samples\n",
      "Available types: [dtype('float64') dtype('O')]\n",
      "  · 2 categorical features\n",
      "  · 8 numerical features\n",
      "  · 0 categorical features with NAs\n",
      "  · 0 numerical features with NAs\n",
      "  · 10 Complete features\n",
      "--\n",
      "Target: Not set\n"
     ]
    }
   ],
   "source": [
    "turnover.describe()"
   ]
  },
  {
   "cell_type": "markdown",
   "metadata": {},
   "source": [
    "## 2) DATA PREPARATION & TRANSFORMATION"
   ]
  },
  {
   "cell_type": "markdown",
   "metadata": {},
   "source": [
    "## A. Setting Target Variable"
   ]
  },
  {
   "cell_type": "code",
   "execution_count": 258,
   "metadata": {},
   "outputs": [
    {
     "name": "stdout",
     "output_type": "stream",
     "text": [
      "Setting target variable: left\n",
      "First 5 rows of dataset without left\n"
     ]
    },
    {
     "data": {
      "text/html": [
       "<div>\n",
       "<style scoped>\n",
       "    .dataframe tbody tr th:only-of-type {\n",
       "        vertical-align: middle;\n",
       "    }\n",
       "\n",
       "    .dataframe tbody tr th {\n",
       "        vertical-align: top;\n",
       "    }\n",
       "\n",
       "    .dataframe thead th {\n",
       "        text-align: right;\n",
       "    }\n",
       "</style>\n",
       "<table border=\"1\" class=\"dataframe\">\n",
       "  <thead>\n",
       "    <tr style=\"text-align: right;\">\n",
       "      <th></th>\n",
       "      <th>satisfaction_level</th>\n",
       "      <th>last_evaluation</th>\n",
       "      <th>number_project</th>\n",
       "      <th>average_montly_hours</th>\n",
       "      <th>time_spend_company</th>\n",
       "      <th>Work_accident</th>\n",
       "      <th>promotion_last_5years</th>\n",
       "      <th>sales</th>\n",
       "      <th>salary</th>\n",
       "    </tr>\n",
       "  </thead>\n",
       "  <tbody>\n",
       "    <tr>\n",
       "      <th>0</th>\n",
       "      <td>0.38</td>\n",
       "      <td>0.53</td>\n",
       "      <td>2.0</td>\n",
       "      <td>157.0</td>\n",
       "      <td>3.0</td>\n",
       "      <td>0.0</td>\n",
       "      <td>0.0</td>\n",
       "      <td>sales</td>\n",
       "      <td>low</td>\n",
       "    </tr>\n",
       "    <tr>\n",
       "      <th>1</th>\n",
       "      <td>0.80</td>\n",
       "      <td>0.86</td>\n",
       "      <td>5.0</td>\n",
       "      <td>262.0</td>\n",
       "      <td>6.0</td>\n",
       "      <td>0.0</td>\n",
       "      <td>0.0</td>\n",
       "      <td>sales</td>\n",
       "      <td>medium</td>\n",
       "    </tr>\n",
       "    <tr>\n",
       "      <th>2</th>\n",
       "      <td>0.11</td>\n",
       "      <td>0.88</td>\n",
       "      <td>7.0</td>\n",
       "      <td>272.0</td>\n",
       "      <td>4.0</td>\n",
       "      <td>0.0</td>\n",
       "      <td>0.0</td>\n",
       "      <td>sales</td>\n",
       "      <td>medium</td>\n",
       "    </tr>\n",
       "    <tr>\n",
       "      <th>3</th>\n",
       "      <td>0.72</td>\n",
       "      <td>0.87</td>\n",
       "      <td>5.0</td>\n",
       "      <td>223.0</td>\n",
       "      <td>5.0</td>\n",
       "      <td>0.0</td>\n",
       "      <td>0.0</td>\n",
       "      <td>sales</td>\n",
       "      <td>low</td>\n",
       "    </tr>\n",
       "    <tr>\n",
       "      <th>4</th>\n",
       "      <td>0.37</td>\n",
       "      <td>0.52</td>\n",
       "      <td>2.0</td>\n",
       "      <td>159.0</td>\n",
       "      <td>3.0</td>\n",
       "      <td>0.0</td>\n",
       "      <td>0.0</td>\n",
       "      <td>sales</td>\n",
       "      <td>low</td>\n",
       "    </tr>\n",
       "  </tbody>\n",
       "</table>\n",
       "</div>"
      ],
      "text/plain": [
       "   satisfaction_level  last_evaluation  number_project  average_montly_hours  \\\n",
       "0                0.38             0.53             2.0                 157.0   \n",
       "1                0.80             0.86             5.0                 262.0   \n",
       "2                0.11             0.88             7.0                 272.0   \n",
       "3                0.72             0.87             5.0                 223.0   \n",
       "4                0.37             0.52             2.0                 159.0   \n",
       "\n",
       "   time_spend_company  Work_accident  promotion_last_5years  sales  salary  \n",
       "0                 3.0            0.0                    0.0  sales     low  \n",
       "1                 6.0            0.0                    0.0  sales  medium  \n",
       "2                 4.0            0.0                    0.0  sales  medium  \n",
       "3                 5.0            0.0                    0.0  sales     low  \n",
       "4                 3.0            0.0                    0.0  sales     low  "
      ]
     },
     "execution_count": 258,
     "metadata": {},
     "output_type": "execute_result"
    }
   ],
   "source": [
    "#Setting the target variable of staff/employee attrition, in other words, employees who have left\n",
    "print (\"Setting target variable: left\")\n",
    "turnover.set_target(\"left\")\n",
    "\n",
    "#Reviewing the first 5 rows, but this time with our target variable \"left\" gone\n",
    "print (\"First 5 rows of dataset without left\")\n",
    "turnover.features.head(5)"
   ]
  },
  {
   "cell_type": "markdown",
   "metadata": {},
   "source": [
    "## B. Discretization\n"
   ]
  },
  {
   "cell_type": "code",
   "execution_count": 259,
   "metadata": {},
   "outputs": [
    {
     "name": "stdout",
     "output_type": "stream",
     "text": [
      "Features Summary (all):\n",
      "'satisfaction_level'   : float64    Min.(0.09) 1stQ(0.44) Med.(0.64) Mean(0.61) 3rdQ(0.82) Max.(1.0)\n",
      "'last_evaluation'      : float64    Min.(0.36) 1stQ(0.56) Med.(0.72) Mean(0.71) 3rdQ(0.87) Max.(1.0)\n",
      "'number_project'       : category   3 categs. 'nan'(4055, 0.5734) 'a couple'(2761, 0.3904) 'many'(256, 0.0362) \n",
      "'average_montly_hours' : float64    Min.(96.0) 1stQ(156.) Med.(200.) Mean(201.) 3rdQ(245.) Max.(310.)\n",
      "'time_spend_company'   : float64    Min.(2.0) 1stQ(3.0) Med.(3.0) Mean(3.49) 3rdQ(4.0) Max.(10.0)\n",
      "'Work_accident'        : float64    Min.(0.0) 1stQ(0.0) Med.(0.0) Mean(0.14) 3rdQ(0.0) Max.(1.0)\n",
      "'promotion_last_5years': float64    Min.(0.0) 1stQ(0.0) Med.(0.0) Mean(0.02) 3rdQ(0.0) Max.(1.0)\n",
      "'sales'                : object     10 categs. 'sales'(4140, 0.2760) 'accounting'(2720, 0.1813) 'hr'(2229, 0.1486) 'technical'(1227, 0.0818) ...\n",
      "'salary'               : object     3 categs. 'low'(7316, 0.4878) 'medium'(6446, 0.4298) 'high'(1237, 0.0825) \n",
      "'left'                 : float64    Min.(0.0) 1stQ(0.0) Med.(0.0) Mean(0.23) 3rdQ(0.0) Max.(1.0)\n",
      "Features Summary (all):\n",
      "'satisfaction_level'   : category   4 categs. 'medium-low'(5122, 0.3525) 'high'(4441, 0.3056) 'low'(3196, 0.2199) 'medium-high'(1773, 0.1220) \n",
      "'last_evaluation'      : float64    Min.(0.36) 1stQ(0.56) Med.(0.72) Mean(0.71) 3rdQ(0.87) Max.(1.0)\n",
      "'number_project'       : category   3 categs. 'nan'(4055, 0.5734) 'a couple'(2761, 0.3904) 'many'(256, 0.0362) \n",
      "'average_montly_hours' : float64    Min.(96.0) 1stQ(156.) Med.(200.) Mean(201.) 3rdQ(245.) Max.(310.)\n",
      "'time_spend_company'   : float64    Min.(2.0) 1stQ(3.0) Med.(3.0) Mean(3.49) 3rdQ(4.0) Max.(10.0)\n",
      "'Work_accident'        : float64    Min.(0.0) 1stQ(0.0) Med.(0.0) Mean(0.14) 3rdQ(0.0) Max.(1.0)\n",
      "'promotion_last_5years': float64    Min.(0.0) 1stQ(0.0) Med.(0.0) Mean(0.02) 3rdQ(0.0) Max.(1.0)\n",
      "'sales'                : object     10 categs. 'sales'(4140, 0.2760) 'accounting'(2720, 0.1813) 'hr'(2229, 0.1486) 'technical'(1227, 0.0818) ...\n",
      "'salary'               : object     3 categs. 'low'(7316, 0.4878) 'medium'(6446, 0.4298) 'high'(1237, 0.0825) \n",
      "'left'                 : float64    Min.(0.0) 1stQ(0.0) Med.(0.0) Mean(0.23) 3rdQ(0.0) Max.(1.0)\n"
     ]
    }
   ],
   "source": [
    "turnover.discretize('number_project', [(2, 3),(4, 5),(6, 7)],\n",
    "                   category_names=['a few', 'a couple', 'many']).summary()\n",
    "turnover.discretize('satisfaction_level', [(0, 0.25),(0.26, 0.51),(0.52, 0.77),(0.78, 1)],\n",
    "                   category_names=['low', 'medium-low', 'medium-high','high']).summary()"
   ]
  },
  {
   "cell_type": "markdown",
   "metadata": {},
   "source": [
    "## C. One-Hot Encoding"
   ]
  },
  {
   "cell_type": "code",
   "execution_count": 260,
   "metadata": {},
   "outputs": [
    {
     "name": "stdout",
     "output_type": "stream",
     "text": [
      "Features Summary (all):\n",
      "'Work_accident'        : float64    Min.(0.0) 1stQ(0.0) Med.(0.0) Mean(0.14) 3rdQ(0.0) Max.(1.0)\n",
      "'average_montly_hours' : float64    Min.(96.0) 1stQ(156.) Med.(200.) Mean(201.) 3rdQ(245.) Max.(310.)\n",
      "'last_evaluation'      : float64    Min.(0.36) 1stQ(0.56) Med.(0.72) Mean(0.71) 3rdQ(0.87) Max.(1.0)\n",
      "'number_project'       : category   3 categs. 'nan'(4055, 0.5734) 'a couple'(2761, 0.3904) 'many'(256, 0.0362) \n",
      "'promotion_last_5years': float64    Min.(0.0) 1stQ(0.0) Med.(0.0) Mean(0.02) 3rdQ(0.0) Max.(1.0)\n",
      "'salary'               : object     3 categs. 'low'(7316, 0.4878) 'medium'(6446, 0.4298) 'high'(1237, 0.0825) \n",
      "'satisfaction_level'   : category   4 categs. 'medium-low'(5122, 0.3525) 'high'(4441, 0.3056) 'low'(3196, 0.2199) 'medium-high'(1773, 0.1220) \n",
      "'time_spend_company'   : float64    Min.(2.0) 1stQ(3.0) Med.(3.0) Mean(3.49) 3rdQ(4.0) Max.(10.0)\n",
      "'sales_IT'             : float64    Min.(0.0) 1stQ(0.0) Med.(0.0) Mean(0.08) 3rdQ(0.0) Max.(1.0)\n",
      "'sales_RandD'          : float64    Min.(0.0) 1stQ(0.0) Med.(0.0) Mean(0.05) 3rdQ(0.0) Max.(1.0)\n",
      "'sales_accounting'     : float64    Min.(0.0) 1stQ(0.0) Med.(0.0) Mean(0.05) 3rdQ(0.0) Max.(1.0)\n",
      "'sales_hr'             : float64    Min.(0.0) 1stQ(0.0) Med.(0.0) Mean(0.04) 3rdQ(0.0) Max.(1.0)\n",
      "'sales_management'     : float64    Min.(0.0) 1stQ(0.0) Med.(0.0) Mean(0.04) 3rdQ(0.0) Max.(1.0)\n",
      "'sales_marketing'      : float64    Min.(0.0) 1stQ(0.0) Med.(0.0) Mean(0.05) 3rdQ(0.0) Max.(1.0)\n",
      "'sales_product_mng'    : float64    Min.(0.0) 1stQ(0.0) Med.(0.0) Mean(0.06) 3rdQ(0.0) Max.(1.0)\n",
      "'sales_sales'          : float64    Min.(0.0) 1stQ(0.0) Med.(0.0) Mean(0.27) 3rdQ(1.0) Max.(1.0)\n",
      "'sales_support'        : float64    Min.(0.0) 1stQ(0.0) Med.(0.0) Mean(0.14) 3rdQ(0.0) Max.(1.0)\n",
      "'sales_technical'      : float64    Min.(0.0) 1stQ(0.0) Med.(0.0) Mean(0.18) 3rdQ(0.0) Max.(1.0)\n",
      "'left'                 : float64    Min.(0.0) 1stQ(0.0) Med.(0.0) Mean(0.23) 3rdQ(0.0) Max.(1.0)\n"
     ]
    }
   ],
   "source": [
    "#Tranforming the sales variable into dummyfied versions, which will produce more variable\n",
    "turnover1 = turnover.onehot_encode(\"sales\").summary()"
   ]
  },
  {
   "cell_type": "code",
   "execution_count": 261,
   "metadata": {},
   "outputs": [
    {
     "name": "stdout",
     "output_type": "stream",
     "text": [
      "Features Summary (all):\n",
      "'Work_accident'        : float64    Min.(0.0) 1stQ(0.0) Med.(0.0) Mean(0.14) 3rdQ(0.0) Max.(1.0)\n",
      "'average_montly_hours' : float64    Min.(96.0) 1stQ(156.) Med.(200.) Mean(201.) 3rdQ(245.) Max.(310.)\n",
      "'last_evaluation'      : float64    Min.(0.36) 1stQ(0.56) Med.(0.72) Mean(0.71) 3rdQ(0.87) Max.(1.0)\n",
      "'number_project'       : category   3 categs. 'nan'(4055, 0.5734) 'a couple'(2761, 0.3904) 'many'(256, 0.0362) \n",
      "'promotion_last_5years': float64    Min.(0.0) 1stQ(0.0) Med.(0.0) Mean(0.02) 3rdQ(0.0) Max.(1.0)\n",
      "'sales_IT'             : float64    Min.(0.0) 1stQ(0.0) Med.(0.0) Mean(0.08) 3rdQ(0.0) Max.(1.0)\n",
      "'sales_RandD'          : float64    Min.(0.0) 1stQ(0.0) Med.(0.0) Mean(0.05) 3rdQ(0.0) Max.(1.0)\n",
      "'sales_accounting'     : float64    Min.(0.0) 1stQ(0.0) Med.(0.0) Mean(0.05) 3rdQ(0.0) Max.(1.0)\n",
      "'sales_hr'             : float64    Min.(0.0) 1stQ(0.0) Med.(0.0) Mean(0.04) 3rdQ(0.0) Max.(1.0)\n",
      "'sales_management'     : float64    Min.(0.0) 1stQ(0.0) Med.(0.0) Mean(0.04) 3rdQ(0.0) Max.(1.0)\n",
      "'sales_marketing'      : float64    Min.(0.0) 1stQ(0.0) Med.(0.0) Mean(0.05) 3rdQ(0.0) Max.(1.0)\n",
      "'sales_product_mng'    : float64    Min.(0.0) 1stQ(0.0) Med.(0.0) Mean(0.06) 3rdQ(0.0) Max.(1.0)\n",
      "'sales_sales'          : float64    Min.(0.0) 1stQ(0.0) Med.(0.0) Mean(0.27) 3rdQ(1.0) Max.(1.0)\n",
      "'sales_support'        : float64    Min.(0.0) 1stQ(0.0) Med.(0.0) Mean(0.14) 3rdQ(0.0) Max.(1.0)\n",
      "'sales_technical'      : float64    Min.(0.0) 1stQ(0.0) Med.(0.0) Mean(0.18) 3rdQ(0.0) Max.(1.0)\n",
      "'satisfaction_level'   : category   4 categs. 'medium-low'(5122, 0.3525) 'high'(4441, 0.3056) 'low'(3196, 0.2199) 'medium-high'(1773, 0.1220) \n",
      "'time_spend_company'   : float64    Min.(2.0) 1stQ(3.0) Med.(3.0) Mean(3.49) 3rdQ(4.0) Max.(10.0)\n",
      "'salary_high'          : float64    Min.(0.0) 1stQ(0.0) Med.(0.0) Mean(0.08) 3rdQ(0.0) Max.(1.0)\n",
      "'salary_low'           : float64    Min.(0.0) 1stQ(0.0) Med.(0.0) Mean(0.48) 3rdQ(1.0) Max.(1.0)\n",
      "'salary_medium'        : float64    Min.(0.0) 1stQ(0.0) Med.(0.0) Mean(0.42) 3rdQ(1.0) Max.(1.0)\n",
      "'left'                 : float64    Min.(0.0) 1stQ(0.0) Med.(0.0) Mean(0.23) 3rdQ(0.0) Max.(1.0)\n"
     ]
    }
   ],
   "source": [
    "#Tranforming the salary variable into dummyfied versions, which will produce more variable\n",
    "turnover_final = turnover.onehot_encode(\"salary\").summary()"
   ]
  },
  {
   "cell_type": "code",
   "execution_count": 262,
   "metadata": {},
   "outputs": [
    {
     "name": "stdout",
     "output_type": "stream",
     "text": [
      "Features Summary (all):\n",
      "'Work_accident'          : float64    Min.(0.0) 1stQ(0.0) Med.(0.0) Mean(0.14) 3rdQ(0.0) Max.(1.0)\n",
      "'average_montly_hours'   : float64    Min.(96.0) 1stQ(156.) Med.(200.) Mean(201.) 3rdQ(245.) Max.(310.)\n",
      "'last_evaluation'        : float64    Min.(0.36) 1stQ(0.56) Med.(0.72) Mean(0.71) 3rdQ(0.87) Max.(1.0)\n",
      "'promotion_last_5years'  : float64    Min.(0.0) 1stQ(0.0) Med.(0.0) Mean(0.02) 3rdQ(0.0) Max.(1.0)\n",
      "'salary_high'            : float64    Min.(0.0) 1stQ(0.0) Med.(0.0) Mean(0.08) 3rdQ(0.0) Max.(1.0)\n",
      "'salary_low'             : float64    Min.(0.0) 1stQ(0.0) Med.(0.0) Mean(0.48) 3rdQ(1.0) Max.(1.0)\n",
      "'salary_medium'          : float64    Min.(0.0) 1stQ(0.0) Med.(0.0) Mean(0.42) 3rdQ(1.0) Max.(1.0)\n",
      "'sales_IT'               : float64    Min.(0.0) 1stQ(0.0) Med.(0.0) Mean(0.08) 3rdQ(0.0) Max.(1.0)\n",
      "'sales_RandD'            : float64    Min.(0.0) 1stQ(0.0) Med.(0.0) Mean(0.05) 3rdQ(0.0) Max.(1.0)\n",
      "'sales_accounting'       : float64    Min.(0.0) 1stQ(0.0) Med.(0.0) Mean(0.05) 3rdQ(0.0) Max.(1.0)\n",
      "'sales_hr'               : float64    Min.(0.0) 1stQ(0.0) Med.(0.0) Mean(0.04) 3rdQ(0.0) Max.(1.0)\n",
      "'sales_management'       : float64    Min.(0.0) 1stQ(0.0) Med.(0.0) Mean(0.04) 3rdQ(0.0) Max.(1.0)\n",
      "'sales_marketing'        : float64    Min.(0.0) 1stQ(0.0) Med.(0.0) Mean(0.05) 3rdQ(0.0) Max.(1.0)\n",
      "'sales_product_mng'      : float64    Min.(0.0) 1stQ(0.0) Med.(0.0) Mean(0.06) 3rdQ(0.0) Max.(1.0)\n",
      "'sales_sales'            : float64    Min.(0.0) 1stQ(0.0) Med.(0.0) Mean(0.27) 3rdQ(1.0) Max.(1.0)\n",
      "'sales_support'          : float64    Min.(0.0) 1stQ(0.0) Med.(0.0) Mean(0.14) 3rdQ(0.0) Max.(1.0)\n",
      "'sales_technical'        : float64    Min.(0.0) 1stQ(0.0) Med.(0.0) Mean(0.18) 3rdQ(0.0) Max.(1.0)\n",
      "'satisfaction_level'     : category   4 categs. 'medium-low'(5122, 0.3525) 'high'(4441, 0.3056) 'low'(3196, 0.2199) 'medium-high'(1773, 0.1220) \n",
      "'time_spend_company'     : float64    Min.(2.0) 1stQ(3.0) Med.(3.0) Mean(3.49) 3rdQ(4.0) Max.(10.0)\n",
      "'number_project_a few'   : float64    Min.(0.0) 1stQ(0.0) Med.(0.0) Mean(0.27) 3rdQ(1.0) Max.(1.0)\n",
      "'number_project_a couple': float64    Min.(0.0) 1stQ(0.0) Med.(0.0) Mean(0.18) 3rdQ(0.0) Max.(1.0)\n",
      "'number_project_many'    : float64    Min.(0.0) 1stQ(0.0) Med.(0.0) Mean(0.01) 3rdQ(0.0) Max.(1.0)\n",
      "'left'                   : float64    Min.(0.0) 1stQ(0.0) Med.(0.0) Mean(0.23) 3rdQ(0.0) Max.(1.0)\n"
     ]
    }
   ],
   "source": [
    "#Tranforming the salary variable into dummyfied versions, which will produce more variable\n",
    "turnover_final = turnover.onehot_encode(\"number_project\").summary()"
   ]
  },
  {
   "cell_type": "code",
   "execution_count": 263,
   "metadata": {},
   "outputs": [
    {
     "name": "stdout",
     "output_type": "stream",
     "text": [
      "Features Summary (all):\n",
      "'Work_accident'                 : float64    Min.(0.0) 1stQ(0.0) Med.(0.0) Mean(0.14) 3rdQ(0.0) Max.(1.0)\n",
      "'average_montly_hours'          : float64    Min.(96.0) 1stQ(156.) Med.(200.) Mean(201.) 3rdQ(245.) Max.(310.)\n",
      "'last_evaluation'               : float64    Min.(0.36) 1stQ(0.56) Med.(0.72) Mean(0.71) 3rdQ(0.87) Max.(1.0)\n",
      "'number_project_a couple'       : float64    Min.(0.0) 1stQ(0.0) Med.(0.0) Mean(0.18) 3rdQ(0.0) Max.(1.0)\n",
      "'number_project_a few'          : float64    Min.(0.0) 1stQ(0.0) Med.(0.0) Mean(0.27) 3rdQ(1.0) Max.(1.0)\n",
      "'number_project_many'           : float64    Min.(0.0) 1stQ(0.0) Med.(0.0) Mean(0.01) 3rdQ(0.0) Max.(1.0)\n",
      "'promotion_last_5years'         : float64    Min.(0.0) 1stQ(0.0) Med.(0.0) Mean(0.02) 3rdQ(0.0) Max.(1.0)\n",
      "'salary_high'                   : float64    Min.(0.0) 1stQ(0.0) Med.(0.0) Mean(0.08) 3rdQ(0.0) Max.(1.0)\n",
      "'salary_low'                    : float64    Min.(0.0) 1stQ(0.0) Med.(0.0) Mean(0.48) 3rdQ(1.0) Max.(1.0)\n",
      "'salary_medium'                 : float64    Min.(0.0) 1stQ(0.0) Med.(0.0) Mean(0.42) 3rdQ(1.0) Max.(1.0)\n",
      "'sales_IT'                      : float64    Min.(0.0) 1stQ(0.0) Med.(0.0) Mean(0.08) 3rdQ(0.0) Max.(1.0)\n",
      "'sales_RandD'                   : float64    Min.(0.0) 1stQ(0.0) Med.(0.0) Mean(0.05) 3rdQ(0.0) Max.(1.0)\n",
      "'sales_accounting'              : float64    Min.(0.0) 1stQ(0.0) Med.(0.0) Mean(0.05) 3rdQ(0.0) Max.(1.0)\n",
      "'sales_hr'                      : float64    Min.(0.0) 1stQ(0.0) Med.(0.0) Mean(0.04) 3rdQ(0.0) Max.(1.0)\n",
      "'sales_management'              : float64    Min.(0.0) 1stQ(0.0) Med.(0.0) Mean(0.04) 3rdQ(0.0) Max.(1.0)\n",
      "'sales_marketing'               : float64    Min.(0.0) 1stQ(0.0) Med.(0.0) Mean(0.05) 3rdQ(0.0) Max.(1.0)\n",
      "'sales_product_mng'             : float64    Min.(0.0) 1stQ(0.0) Med.(0.0) Mean(0.06) 3rdQ(0.0) Max.(1.0)\n",
      "'sales_sales'                   : float64    Min.(0.0) 1stQ(0.0) Med.(0.0) Mean(0.27) 3rdQ(1.0) Max.(1.0)\n",
      "'sales_support'                 : float64    Min.(0.0) 1stQ(0.0) Med.(0.0) Mean(0.14) 3rdQ(0.0) Max.(1.0)\n",
      "'sales_technical'               : float64    Min.(0.0) 1stQ(0.0) Med.(0.0) Mean(0.18) 3rdQ(0.0) Max.(1.0)\n",
      "'time_spend_company'            : float64    Min.(2.0) 1stQ(3.0) Med.(3.0) Mean(3.49) 3rdQ(4.0) Max.(10.0)\n",
      "'satisfaction_level_low'        : float64    Min.(0.0) 1stQ(0.0) Med.(0.0) Mean(0.11) 3rdQ(0.0) Max.(1.0)\n",
      "'satisfaction_level_medium-low' : float64    Min.(0.0) 1stQ(0.0) Med.(0.0) Mean(0.21) 3rdQ(0.0) Max.(1.0)\n",
      "'satisfaction_level_medium-high': float64    Min.(0.0) 1stQ(0.0) Med.(0.0) Mean(0.34) 3rdQ(1.0) Max.(1.0)\n",
      "'satisfaction_level_high'       : float64    Min.(0.0) 1stQ(0.0) Med.(0.0) Mean(0.29) 3rdQ(1.0) Max.(1.0)\n",
      "'left'                          : float64    Min.(0.0) 1stQ(0.0) Med.(0.0) Mean(0.23) 3rdQ(0.0) Max.(1.0)\n"
     ]
    }
   ],
   "source": [
    "#Tranforming the sales variable into dummyfied versions, which will produce more variable\n",
    "turnover1 = turnover.onehot_encode(\"satisfaction_level\").summary()"
   ]
  },
  {
   "cell_type": "markdown",
   "metadata": {},
   "source": [
    "## D. Fixing Scale & Skewness\n"
   ]
  },
  {
   "cell_type": "code",
   "execution_count": 264,
   "metadata": {},
   "outputs": [
    {
     "data": {
      "text/plain": [
       "<dataset.dataset.Dataset at 0x122005400>"
      ]
     },
     "execution_count": 264,
     "metadata": {},
     "output_type": "execute_result"
    }
   ],
   "source": [
    "turnover.fix_skewness()\n",
    "turnover.scale(method='MinMaxScaler')"
   ]
  },
  {
   "cell_type": "markdown",
   "metadata": {},
   "source": [
    "## 3) FEATURE ENGINEERING"
   ]
  },
  {
   "cell_type": "markdown",
   "metadata": {},
   "source": [
    "## A. Outliers"
   ]
  },
  {
   "cell_type": "code",
   "execution_count": 265,
   "metadata": {},
   "outputs": [
    {
     "data": {
      "text/plain": [
       "array([   18,    50,    54, ..., 14966, 14975, 14990])"
      ]
     },
     "execution_count": 265,
     "metadata": {},
     "output_type": "execute_result"
    }
   ],
   "source": [
    "#Identifying indeces that may contain outliers\n",
    "\n",
    "turnover.outliers()"
   ]
  },
  {
   "cell_type": "code",
   "execution_count": 266,
   "metadata": {},
   "outputs": [
    {
     "data": {
      "text/plain": [
       "<dataset.dataset.Dataset at 0x122005400>"
      ]
     },
     "execution_count": 266,
     "metadata": {},
     "output_type": "execute_result"
    }
   ],
   "source": [
    "#Dropping outliers\n",
    "\n",
    "turnover.drop_samples(turnover.outliers())"
   ]
  },
  {
   "cell_type": "markdown",
   "metadata": {},
   "source": [
    "## B. Feature Importance One-Hot Encoding"
   ]
  },
  {
   "cell_type": "code",
   "execution_count": 275,
   "metadata": {},
   "outputs": [
    {
     "name": "stdout",
     "output_type": "stream",
     "text": [
      "Overall feature importance:\n"
     ]
    },
    {
     "data": {
      "text/plain": [
       "{'Work_accident': 0.025110576550011542,\n",
       " 'average_montly_hours': 0.04914616884150478,\n",
       " 'last_evaluation': 0.031899305089157316,\n",
       " 'number_project_a couple': 0.07480794599208371,\n",
       " 'number_project_a few': 0.14198029021494488,\n",
       " 'number_project_many': 0.00573446108481417,\n",
       " 'promotion_last_5years': 0.00039962753162101284,\n",
       " 'salary_high': 0.04195701094125737,\n",
       " 'salary_low': 0.11467370218049026,\n",
       " 'salary_medium': 0.09482424148366432,\n",
       " 'sales_IT': 0.012244897959183777,\n",
       " 'sales_RandD': 0.0125552882750058,\n",
       " 'sales_accounting': 0.004248467447815615,\n",
       " 'sales_hr': 0.03302940948242312,\n",
       " 'sales_management': 0.004050593621479016,\n",
       " 'sales_marketing': 0.003503530689842479,\n",
       " 'sales_product_mng': 0.0031039031582214462,\n",
       " 'sales_sales': 0.06707922712811319,\n",
       " 'sales_support': 0.041980290214944614,\n",
       " 'sales_technical': 0.07060603709164127,\n",
       " 'satisfaction_level_high': 0.1633506634592991,\n",
       " 'satisfaction_level_low': 0.08784821913556135,\n",
       " 'satisfaction_level_medium-high': 0.1967641809575518,\n",
       " 'satisfaction_level_medium-low': 0.21053387134321405,\n",
       " 'time_spend_company': 0.3046519748583804}"
      ]
     },
     "execution_count": 275,
     "metadata": {},
     "output_type": "execute_result"
    }
   ],
   "source": [
    "#After we preformed an One-Hot encoding we will now analyse the feature importance\n",
    "\n",
    "print (\"Overall feature importance:\")\n",
    "turnover.features_importance()"
   ]
  },
  {
   "cell_type": "code",
   "execution_count": 276,
   "metadata": {},
   "outputs": [
    {
     "name": "stdout",
     "output_type": "stream",
     "text": [
      "Graphical plot of feature importance:\n"
     ]
    },
    {
     "data": {
      "image/png": "[encoded data removed]",
      "text/plain": [
       "<Figure size 576x576 with 1 Axes>"
      ]
     },
     "metadata": {},
     "output_type": "display_data"
    }
   ],
   "source": [
    "print (\"Graphical plot of feature importance:\")\n",
    "turnover.plot_importance()"
   ]
  },
  {
   "cell_type": "markdown",
   "metadata": {},
   "source": [
    "## C. Drop Not Relevant Features\n"
   ]
  },
  {
   "cell_type": "code",
   "execution_count": 267,
   "metadata": {},
   "outputs": [
    {
     "data": {
      "text/plain": [
       "<dataset.dataset.Dataset at 0x122005400>"
      ]
     },
     "execution_count": 267,
     "metadata": {},
     "output_type": "execute_result"
    }
   ],
   "source": [
    "turnover.drop_columns('sales_IT')\n",
    "turnover.drop_columns('sales_RandD')\n",
    "turnover.drop_columns('sales_accounting')\n",
    "turnover.drop_columns('sales_hr')\n",
    "turnover.drop_columns('sales_management')\n",
    "turnover.drop_columns('sales_marketing')\n",
    "turnover.drop_columns('sales_product_mng')\n",
    "turnover.drop_columns('sales_sales')\n",
    "turnover.drop_columns('sales_support')\n",
    "turnover.drop_columns('sales_technical')\n",
    "turnover.drop_columns('promotion_last_5years')\n"
   ]
  },
  {
   "cell_type": "code",
   "execution_count": 268,
   "metadata": {},
   "outputs": [
    {
     "name": "stdout",
     "output_type": "stream",
     "text": [
      "Features Summary (all):\n",
      "'Work_accident'                 : float64    Min.(0.0) 1stQ(0.0) Med.(0.0) Mean(0.13) 3rdQ(0.0) Max.(1.0)\n",
      "'average_montly_hours'          : float64    Min.(0.0) 1stQ(0.32) Med.(0.53) Mean(0.52) 3rdQ(0.73) Max.(1.0)\n",
      "'last_evaluation'               : float64    Min.(0.0) 1stQ(0.31) Med.(0.56) Mean(0.56) 3rdQ(0.79) Max.(1.0)\n",
      "'number_project_a couple'       : float64    Min.(0.0) 1stQ(0.0) Med.(0.0) Mean(0.18) 3rdQ(0.0) Max.(1.0)\n",
      "'number_project_a few'          : float64    Min.(0.0) 1stQ(0.0) Med.(0.0) Mean(0.27) 3rdQ(1.0) Max.(1.0)\n",
      "'number_project_many'           : float64    Min.(0.0) 1stQ(0.0) Med.(0.0) Mean(0.01) 3rdQ(0.0) Max.(0.99)\n",
      "'salary_high'                   : float64    Min.(0.0) 1stQ(0.0) Med.(0.0) Mean(0.08) 3rdQ(0.0) Max.(0.99)\n",
      "'salary_low'                    : float64    Min.(0.0) 1stQ(0.0) Med.(0.0) Mean(0.48) 3rdQ(1.0) Max.(1.0)\n",
      "'salary_medium'                 : float64    Min.(0.0) 1stQ(0.0) Med.(0.0) Mean(0.42) 3rdQ(0.99) Max.(0.99)\n",
      "'time_spend_company'            : float64    Min.(0.0) 1stQ(0.34) Med.(0.34) Mean(0.37) 3rdQ(0.55) Max.(1.0)\n",
      "'satisfaction_level_low'        : float64    Min.(0.0) 1stQ(0.0) Med.(0.0) Mean(0.09) 3rdQ(0.0) Max.(0.99)\n",
      "'satisfaction_level_medium-low' : float64    Min.(0.0) 1stQ(0.0) Med.(0.0) Mean(0.18) 3rdQ(0.0) Max.(1.0)\n",
      "'satisfaction_level_medium-high': float64    Min.(0.0) 1stQ(0.0) Med.(0.0) Mean(0.37) 3rdQ(0.99) Max.(0.99)\n",
      "'satisfaction_level_high'       : float64    Min.(0.0) 1stQ(0.0) Med.(0.0) Mean(0.32) 3rdQ(0.99) Max.(0.99)\n",
      "'left'                          : float64    Min.(0.0) 1stQ(0.0) Med.(0.0) Mean(0.24) 3rdQ(0.0) Max.(1.0)\n"
     ]
    }
   ],
   "source": [
    "#Check if the variables were removed\n",
    "turnover.summary()"
   ]
  },
  {
   "cell_type": "markdown",
   "metadata": {},
   "source": [
    "## D. Dataset Splitting\n"
   ]
  },
  {
   "cell_type": "code",
   "execution_count": 269,
   "metadata": {},
   "outputs": [
    {
     "data": {
      "text/html": [
       "<div>\n",
       "<style scoped>\n",
       "    .dataframe tbody tr th:only-of-type {\n",
       "        vertical-align: middle;\n",
       "    }\n",
       "\n",
       "    .dataframe tbody tr th {\n",
       "        vertical-align: top;\n",
       "    }\n",
       "\n",
       "    .dataframe thead th {\n",
       "        text-align: right;\n",
       "    }\n",
       "</style>\n",
       "<table border=\"1\" class=\"dataframe\">\n",
       "  <thead>\n",
       "    <tr style=\"text-align: right;\">\n",
       "      <th></th>\n",
       "      <th>Work_accident</th>\n",
       "      <th>average_montly_hours</th>\n",
       "      <th>last_evaluation</th>\n",
       "      <th>number_project_a couple</th>\n",
       "      <th>number_project_a few</th>\n",
       "      <th>number_project_many</th>\n",
       "      <th>salary_high</th>\n",
       "      <th>salary_low</th>\n",
       "      <th>salary_medium</th>\n",
       "      <th>time_spend_company</th>\n",
       "      <th>satisfaction_level_low</th>\n",
       "      <th>satisfaction_level_medium-low</th>\n",
       "      <th>satisfaction_level_medium-high</th>\n",
       "      <th>satisfaction_level_high</th>\n",
       "    </tr>\n",
       "  </thead>\n",
       "  <tbody>\n",
       "    <tr>\n",
       "      <th>5682</th>\n",
       "      <td>0.0</td>\n",
       "      <td>0.792555</td>\n",
       "      <td>0.969265</td>\n",
       "      <td>0.0</td>\n",
       "      <td>0.0</td>\n",
       "      <td>0.0</td>\n",
       "      <td>1.0</td>\n",
       "      <td>0.0</td>\n",
       "      <td>0.0</td>\n",
       "      <td>0.000000</td>\n",
       "      <td>0.0</td>\n",
       "      <td>0.0</td>\n",
       "      <td>0.0</td>\n",
       "      <td>1.0</td>\n",
       "    </tr>\n",
       "    <tr>\n",
       "      <th>10055</th>\n",
       "      <td>0.0</td>\n",
       "      <td>0.672717</td>\n",
       "      <td>0.535738</td>\n",
       "      <td>1.0</td>\n",
       "      <td>0.0</td>\n",
       "      <td>0.0</td>\n",
       "      <td>1.0</td>\n",
       "      <td>0.0</td>\n",
       "      <td>0.0</td>\n",
       "      <td>0.861922</td>\n",
       "      <td>0.0</td>\n",
       "      <td>0.0</td>\n",
       "      <td>0.0</td>\n",
       "      <td>1.0</td>\n",
       "    </tr>\n",
       "    <tr>\n",
       "      <th>1903</th>\n",
       "      <td>0.0</td>\n",
       "      <td>0.650805</td>\n",
       "      <td>0.363626</td>\n",
       "      <td>1.0</td>\n",
       "      <td>0.0</td>\n",
       "      <td>0.0</td>\n",
       "      <td>0.0</td>\n",
       "      <td>1.0</td>\n",
       "      <td>0.0</td>\n",
       "      <td>0.691654</td>\n",
       "      <td>0.0</td>\n",
       "      <td>1.0</td>\n",
       "      <td>0.0</td>\n",
       "      <td>0.0</td>\n",
       "    </tr>\n",
       "    <tr>\n",
       "      <th>3065</th>\n",
       "      <td>0.0</td>\n",
       "      <td>0.497103</td>\n",
       "      <td>0.613619</td>\n",
       "      <td>0.0</td>\n",
       "      <td>0.0</td>\n",
       "      <td>0.0</td>\n",
       "      <td>0.0</td>\n",
       "      <td>1.0</td>\n",
       "      <td>0.0</td>\n",
       "      <td>0.000000</td>\n",
       "      <td>0.0</td>\n",
       "      <td>0.0</td>\n",
       "      <td>1.0</td>\n",
       "      <td>0.0</td>\n",
       "    </tr>\n",
       "    <tr>\n",
       "      <th>5679</th>\n",
       "      <td>1.0</td>\n",
       "      <td>0.720360</td>\n",
       "      <td>0.861460</td>\n",
       "      <td>1.0</td>\n",
       "      <td>0.0</td>\n",
       "      <td>0.0</td>\n",
       "      <td>0.0</td>\n",
       "      <td>0.0</td>\n",
       "      <td>1.0</td>\n",
       "      <td>0.347557</td>\n",
       "      <td>0.0</td>\n",
       "      <td>0.0</td>\n",
       "      <td>0.0</td>\n",
       "      <td>1.0</td>\n",
       "    </tr>\n",
       "  </tbody>\n",
       "</table>\n",
       "</div>"
      ],
      "text/plain": [
       "       Work_accident  average_montly_hours  last_evaluation  \\\n",
       "5682             0.0              0.792555         0.969265   \n",
       "10055            0.0              0.672717         0.535738   \n",
       "1903             0.0              0.650805         0.363626   \n",
       "3065             0.0              0.497103         0.613619   \n",
       "5679             1.0              0.720360         0.861460   \n",
       "\n",
       "       number_project_a couple  number_project_a few  number_project_many  \\\n",
       "5682                       0.0                   0.0                  0.0   \n",
       "10055                      1.0                   0.0                  0.0   \n",
       "1903                       1.0                   0.0                  0.0   \n",
       "3065                       0.0                   0.0                  0.0   \n",
       "5679                       1.0                   0.0                  0.0   \n",
       "\n",
       "       salary_high  salary_low  salary_medium  time_spend_company  \\\n",
       "5682           1.0         0.0            0.0            0.000000   \n",
       "10055          1.0         0.0            0.0            0.861922   \n",
       "1903           0.0         1.0            0.0            0.691654   \n",
       "3065           0.0         1.0            0.0            0.000000   \n",
       "5679           0.0         0.0            1.0            0.347557   \n",
       "\n",
       "       satisfaction_level_low  satisfaction_level_medium-low  \\\n",
       "5682                      0.0                            0.0   \n",
       "10055                     0.0                            0.0   \n",
       "1903                      0.0                            1.0   \n",
       "3065                      0.0                            0.0   \n",
       "5679                      0.0                            0.0   \n",
       "\n",
       "       satisfaction_level_medium-high  satisfaction_level_high  \n",
       "5682                              0.0                      1.0  \n",
       "10055                             0.0                      1.0  \n",
       "1903                              0.0                      0.0  \n",
       "3065                              1.0                      0.0  \n",
       "5679                              0.0                      1.0  "
      ]
     },
     "execution_count": 269,
     "metadata": {},
     "output_type": "execute_result"
    }
   ],
   "source": [
    "#Dataset Split: **Creating the test set**\n",
    "X, y = turnover.split(test_size= 0.2)\n",
    "\n",
    "#Or\n",
    "\n",
    "X, y = turnover.split(seed=1)\n",
    "\n",
    "X.train.head(5)\n"
   ]
  },
  {
   "cell_type": "markdown",
   "metadata": {},
   "source": [
    "## E. Cross-Validation"
   ]
  },
  {
   "cell_type": "code",
   "execution_count": 270,
   "metadata": {},
   "outputs": [
    {
     "name": "stdout",
     "output_type": "stream",
     "text": [
      "F1: 0.7902973395931142\n"
     ]
    }
   ],
   "source": [
    "from sklearn.linear_model import LogisticRegression\n",
    "from sklearn.model_selection import cross_val_score, StratifiedKFold\n",
    "from sklearn.metrics import accuracy_score, f1_score, recall_score, matthews_corrcoef\n",
    "\n",
    "\n",
    "clf_baseline = LogisticRegression().fit(X.train, y.train)\n",
    "pred_baseline = clf_baseline.predict(X.test)\n",
    "\n",
    "\n",
    "print('F1:', f1_score(y.test, pred_baseline))"
   ]
  },
  {
   "cell_type": "markdown",
   "metadata": {},
   "source": [
    "## F. Check Results: Weighted F1"
   ]
  },
  {
   "cell_type": "code",
   "execution_count": 271,
   "metadata": {
    "scrolled": true
   },
   "outputs": [
    {
     "name": "stdout",
     "output_type": "stream",
     "text": [
      "F1: 0.7902973395931142\n",
      "              precision    recall  f1-score   support\n",
      "\n",
      "         0.0       0.93      0.93      0.93      1936\n",
      "         1.0       0.79      0.79      0.79       642\n",
      "\n",
      "    accuracy                           0.90      2578\n",
      "   macro avg       0.86      0.86      0.86      2578\n",
      "weighted avg       0.90      0.90      0.90      2578\n",
      "\n"
     ]
    }
   ],
   "source": [
    "from sklearn.metrics import accuracy_score, f1_score, recall_score, matthews_corrcoef, classification_report\n",
    "\n",
    "\n",
    "clf_baseline = LogisticRegression().fit(X.train, y.train)\n",
    "pred_baseline = clf_baseline.predict(X.test)\n",
    "\n",
    "\n",
    "print('F1:', f1_score(y.test, pred_baseline,))\n",
    "print(classification_report(y.test,pred_baseline))"
   ]
  },
  {
   "cell_type": "markdown",
   "metadata": {},
   "source": [
    "## 6th ATTEMPT"
   ]
  },
  {
   "cell_type": "markdown",
   "metadata": {},
   "source": [
    "## 1) DATA LOADING & IMPORTING LIBRARIES"
   ]
  },
  {
   "cell_type": "code",
   "execution_count": 237,
   "metadata": {},
   "outputs": [],
   "source": [
    "from dataset import Dataset\n",
    "import numpy as np\n",
    "import matplotlib.pyplot as plt\n",
    "\n",
    "from sklearn.linear_model import LogisticRegression\n",
    "from sklearn.metrics import accuracy_score, f1_score, recall_score, matthews_corrcoef\n",
    "\n",
    "turnover = Dataset('/Users/kuka/Downloads/turnover.csv', delimiter=',', header=0)"
   ]
  },
  {
   "cell_type": "markdown",
   "metadata": {},
   "source": [
    "## A. Data Description"
   ]
  },
  {
   "cell_type": "code",
   "execution_count": 238,
   "metadata": {},
   "outputs": [
    {
     "name": "stdout",
     "output_type": "stream",
     "text": [
      "10 Features. 14999 Samples\n",
      "Available types: [dtype('float64') dtype('O')]\n",
      "  · 2 categorical features\n",
      "  · 8 numerical features\n",
      "  · 0 categorical features with NAs\n",
      "  · 0 numerical features with NAs\n",
      "  · 10 Complete features\n",
      "--\n",
      "Target: Not set\n"
     ]
    }
   ],
   "source": [
    "turnover.describe()"
   ]
  },
  {
   "cell_type": "markdown",
   "metadata": {},
   "source": [
    "## 2) Data Preparation & Transformation"
   ]
  },
  {
   "cell_type": "markdown",
   "metadata": {},
   "source": [
    "## A. Setting Target Variable"
   ]
  },
  {
   "cell_type": "code",
   "execution_count": 239,
   "metadata": {},
   "outputs": [
    {
     "name": "stdout",
     "output_type": "stream",
     "text": [
      "Setting target variable: left\n",
      "First 5 rows of dataset without left\n"
     ]
    },
    {
     "data": {
      "text/html": [
       "<div>\n",
       "<style scoped>\n",
       "    .dataframe tbody tr th:only-of-type {\n",
       "        vertical-align: middle;\n",
       "    }\n",
       "\n",
       "    .dataframe tbody tr th {\n",
       "        vertical-align: top;\n",
       "    }\n",
       "\n",
       "    .dataframe thead th {\n",
       "        text-align: right;\n",
       "    }\n",
       "</style>\n",
       "<table border=\"1\" class=\"dataframe\">\n",
       "  <thead>\n",
       "    <tr style=\"text-align: right;\">\n",
       "      <th></th>\n",
       "      <th>satisfaction_level</th>\n",
       "      <th>last_evaluation</th>\n",
       "      <th>number_project</th>\n",
       "      <th>average_montly_hours</th>\n",
       "      <th>time_spend_company</th>\n",
       "      <th>Work_accident</th>\n",
       "      <th>promotion_last_5years</th>\n",
       "      <th>sales</th>\n",
       "      <th>salary</th>\n",
       "    </tr>\n",
       "  </thead>\n",
       "  <tbody>\n",
       "    <tr>\n",
       "      <th>0</th>\n",
       "      <td>0.38</td>\n",
       "      <td>0.53</td>\n",
       "      <td>2.0</td>\n",
       "      <td>157.0</td>\n",
       "      <td>3.0</td>\n",
       "      <td>0.0</td>\n",
       "      <td>0.0</td>\n",
       "      <td>sales</td>\n",
       "      <td>low</td>\n",
       "    </tr>\n",
       "    <tr>\n",
       "      <th>1</th>\n",
       "      <td>0.80</td>\n",
       "      <td>0.86</td>\n",
       "      <td>5.0</td>\n",
       "      <td>262.0</td>\n",
       "      <td>6.0</td>\n",
       "      <td>0.0</td>\n",
       "      <td>0.0</td>\n",
       "      <td>sales</td>\n",
       "      <td>medium</td>\n",
       "    </tr>\n",
       "    <tr>\n",
       "      <th>2</th>\n",
       "      <td>0.11</td>\n",
       "      <td>0.88</td>\n",
       "      <td>7.0</td>\n",
       "      <td>272.0</td>\n",
       "      <td>4.0</td>\n",
       "      <td>0.0</td>\n",
       "      <td>0.0</td>\n",
       "      <td>sales</td>\n",
       "      <td>medium</td>\n",
       "    </tr>\n",
       "    <tr>\n",
       "      <th>3</th>\n",
       "      <td>0.72</td>\n",
       "      <td>0.87</td>\n",
       "      <td>5.0</td>\n",
       "      <td>223.0</td>\n",
       "      <td>5.0</td>\n",
       "      <td>0.0</td>\n",
       "      <td>0.0</td>\n",
       "      <td>sales</td>\n",
       "      <td>low</td>\n",
       "    </tr>\n",
       "    <tr>\n",
       "      <th>4</th>\n",
       "      <td>0.37</td>\n",
       "      <td>0.52</td>\n",
       "      <td>2.0</td>\n",
       "      <td>159.0</td>\n",
       "      <td>3.0</td>\n",
       "      <td>0.0</td>\n",
       "      <td>0.0</td>\n",
       "      <td>sales</td>\n",
       "      <td>low</td>\n",
       "    </tr>\n",
       "  </tbody>\n",
       "</table>\n",
       "</div>"
      ],
      "text/plain": [
       "   satisfaction_level  last_evaluation  number_project  average_montly_hours  \\\n",
       "0                0.38             0.53             2.0                 157.0   \n",
       "1                0.80             0.86             5.0                 262.0   \n",
       "2                0.11             0.88             7.0                 272.0   \n",
       "3                0.72             0.87             5.0                 223.0   \n",
       "4                0.37             0.52             2.0                 159.0   \n",
       "\n",
       "   time_spend_company  Work_accident  promotion_last_5years  sales  salary  \n",
       "0                 3.0            0.0                    0.0  sales     low  \n",
       "1                 6.0            0.0                    0.0  sales  medium  \n",
       "2                 4.0            0.0                    0.0  sales  medium  \n",
       "3                 5.0            0.0                    0.0  sales     low  \n",
       "4                 3.0            0.0                    0.0  sales     low  "
      ]
     },
     "execution_count": 239,
     "metadata": {},
     "output_type": "execute_result"
    }
   ],
   "source": [
    "#Setting the target variable of staff/employee attrition, in other words, employees who have left\n",
    "print (\"Setting target variable: left\")\n",
    "turnover.set_target(\"left\")\n",
    "\n",
    "#Reviewing the first 5 rows, but this time with our target variable \"left\" gone\n",
    "print (\"First 5 rows of dataset without left\")\n",
    "turnover.features.head(5)"
   ]
  },
  {
   "cell_type": "markdown",
   "metadata": {},
   "source": [
    "## B. Discritization"
   ]
  },
  {
   "cell_type": "code",
   "execution_count": 240,
   "metadata": {},
   "outputs": [
    {
     "name": "stdout",
     "output_type": "stream",
     "text": [
      "Features Summary (all):\n",
      "'satisfaction_level'   : float64    Min.(0.09) 1stQ(0.44) Med.(0.64) Mean(0.61) 3rdQ(0.82) Max.(1.0)\n",
      "'last_evaluation'      : float64    Min.(0.36) 1stQ(0.56) Med.(0.72) Mean(0.71) 3rdQ(0.87) Max.(1.0)\n",
      "'number_project'       : category   3 categs. 'nan'(4055, 0.5734) 'a couple'(2761, 0.3904) 'many'(256, 0.0362) \n",
      "'average_montly_hours' : float64    Min.(96.0) 1stQ(156.) Med.(200.) Mean(201.) 3rdQ(245.) Max.(310.)\n",
      "'time_spend_company'   : float64    Min.(2.0) 1stQ(3.0) Med.(3.0) Mean(3.49) 3rdQ(4.0) Max.(10.0)\n",
      "'Work_accident'        : float64    Min.(0.0) 1stQ(0.0) Med.(0.0) Mean(0.14) 3rdQ(0.0) Max.(1.0)\n",
      "'promotion_last_5years': float64    Min.(0.0) 1stQ(0.0) Med.(0.0) Mean(0.02) 3rdQ(0.0) Max.(1.0)\n",
      "'sales'                : object     10 categs. 'sales'(4140, 0.2760) 'accounting'(2720, 0.1813) 'hr'(2229, 0.1486) 'technical'(1227, 0.0818) ...\n",
      "'salary'               : object     3 categs. 'low'(7316, 0.4878) 'medium'(6446, 0.4298) 'high'(1237, 0.0825) \n",
      "'left'                 : float64    Min.(0.0) 1stQ(0.0) Med.(0.0) Mean(0.23) 3rdQ(0.0) Max.(1.0)\n",
      "Features Summary (all):\n",
      "'satisfaction_level'   : category   4 categs. 'medium-low'(5122, 0.3525) 'high'(4441, 0.3056) 'low'(3196, 0.2199) 'medium-high'(1773, 0.1220) \n",
      "'last_evaluation'      : float64    Min.(0.36) 1stQ(0.56) Med.(0.72) Mean(0.71) 3rdQ(0.87) Max.(1.0)\n",
      "'number_project'       : category   3 categs. 'nan'(4055, 0.5734) 'a couple'(2761, 0.3904) 'many'(256, 0.0362) \n",
      "'average_montly_hours' : float64    Min.(96.0) 1stQ(156.) Med.(200.) Mean(201.) 3rdQ(245.) Max.(310.)\n",
      "'time_spend_company'   : float64    Min.(2.0) 1stQ(3.0) Med.(3.0) Mean(3.49) 3rdQ(4.0) Max.(10.0)\n",
      "'Work_accident'        : float64    Min.(0.0) 1stQ(0.0) Med.(0.0) Mean(0.14) 3rdQ(0.0) Max.(1.0)\n",
      "'promotion_last_5years': float64    Min.(0.0) 1stQ(0.0) Med.(0.0) Mean(0.02) 3rdQ(0.0) Max.(1.0)\n",
      "'sales'                : object     10 categs. 'sales'(4140, 0.2760) 'accounting'(2720, 0.1813) 'hr'(2229, 0.1486) 'technical'(1227, 0.0818) ...\n",
      "'salary'               : object     3 categs. 'low'(7316, 0.4878) 'medium'(6446, 0.4298) 'high'(1237, 0.0825) \n",
      "'left'                 : float64    Min.(0.0) 1stQ(0.0) Med.(0.0) Mean(0.23) 3rdQ(0.0) Max.(1.0)\n",
      "Features Summary (all):\n",
      "'satisfaction_level'   : category   4 categs. 'medium-low'(5122, 0.3525) 'high'(4441, 0.3056) 'low'(3196, 0.2199) 'medium-high'(1773, 0.1220) \n",
      "'last_evaluation'      : float64    Min.(0.36) 1stQ(0.56) Med.(0.72) Mean(0.71) 3rdQ(0.87) Max.(1.0)\n",
      "'number_project'       : category   3 categs. 'nan'(4055, 0.5734) 'a couple'(2761, 0.3904) 'many'(256, 0.0362) \n",
      "'average_montly_hours' : float64    Min.(96.0) 1stQ(156.) Med.(200.) Mean(201.) 3rdQ(245.) Max.(310.)\n",
      "'time_spend_company'   : category   3 categs. 'under 5 years'(9000, 0.8893) '5 to 7 years'(906, 0.0895) 'nan'(214, 0.0211) \n",
      "'Work_accident'        : float64    Min.(0.0) 1stQ(0.0) Med.(0.0) Mean(0.14) 3rdQ(0.0) Max.(1.0)\n",
      "'promotion_last_5years': float64    Min.(0.0) 1stQ(0.0) Med.(0.0) Mean(0.02) 3rdQ(0.0) Max.(1.0)\n",
      "'sales'                : object     10 categs. 'sales'(4140, 0.2760) 'accounting'(2720, 0.1813) 'hr'(2229, 0.1486) 'technical'(1227, 0.0818) ...\n",
      "'salary'               : object     3 categs. 'low'(7316, 0.4878) 'medium'(6446, 0.4298) 'high'(1237, 0.0825) \n",
      "'left'                 : float64    Min.(0.0) 1stQ(0.0) Med.(0.0) Mean(0.23) 3rdQ(0.0) Max.(1.0)\n",
      "Features Summary (all):\n",
      "'satisfaction_level'   : category   4 categs. 'medium-low'(5122, 0.3525) 'high'(4441, 0.3056) 'low'(3196, 0.2199) 'medium-high'(1773, 0.1220) \n",
      "'last_evaluation'      : float64    Min.(0.36) 1stQ(0.56) Med.(0.72) Mean(0.71) 3rdQ(0.87) Max.(1.0)\n",
      "'number_project'       : category   3 categs. 'nan'(4055, 0.5734) 'a couple'(2761, 0.3904) 'many'(256, 0.0362) \n",
      "'average_montly_hours' : category   3 categs. 'low'(6432, 0.4349) 'high'(4668, 0.3156) 'average'(3691, 0.2495) \n",
      "'time_spend_company'   : category   3 categs. 'under 5 years'(9000, 0.8893) '5 to 7 years'(906, 0.0895) 'nan'(214, 0.0211) \n",
      "'Work_accident'        : float64    Min.(0.0) 1stQ(0.0) Med.(0.0) Mean(0.14) 3rdQ(0.0) Max.(1.0)\n",
      "'promotion_last_5years': float64    Min.(0.0) 1stQ(0.0) Med.(0.0) Mean(0.02) 3rdQ(0.0) Max.(1.0)\n",
      "'sales'                : object     10 categs. 'sales'(4140, 0.2760) 'accounting'(2720, 0.1813) 'hr'(2229, 0.1486) 'technical'(1227, 0.0818) ...\n",
      "'salary'               : object     3 categs. 'low'(7316, 0.4878) 'medium'(6446, 0.4298) 'high'(1237, 0.0825) \n",
      "'left'                 : float64    Min.(0.0) 1stQ(0.0) Med.(0.0) Mean(0.23) 3rdQ(0.0) Max.(1.0)\n"
     ]
    }
   ],
   "source": [
    "turnover.discretize('number_project', [(2, 3),(4, 5),(6, 7)],\n",
    "                   category_names=['a few', 'a couple', 'many']).summary()\n",
    "turnover.discretize('satisfaction_level', [(0, 0.25),(0.26, 0.51),(0.52, 0.77),(0.78, 1)],\n",
    "                   category_names=['low', 'medium-low', 'medium-high','high']).summary()\n",
    "turnover.discretize('time_spend_company', [(2, 4),(5, 7),(8, 10)],\n",
    "                   category_names=['under 5 years', '5 to 7 years', 'above 8 years']).summary()\n",
    "\n",
    "turnover.discretize('average_montly_hours', [(96, 164),(165, 244),(245, 310)],\n",
    "                   category_names=['low', 'average', 'high']).summary()"
   ]
  },
  {
   "cell_type": "markdown",
   "metadata": {},
   "source": [
    "## C. One-Hot Encoding"
   ]
  },
  {
   "cell_type": "code",
   "execution_count": 241,
   "metadata": {},
   "outputs": [
    {
     "name": "stdout",
     "output_type": "stream",
     "text": [
      "Features Summary (all):\n",
      "'Work_accident'        : float64    Min.(0.0) 1stQ(0.0) Med.(0.0) Mean(0.14) 3rdQ(0.0) Max.(1.0)\n",
      "'average_montly_hours' : category   3 categs. 'low'(6432, 0.4349) 'high'(4668, 0.3156) 'average'(3691, 0.2495) \n",
      "'last_evaluation'      : float64    Min.(0.36) 1stQ(0.56) Med.(0.72) Mean(0.71) 3rdQ(0.87) Max.(1.0)\n",
      "'number_project'       : category   3 categs. 'nan'(4055, 0.5734) 'a couple'(2761, 0.3904) 'many'(256, 0.0362) \n",
      "'promotion_last_5years': float64    Min.(0.0) 1stQ(0.0) Med.(0.0) Mean(0.02) 3rdQ(0.0) Max.(1.0)\n",
      "'salary'               : object     3 categs. 'low'(7316, 0.4878) 'medium'(6446, 0.4298) 'high'(1237, 0.0825) \n",
      "'satisfaction_level'   : category   4 categs. 'medium-low'(5122, 0.3525) 'high'(4441, 0.3056) 'low'(3196, 0.2199) 'medium-high'(1773, 0.1220) \n",
      "'time_spend_company'   : category   3 categs. 'under 5 years'(9000, 0.8893) '5 to 7 years'(906, 0.0895) 'nan'(214, 0.0211) \n",
      "'sales_IT'             : float64    Min.(0.0) 1stQ(0.0) Med.(0.0) Mean(0.08) 3rdQ(0.0) Max.(1.0)\n",
      "'sales_RandD'          : float64    Min.(0.0) 1stQ(0.0) Med.(0.0) Mean(0.05) 3rdQ(0.0) Max.(1.0)\n",
      "'sales_accounting'     : float64    Min.(0.0) 1stQ(0.0) Med.(0.0) Mean(0.05) 3rdQ(0.0) Max.(1.0)\n",
      "'sales_hr'             : float64    Min.(0.0) 1stQ(0.0) Med.(0.0) Mean(0.04) 3rdQ(0.0) Max.(1.0)\n",
      "'sales_management'     : float64    Min.(0.0) 1stQ(0.0) Med.(0.0) Mean(0.04) 3rdQ(0.0) Max.(1.0)\n",
      "'sales_marketing'      : float64    Min.(0.0) 1stQ(0.0) Med.(0.0) Mean(0.05) 3rdQ(0.0) Max.(1.0)\n",
      "'sales_product_mng'    : float64    Min.(0.0) 1stQ(0.0) Med.(0.0) Mean(0.06) 3rdQ(0.0) Max.(1.0)\n",
      "'sales_sales'          : float64    Min.(0.0) 1stQ(0.0) Med.(0.0) Mean(0.27) 3rdQ(1.0) Max.(1.0)\n",
      "'sales_support'        : float64    Min.(0.0) 1stQ(0.0) Med.(0.0) Mean(0.14) 3rdQ(0.0) Max.(1.0)\n",
      "'sales_technical'      : float64    Min.(0.0) 1stQ(0.0) Med.(0.0) Mean(0.18) 3rdQ(0.0) Max.(1.0)\n",
      "'left'                 : float64    Min.(0.0) 1stQ(0.0) Med.(0.0) Mean(0.23) 3rdQ(0.0) Max.(1.0)\n"
     ]
    }
   ],
   "source": [
    "#Tranforming the sales variable into dummyfied versions, which will produce more variable\n",
    "turnover1 = turnover.onehot_encode(\"sales\").summary()"
   ]
  },
  {
   "cell_type": "code",
   "execution_count": 242,
   "metadata": {},
   "outputs": [
    {
     "name": "stdout",
     "output_type": "stream",
     "text": [
      "Features Summary (all):\n",
      "'Work_accident'        : float64    Min.(0.0) 1stQ(0.0) Med.(0.0) Mean(0.14) 3rdQ(0.0) Max.(1.0)\n",
      "'average_montly_hours' : category   3 categs. 'low'(6432, 0.4349) 'high'(4668, 0.3156) 'average'(3691, 0.2495) \n",
      "'last_evaluation'      : float64    Min.(0.36) 1stQ(0.56) Med.(0.72) Mean(0.71) 3rdQ(0.87) Max.(1.0)\n",
      "'number_project'       : category   3 categs. 'nan'(4055, 0.5734) 'a couple'(2761, 0.3904) 'many'(256, 0.0362) \n",
      "'promotion_last_5years': float64    Min.(0.0) 1stQ(0.0) Med.(0.0) Mean(0.02) 3rdQ(0.0) Max.(1.0)\n",
      "'sales_IT'             : float64    Min.(0.0) 1stQ(0.0) Med.(0.0) Mean(0.08) 3rdQ(0.0) Max.(1.0)\n",
      "'sales_RandD'          : float64    Min.(0.0) 1stQ(0.0) Med.(0.0) Mean(0.05) 3rdQ(0.0) Max.(1.0)\n",
      "'sales_accounting'     : float64    Min.(0.0) 1stQ(0.0) Med.(0.0) Mean(0.05) 3rdQ(0.0) Max.(1.0)\n",
      "'sales_hr'             : float64    Min.(0.0) 1stQ(0.0) Med.(0.0) Mean(0.04) 3rdQ(0.0) Max.(1.0)\n",
      "'sales_management'     : float64    Min.(0.0) 1stQ(0.0) Med.(0.0) Mean(0.04) 3rdQ(0.0) Max.(1.0)\n",
      "'sales_marketing'      : float64    Min.(0.0) 1stQ(0.0) Med.(0.0) Mean(0.05) 3rdQ(0.0) Max.(1.0)\n",
      "'sales_product_mng'    : float64    Min.(0.0) 1stQ(0.0) Med.(0.0) Mean(0.06) 3rdQ(0.0) Max.(1.0)\n",
      "'sales_sales'          : float64    Min.(0.0) 1stQ(0.0) Med.(0.0) Mean(0.27) 3rdQ(1.0) Max.(1.0)\n",
      "'sales_support'        : float64    Min.(0.0) 1stQ(0.0) Med.(0.0) Mean(0.14) 3rdQ(0.0) Max.(1.0)\n",
      "'sales_technical'      : float64    Min.(0.0) 1stQ(0.0) Med.(0.0) Mean(0.18) 3rdQ(0.0) Max.(1.0)\n",
      "'satisfaction_level'   : category   4 categs. 'medium-low'(5122, 0.3525) 'high'(4441, 0.3056) 'low'(3196, 0.2199) 'medium-high'(1773, 0.1220) \n",
      "'time_spend_company'   : category   3 categs. 'under 5 years'(9000, 0.8893) '5 to 7 years'(906, 0.0895) 'nan'(214, 0.0211) \n",
      "'salary_high'          : float64    Min.(0.0) 1stQ(0.0) Med.(0.0) Mean(0.08) 3rdQ(0.0) Max.(1.0)\n",
      "'salary_low'           : float64    Min.(0.0) 1stQ(0.0) Med.(0.0) Mean(0.48) 3rdQ(1.0) Max.(1.0)\n",
      "'salary_medium'        : float64    Min.(0.0) 1stQ(0.0) Med.(0.0) Mean(0.42) 3rdQ(1.0) Max.(1.0)\n",
      "'left'                 : float64    Min.(0.0) 1stQ(0.0) Med.(0.0) Mean(0.23) 3rdQ(0.0) Max.(1.0)\n"
     ]
    }
   ],
   "source": [
    "#Tranforming the salary variable into dummyfied versions, which will produce more variable\n",
    "turnover_final = turnover.onehot_encode(\"salary\").summary()"
   ]
  },
  {
   "cell_type": "code",
   "execution_count": 243,
   "metadata": {},
   "outputs": [
    {
     "name": "stdout",
     "output_type": "stream",
     "text": [
      "Features Summary (all):\n",
      "'Work_accident'          : float64    Min.(0.0) 1stQ(0.0) Med.(0.0) Mean(0.14) 3rdQ(0.0) Max.(1.0)\n",
      "'average_montly_hours'   : category   3 categs. 'low'(6432, 0.4349) 'high'(4668, 0.3156) 'average'(3691, 0.2495) \n",
      "'last_evaluation'        : float64    Min.(0.36) 1stQ(0.56) Med.(0.72) Mean(0.71) 3rdQ(0.87) Max.(1.0)\n",
      "'promotion_last_5years'  : float64    Min.(0.0) 1stQ(0.0) Med.(0.0) Mean(0.02) 3rdQ(0.0) Max.(1.0)\n",
      "'salary_high'            : float64    Min.(0.0) 1stQ(0.0) Med.(0.0) Mean(0.08) 3rdQ(0.0) Max.(1.0)\n",
      "'salary_low'             : float64    Min.(0.0) 1stQ(0.0) Med.(0.0) Mean(0.48) 3rdQ(1.0) Max.(1.0)\n",
      "'salary_medium'          : float64    Min.(0.0) 1stQ(0.0) Med.(0.0) Mean(0.42) 3rdQ(1.0) Max.(1.0)\n",
      "'sales_IT'               : float64    Min.(0.0) 1stQ(0.0) Med.(0.0) Mean(0.08) 3rdQ(0.0) Max.(1.0)\n",
      "'sales_RandD'            : float64    Min.(0.0) 1stQ(0.0) Med.(0.0) Mean(0.05) 3rdQ(0.0) Max.(1.0)\n",
      "'sales_accounting'       : float64    Min.(0.0) 1stQ(0.0) Med.(0.0) Mean(0.05) 3rdQ(0.0) Max.(1.0)\n",
      "'sales_hr'               : float64    Min.(0.0) 1stQ(0.0) Med.(0.0) Mean(0.04) 3rdQ(0.0) Max.(1.0)\n",
      "'sales_management'       : float64    Min.(0.0) 1stQ(0.0) Med.(0.0) Mean(0.04) 3rdQ(0.0) Max.(1.0)\n",
      "'sales_marketing'        : float64    Min.(0.0) 1stQ(0.0) Med.(0.0) Mean(0.05) 3rdQ(0.0) Max.(1.0)\n",
      "'sales_product_mng'      : float64    Min.(0.0) 1stQ(0.0) Med.(0.0) Mean(0.06) 3rdQ(0.0) Max.(1.0)\n",
      "'sales_sales'            : float64    Min.(0.0) 1stQ(0.0) Med.(0.0) Mean(0.27) 3rdQ(1.0) Max.(1.0)\n",
      "'sales_support'          : float64    Min.(0.0) 1stQ(0.0) Med.(0.0) Mean(0.14) 3rdQ(0.0) Max.(1.0)\n",
      "'sales_technical'        : float64    Min.(0.0) 1stQ(0.0) Med.(0.0) Mean(0.18) 3rdQ(0.0) Max.(1.0)\n",
      "'satisfaction_level'     : category   4 categs. 'medium-low'(5122, 0.3525) 'high'(4441, 0.3056) 'low'(3196, 0.2199) 'medium-high'(1773, 0.1220) \n",
      "'time_spend_company'     : category   3 categs. 'under 5 years'(9000, 0.8893) '5 to 7 years'(906, 0.0895) 'nan'(214, 0.0211) \n",
      "'number_project_a few'   : float64    Min.(0.0) 1stQ(0.0) Med.(0.0) Mean(0.27) 3rdQ(1.0) Max.(1.0)\n",
      "'number_project_a couple': float64    Min.(0.0) 1stQ(0.0) Med.(0.0) Mean(0.18) 3rdQ(0.0) Max.(1.0)\n",
      "'number_project_many'    : float64    Min.(0.0) 1stQ(0.0) Med.(0.0) Mean(0.01) 3rdQ(0.0) Max.(1.0)\n",
      "'left'                   : float64    Min.(0.0) 1stQ(0.0) Med.(0.0) Mean(0.23) 3rdQ(0.0) Max.(1.0)\n"
     ]
    }
   ],
   "source": [
    "#Tranforming the salary variable into dummyfied versions, which will produce more variable\n",
    "turnover_final = turnover.onehot_encode(\"number_project\").summary()"
   ]
  },
  {
   "cell_type": "code",
   "execution_count": 244,
   "metadata": {},
   "outputs": [
    {
     "name": "stdout",
     "output_type": "stream",
     "text": [
      "Features Summary (all):\n",
      "'Work_accident'                 : float64    Min.(0.0) 1stQ(0.0) Med.(0.0) Mean(0.14) 3rdQ(0.0) Max.(1.0)\n",
      "'average_montly_hours'          : category   3 categs. 'low'(6432, 0.4349) 'high'(4668, 0.3156) 'average'(3691, 0.2495) \n",
      "'last_evaluation'               : float64    Min.(0.36) 1stQ(0.56) Med.(0.72) Mean(0.71) 3rdQ(0.87) Max.(1.0)\n",
      "'number_project_a couple'       : float64    Min.(0.0) 1stQ(0.0) Med.(0.0) Mean(0.18) 3rdQ(0.0) Max.(1.0)\n",
      "'number_project_a few'          : float64    Min.(0.0) 1stQ(0.0) Med.(0.0) Mean(0.27) 3rdQ(1.0) Max.(1.0)\n",
      "'number_project_many'           : float64    Min.(0.0) 1stQ(0.0) Med.(0.0) Mean(0.01) 3rdQ(0.0) Max.(1.0)\n",
      "'promotion_last_5years'         : float64    Min.(0.0) 1stQ(0.0) Med.(0.0) Mean(0.02) 3rdQ(0.0) Max.(1.0)\n",
      "'salary_high'                   : float64    Min.(0.0) 1stQ(0.0) Med.(0.0) Mean(0.08) 3rdQ(0.0) Max.(1.0)\n",
      "'salary_low'                    : float64    Min.(0.0) 1stQ(0.0) Med.(0.0) Mean(0.48) 3rdQ(1.0) Max.(1.0)\n",
      "'salary_medium'                 : float64    Min.(0.0) 1stQ(0.0) Med.(0.0) Mean(0.42) 3rdQ(1.0) Max.(1.0)\n",
      "'sales_IT'                      : float64    Min.(0.0) 1stQ(0.0) Med.(0.0) Mean(0.08) 3rdQ(0.0) Max.(1.0)\n",
      "'sales_RandD'                   : float64    Min.(0.0) 1stQ(0.0) Med.(0.0) Mean(0.05) 3rdQ(0.0) Max.(1.0)\n",
      "'sales_accounting'              : float64    Min.(0.0) 1stQ(0.0) Med.(0.0) Mean(0.05) 3rdQ(0.0) Max.(1.0)\n",
      "'sales_hr'                      : float64    Min.(0.0) 1stQ(0.0) Med.(0.0) Mean(0.04) 3rdQ(0.0) Max.(1.0)\n",
      "'sales_management'              : float64    Min.(0.0) 1stQ(0.0) Med.(0.0) Mean(0.04) 3rdQ(0.0) Max.(1.0)\n",
      "'sales_marketing'               : float64    Min.(0.0) 1stQ(0.0) Med.(0.0) Mean(0.05) 3rdQ(0.0) Max.(1.0)\n",
      "'sales_product_mng'             : float64    Min.(0.0) 1stQ(0.0) Med.(0.0) Mean(0.06) 3rdQ(0.0) Max.(1.0)\n",
      "'sales_sales'                   : float64    Min.(0.0) 1stQ(0.0) Med.(0.0) Mean(0.27) 3rdQ(1.0) Max.(1.0)\n",
      "'sales_support'                 : float64    Min.(0.0) 1stQ(0.0) Med.(0.0) Mean(0.14) 3rdQ(0.0) Max.(1.0)\n",
      "'sales_technical'               : float64    Min.(0.0) 1stQ(0.0) Med.(0.0) Mean(0.18) 3rdQ(0.0) Max.(1.0)\n",
      "'time_spend_company'            : category   3 categs. 'under 5 years'(9000, 0.8893) '5 to 7 years'(906, 0.0895) 'nan'(214, 0.0211) \n",
      "'satisfaction_level_low'        : float64    Min.(0.0) 1stQ(0.0) Med.(0.0) Mean(0.11) 3rdQ(0.0) Max.(1.0)\n",
      "'satisfaction_level_medium-low' : float64    Min.(0.0) 1stQ(0.0) Med.(0.0) Mean(0.21) 3rdQ(0.0) Max.(1.0)\n",
      "'satisfaction_level_medium-high': float64    Min.(0.0) 1stQ(0.0) Med.(0.0) Mean(0.34) 3rdQ(1.0) Max.(1.0)\n",
      "'satisfaction_level_high'       : float64    Min.(0.0) 1stQ(0.0) Med.(0.0) Mean(0.29) 3rdQ(1.0) Max.(1.0)\n",
      "'left'                          : float64    Min.(0.0) 1stQ(0.0) Med.(0.0) Mean(0.23) 3rdQ(0.0) Max.(1.0)\n"
     ]
    }
   ],
   "source": [
    "#Tranforming the sales variable into dummyfied versions, which will produce more variable\n",
    "turnover1 = turnover.onehot_encode(\"satisfaction_level\").summary()"
   ]
  },
  {
   "cell_type": "code",
   "execution_count": 245,
   "metadata": {},
   "outputs": [
    {
     "name": "stdout",
     "output_type": "stream",
     "text": [
      "Features Summary (all):\n",
      "'Work_accident'                   : float64    Min.(0.0) 1stQ(0.0) Med.(0.0) Mean(0.14) 3rdQ(0.0) Max.(1.0)\n",
      "'average_montly_hours'            : category   3 categs. 'low'(6432, 0.4349) 'high'(4668, 0.3156) 'average'(3691, 0.2495) \n",
      "'last_evaluation'                 : float64    Min.(0.36) 1stQ(0.56) Med.(0.72) Mean(0.71) 3rdQ(0.87) Max.(1.0)\n",
      "'number_project_a couple'         : float64    Min.(0.0) 1stQ(0.0) Med.(0.0) Mean(0.18) 3rdQ(0.0) Max.(1.0)\n",
      "'number_project_a few'            : float64    Min.(0.0) 1stQ(0.0) Med.(0.0) Mean(0.27) 3rdQ(1.0) Max.(1.0)\n",
      "'number_project_many'             : float64    Min.(0.0) 1stQ(0.0) Med.(0.0) Mean(0.01) 3rdQ(0.0) Max.(1.0)\n",
      "'promotion_last_5years'           : float64    Min.(0.0) 1stQ(0.0) Med.(0.0) Mean(0.02) 3rdQ(0.0) Max.(1.0)\n",
      "'salary_high'                     : float64    Min.(0.0) 1stQ(0.0) Med.(0.0) Mean(0.08) 3rdQ(0.0) Max.(1.0)\n",
      "'salary_low'                      : float64    Min.(0.0) 1stQ(0.0) Med.(0.0) Mean(0.48) 3rdQ(1.0) Max.(1.0)\n",
      "'salary_medium'                   : float64    Min.(0.0) 1stQ(0.0) Med.(0.0) Mean(0.42) 3rdQ(1.0) Max.(1.0)\n",
      "'sales_IT'                        : float64    Min.(0.0) 1stQ(0.0) Med.(0.0) Mean(0.08) 3rdQ(0.0) Max.(1.0)\n",
      "'sales_RandD'                     : float64    Min.(0.0) 1stQ(0.0) Med.(0.0) Mean(0.05) 3rdQ(0.0) Max.(1.0)\n",
      "'sales_accounting'                : float64    Min.(0.0) 1stQ(0.0) Med.(0.0) Mean(0.05) 3rdQ(0.0) Max.(1.0)\n",
      "'sales_hr'                        : float64    Min.(0.0) 1stQ(0.0) Med.(0.0) Mean(0.04) 3rdQ(0.0) Max.(1.0)\n",
      "'sales_management'                : float64    Min.(0.0) 1stQ(0.0) Med.(0.0) Mean(0.04) 3rdQ(0.0) Max.(1.0)\n",
      "'sales_marketing'                 : float64    Min.(0.0) 1stQ(0.0) Med.(0.0) Mean(0.05) 3rdQ(0.0) Max.(1.0)\n",
      "'sales_product_mng'               : float64    Min.(0.0) 1stQ(0.0) Med.(0.0) Mean(0.06) 3rdQ(0.0) Max.(1.0)\n",
      "'sales_sales'                     : float64    Min.(0.0) 1stQ(0.0) Med.(0.0) Mean(0.27) 3rdQ(1.0) Max.(1.0)\n",
      "'sales_support'                   : float64    Min.(0.0) 1stQ(0.0) Med.(0.0) Mean(0.14) 3rdQ(0.0) Max.(1.0)\n",
      "'sales_technical'                 : float64    Min.(0.0) 1stQ(0.0) Med.(0.0) Mean(0.18) 3rdQ(0.0) Max.(1.0)\n",
      "'satisfaction_level_high'         : float64    Min.(0.0) 1stQ(0.0) Med.(0.0) Mean(0.29) 3rdQ(1.0) Max.(1.0)\n",
      "'satisfaction_level_low'          : float64    Min.(0.0) 1stQ(0.0) Med.(0.0) Mean(0.11) 3rdQ(0.0) Max.(1.0)\n",
      "'satisfaction_level_medium-high'  : float64    Min.(0.0) 1stQ(0.0) Med.(0.0) Mean(0.34) 3rdQ(1.0) Max.(1.0)\n",
      "'satisfaction_level_medium-low'   : float64    Min.(0.0) 1stQ(0.0) Med.(0.0) Mean(0.21) 3rdQ(0.0) Max.(1.0)\n",
      "'time_spend_company_under 5 years': float64    Min.(0.0) 1stQ(0.0) Med.(1.0) Mean(0.60) 3rdQ(1.0) Max.(1.0)\n",
      "'time_spend_company_5 to 7 years' : float64    Min.(0.0) 1stQ(0.0) Med.(0.0) Mean(0.06) 3rdQ(0.0) Max.(1.0)\n",
      "'time_spend_company_above 8 years': float64    Min.(0.0) 1stQ(0.0) Med.(0.0) Mean(0.01) 3rdQ(0.0) Max.(1.0)\n",
      "'left'                            : float64    Min.(0.0) 1stQ(0.0) Med.(0.0) Mean(0.23) 3rdQ(0.0) Max.(1.0)\n"
     ]
    }
   ],
   "source": [
    "#Tranforming the sales variable into dummyfied versions, which will produce more variable\n",
    "turnover1 = turnover.onehot_encode(\"time_spend_company\").summary()"
   ]
  },
  {
   "cell_type": "code",
   "execution_count": 246,
   "metadata": {},
   "outputs": [
    {
     "name": "stdout",
     "output_type": "stream",
     "text": [
      "Features Summary (all):\n",
      "'Work_accident'                   : float64    Min.(0.0) 1stQ(0.0) Med.(0.0) Mean(0.14) 3rdQ(0.0) Max.(1.0)\n",
      "'last_evaluation'                 : float64    Min.(0.36) 1stQ(0.56) Med.(0.72) Mean(0.71) 3rdQ(0.87) Max.(1.0)\n",
      "'number_project_a couple'         : float64    Min.(0.0) 1stQ(0.0) Med.(0.0) Mean(0.18) 3rdQ(0.0) Max.(1.0)\n",
      "'number_project_a few'            : float64    Min.(0.0) 1stQ(0.0) Med.(0.0) Mean(0.27) 3rdQ(1.0) Max.(1.0)\n",
      "'number_project_many'             : float64    Min.(0.0) 1stQ(0.0) Med.(0.0) Mean(0.01) 3rdQ(0.0) Max.(1.0)\n",
      "'promotion_last_5years'           : float64    Min.(0.0) 1stQ(0.0) Med.(0.0) Mean(0.02) 3rdQ(0.0) Max.(1.0)\n",
      "'salary_high'                     : float64    Min.(0.0) 1stQ(0.0) Med.(0.0) Mean(0.08) 3rdQ(0.0) Max.(1.0)\n",
      "'salary_low'                      : float64    Min.(0.0) 1stQ(0.0) Med.(0.0) Mean(0.48) 3rdQ(1.0) Max.(1.0)\n",
      "'salary_medium'                   : float64    Min.(0.0) 1stQ(0.0) Med.(0.0) Mean(0.42) 3rdQ(1.0) Max.(1.0)\n",
      "'sales_IT'                        : float64    Min.(0.0) 1stQ(0.0) Med.(0.0) Mean(0.08) 3rdQ(0.0) Max.(1.0)\n",
      "'sales_RandD'                     : float64    Min.(0.0) 1stQ(0.0) Med.(0.0) Mean(0.05) 3rdQ(0.0) Max.(1.0)\n",
      "'sales_accounting'                : float64    Min.(0.0) 1stQ(0.0) Med.(0.0) Mean(0.05) 3rdQ(0.0) Max.(1.0)\n",
      "'sales_hr'                        : float64    Min.(0.0) 1stQ(0.0) Med.(0.0) Mean(0.04) 3rdQ(0.0) Max.(1.0)\n",
      "'sales_management'                : float64    Min.(0.0) 1stQ(0.0) Med.(0.0) Mean(0.04) 3rdQ(0.0) Max.(1.0)\n",
      "'sales_marketing'                 : float64    Min.(0.0) 1stQ(0.0) Med.(0.0) Mean(0.05) 3rdQ(0.0) Max.(1.0)\n",
      "'sales_product_mng'               : float64    Min.(0.0) 1stQ(0.0) Med.(0.0) Mean(0.06) 3rdQ(0.0) Max.(1.0)\n",
      "'sales_sales'                     : float64    Min.(0.0) 1stQ(0.0) Med.(0.0) Mean(0.27) 3rdQ(1.0) Max.(1.0)\n",
      "'sales_support'                   : float64    Min.(0.0) 1stQ(0.0) Med.(0.0) Mean(0.14) 3rdQ(0.0) Max.(1.0)\n",
      "'sales_technical'                 : float64    Min.(0.0) 1stQ(0.0) Med.(0.0) Mean(0.18) 3rdQ(0.0) Max.(1.0)\n",
      "'satisfaction_level_high'         : float64    Min.(0.0) 1stQ(0.0) Med.(0.0) Mean(0.29) 3rdQ(1.0) Max.(1.0)\n",
      "'satisfaction_level_low'          : float64    Min.(0.0) 1stQ(0.0) Med.(0.0) Mean(0.11) 3rdQ(0.0) Max.(1.0)\n",
      "'satisfaction_level_medium-high'  : float64    Min.(0.0) 1stQ(0.0) Med.(0.0) Mean(0.34) 3rdQ(1.0) Max.(1.0)\n",
      "'satisfaction_level_medium-low'   : float64    Min.(0.0) 1stQ(0.0) Med.(0.0) Mean(0.21) 3rdQ(0.0) Max.(1.0)\n",
      "'time_spend_company_5 to 7 years' : float64    Min.(0.0) 1stQ(0.0) Med.(0.0) Mean(0.06) 3rdQ(0.0) Max.(1.0)\n",
      "'time_spend_company_above 8 years': float64    Min.(0.0) 1stQ(0.0) Med.(0.0) Mean(0.01) 3rdQ(0.0) Max.(1.0)\n",
      "'time_spend_company_under 5 years': float64    Min.(0.0) 1stQ(0.0) Med.(1.0) Mean(0.60) 3rdQ(1.0) Max.(1.0)\n",
      "'average_montly_hours_low'        : float64    Min.(0.0) 1stQ(0.0) Med.(0.0) Mean(0.31) 3rdQ(1.0) Max.(1.0)\n",
      "'average_montly_hours_average'    : float64    Min.(0.0) 1stQ(0.0) Med.(0.0) Mean(0.42) 3rdQ(1.0) Max.(1.0)\n",
      "'average_montly_hours_high'       : float64    Min.(0.0) 1stQ(0.0) Med.(0.0) Mean(0.24) 3rdQ(0.0) Max.(1.0)\n",
      "'left'                            : float64    Min.(0.0) 1stQ(0.0) Med.(0.0) Mean(0.23) 3rdQ(0.0) Max.(1.0)\n"
     ]
    }
   ],
   "source": [
    "#Tranforming the sales variable into dummyfied versions, which will produce more variable\n",
    "turnover1 = turnover.onehot_encode(\"average_montly_hours\").summary()"
   ]
  },
  {
   "cell_type": "markdown",
   "metadata": {},
   "source": [
    "## D. Fixing Scale & Skewness"
   ]
  },
  {
   "cell_type": "code",
   "execution_count": 247,
   "metadata": {},
   "outputs": [
    {
     "data": {
      "text/plain": [
       "<dataset.dataset.Dataset at 0x120a0e0b8>"
      ]
     },
     "execution_count": 247,
     "metadata": {},
     "output_type": "execute_result"
    }
   ],
   "source": [
    "turnover.fix_skewness()\n",
    "turnover.scale(method='MinMaxScaler')"
   ]
  },
  {
   "cell_type": "markdown",
   "metadata": {},
   "source": [
    "## 3) FEATURE ENGINEERING"
   ]
  },
  {
   "cell_type": "markdown",
   "metadata": {},
   "source": [
    "## A. Outliers"
   ]
  },
  {
   "cell_type": "code",
   "execution_count": 248,
   "metadata": {},
   "outputs": [
    {
     "data": {
      "text/plain": [
       "array([   10,    15,    16, ..., 14981, 14989, 14996])"
      ]
     },
     "execution_count": 248,
     "metadata": {},
     "output_type": "execute_result"
    }
   ],
   "source": [
    "#Identifying indeces that may contain outliers\n",
    "\n",
    "turnover.outliers()"
   ]
  },
  {
   "cell_type": "code",
   "execution_count": 249,
   "metadata": {},
   "outputs": [
    {
     "data": {
      "text/plain": [
       "<dataset.dataset.Dataset at 0x120a0e0b8>"
      ]
     },
     "execution_count": 249,
     "metadata": {},
     "output_type": "execute_result"
    }
   ],
   "source": [
    "#Dropping outliers\n",
    "\n",
    "turnover.drop_samples(turnover.outliers())"
   ]
  },
  {
   "cell_type": "markdown",
   "metadata": {},
   "source": [
    "## B. Feature importance after One-Hot Encoding"
   ]
  },
  {
   "cell_type": "code",
   "execution_count": 250,
   "metadata": {},
   "outputs": [
    {
     "name": "stdout",
     "output_type": "stream",
     "text": [
      "Overall feature importance:\n"
     ]
    },
    {
     "data": {
      "text/plain": [
       "{'Work_accident': 0.02405500982318218,\n",
       " 'average_montly_hours_average': 0.16437721021610938,\n",
       " 'average_montly_hours_high': 0.1143693516699424,\n",
       " 'average_montly_hours_low': 0.18539489194498915,\n",
       " 'last_evaluation': 0.012052252381802374,\n",
       " 'number_project_a couple': 0.07557563850687689,\n",
       " 'number_project_a few': 0.13706876227898057,\n",
       " 'number_project_many': 0.018797642436149533,\n",
       " 'promotion_last_5years': -0.0006601178781925366,\n",
       " 'salary_high': 0.04492337917485254,\n",
       " 'salary_low': 0.07270333988212248,\n",
       " 'salary_medium': 0.05486836935166972,\n",
       " 'sales_IT': 0.024671905697445724,\n",
       " 'sales_RandD': 0.010884086444008026,\n",
       " 'sales_accounting': 0.0076267190569745,\n",
       " 'sales_hr': 0.026361493123772294,\n",
       " 'sales_management': 0.010168958742632619,\n",
       " 'sales_marketing': 0.012058939096267268,\n",
       " 'sales_product_mng': 0.0008880157170923118,\n",
       " 'sales_sales': 0.04016110019646362,\n",
       " 'sales_support': 0.031206286836935264,\n",
       " 'sales_technical': 0.050990176817288374,\n",
       " 'satisfaction_level_high': 0.15289587426326073,\n",
       " 'satisfaction_level_low': 0.1246601178781942,\n",
       " 'satisfaction_level_medium-high': 0.1728369351669937,\n",
       " 'satisfaction_level_medium-low': 0.21594891944990446,\n",
       " 'time_spend_company_5 to 7 years': 0.02593320235756401,\n",
       " 'time_spend_company_above 8 years': 0.00020039292730845393,\n",
       " 'time_spend_company_under 5 years': 0.1647190569744614}"
      ]
     },
     "execution_count": 250,
     "metadata": {},
     "output_type": "execute_result"
    }
   ],
   "source": [
    "#After we preformed an One-Hot encoding we will now analyse the feature importance\n",
    "\n",
    "print (\"Overall feature importance:\")\n",
    "turnover.features_importance()"
   ]
  },
  {
   "cell_type": "code",
   "execution_count": 251,
   "metadata": {},
   "outputs": [
    {
     "name": "stdout",
     "output_type": "stream",
     "text": [
      "Graphical plot of feature importance:\n"
     ]
    },
    {
     "data": {
      "image/png": "[encoded data removed]",
      "text/plain": [
       "<Figure size 576x576 with 1 Axes>"
      ]
     },
     "metadata": {},
     "output_type": "display_data"
    }
   ],
   "source": [
    "print (\"Graphical plot of feature importance:\")\n",
    "turnover.plot_importance()"
   ]
  },
  {
   "cell_type": "markdown",
   "metadata": {},
   "source": [
    "## C. Drop Not Relevant Features"
   ]
  },
  {
   "cell_type": "code",
   "execution_count": 252,
   "metadata": {},
   "outputs": [
    {
     "data": {
      "text/plain": [
       "<dataset.dataset.Dataset at 0x120a0e0b8>"
      ]
     },
     "execution_count": 252,
     "metadata": {},
     "output_type": "execute_result"
    }
   ],
   "source": [
    "turnover.drop_columns('sales_IT')\n",
    "turnover.drop_columns('sales_RandD')\n",
    "turnover.drop_columns('sales_accounting')\n",
    "turnover.drop_columns('sales_hr')\n",
    "turnover.drop_columns('sales_management')\n",
    "turnover.drop_columns('sales_marketing')\n",
    "turnover.drop_columns('sales_product_mng')\n",
    "turnover.drop_columns('sales_sales')\n",
    "turnover.drop_columns('sales_support')\n",
    "turnover.drop_columns('sales_technical')\n",
    "turnover.drop_columns('promotion_last_5years')"
   ]
  },
  {
   "cell_type": "markdown",
   "metadata": {},
   "source": [
    "## C. Dataset Splitting"
   ]
  },
  {
   "cell_type": "code",
   "execution_count": 253,
   "metadata": {},
   "outputs": [
    {
     "data": {
      "text/html": [
       "<div>\n",
       "<style scoped>\n",
       "    .dataframe tbody tr th:only-of-type {\n",
       "        vertical-align: middle;\n",
       "    }\n",
       "\n",
       "    .dataframe tbody tr th {\n",
       "        vertical-align: top;\n",
       "    }\n",
       "\n",
       "    .dataframe thead th {\n",
       "        text-align: right;\n",
       "    }\n",
       "</style>\n",
       "<table border=\"1\" class=\"dataframe\">\n",
       "  <thead>\n",
       "    <tr style=\"text-align: right;\">\n",
       "      <th></th>\n",
       "      <th>Work_accident</th>\n",
       "      <th>last_evaluation</th>\n",
       "      <th>number_project_a couple</th>\n",
       "      <th>number_project_a few</th>\n",
       "      <th>number_project_many</th>\n",
       "      <th>salary_high</th>\n",
       "      <th>salary_low</th>\n",
       "      <th>salary_medium</th>\n",
       "      <th>satisfaction_level_high</th>\n",
       "      <th>satisfaction_level_low</th>\n",
       "      <th>satisfaction_level_medium-high</th>\n",
       "      <th>satisfaction_level_medium-low</th>\n",
       "      <th>time_spend_company_5 to 7 years</th>\n",
       "      <th>time_spend_company_above 8 years</th>\n",
       "      <th>time_spend_company_under 5 years</th>\n",
       "      <th>average_montly_hours_low</th>\n",
       "      <th>average_montly_hours_average</th>\n",
       "      <th>average_montly_hours_high</th>\n",
       "    </tr>\n",
       "  </thead>\n",
       "  <tbody>\n",
       "    <tr>\n",
       "      <th>2336</th>\n",
       "      <td>0.0</td>\n",
       "      <td>0.660247</td>\n",
       "      <td>0.0</td>\n",
       "      <td>1.0</td>\n",
       "      <td>0.0</td>\n",
       "      <td>0.0</td>\n",
       "      <td>1.0</td>\n",
       "      <td>0.0</td>\n",
       "      <td>0.0</td>\n",
       "      <td>0.0</td>\n",
       "      <td>1.0</td>\n",
       "      <td>0.0</td>\n",
       "      <td>0.0</td>\n",
       "      <td>0.0</td>\n",
       "      <td>0.0</td>\n",
       "      <td>0.0</td>\n",
       "      <td>1.0</td>\n",
       "      <td>0.0</td>\n",
       "    </tr>\n",
       "    <tr>\n",
       "      <th>12678</th>\n",
       "      <td>0.0</td>\n",
       "      <td>0.876883</td>\n",
       "      <td>1.0</td>\n",
       "      <td>0.0</td>\n",
       "      <td>0.0</td>\n",
       "      <td>0.0</td>\n",
       "      <td>0.0</td>\n",
       "      <td>1.0</td>\n",
       "      <td>1.0</td>\n",
       "      <td>0.0</td>\n",
       "      <td>0.0</td>\n",
       "      <td>0.0</td>\n",
       "      <td>0.0</td>\n",
       "      <td>0.0</td>\n",
       "      <td>0.0</td>\n",
       "      <td>0.0</td>\n",
       "      <td>1.0</td>\n",
       "      <td>0.0</td>\n",
       "    </tr>\n",
       "    <tr>\n",
       "      <th>5402</th>\n",
       "      <td>1.0</td>\n",
       "      <td>0.535738</td>\n",
       "      <td>0.0</td>\n",
       "      <td>1.0</td>\n",
       "      <td>0.0</td>\n",
       "      <td>0.0</td>\n",
       "      <td>1.0</td>\n",
       "      <td>0.0</td>\n",
       "      <td>1.0</td>\n",
       "      <td>0.0</td>\n",
       "      <td>0.0</td>\n",
       "      <td>0.0</td>\n",
       "      <td>0.0</td>\n",
       "      <td>0.0</td>\n",
       "      <td>0.0</td>\n",
       "      <td>0.0</td>\n",
       "      <td>0.0</td>\n",
       "      <td>1.0</td>\n",
       "    </tr>\n",
       "    <tr>\n",
       "      <th>12412</th>\n",
       "      <td>0.0</td>\n",
       "      <td>0.221972</td>\n",
       "      <td>0.0</td>\n",
       "      <td>0.0</td>\n",
       "      <td>0.0</td>\n",
       "      <td>0.0</td>\n",
       "      <td>1.0</td>\n",
       "      <td>0.0</td>\n",
       "      <td>0.0</td>\n",
       "      <td>0.0</td>\n",
       "      <td>0.0</td>\n",
       "      <td>1.0</td>\n",
       "      <td>0.0</td>\n",
       "      <td>0.0</td>\n",
       "      <td>1.0</td>\n",
       "      <td>0.0</td>\n",
       "      <td>0.0</td>\n",
       "      <td>1.0</td>\n",
       "    </tr>\n",
       "    <tr>\n",
       "      <th>6634</th>\n",
       "      <td>0.0</td>\n",
       "      <td>0.613619</td>\n",
       "      <td>1.0</td>\n",
       "      <td>0.0</td>\n",
       "      <td>0.0</td>\n",
       "      <td>0.0</td>\n",
       "      <td>0.0</td>\n",
       "      <td>1.0</td>\n",
       "      <td>0.0</td>\n",
       "      <td>0.0</td>\n",
       "      <td>0.0</td>\n",
       "      <td>1.0</td>\n",
       "      <td>0.0</td>\n",
       "      <td>0.0</td>\n",
       "      <td>1.0</td>\n",
       "      <td>0.0</td>\n",
       "      <td>0.0</td>\n",
       "      <td>1.0</td>\n",
       "    </tr>\n",
       "  </tbody>\n",
       "</table>\n",
       "</div>"
      ],
      "text/plain": [
       "       Work_accident  last_evaluation  number_project_a couple  \\\n",
       "2336             0.0         0.660247                      0.0   \n",
       "12678            0.0         0.876883                      1.0   \n",
       "5402             1.0         0.535738                      0.0   \n",
       "12412            0.0         0.221972                      0.0   \n",
       "6634             0.0         0.613619                      1.0   \n",
       "\n",
       "       number_project_a few  number_project_many  salary_high  salary_low  \\\n",
       "2336                    1.0                  0.0          0.0         1.0   \n",
       "12678                   0.0                  0.0          0.0         0.0   \n",
       "5402                    1.0                  0.0          0.0         1.0   \n",
       "12412                   0.0                  0.0          0.0         1.0   \n",
       "6634                    0.0                  0.0          0.0         0.0   \n",
       "\n",
       "       salary_medium  satisfaction_level_high  satisfaction_level_low  \\\n",
       "2336             0.0                      0.0                     0.0   \n",
       "12678            1.0                      1.0                     0.0   \n",
       "5402             0.0                      1.0                     0.0   \n",
       "12412            0.0                      0.0                     0.0   \n",
       "6634             1.0                      0.0                     0.0   \n",
       "\n",
       "       satisfaction_level_medium-high  satisfaction_level_medium-low  \\\n",
       "2336                              1.0                            0.0   \n",
       "12678                             0.0                            0.0   \n",
       "5402                              0.0                            0.0   \n",
       "12412                             0.0                            1.0   \n",
       "6634                              0.0                            1.0   \n",
       "\n",
       "       time_spend_company_5 to 7 years  time_spend_company_above 8 years  \\\n",
       "2336                               0.0                               0.0   \n",
       "12678                              0.0                               0.0   \n",
       "5402                               0.0                               0.0   \n",
       "12412                              0.0                               0.0   \n",
       "6634                               0.0                               0.0   \n",
       "\n",
       "       time_spend_company_under 5 years  average_montly_hours_low  \\\n",
       "2336                                0.0                       0.0   \n",
       "12678                               0.0                       0.0   \n",
       "5402                                0.0                       0.0   \n",
       "12412                               1.0                       0.0   \n",
       "6634                                1.0                       0.0   \n",
       "\n",
       "       average_montly_hours_average  average_montly_hours_high  \n",
       "2336                            1.0                        0.0  \n",
       "12678                           1.0                        0.0  \n",
       "5402                            0.0                        1.0  \n",
       "12412                           0.0                        1.0  \n",
       "6634                            0.0                        1.0  "
      ]
     },
     "execution_count": 253,
     "metadata": {},
     "output_type": "execute_result"
    }
   ],
   "source": [
    "#Dataset Split: **Creating the test set**\n",
    "X, y = turnover.split(test_size= 0.2)\n",
    "\n",
    "#Or\n",
    "\n",
    "X, y = turnover.split(seed=1)\n",
    "\n",
    "X.train.head(5)"
   ]
  },
  {
   "cell_type": "markdown",
   "metadata": {},
   "source": [
    "## B. Cross Validation"
   ]
  },
  {
   "cell_type": "code",
   "execution_count": 254,
   "metadata": {},
   "outputs": [
    {
     "name": "stdout",
     "output_type": "stream",
     "text": [
      "F1: 0.7755474452554745\n"
     ]
    }
   ],
   "source": [
    "from sklearn.linear_model import LogisticRegression\n",
    "from sklearn.model_selection import cross_val_score, StratifiedKFold\n",
    "from sklearn.metrics import accuracy_score, f1_score, recall_score, matthews_corrcoef\n",
    "\n",
    "\n",
    "clf_baseline = LogisticRegression().fit(X.train, y.train)\n",
    "pred_baseline = clf_baseline.predict(X.test)\n",
    "\n",
    "\n",
    "print('F1:', f1_score(y.test, pred_baseline))"
   ]
  },
  {
   "cell_type": "markdown",
   "metadata": {},
   "source": [
    "## D. Check Results: Weighted F1"
   ]
  },
  {
   "cell_type": "code",
   "execution_count": 255,
   "metadata": {},
   "outputs": [
    {
     "name": "stdout",
     "output_type": "stream",
     "text": [
      "F1: 0.7755474452554745\n",
      "              precision    recall  f1-score   support\n",
      "\n",
      "         0.0       0.92      0.95      0.94      1968\n",
      "         1.0       0.82      0.74      0.78       577\n",
      "\n",
      "    accuracy                           0.90      2545\n",
      "   macro avg       0.87      0.84      0.86      2545\n",
      "weighted avg       0.90      0.90      0.90      2545\n",
      "\n"
     ]
    }
   ],
   "source": [
    "from sklearn.metrics import accuracy_score, f1_score, recall_score, matthews_corrcoef, classification_report\n",
    "\n",
    "\n",
    "clf_baseline = LogisticRegression().fit(X.train, y.train)\n",
    "pred_baseline = clf_baseline.predict(X.test)\n",
    "\n",
    "\n",
    "print('F1:', f1_score(y.test, pred_baseline,))\n",
    "print(classification_report(y.test,pred_baseline))"
   ]
  },
  {
   "cell_type": "markdown",
   "metadata": {},
   "source": [
    "## Additional Info"
   ]
  },
  {
   "cell_type": "markdown",
   "metadata": {},
   "source": [
    "##  Regularization With Logistic Regression"
   ]
  },
  {
   "cell_type": "code",
   "execution_count": 118,
   "metadata": {
    "collapsed": true
   },
   "outputs": [],
   "source": [
    "from dataset import Dataset as dataset\n",
    "from sklearn.linear_model import LogisticRegression\n",
    "from sklearn.svm import l1_min_c\n",
    "from typing import List\n",
    "from skrebate import ReliefF\n",
    "\n",
    "import pandas as pd\n",
    "import matplotlib.pyplot as plt\n",
    "import numpy as np"
   ]
  },
  {
   "cell_type": "code",
   "execution_count": 119,
   "metadata": {
    "collapsed": true
   },
   "outputs": [],
   "source": [
    "def coefficients_behavior(X, y, cs, penalty='l1'):\n",
    "    \n",
    "    clf = LogisticRegression(penalty=penalty, solver='liblinear',\n",
    "                             tol=1e-6, max_iter=int(1e6),\n",
    "                             warm_start=True, intercept_scaling=10000.)\n",
    "    coefs_ = []\n",
    "    for c in cs[::-1]:\n",
    "        clf.set_params(C=c)\n",
    "        clf.fit(X, y)\n",
    "        coefs_.append(clf.coef_.ravel().copy())\n",
    "\n",
    "    return coefs_"
   ]
  },
  {
   "cell_type": "code",
   "execution_count": 120,
   "metadata": {
    "collapsed": true
   },
   "outputs": [],
   "source": [
    "def plot_behaviour(cs, coefs):\n",
    "    coefs = np.array(coefs)\n",
    "    plt.figure(figsize=(8, 6))\n",
    "\n",
    "    plt.axhline(0, c='k', alpha=0.4)\n",
    "    plt.axvline(0, c='k')\n",
    "    plt.plot(np.log10(cs), coefs, linewidth=0.8)\n",
    "\n",
    "    plt.xlabel('log(C)')\n",
    "    plt.ylabel('Coefficients')\n",
    "    plt.title('Logistic Regression Path')\n",
    "    plt.axis('tight')\n",
    "    plt.show()"
   ]
  },
  {
   "cell_type": "code",
   "execution_count": 121,
   "metadata": {},
   "outputs": [
    {
     "data": {
      "text/plain": [
       "<Figure size 720x720 with 0 Axes>"
      ]
     },
     "metadata": {},
     "output_type": "display_data"
    },
    {
     "data": {
      "image/png": "[encoded data removed]",
      "text/plain": [
       "<Figure size 720x720 with 1 Axes>"
      ]
     },
     "metadata": {},
     "output_type": "display_data"
    },
    {
     "data": {
      "image/png": "[encoded data removed]",
      "text/plain": [
       "<Figure size 576x432 with 1 Axes>"
      ]
     },
     "metadata": {},
     "output_type": "display_data"
    }
   ],
   "source": [
    "cs = l1_min_c(X.train, y.train, loss='log') * np.logspace(0, 7, 16)\n",
    "\n",
    "coefs = coefficients_behavior(X.train, y.train, cs, penalty='l2')\n",
    "plot_behaviour(cs, coefs)"
   ]
  },
  {
   "cell_type": "markdown",
   "metadata": {},
   "source": [
    "As $\\lambda$ increases, more variables' coefficients go to 0. Once a variable has a 0 coefficient, it has no impact on the model anymore. So, as $\\lambda$ increases, the model uses fewer and fewer variables. This is what we mean by a sparse solution - it only uses a few variables in the dataset.\n",
    "\n",
    "The SciKit implementation of Logistic Regression uses the parameter $C$, instead of $\\lambda$. Remember that $C$ is just the opposite, so, the smaller the $C$, more features aproach to 0. "
   ]
  }
 ],
 "metadata": {
  "kernelspec": {
   "display_name": "Python 3",
   "language": "python",
   "name": "python3"
  },
  "language_info": {
   "codemirror_mode": {
    "name": "ipython",
    "version": 3
   },
   "file_extension": ".py",
   "mimetype": "text/x-python",
   "name": "python",
   "nbconvert_exporter": "python",
   "pygments_lexer": "ipython3",
   "version": "3.6.1"
  }
 },
 "nbformat": 4,
 "nbformat_minor": 2
}
