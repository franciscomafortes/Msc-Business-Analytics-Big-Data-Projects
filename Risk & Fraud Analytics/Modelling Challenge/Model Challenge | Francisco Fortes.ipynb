{
 "cells": [
  {
   "cell_type": "code",
   "execution_count": null,
   "metadata": {},
   "outputs": [],
   "source": [
    "from IPython.core.display import display, HTML\n",
    "display(HTML(\"<style>.container { width:95% !important; }</style>\"))"
   ]
  },
  {
   "cell_type": "markdown",
   "metadata": {},
   "source": [
    "\n",
    "\n",
    "<img src=\"profile_manoelgadi.png\" width=100 height=100 align=\"right\">\n",
    "\n",
    "Author: Prof. Manoel Gadi\n",
    "\n",
    "Contact: mfalonso@faculty.ie.edu\n",
    "\n",
    "To compete in this challenge, please create an user at my teaching website: http://mfalonso.pythonanywhere.com\n",
    "\n",
    "Last revision: 09/March/2020"
   ]
  },
  {
   "cell_type": "markdown",
   "metadata": {},
   "source": [
    "Please right your __full__ name below"
   ]
  },
  {
   "cell_type": "code",
   "execution_count": null,
   "metadata": {},
   "outputs": [],
   "source": [
    "Francisco Mengo de Abreu Fortes"
   ]
  },
  {
   "cell_type": "markdown",
   "metadata": {},
   "source": [
    "---"
   ]
  },
  {
   "cell_type": "markdown",
   "metadata": {},
   "source": [
    "## Fraud detection game starting code...\n",
    "\n",
    "\n",
    "### Importing libraries and datasets"
   ]
  },
  {
   "cell_type": "code",
   "execution_count": 1,
   "metadata": {
    "collapsed": true
   },
   "outputs": [],
   "source": [
    "import pandas as pd"
   ]
  },
  {
   "cell_type": "markdown",
   "metadata": {},
   "source": [
    "### Development sample"
   ]
  },
  {
   "cell_type": "code",
   "execution_count": 2,
   "metadata": {},
   "outputs": [
    {
     "name": "stdout",
     "output_type": "stream",
     "text": [
      "LOADING DATASETS...\n"
     ]
    }
   ],
   "source": [
    "print (\"LOADING DATASETS...\")\n",
    "df = pd.read_csv(\"dev.csv\") "
   ]
  },
  {
   "cell_type": "code",
   "execution_count": 3,
   "metadata": {},
   "outputs": [
    {
     "data": {
      "text/html": [
       "<div>\n",
       "<style scoped>\n",
       "    .dataframe tbody tr th:only-of-type {\n",
       "        vertical-align: middle;\n",
       "    }\n",
       "\n",
       "    .dataframe tbody tr th {\n",
       "        vertical-align: top;\n",
       "    }\n",
       "\n",
       "    .dataframe thead th {\n",
       "        text-align: right;\n",
       "    }\n",
       "</style>\n",
       "<table border=\"1\" class=\"dataframe\">\n",
       "  <thead>\n",
       "    <tr style=\"text-align: right;\">\n",
       "      <th></th>\n",
       "      <th>id</th>\n",
       "      <th>ib_var_1</th>\n",
       "      <th>ib_var_2</th>\n",
       "      <th>ib_var_3</th>\n",
       "      <th>ib_var_4</th>\n",
       "      <th>ib_var_5</th>\n",
       "      <th>ib_var_6</th>\n",
       "      <th>ib_var_7</th>\n",
       "      <th>ib_var_8</th>\n",
       "      <th>ib_var_9</th>\n",
       "      <th>...</th>\n",
       "      <th>if_var_73</th>\n",
       "      <th>if_var_74</th>\n",
       "      <th>if_var_75</th>\n",
       "      <th>if_var_76</th>\n",
       "      <th>if_var_77</th>\n",
       "      <th>if_var_78</th>\n",
       "      <th>if_var_79</th>\n",
       "      <th>if_var_80</th>\n",
       "      <th>if_var_81</th>\n",
       "      <th>ob_target</th>\n",
       "    </tr>\n",
       "  </thead>\n",
       "  <tbody>\n",
       "    <tr>\n",
       "      <th>0</th>\n",
       "      <td>1</td>\n",
       "      <td>0</td>\n",
       "      <td>1</td>\n",
       "      <td>0</td>\n",
       "      <td>0</td>\n",
       "      <td>1</td>\n",
       "      <td>1</td>\n",
       "      <td>0</td>\n",
       "      <td>0</td>\n",
       "      <td>0</td>\n",
       "      <td>...</td>\n",
       "      <td>0.800</td>\n",
       "      <td>0</td>\n",
       "      <td>6</td>\n",
       "      <td>5</td>\n",
       "      <td>0.500000</td>\n",
       "      <td>9.4634</td>\n",
       "      <td>5140.0</td>\n",
       "      <td>0.766667</td>\n",
       "      <td>1</td>\n",
       "      <td>0</td>\n",
       "    </tr>\n",
       "    <tr>\n",
       "      <th>1</th>\n",
       "      <td>2</td>\n",
       "      <td>0</td>\n",
       "      <td>1</td>\n",
       "      <td>0</td>\n",
       "      <td>0</td>\n",
       "      <td>0</td>\n",
       "      <td>1</td>\n",
       "      <td>0</td>\n",
       "      <td>0</td>\n",
       "      <td>0</td>\n",
       "      <td>...</td>\n",
       "      <td>0.925</td>\n",
       "      <td>5</td>\n",
       "      <td>8</td>\n",
       "      <td>5</td>\n",
       "      <td>0.400000</td>\n",
       "      <td>7.6341</td>\n",
       "      <td>2570.0</td>\n",
       "      <td>0.700000</td>\n",
       "      <td>4</td>\n",
       "      <td>0</td>\n",
       "    </tr>\n",
       "    <tr>\n",
       "      <th>2</th>\n",
       "      <td>3</td>\n",
       "      <td>0</td>\n",
       "      <td>0</td>\n",
       "      <td>0</td>\n",
       "      <td>0</td>\n",
       "      <td>1</td>\n",
       "      <td>1</td>\n",
       "      <td>0</td>\n",
       "      <td>0</td>\n",
       "      <td>0</td>\n",
       "      <td>...</td>\n",
       "      <td>0.800</td>\n",
       "      <td>3</td>\n",
       "      <td>10</td>\n",
       "      <td>6</td>\n",
       "      <td>0.700000</td>\n",
       "      <td>11.1707</td>\n",
       "      <td>5140.0</td>\n",
       "      <td>0.666667</td>\n",
       "      <td>2</td>\n",
       "      <td>0</td>\n",
       "    </tr>\n",
       "    <tr>\n",
       "      <th>3</th>\n",
       "      <td>4</td>\n",
       "      <td>0</td>\n",
       "      <td>1</td>\n",
       "      <td>0</td>\n",
       "      <td>1</td>\n",
       "      <td>1</td>\n",
       "      <td>1</td>\n",
       "      <td>0</td>\n",
       "      <td>0</td>\n",
       "      <td>0</td>\n",
       "      <td>...</td>\n",
       "      <td>0.825</td>\n",
       "      <td>5</td>\n",
       "      <td>5</td>\n",
       "      <td>6</td>\n",
       "      <td>0.433333</td>\n",
       "      <td>8.0488</td>\n",
       "      <td>1028.0</td>\n",
       "      <td>0.766667</td>\n",
       "      <td>3</td>\n",
       "      <td>0</td>\n",
       "    </tr>\n",
       "    <tr>\n",
       "      <th>4</th>\n",
       "      <td>5</td>\n",
       "      <td>0</td>\n",
       "      <td>0</td>\n",
       "      <td>0</td>\n",
       "      <td>0</td>\n",
       "      <td>0</td>\n",
       "      <td>1</td>\n",
       "      <td>0</td>\n",
       "      <td>0</td>\n",
       "      <td>0</td>\n",
       "      <td>...</td>\n",
       "      <td>0.800</td>\n",
       "      <td>0</td>\n",
       "      <td>11</td>\n",
       "      <td>5</td>\n",
       "      <td>0.700000</td>\n",
       "      <td>5.5854</td>\n",
       "      <td>5140.0</td>\n",
       "      <td>0.733333</td>\n",
       "      <td>3</td>\n",
       "      <td>0</td>\n",
       "    </tr>\n",
       "  </tbody>\n",
       "</table>\n",
       "<p>5 rows × 83 columns</p>\n",
       "</div>"
      ],
      "text/plain": [
       "   id  ib_var_1  ib_var_2  ib_var_3  ib_var_4  ib_var_5  ib_var_6  ib_var_7  \\\n",
       "0   1         0         1         0         0         1         1         0   \n",
       "1   2         0         1         0         0         0         1         0   \n",
       "2   3         0         0         0         0         1         1         0   \n",
       "3   4         0         1         0         1         1         1         0   \n",
       "4   5         0         0         0         0         0         1         0   \n",
       "\n",
       "   ib_var_8  ib_var_9  ...  if_var_73  if_var_74  if_var_75  if_var_76  \\\n",
       "0         0         0  ...      0.800          0          6          5   \n",
       "1         0         0  ...      0.925          5          8          5   \n",
       "2         0         0  ...      0.800          3         10          6   \n",
       "3         0         0  ...      0.825          5          5          6   \n",
       "4         0         0  ...      0.800          0         11          5   \n",
       "\n",
       "   if_var_77  if_var_78  if_var_79  if_var_80  if_var_81  ob_target  \n",
       "0   0.500000     9.4634     5140.0   0.766667          1          0  \n",
       "1   0.400000     7.6341     2570.0   0.700000          4          0  \n",
       "2   0.700000    11.1707     5140.0   0.666667          2          0  \n",
       "3   0.433333     8.0488     1028.0   0.766667          3          0  \n",
       "4   0.700000     5.5854     5140.0   0.733333          3          0  \n",
       "\n",
       "[5 rows x 83 columns]"
      ]
     },
     "execution_count": 3,
     "metadata": {},
     "output_type": "execute_result"
    }
   ],
   "source": [
    "df.head()"
   ]
  },
  {
   "cell_type": "markdown",
   "metadata": {},
   "source": [
    "### Out-of-time sample"
   ]
  },
  {
   "cell_type": "code",
   "execution_count": 4,
   "metadata": {},
   "outputs": [],
   "source": [
    "dfo = pd.read_csv(\"oot0.csv\")"
   ]
  },
  {
   "cell_type": "code",
   "execution_count": 5,
   "metadata": {},
   "outputs": [
    {
     "data": {
      "text/html": [
       "<div>\n",
       "<style scoped>\n",
       "    .dataframe tbody tr th:only-of-type {\n",
       "        vertical-align: middle;\n",
       "    }\n",
       "\n",
       "    .dataframe tbody tr th {\n",
       "        vertical-align: top;\n",
       "    }\n",
       "\n",
       "    .dataframe thead th {\n",
       "        text-align: right;\n",
       "    }\n",
       "</style>\n",
       "<table border=\"1\" class=\"dataframe\">\n",
       "  <thead>\n",
       "    <tr style=\"text-align: right;\">\n",
       "      <th></th>\n",
       "      <th>id</th>\n",
       "      <th>ib_var_1</th>\n",
       "      <th>ib_var_2</th>\n",
       "      <th>ib_var_3</th>\n",
       "      <th>ib_var_4</th>\n",
       "      <th>ib_var_5</th>\n",
       "      <th>ib_var_6</th>\n",
       "      <th>ib_var_7</th>\n",
       "      <th>ib_var_8</th>\n",
       "      <th>ib_var_9</th>\n",
       "      <th>...</th>\n",
       "      <th>if_var_72</th>\n",
       "      <th>if_var_73</th>\n",
       "      <th>if_var_74</th>\n",
       "      <th>if_var_75</th>\n",
       "      <th>if_var_76</th>\n",
       "      <th>if_var_77</th>\n",
       "      <th>if_var_78</th>\n",
       "      <th>if_var_79</th>\n",
       "      <th>if_var_80</th>\n",
       "      <th>if_var_81</th>\n",
       "    </tr>\n",
       "  </thead>\n",
       "  <tbody>\n",
       "    <tr>\n",
       "      <th>0</th>\n",
       "      <td>1</td>\n",
       "      <td>0</td>\n",
       "      <td>1</td>\n",
       "      <td>0</td>\n",
       "      <td>0</td>\n",
       "      <td>1</td>\n",
       "      <td>0</td>\n",
       "      <td>0</td>\n",
       "      <td>0</td>\n",
       "      <td>0</td>\n",
       "      <td>...</td>\n",
       "      <td>5</td>\n",
       "      <td>0.775</td>\n",
       "      <td>1.0</td>\n",
       "      <td>10.0</td>\n",
       "      <td>11.0</td>\n",
       "      <td>0.666667</td>\n",
       "      <td>NaN</td>\n",
       "      <td>5140.000000</td>\n",
       "      <td>0.666667</td>\n",
       "      <td>3</td>\n",
       "    </tr>\n",
       "    <tr>\n",
       "      <th>1</th>\n",
       "      <td>2</td>\n",
       "      <td>1</td>\n",
       "      <td>0</td>\n",
       "      <td>0</td>\n",
       "      <td>0</td>\n",
       "      <td>1</td>\n",
       "      <td>1</td>\n",
       "      <td>0</td>\n",
       "      <td>0</td>\n",
       "      <td>0</td>\n",
       "      <td>...</td>\n",
       "      <td>6</td>\n",
       "      <td>0.750</td>\n",
       "      <td>0.0</td>\n",
       "      <td>8.0</td>\n",
       "      <td>10.0</td>\n",
       "      <td>0.600000</td>\n",
       "      <td>12.9024</td>\n",
       "      <td>5140.000000</td>\n",
       "      <td>0.733333</td>\n",
       "      <td>0</td>\n",
       "    </tr>\n",
       "    <tr>\n",
       "      <th>2</th>\n",
       "      <td>3</td>\n",
       "      <td>0</td>\n",
       "      <td>0</td>\n",
       "      <td>0</td>\n",
       "      <td>0</td>\n",
       "      <td>1</td>\n",
       "      <td>1</td>\n",
       "      <td>0</td>\n",
       "      <td>0</td>\n",
       "      <td>0</td>\n",
       "      <td>...</td>\n",
       "      <td>7</td>\n",
       "      <td>0.725</td>\n",
       "      <td>0.0</td>\n",
       "      <td>8.0</td>\n",
       "      <td>6.0</td>\n",
       "      <td>0.700000</td>\n",
       "      <td>NaN</td>\n",
       "      <td>2570.000000</td>\n",
       "      <td>0.766667</td>\n",
       "      <td>1</td>\n",
       "    </tr>\n",
       "    <tr>\n",
       "      <th>3</th>\n",
       "      <td>4</td>\n",
       "      <td>0</td>\n",
       "      <td>1</td>\n",
       "      <td>0</td>\n",
       "      <td>1</td>\n",
       "      <td>1</td>\n",
       "      <td>1</td>\n",
       "      <td>0</td>\n",
       "      <td>0</td>\n",
       "      <td>0</td>\n",
       "      <td>...</td>\n",
       "      <td>4</td>\n",
       "      <td>0.925</td>\n",
       "      <td>2.0</td>\n",
       "      <td>7.0</td>\n",
       "      <td>5.0</td>\n",
       "      <td>0.566667</td>\n",
       "      <td>15.5366</td>\n",
       "      <td>2056.000000</td>\n",
       "      <td>0.833333</td>\n",
       "      <td>0</td>\n",
       "    </tr>\n",
       "    <tr>\n",
       "      <th>4</th>\n",
       "      <td>5</td>\n",
       "      <td>1</td>\n",
       "      <td>0</td>\n",
       "      <td>0</td>\n",
       "      <td>1</td>\n",
       "      <td>1</td>\n",
       "      <td>1</td>\n",
       "      <td>0</td>\n",
       "      <td>0</td>\n",
       "      <td>0</td>\n",
       "      <td>...</td>\n",
       "      <td>5</td>\n",
       "      <td>0.925</td>\n",
       "      <td>0.0</td>\n",
       "      <td>10.0</td>\n",
       "      <td>7.0</td>\n",
       "      <td>0.333333</td>\n",
       "      <td>17.8293</td>\n",
       "      <td>4728.799805</td>\n",
       "      <td>0.633333</td>\n",
       "      <td>2</td>\n",
       "    </tr>\n",
       "  </tbody>\n",
       "</table>\n",
       "<p>5 rows × 82 columns</p>\n",
       "</div>"
      ],
      "text/plain": [
       "   id  ib_var_1  ib_var_2  ib_var_3  ib_var_4  ib_var_5  ib_var_6  ib_var_7  \\\n",
       "0   1         0         1         0         0         1         0         0   \n",
       "1   2         1         0         0         0         1         1         0   \n",
       "2   3         0         0         0         0         1         1         0   \n",
       "3   4         0         1         0         1         1         1         0   \n",
       "4   5         1         0         0         1         1         1         0   \n",
       "\n",
       "   ib_var_8  ib_var_9  ...  if_var_72  if_var_73  if_var_74  if_var_75  \\\n",
       "0         0         0  ...          5      0.775        1.0       10.0   \n",
       "1         0         0  ...          6      0.750        0.0        8.0   \n",
       "2         0         0  ...          7      0.725        0.0        8.0   \n",
       "3         0         0  ...          4      0.925        2.0        7.0   \n",
       "4         0         0  ...          5      0.925        0.0       10.0   \n",
       "\n",
       "   if_var_76  if_var_77  if_var_78    if_var_79  if_var_80  if_var_81  \n",
       "0       11.0   0.666667        NaN  5140.000000   0.666667          3  \n",
       "1       10.0   0.600000    12.9024  5140.000000   0.733333          0  \n",
       "2        6.0   0.700000        NaN  2570.000000   0.766667          1  \n",
       "3        5.0   0.566667    15.5366  2056.000000   0.833333          0  \n",
       "4        7.0   0.333333    17.8293  4728.799805   0.633333          2  \n",
       "\n",
       "[5 rows x 82 columns]"
      ]
     },
     "execution_count": 5,
     "metadata": {},
     "output_type": "execute_result"
    }
   ],
   "source": [
    "dfo.head()"
   ]
  },
  {
   "cell_type": "markdown",
   "metadata": {},
   "source": [
    "## Identifying the types of the variables:\n",
    "\n",
    "* id is a primary key auto incremental\n",
    "*  ib_var_1 is input binary - flag 0/1 variable\n",
    "*  ib_var_2 is input binary - flag 0/1 variable\n",
    "*  ib_var_3 is input binary - flag 0/1 variable\n",
    "*  ib_var_4 is input binary - flag 0/1 variable\n",
    "*  ib_var_5 is input binary - flag 0/1 variable\n",
    "*  ib_var_6 is input binary - flag 0/1 variable\n",
    "*  ib_var_7 is input binary - flag 0/1 variable\n",
    "*  ib_var_8 is input binary - flag 0/1 variable\n",
    "*  ib_var_9 is input binary - flag 0/1 variable\n",
    "*  ib_var_10 is input binary - flag 0/1 variable\n",
    "*  ib_var_11 is input binary - flag 0/1 variable\n",
    "*  ib_var_12 is input binary - flag 0/1 variable\n",
    "*  ib_var_13 is input binary - flag 0/1 variable\n",
    "*  ib_var_14 is input binary - flag 0/1 variable\n",
    "*  ib_var_15 is input binary - flag 0/1 variable\n",
    "*  ib_var_16 is input binary - flag 0/1 variable\n",
    "*  ib_var_17 is input binary - flag 0/1 variable\n",
    "*  ib_var_18 is input binary - flag 0/1 variable\n",
    "*  ib_var_19 is input binary - flag 0/1 variable\n",
    "*  ib_var_20 is input binary - flag 0/1 variable\n",
    "*  ib_var_21 is input binary - flag 0/1 variable\n",
    "*  icn_var_22 is input categorical nominal\n",
    "*  icn_var_23 is input categorical nominal\n",
    "*  icn_var_24 is input categorical nominal\n",
    "*  ico_var_25 is input categorical ordinal\n",
    "*  ico_var_26 is input categorical ordinal\n",
    "*  ico_var_27 is input categorical ordinal\n",
    "*  ico_var_28 is input categorical ordinal\n",
    "*  ico_var_29 is input categorical ordinal\n",
    "*  ico_var_30 is input categorical ordinal\n",
    "*  ico_var_31 is input categorical ordinal\n",
    "*  ico_var_32 is input categorical ordinal\n",
    "*  ico_var_33 is input categorical ordinal\n",
    "*  ico_var_34 is input categorical ordinal\n",
    "*  ico_var_35 is input categorical ordinal\n",
    "*  ico_var_36 is input categorical ordinal\n",
    "*  ico_var_37 is input categorical ordinal\n",
    "*  ico_var_38 is input categorical ordinal\n",
    "*  ico_var_39 is input categorical ordinal\n",
    "*  ico_var_40 is input categorical ordinal\n",
    "*  ico_var_41 is input categorical ordinal\n",
    "*  ico_var_42 is input categorical ordinal\n",
    "*  ico_var_43 is input categorical ordinal\n",
    "*  ico_var_44 is input categorical ordinal\n",
    "*  ico_var_45 is input categorical ordinal\n",
    "*  ico_var_46 is input categorical ordinal\n",
    "*  ico_var_47 is input categorical ordinal\n",
    "*  ico_var_48 is input categorical ordinal\n",
    "*  ico_var_49 is input categorical ordinal\n",
    "*  ico_var_50 is input categorical ordinal\n",
    "*  ico_var_51 is input categorical ordinal\n",
    "*  ico_var_52 is input categorical ordinal\n",
    "*  ico_var_53 is input categorical ordinal\n",
    "*  ico_var_54 is input categorical ordinal\n",
    "*  ico_var_55 is input categorical ordinal\n",
    "*  ico_var_56 is input categorical ordinal\n",
    "*  ico_var_57 is input categorical ordinal\n",
    "*  ico_var_58 is input categorical ordinal\n",
    "*  ico_var_59 is input categorical ordinal\n",
    "*  ico_var_60 is input categorical ordinal\n",
    "*  ico_var_61 is input categorical ordinal\n",
    "*  ico_var_62 is input categorical ordinal\n",
    "*  ico_var_63 is input categorical ordinal\n",
    "*  ico_var_64 is input categorical ordinal\n",
    "*  if_var_65 is input numerical continuos (input float)\n",
    "*  if_var_66 is input numerical continuos (input float)\n",
    "*  if_var_67 is input numerical continuos (input float)\n",
    "*  if_var_68 is input numerical continuos (input float)\n",
    "*  if_var_69 is input numerical continuos (input float)\n",
    "*  if_var_70 is input numerical continuos (input float)\n",
    "*  if_var_71 is input numerical continuos (input float)\n",
    "*  if_var_72 is input numerical continuos (input float)\n",
    "*  if_var_73 is input numerical continuos (input float)\n",
    "*  if_var_74 is input numerical continuos (input float)\n",
    "*  if_var_75 is input numerical continuos (input float)\n",
    "*  if_var_76 is input numerical continuos (input float)\n",
    "*  if_var_77 is input numerical continuos (input float)\n",
    "*  if_var_78 is input numerical continuos (input float)\n",
    "*  if_var_79 is input numerical continuos (input float)\n",
    "*  if_var_80 is input numerical continuos (input float)\n",
    "*  if_var_81 is input numerical continuos (input float)\n",
    "*  ob_target is output binary (target variable: 1 meaning fraud case and 0 non-fraud case)"
   ]
  },
  {
   "cell_type": "code",
   "execution_count": 6,
   "metadata": {},
   "outputs": [
    {
     "name": "stdout",
     "output_type": "stream",
     "text": [
      "IDENTIFYING TYPES...\n",
      "ERROR: unable to identify the type of: id\n",
      "ib_var_1 is input binary\n",
      "ib_var_2 is input binary\n",
      "ib_var_3 is input binary\n",
      "ib_var_4 is input binary\n",
      "ib_var_5 is input binary\n",
      "ib_var_6 is input binary\n",
      "ib_var_7 is input binary\n",
      "ib_var_8 is input binary\n",
      "ib_var_9 is input binary\n",
      "ib_var_10 is input binary\n",
      "ib_var_11 is input binary\n",
      "ib_var_12 is input binary\n",
      "ib_var_13 is input binary\n",
      "ib_var_14 is input binary\n",
      "ib_var_15 is input binary\n",
      "ib_var_16 is input binary\n",
      "ib_var_17 is input binary\n",
      "ib_var_18 is input binary\n",
      "ib_var_19 is input binary\n",
      "ib_var_20 is input binary\n",
      "ib_var_21 is input binary\n",
      "icn_var_22 is input categorical nominal\n",
      "icn_var_23 is input categorical nominal\n",
      "icn_var_24 is input categorical nominal\n",
      "ico_var_25 is input categorical ordinal\n",
      "ico_var_26 is input categorical ordinal\n",
      "ico_var_27 is input categorical ordinal\n",
      "ico_var_28 is input categorical ordinal\n",
      "ico_var_29 is input categorical ordinal\n",
      "ico_var_30 is input categorical ordinal\n",
      "ico_var_31 is input categorical ordinal\n",
      "ico_var_32 is input categorical ordinal\n",
      "ico_var_33 is input categorical ordinal\n",
      "ico_var_34 is input categorical ordinal\n",
      "ico_var_35 is input categorical ordinal\n",
      "ico_var_36 is input categorical ordinal\n",
      "ico_var_37 is input categorical ordinal\n",
      "ico_var_38 is input categorical ordinal\n",
      "ico_var_39 is input categorical ordinal\n",
      "ico_var_40 is input categorical ordinal\n",
      "ico_var_41 is input categorical ordinal\n",
      "ico_var_42 is input categorical ordinal\n",
      "ico_var_43 is input categorical ordinal\n",
      "ico_var_44 is input categorical ordinal\n",
      "ico_var_45 is input categorical ordinal\n",
      "ico_var_46 is input categorical ordinal\n",
      "ico_var_47 is input categorical ordinal\n",
      "ico_var_48 is input categorical ordinal\n",
      "ico_var_49 is input categorical ordinal\n",
      "ico_var_50 is input categorical ordinal\n",
      "ico_var_51 is input categorical ordinal\n",
      "ico_var_52 is input categorical ordinal\n",
      "ico_var_53 is input categorical ordinal\n",
      "ico_var_54 is input categorical ordinal\n",
      "ico_var_55 is input categorical ordinal\n",
      "ico_var_56 is input categorical ordinal\n",
      "ico_var_57 is input categorical ordinal\n",
      "ico_var_58 is input categorical ordinal\n",
      "ico_var_59 is input categorical ordinal\n",
      "ico_var_60 is input categorical ordinal\n",
      "ico_var_61 is input categorical ordinal\n",
      "ico_var_62 is input categorical ordinal\n",
      "ico_var_63 is input categorical ordinal\n",
      "ico_var_64 is input categorical ordinal\n",
      "if_var_65 is input numerical continuos (input float)\n",
      "if_var_66 is input numerical continuos (input float)\n",
      "if_var_67 is input numerical continuos (input float)\n",
      "if_var_68 is input numerical continuos (input float)\n",
      "if_var_69 is input numerical continuos (input float)\n",
      "if_var_70 is input numerical continuos (input float)\n",
      "if_var_71 is input numerical continuos (input float)\n",
      "if_var_72 is input numerical continuos (input float)\n",
      "if_var_73 is input numerical continuos (input float)\n",
      "if_var_74 is input numerical continuos (input float)\n",
      "if_var_75 is input numerical continuos (input float)\n",
      "if_var_76 is input numerical continuos (input float)\n",
      "if_var_77 is input numerical continuos (input float)\n",
      "if_var_78 is input numerical continuos (input float)\n",
      "if_var_79 is input numerical continuos (input float)\n",
      "if_var_80 is input numerical continuos (input float)\n",
      "if_var_81 is input numerical continuos (input float)\n"
     ]
    }
   ],
   "source": [
    "import re\n",
    "print (\"IDENTIFYING TYPES...\")\n",
    "in_model = []\n",
    "list_ib = list()  #input binary\n",
    "list_icn = list() #input categorical nominal\n",
    "list_ico = list() #input categorical ordinal\n",
    "list_if = list()  #input numerical continuos (input float)\n",
    "list_inputs = list()\n",
    "output_var = 'ob_target'\n",
    "\n",
    "for var_name in df.columns:\n",
    "    if re.search('^ib_',var_name):\n",
    "        list_inputs.append(var_name)      \n",
    "        list_ib.append(var_name)\n",
    "        print (var_name,\"is input binary\")\n",
    "    elif re.search('^icn_',var_name):\n",
    "        list_inputs.append(var_name)      \n",
    "        list_icn.append(var_name)\n",
    "        print (var_name,\"is input categorical nominal\")\n",
    "    elif re.search('^ico_',var_name):\n",
    "        list_inputs.append(var_name)      \n",
    "        list_ico.append(var_name)\n",
    "        print (var_name,\"is input categorical ordinal\")\n",
    "    elif re.search('^if_',var_name):\n",
    "        list_inputs.append(var_name)      \n",
    "        list_if.append(var_name)\n",
    "        print (var_name,\"is input numerical continuos (input float)\")\n",
    "    elif re.search('^ob_',var_name):\n",
    "        output_var = var_name\n",
    "    else:\n",
    "        print (\"ERROR: unable to identify the type of:\", var_name)"
   ]
  },
  {
   "cell_type": "markdown",
   "metadata": {},
   "source": [
    "# Step 1: Transformations"
   ]
  },
  {
   "cell_type": "markdown",
   "metadata": {},
   "source": [
    "#### Determining the number of fraud cases"
   ]
  },
  {
   "cell_type": "code",
   "execution_count": 7,
   "metadata": {},
   "outputs": [
    {
     "name": "stdout",
     "output_type": "stream",
     "text": [
      "0.1134020618556701\n",
      "Fraud Cases: 88\n",
      "Valid Transactions: 776\n"
     ]
    }
   ],
   "source": [
    "Fraud = df[df['ob_target'] == 1]\n",
    "Valid = df[df['ob_target'] == 0]\n",
    "outlier_fraction = len(Fraud)/float(len(Valid))\n",
    "print(outlier_fraction)\n",
    "print('Fraud Cases: {}'.format(len(df[df['ob_target'] == 1])))\n",
    "print('Valid Transactions: {}'.format(len(df[df['ob_target'] == 0])))"
   ]
  },
  {
   "cell_type": "markdown",
   "metadata": {},
   "source": [
    "## 1.1) Fill NA's"
   ]
  },
  {
   "cell_type": "code",
   "execution_count": 8,
   "metadata": {},
   "outputs": [
    {
     "name": "stdout",
     "output_type": "stream",
     "text": [
      "STEP 1: DOING MY TRANSFORMATIONS...\n"
     ]
    }
   ],
   "source": [
    "print (\"STEP 1: DOING MY TRANSFORMATIONS...\")\n",
    "df = df.fillna(df.mean())\n",
    "dfo = dfo.fillna(dfo.mean())"
   ]
  },
  {
   "cell_type": "markdown",
   "metadata": {},
   "source": [
    "## 1.2) Separating variables"
   ]
  },
  {
   "cell_type": "raw",
   "metadata": {},
   "source": [
    "#DEV dataset\n",
    "bi_var_df = df.iloc[:,1:22]\n",
    "cat_ord_df = df.iloc[:,22:25]\n",
    "cat_nom_df = df.iloc[:,25:65]\n",
    "num_var_df = df.iloc[:,65:82]"
   ]
  },
  {
   "cell_type": "raw",
   "metadata": {},
   "source": [
    "#OOT dataset\n",
    "bi_var_dfo = dfo.iloc[:,1:22]\n",
    "cat_ord_dfo = dfo.iloc[:,22:25]\n",
    "cat_nom_dfo = dfo.iloc[:,25:65]\n",
    "num_var_dfo = dfo.iloc[:,65:82]"
   ]
  },
  {
   "cell_type": "markdown",
   "metadata": {
    "collapsed": true
   },
   "source": [
    "## 1.3) Scale Fixing using MinMax Scaler\n"
   ]
  },
  {
   "cell_type": "raw",
   "metadata": {},
   "source": [
    "#Scaling dataset\n",
    "from sklearn.preprocessing import MinMaxScaler\n",
    "scaler = MinMaxScaler()\n",
    "\n",
    "df = scaler.fit_transform(df)\n",
    "dfo = scaler.fit_transform(dfo)"
   ]
  },
  {
   "cell_type": "markdown",
   "metadata": {},
   "source": [
    "## 1.4) Power Transformations"
   ]
  },
  {
   "cell_type": "raw",
   "metadata": {
    "collapsed": true
   },
   "source": [
    "from sklearn.preprocessing import PowerTransformer\n",
    "\n",
    "# power transformation of numerical columns\n",
    "numerical_columns = df.select_dtypes(['int64', 'float64']).columns\n",
    "\n",
    "pt = PowerTransformer()\n",
    "df.loc[:,numerical_columns] = pt.fit_transform(df.loc[:,numerical_columns])\n",
    "dfo.loc[:,numerical_columns] = pt.fit_transform(dfo.loc[:,numerical_columns])"
   ]
  },
  {
   "cell_type": "markdown",
   "metadata": {
    "collapsed": true
   },
   "source": [
    "# Step 2: Selecting Characteristics"
   ]
  },
  {
   "cell_type": "code",
   "execution_count": 9,
   "metadata": {},
   "outputs": [
    {
     "data": {
      "image/png": "[encoded data removed]",
      "text/plain": [
       "<Figure size 720x720 with 2 Axes>"
      ]
     },
     "metadata": {},
     "output_type": "display_data"
    }
   ],
   "source": [
    "import seaborn as sns\n",
    "import matplotlib.pyplot as plt\n",
    "plt.figure(figsize=(10,10))\n",
    "sns.heatmap(data=df.corr(), cmap=\"seismic\")\n",
    "plt.show();"
   ]
  },
  {
   "cell_type": "markdown",
   "metadata": {},
   "source": [
    "## 2.1) Feature Importance"
   ]
  },
  {
   "cell_type": "code",
   "execution_count": 10,
   "metadata": {
    "collapsed": true
   },
   "outputs": [],
   "source": [
    "#Libraries\n",
    "import pandas as pd\n",
    "import numpy as np\n",
    "from sklearn.feature_selection import SelectKBest\n",
    "from sklearn.feature_selection import chi2"
   ]
  },
  {
   "cell_type": "code",
   "execution_count": 11,
   "metadata": {
    "collapsed": true
   },
   "outputs": [],
   "source": [
    "X = df.iloc[:,0:82]  #Independent Colummns"
   ]
  },
  {
   "cell_type": "code",
   "execution_count": 12,
   "metadata": {
    "collapsed": true
   },
   "outputs": [],
   "source": [
    "y= df.iloc[:,-1] #Target column (0= non-fraud, 1=Fraud)"
   ]
  },
  {
   "cell_type": "markdown",
   "metadata": {},
   "source": [
    "### 2.1.1) Univariate selection using chi²\n",
    "For this first feature selection analysis we will be usine a chi-squared stastical test for non-negative features where we will be selecting the top 10 features for this dataset."
   ]
  },
  {
   "cell_type": "code",
   "execution_count": 13,
   "metadata": {},
   "outputs": [
    {
     "name": "stdout",
     "output_type": "stream",
     "text": [
      "       Feature         Score\n",
      "68   if_var_68  28291.993859\n",
      "79   if_var_79  15845.554470\n",
      "69   if_var_69   8712.109574\n",
      "36  ico_var_36     25.656248\n",
      "33  ico_var_33     14.954181\n",
      "78   if_var_78      9.470052\n",
      "65   if_var_65      7.026909\n",
      "67   if_var_67      5.897937\n",
      "71   if_var_71      4.370964\n",
      "8     ib_var_8      2.611222\n"
     ]
    }
   ],
   "source": [
    "#apply SelectKBest class to extract top 10 best features\n",
    "best_features = SelectKBest(score_func=chi2, k=10)\n",
    "fit = best_features.fit(X,y)\n",
    "df_scores = pd.DataFrame(fit.scores_)\n",
    "df_columns = pd.DataFrame(X.columns)\n",
    "\n",
    "#concat two dataframes for better visualization \n",
    "feature_Scores = pd.concat([df_columns,df_scores],axis=1)\n",
    "feature_Scores.columns = ['Feature','Score']  #naming the dataframe columns\n",
    "print(feature_Scores.nlargest(10,'Score'))  #print 15 best features"
   ]
  },
  {
   "cell_type": "markdown",
   "metadata": {},
   "source": [
    "### 1.1.2) Feature importance\n",
    "For this particular case of Fraud detection, since we have many variables to take into consideration we have decided to make a feature importance analysis of the top 10 variables in this dataset."
   ]
  },
  {
   "cell_type": "markdown",
   "metadata": {},
   "source": [
    "#### Extra Trees Classifier"
   ]
  },
  {
   "cell_type": "code",
   "execution_count": 14,
   "metadata": {
    "collapsed": true
   },
   "outputs": [],
   "source": [
    "#Libraries\n",
    "from sklearn.ensemble import ExtraTreesClassifier\n",
    "import matplotlib.pyplot as plt"
   ]
  },
  {
   "cell_type": "code",
   "execution_count": 15,
   "metadata": {},
   "outputs": [
    {
     "data": {
      "image/png": "[encoded data removed]",
      "text/plain": [
       "<Figure size 432x288 with 1 Axes>"
      ]
     },
     "metadata": {},
     "output_type": "display_data"
    }
   ],
   "source": [
    "model = ExtraTreesClassifier()\n",
    "model.fit(X,y)\n",
    "#plot graph of feature importances\n",
    "feat_importance = pd.Series(model.feature_importances_, index=X.columns)\n",
    "feat_importance.nlargest(10).plot(kind='barh')\n",
    "plt.show()"
   ]
  },
  {
   "cell_type": "markdown",
   "metadata": {},
   "source": [
    "#### ReliefF Algorithm"
   ]
  },
  {
   "cell_type": "code",
   "execution_count": 16,
   "metadata": {},
   "outputs": [
    {
     "name": "stderr",
     "output_type": "stream",
     "text": [
      "/anaconda/lib/python3.6/site-packages/sklearn/externals/joblib/__init__.py:15: FutureWarning: sklearn.externals.joblib is deprecated in 0.21 and will be removed in 0.23. Please import this functionality directly from joblib, which can be installed with: pip install joblib. If this warning is raised when loading pickled models, you may need to re-serialize those models with scikit-learn 0.21+.\n",
      "  warnings.warn(msg, category=FutureWarning)\n"
     ]
    }
   ],
   "source": [
    "from dataset import Dataset\n",
    "import collections\n",
    "df_1 = Dataset('/Users/kuka/Desktop/Fraud/Notebook/dev.csv', delimiter=',', header=0)"
   ]
  },
  {
   "cell_type": "code",
   "execution_count": 17,
   "metadata": {},
   "outputs": [
    {
     "name": "stdout",
     "output_type": "stream",
     "text": [
      "Setting target variable: ob_target\n"
     ]
    },
    {
     "data": {
      "text/plain": [
       "<dataset.dataset.Dataset at 0x128b574e0>"
      ]
     },
     "execution_count": 17,
     "metadata": {},
     "output_type": "execute_result"
    }
   ],
   "source": [
    "#Setting the target variable for Fraud detection\n",
    "print (\"Setting target variable: ob_target\")\n",
    "df_1.set_target(\"ob_target\")"
   ]
  },
  {
   "cell_type": "code",
   "execution_count": 18,
   "metadata": {
    "collapsed": true
   },
   "outputs": [],
   "source": [
    "#Importance of features by using ReliefF algorithm to identify the reltaive importance of features to the target variable\n",
    "features = df_1.features_importance()"
   ]
  },
  {
   "cell_type": "code",
   "execution_count": 19,
   "metadata": {},
   "outputs": [
    {
     "data": {
      "text/plain": [
       "OrderedDict([('ib_var_20', -0.027430555555555545),\n",
       "             ('ib_var_16', -0.021527777777777757),\n",
       "             ('ib_var_1', -0.020312499999999976),\n",
       "             ('icn_var_23', -0.01597222222222225),\n",
       "             ('ib_var_15', -0.013946759259259268),\n",
       "             ('ib_var_13', -0.007986111111111107),\n",
       "             ('ib_var_17', -0.005960648148148148),\n",
       "             ('ib_var_7', -0.003993055555555559),\n",
       "             ('ib_var_6', -0.0024884259259259234),\n",
       "             ('if_var_66', -0.00150462962962963),\n",
       "             ('if_var_70', -0.00028935185185185075),\n",
       "             ('ib_var_10', 0.0),\n",
       "             ('ib_var_12', 0.0),\n",
       "             ('ib_var_9', 5.787037037037037e-05),\n",
       "             ('ib_var_19', 0.0006365740740740761),\n",
       "             ('ib_var_18', 0.007291666666666666),\n",
       "             ('ib_var_21', 0.0089699074074074),\n",
       "             ('ib_var_8', 0.009548611111111117),\n",
       "             ('if_var_81', 0.016377314814814817),\n",
       "             ('ib_var_11', 0.017013888888888874),\n",
       "             ('icn_var_22', 0.01932870370370375),\n",
       "             ('ico_var_51', 0.020138888888888845),\n",
       "             ('ib_var_14', 0.020196759259259258),\n",
       "             ('ib_var_4', 0.02326388888888886),\n",
       "             ('ib_var_3', 0.023495370370370354),\n",
       "             ('if_var_74', 0.02363215488215487),\n",
       "             ('if_var_67', 0.025131655092592603),\n",
       "             ('ico_var_59', 0.028703703703703662),\n",
       "             ('ico_var_57', 0.030960648148148136),\n",
       "             ('ico_var_38', 0.0391203703703703),\n",
       "             ('ico_var_49', 0.04103009259259261),\n",
       "             ('ico_var_61', 0.041666666666666685),\n",
       "             ('ico_var_62', 0.0421296296296296),\n",
       "             ('ico_var_63', 0.04230324074074079),\n",
       "             ('ico_var_58', 0.043865740740740754),\n",
       "             ('if_var_69', 0.0441234586703071),\n",
       "             ('ico_var_56', 0.04537037037037033),\n",
       "             ('icn_var_24', 0.04565972222222221),\n",
       "             ('ico_var_40', 0.046469907407407404),\n",
       "             ('if_var_78', 0.04680786165457379),\n",
       "             ('ico_var_60', 0.04820601851851848),\n",
       "             ('ico_var_44', 0.049074074074074096),\n",
       "             ('ico_var_52', 0.05173611111111109),\n",
       "             ('ico_var_26', 0.05190972222222214),\n",
       "             ('ico_var_42', 0.05237268518518521),\n",
       "             ('ico_var_53', 0.05277777777777775),\n",
       "             ('ico_var_41', 0.05289351851851854),\n",
       "             ('if_var_72', 0.0548321759259259),\n",
       "             ('ico_var_64', 0.05567129629629629),\n",
       "             ('ico_var_45', 0.05787037037037027),\n",
       "             ('ico_var_54', 0.05844907407407401),\n",
       "             ('ico_var_25', 0.061168981481481456),\n",
       "             ('ico_var_34', 0.06153198653198648),\n",
       "             ('ico_var_29', 0.06203703703703696),\n",
       "             ('ib_var_5', 0.06354166666666658),\n",
       "             ('ico_var_30', 0.06574074074074078),\n",
       "             ('ico_var_43', 0.06655092592592589),\n",
       "             ('ico_var_50', 0.06707175925925916),\n",
       "             ('ico_var_55', 0.06770833333333326),\n",
       "             ('ico_var_48', 0.06817129629629617),\n",
       "             ('if_var_65', 0.07040343915343922),\n",
       "             ('if_var_80', 0.07054949197255292),\n",
       "             ('ico_var_47', 0.07094907407407403),\n",
       "             ('ico_var_37', 0.07164351851851852),\n",
       "             ('ico_var_39', 0.07349537037037039),\n",
       "             ('ico_var_28', 0.07378472222222217),\n",
       "             ('ico_var_46', 0.07476851851851851),\n",
       "             ('ico_var_31', 0.07499999999999996),\n",
       "             ('if_var_79', 0.07545721534505753),\n",
       "             ('if_var_71', 0.08187321937321931),\n",
       "             ('if_var_76', 0.08266020955165694),\n",
       "             ('if_var_68', 0.08628762271049073),\n",
       "             ('ib_var_2', 0.08668981481481465),\n",
       "             ('id', 0.08968599791854419),\n",
       "             ('ico_var_32', 0.09056712962962951),\n",
       "             ('ico_var_33', 0.09286353114478106),\n",
       "             ('ico_var_36', 0.0933922558922559),\n",
       "             ('ico_var_27', 0.0949074074074072),\n",
       "             ('if_var_73', 0.0979855599647265),\n",
       "             ('if_var_75', 0.10188400205761328),\n",
       "             ('if_var_77', 0.10789689628182869),\n",
       "             ('ico_var_35', 0.11227377946127946)])"
      ]
     },
     "execution_count": 19,
     "metadata": {},
     "output_type": "execute_result"
    }
   ],
   "source": [
    "sorted_dict = collections.OrderedDict(features)\n",
    "sorted_dict"
   ]
  },
  {
   "cell_type": "code",
   "execution_count": 20,
   "metadata": {
    "scrolled": true
   },
   "outputs": [
    {
     "name": "stdout",
     "output_type": "stream",
     "text": [
      "Graphical plot of feature importance:\n"
     ]
    },
    {
     "data": {
      "image/png": "[encoded data removed]",
      "text/plain": [
       "<Figure size 576x576 with 1 Axes>"
      ]
     },
     "metadata": {},
     "output_type": "display_data"
    }
   ],
   "source": [
    "print (\"Graphical plot of feature importance:\")\n",
    "df_1.plot_importance()"
   ]
  },
  {
   "cell_type": "markdown",
   "metadata": {},
   "source": [
    "####  Random Forest Classifier"
   ]
  },
  {
   "cell_type": "code",
   "execution_count": 21,
   "metadata": {
    "collapsed": true
   },
   "outputs": [],
   "source": [
    "df2 = df.drop(columns=['id'])"
   ]
  },
  {
   "cell_type": "code",
   "execution_count": 22,
   "metadata": {
    "collapsed": true
   },
   "outputs": [],
   "source": [
    "X = df2.drop(columns=['ob_target'])\n",
    "y = df[output_var]"
   ]
  },
  {
   "cell_type": "code",
   "execution_count": 23,
   "metadata": {},
   "outputs": [
    {
     "name": "stdout",
     "output_type": "stream",
     "text": [
      "STEP 2.1: FEATURE IMPORTANCE WITH RANDOM FOREST...\n",
      "Feature ranking:\n",
      "1. feature if_var_68 (0.042761) \n",
      "2. feature if_var_78 (0.040214) \n",
      "3. feature if_var_79 (0.037382) \n",
      "4. feature if_var_65 (0.036829) \n",
      "5. feature if_var_69 (0.035175) \n",
      "6. feature if_var_67 (0.030820) \n",
      "7. feature if_var_75 (0.029224) \n",
      "8. feature ico_var_35 (0.028775) \n",
      "9. feature if_var_76 (0.028772) \n",
      "10. feature if_var_77 (0.028658) \n",
      "11. feature ico_var_34 (0.027377) \n",
      "12. feature ico_var_36 (0.024148) \n",
      "13. feature if_var_72 (0.023929) \n",
      "14. feature if_var_80 (0.023508) \n",
      "15. feature if_var_73 (0.023344) \n",
      "16. feature if_var_71 (0.019411) \n",
      "17. feature if_var_81 (0.018659) \n",
      "18. feature ico_var_33 (0.018206) \n",
      "19. feature if_var_70 (0.014341) \n",
      "20. feature ico_var_52 (0.014187) \n",
      "21. feature ico_var_56 (0.014042) \n",
      "22. feature ico_var_39 (0.013702) \n",
      "23. feature icn_var_24 (0.013488) \n",
      "24. feature ico_var_42 (0.013055) \n",
      "25. feature ico_var_47 (0.012778) \n",
      "26. feature ico_var_31 (0.012668) \n",
      "27. feature ico_var_41 (0.012622) \n",
      "28. feature icn_var_22 (0.012509) \n",
      "29. feature ico_var_51 (0.011520) \n",
      "30. feature ico_var_38 (0.011330) \n",
      "31. feature ico_var_54 (0.010879) \n",
      "32. feature ico_var_40 (0.010760) \n",
      "33. feature ico_var_29 (0.010630) \n",
      "34. feature ico_var_37 (0.010158) \n",
      "35. feature ico_var_48 (0.010078) \n",
      "36. feature ico_var_62 (0.010066) \n",
      "37. feature if_var_74 (0.010055) \n",
      "38. feature ico_var_27 (0.010033) \n",
      "39. feature ico_var_55 (0.009886) \n",
      "40. feature ico_var_59 (0.009795) \n",
      "41. feature ico_var_45 (0.009760) \n",
      "42. feature ib_var_5 (0.009736) \n",
      "43. feature ico_var_63 (0.009730) \n",
      "44. feature ico_var_60 (0.009162) \n",
      "45. feature ico_var_61 (0.009110) \n",
      "46. feature ico_var_58 (0.008844) \n",
      "47. feature ico_var_53 (0.008791) \n",
      "48. feature ico_var_57 (0.008702) \n",
      "49. feature ico_var_46 (0.008598) \n",
      "50. feature ico_var_43 (0.008511) \n",
      "51. feature ico_var_30 (0.008495) \n",
      "52. feature ico_var_32 (0.008152) \n",
      "53. feature ico_var_26 (0.008135) \n",
      "54. feature ico_var_25 (0.008040) \n",
      "55. feature ico_var_28 (0.007647) \n",
      "56. feature ico_var_64 (0.006994) \n",
      "57. feature ico_var_49 (0.006537) \n",
      "58. feature ib_var_14 (0.006479) \n",
      "59. feature ico_var_50 (0.006362) \n",
      "60. feature ib_var_2 (0.006233) \n",
      "61. feature ib_var_4 (0.006184) \n",
      "62. feature ico_var_44 (0.005945) \n",
      "63. feature ib_var_6 (0.004989) \n",
      "64. feature ib_var_18 (0.004914) \n",
      "65. feature icn_var_23 (0.004894) \n",
      "66. feature ib_var_21 (0.004712) \n",
      "67. feature ib_var_3 (0.004483) \n",
      "68. feature ib_var_13 (0.003855) \n",
      "69. feature ib_var_8 (0.003182) \n",
      "70. feature ib_var_19 (0.002982) \n",
      "71. feature ib_var_20 (0.002793) \n",
      "72. feature ib_var_1 (0.002267) \n",
      "73. feature ib_var_15 (0.002121) \n",
      "74. feature ib_var_17 (0.001899) \n",
      "75. feature ib_var_16 (0.001836) \n",
      "76. feature ib_var_7 (0.001785) \n",
      "77. feature ib_var_11 (0.001266) \n",
      "78. feature ib_var_9 (0.000060) \n",
      "79. feature if_var_66 (0.000039) \n",
      "80. feature ib_var_10 (0.000000) \n",
      "81. feature ib_var_12 (0.000000) \n"
     ]
    }
   ],
   "source": [
    "from sklearn.ensemble import RandomForestClassifier\n",
    "import numpy as np\n",
    "print (\"STEP 2.1: FEATURE IMPORTANCE WITH RANDOM FOREST...\")\n",
    "\n",
    "# Build a forest and compute the feature importances\n",
    "forest = RandomForestClassifier(n_estimators=450,\n",
    "                              random_state=0)\n",
    "forest.fit(X, y)\n",
    "importances = forest.feature_importances_\n",
    "std = np.std([tree.feature_importances_ for tree in forest.estimators_],\n",
    "             axis=0)\n",
    "indices = np.argsort(importances)[::-1]\n",
    "\n",
    "# Print the feature ranking\n",
    "print(\"Feature ranking:\")\n",
    "Feat = []\n",
    "for f in range(81):\n",
    "    print(\"%d. feature %s (%f) \" % (f + 1, list_inputs[indices[f]], importances[indices[f]] ))\n",
    "    Feat.append(list_inputs[indices[f]])"
   ]
  },
  {
   "cell_type": "markdown",
   "metadata": {},
   "source": [
    "## Selecting Final variables to our Model"
   ]
  },
  {
   "cell_type": "code",
   "execution_count": 24,
   "metadata": {},
   "outputs": [
    {
     "name": "stdout",
     "output_type": "stream",
     "text": [
      "STEP 2: SELECTING CHARACTERISTICS TO ENTER INTO THE MODEL...\n"
     ]
    }
   ],
   "source": [
    "print (\"STEP 2: SELECTING CHARACTERISTICS TO ENTER INTO THE MODEL...\")\n",
    "#in_model = ['ib_var_1','icn_var_22','ico_var_25','if_var_65'] #grade: 5.134 (Professor default values)\n",
    "#in_model = ['if_var_68','if_var_79','if_var_69','ico_var_36','ico_var_33','if_var_78','if_var_65','if_var_67','if_var_71','ib_var_8','if_var_72','ib_var_1','ico_var_53','ib_var_3'] #grade: 7.571 Using Univariate Selection  \n",
    "#in_model = ['if_var_67','if_var_75','if_var_72','if_var_65','ico_var_34','ico_var_35','if_var_79','if_var_69','icn_var_24','if_var_68']# grade:7.524 Using Feature Importance\n",
    "in_model = Feat[1:63]\n",
    "\n",
    "output_var = 'ob_target'"
   ]
  },
  {
   "cell_type": "markdown",
   "metadata": {},
   "source": [
    "# Step 3: Developing the Model"
   ]
  },
  {
   "cell_type": "markdown",
   "metadata": {},
   "source": [
    "### 3.1) Logistic Regression"
   ]
  },
  {
   "cell_type": "raw",
   "metadata": {},
   "source": [
    "print (\"STEP 3: DEVELOPING THE MODEL...\")\n",
    "X = df[in_model]\n",
    "y = df[output_var]\n",
    "Xo = dfo[in_model]\n",
    "\n",
    "from sklearn.linear_model import LogisticRegression\n",
    "clf = LogisticRegression(C=100, multi_class='auto',random_state=0, solver='lbfgs')\n",
    "fitted_model = clf.fit(X, y)\n",
    "pred_dev = fitted_model.predict_proba(X)[:,1]\n",
    "pred_oot  = fitted_model.predict_proba(Xo)[:,1]"
   ]
  },
  {
   "cell_type": "markdown",
   "metadata": {},
   "source": [
    "### 3.2) Random Forest "
   ]
  },
  {
   "cell_type": "code",
   "execution_count": 25,
   "metadata": {},
   "outputs": [],
   "source": [
    "topFeat = Feat[1:63]\n",
    "output_var = 'ob_target'\n",
    "\n",
    "X = df[in_model]\n",
    "y = df[output_var]\n",
    "Xo = dfo[in_model]\n",
    "\n",
    "from sklearn.ensemble import RandomForestClassifier\n",
    "mdl = RandomForestClassifier(criterion= \"entropy\",n_estimators=1125, random_state=0)\n",
    "\n",
    "fitted_model = mdl.fit(X, y)\n",
    "pred_dev = fitted_model.predict_proba(X)[:,1]\n",
    "pred_oot  = fitted_model.predict_proba(Xo)[:,1]"
   ]
  },
  {
   "cell_type": "markdown",
   "metadata": {},
   "source": [
    "#### Max tuning Random Forest"
   ]
  },
  {
   "cell_type": "raw",
   "metadata": {},
   "source": [
    "for f in range(1, 13, 2):\n",
    "    mdl = RandomForestClassifier(max_depth=20, max_features=f, n_estimators=100, random_state=0)"
   ]
  },
  {
   "cell_type": "markdown",
   "metadata": {},
   "source": [
    "### 3.3) K-Nearest Neighbors"
   ]
  },
  {
   "cell_type": "raw",
   "metadata": {},
   "source": [
    "from sklearn.neighbors import KNeighborsClassifier\n",
    "X = df[in_model]\n",
    "y = df[output_var]\n",
    "Xo = dfo[in_model]\n",
    "\n",
    "for n_neighbors in [1,3,5]:\n",
    "    print('n_neighbors:', n_neighbors)\n",
    "    mdl = KNeighborsClassifier(n_neighbors = n_neighbors)\n",
    "\n",
    "fitted_model = mdl.fit(X, y)\n",
    "pred_dev = fitted_model.predict_proba(X)[:,1]\n",
    "pred_oot  = fitted_model.predict_proba(Xo)[:,1]"
   ]
  },
  {
   "cell_type": "markdown",
   "metadata": {},
   "source": [
    "### 3.4) Support Vector Machine (SVM)"
   ]
  },
  {
   "cell_type": "raw",
   "metadata": {},
   "source": [
    "from sklearn import svm\n",
    "from sklearn.model_selection import cross_val_score\n",
    "\n",
    "X = df[in_model]\n",
    "y = df[output_var]\n",
    "Xo = dfo[in_model]\n",
    "\n",
    "clf = svm.SVC(kernel='linear', C=1,probability=True)\n",
    "\n",
    "fitted_model = clf.fit(X, y)\n",
    "pred_dev = fitted_model.predict_proba(X)[:,1]\n",
    "pred_oot  = fitted_model.predict_proba(Xo)[:,1]"
   ]
  },
  {
   "cell_type": "markdown",
   "metadata": {
    "collapsed": true
   },
   "source": [
    "# Step 4: Assessing the Model"
   ]
  },
  {
   "cell_type": "code",
   "execution_count": 26,
   "metadata": {},
   "outputs": [
    {
     "name": "stdout",
     "output_type": "stream",
     "text": [
      "STEP 4: ASSESSING THE MODEL...\n",
      "GINI DEVELOPMENT= 1.0\n",
      "KS DEVELOPMENT= 0.9999999999999989\n"
     ]
    }
   ],
   "source": [
    "print (\"STEP 4: ASSESSING THE MODEL...\")\n",
    "# CALCULATING GINI PERFORMANCE ON DEVELOPMENT SAMPLE\n",
    "from sklearn.metrics import roc_auc_score\n",
    "gini_score = 2*roc_auc_score(y, pred_dev)-1\n",
    "print (\"GINI DEVELOPMENT=\", gini_score)\n",
    "\n",
    "def KS(b,a):  \n",
    "    \"\"\"Function that received two parameters; first: a binary variable representing 0=good and 1=bad, \n",
    "    and then a second variable with the prediction of the first variable, the second variable can be continuous, \n",
    "    integer or binary - continuous is better. Finally, the function returns the KS Statistics of the two lists.\"\"\"\n",
    "    try:\n",
    "        tot_bads=1.0*sum(b)\n",
    "        tot_goods=1.0*(len(b)-tot_bads)\n",
    "        elements = zip(*[a,b])\n",
    "        elements = sorted(elements,key= lambda x: x[0])\n",
    "        elements_df = pd.DataFrame({'probability': b,'gbi': a})\n",
    "        pivot_elements_df = pd.pivot_table(elements_df, values='probability', index=['gbi'], aggfunc=[sum,len]).fillna(0)\n",
    "        max_ks = perc_goods = perc_bads = cum_perc_bads = cum_perc_goods = 0\n",
    "        for i in range(len(pivot_elements_df)):\n",
    "            perc_goods =  (pivot_elements_df.iloc[i]['len'] - pivot_elements_df.iloc[i]['sum']) / tot_goods\n",
    "            perc_bads = pivot_elements_df.iloc[i]['sum']/ tot_bads\n",
    "            cum_perc_goods += perc_goods\n",
    "            cum_perc_bads += perc_bads\n",
    "            A = cum_perc_bads-cum_perc_goods\n",
    "            if abs(A['probability']) > max_ks:\n",
    "                max_ks = abs(A['probability'])\n",
    "    except:\n",
    "        max_ks = 0\n",
    "    return max_ks\n",
    "\n",
    "\n",
    "KS_score = KS(y,pred_dev)\n",
    "print (\"KS DEVELOPMENT=\", KS_score) "
   ]
  },
  {
   "cell_type": "markdown",
   "metadata": {},
   "source": [
    "What is GINI and KS?\n",
    "* watch this video for reference: https://youtu.be/MiBUBVUC8kE"
   ]
  },
  {
   "cell_type": "markdown",
   "metadata": {
    "collapsed": true
   },
   "source": [
    "# Step 5: Submitting results"
   ]
  },
  {
   "cell_type": "code",
   "execution_count": 27,
   "metadata": {},
   "outputs": [
    {
     "name": "stdout",
     "output_type": "stream",
     "text": [
      "STEP 5: SUBMITTING THE RESULTS...\n"
     ]
    }
   ],
   "source": [
    "print (\"STEP 5: SUBMITTING THE RESULTS...\")\n",
    "import requests\n",
    "from requests.auth import HTTPBasicAuth\n",
    "dfo['pred'] = pred_oot\n",
    "dfo_tosend = dfo[list(['id','pred'])]\n",
    "\n",
    "i=1\n",
    "filename = \"student_sub\"+str(i)+\".csv\"\n",
    "dfo_tosend.to_csv(filename, sep=',')\n",
    "\n",
    "url = 'http://mfalonso.pythonanywhere.com/api/v1.0/fm_alwaysopen_uploadpredictions'"
   ]
  },
  {
   "cell_type": "markdown",
   "metadata": {},
   "source": [
    "To compete in this challenge, please create an user at my teaching website: http://mfalonso.pythonanywhere.com\n",
    "and replace below where it says:\n",
    "* my_user_name_goes_here\n",
    "* my_password_goes_here"
   ]
  },
  {
   "cell_type": "code",
   "execution_count": 28,
   "metadata": {},
   "outputs": [
    {
     "name": "stdout",
     "output_type": "stream",
     "text": [
      "RESULT SUBMISSION:  KS2 = 0.408099890017; GINI = 0.528270825054\n"
     ]
    }
   ],
   "source": [
    "files = {'file': (filename, open(filename, 'rb'))}\n",
    "rsub = requests.post(url, files=files, auth=HTTPBasicAuth('Francisco.Fortes', 'Kukinha1996'))\n",
    "\n",
    "resp_str = str(rsub.text)\n",
    "print (\"RESULT SUBMISSION: \", resp_str)"
   ]
  }
 ],
 "metadata": {
  "kernelspec": {
   "display_name": "Python 3",
   "language": "python",
   "name": "python3"
  },
  "language_info": {
   "codemirror_mode": {
    "name": "ipython",
    "version": 3
   },
   "file_extension": ".py",
   "mimetype": "text/x-python",
   "name": "python",
   "nbconvert_exporter": "python",
   "pygments_lexer": "ipython3",
   "version": "3.6.1"
  }
 },
 "nbformat": 4,
 "nbformat_minor": 2
}
