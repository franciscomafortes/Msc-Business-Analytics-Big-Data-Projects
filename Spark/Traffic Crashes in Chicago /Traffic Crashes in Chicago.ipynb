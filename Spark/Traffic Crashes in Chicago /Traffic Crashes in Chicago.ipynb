{
 "cells": [
  {
   "cell_type": "markdown",
   "metadata": {},
   "source": [
    "# Traffic Crashes in Chicago\n",
    "\n",
    "Flights analysis is going to be performed as follows:\n",
    "\n",
    "1. PySpark **environment setup**\n",
    "2. Data source and **Spark data abstraction** (DataFrame) **set up**\n",
    "3. Data set **metadata analysis**:\n",
    "  1. Display **schema and size** of the DataFrame\n",
    "  2. Get one or multiple **random samples** from the data set to better understand what the data is all about\n",
    "  3. Identify **data entities**, **metrics** and **dimensions**\n",
    "  4. **Columns/fields categorization**\n",
    "4. Columns groups **basic profiling** to better understand our data set:\n",
    "  1. **Timing related** columns basic profiling\n",
    "  2. **Crash related** columns basic profiling\n",
    "  3. **Location and Condition of Streets related** columns basic profiling\n",
    "5. **Business Questions** for Traffic Crashes in Chicago\n",
    "  1. **Which streets in the City of Chicago had the most crashes?**\n",
    "  2. **What is the Beat (police area code) with most traffic crashes?** \n",
    "  3. **What hour of the day is it most likely for traffic crashes to happen? and what is the probability that there is a mortal victim?**\n",
    "  4. **How does weather influence traffic crashes?** \n",
    "Let's go for it:\n",
    "\n",
    "## 1. PySpark environment setup"
   ]
  },
  {
   "cell_type": "code",
   "execution_count": 1,
   "metadata": {
    "collapsed": true
   },
   "outputs": [],
   "source": [
    "import findspark\n",
    "findspark.init()\n",
    "\n",
    "from pyspark.context import SparkContext\n",
    "from pyspark.sql.session import SparkSession\n",
    "\n",
    "sc = SparkContext.getOrCreate()\n",
    "spark = SparkSession(sc)"
   ]
  },
  {
   "cell_type": "markdown",
   "metadata": {},
   "source": [
    "## 2. Data source and Spark data abstraction (DataFrame) setup"
   ]
  },
  {
   "cell_type": "code",
   "execution_count": 2,
   "metadata": {
    "collapsed": true
   },
   "outputs": [],
   "source": [
    "CrashesDF = spark.read \\\n",
    "                 .option(\"inferSchema\", \"true\") \\\n",
    "                 .option(\"header\", \"true\") \\\n",
    "                 .csv(\"crashes_data.csv\")"
   ]
  },
  {
   "cell_type": "markdown",
   "metadata": {},
   "source": [
    "## 3. Data set metadata analysis\n",
    "### A. Display schema and size of the DataFrame"
   ]
  },
  {
   "cell_type": "code",
   "execution_count": 3,
   "metadata": {
    "scrolled": false
   },
   "outputs": [
    {
     "name": "stdout",
     "output_type": "stream",
     "text": [
      "root\n",
      " |-- alignment: string (nullable = true)\n",
      " |-- beat: integer (nullable = true)\n",
      " |-- contributory_cause: string (nullable = true)\n",
      " |-- device_condition: string (nullable = true)\n",
      " |-- dooring: integer (nullable = true)\n",
      " |-- dow: integer (nullable = true)\n",
      " |-- first_crash_type: string (nullable = true)\n",
      " |-- hit_and_run: integer (nullable = true)\n",
      " |-- hour: integer (nullable = true)\n",
      " |-- injuries_fatal: integer (nullable = true)\n",
      " |-- injuries_incapacitating: integer (nullable = true)\n",
      " |-- injuries_no_indication: integer (nullable = true)\n",
      " |-- injuries_non_incapacitating: integer (nullable = true)\n",
      " |-- injuries_reported_not_evident: integer (nullable = true)\n",
      " |-- intersection_related: integer (nullable = true)\n",
      " |-- lane_count: integer (nullable = true)\n",
      " |-- latitude: double (nullable = true)\n",
      " |-- lighting_condition: string (nullable = true)\n",
      " |-- longitude: double (nullable = true)\n",
      " |-- month: integer (nullable = true)\n",
      " |-- most_severe_injury: string (nullable = true)\n",
      " |-- num_units: integer (nullable = true)\n",
      " |-- posted_speed_limit: integer (nullable = true)\n",
      " |-- road_defect: string (nullable = true)\n",
      " |-- roadway_surface_cond: string (nullable = true)\n",
      " |-- street: string (nullable = true)\n",
      " |-- traffic_control_device: string (nullable = true)\n",
      " |-- trafficway_type: string (nullable = true)\n",
      " |-- weather_condition: string (nullable = true)\n",
      " |-- work_zone: integer (nullable = true)\n",
      " |-- year: integer (nullable = true)\n",
      " |-- i: integer (nullable = true)\n",
      "\n"
     ]
    },
    {
     "data": {
      "text/markdown": [
       "This DataFrame has **178241 rows**."
      ],
      "text/plain": [
       "<IPython.core.display.Markdown object>"
      ]
     },
     "metadata": {},
     "output_type": "display_data"
    }
   ],
   "source": [
    "from IPython.display import display, Markdown\n",
    "\n",
    "CrashesDF.printSchema()\n",
    "display(Markdown(\"This DataFrame has **%d rows**.\" % CrashesDF.count()))"
   ]
  },
  {
   "cell_type": "markdown",
   "metadata": {},
   "source": [
    "### B. Get one or multiple random samples from the data set"
   ]
  },
  {
   "cell_type": "code",
   "execution_count": 4,
   "metadata": {
    "scrolled": true
   },
   "outputs": [
    {
     "data": {
      "text/plain": [
       "[Row(alignment='straight_and_level', beat=1131, contributory_cause='improper_lane_usage', device_condition='functioning_properly', dooring=0, dow=5, first_crash_type='rear_end', hit_and_run=0, hour=23, injuries_fatal=0, injuries_incapacitating=0, injuries_no_indication=2, injuries_non_incapacitating=0, injuries_reported_not_evident=0, intersection_related=0, lane_count=2, latitude=41.876918244, lighting_condition='darkness,_lighted_road', longitude=-87.735494772, month=7, most_severe_injury='no_indication_of_injury', num_units=2, posted_speed_limit=35, road_defect='no_defects', roadway_surface_cond='dry', street='S KOSTNER AVE', traffic_control_device='traffic_signal', trafficway_type='divided_-_w/median_(not_raised)', weather_condition='clear', work_zone=0, year=2016, i=2),\n",
       " Row(alignment='straight_and_level', beat=223, contributory_cause='unable_to_determine', device_condition='no_controls', dooring=0, dow=5, first_crash_type='parked_motor_vehicle', hit_and_run=0, hour=17, injuries_fatal=0, injuries_incapacitating=0, injuries_no_indication=1, injuries_non_incapacitating=0, injuries_reported_not_evident=0, intersection_related=0, lane_count=4, latitude=41.804454982, lighting_condition='daylight', longitude=-87.606309576, month=9, most_severe_injury='no_indication_of_injury', num_units=2, posted_speed_limit=0, road_defect='no_defects', roadway_surface_cond='dry', street='S COTTAGE GROVE AVE', traffic_control_device='no_controls', trafficway_type='divided_-_w/median_(not_raised)', weather_condition='clear', work_zone=0, year=2016, i=4)]"
      ]
     },
     "execution_count": 4,
     "metadata": {},
     "output_type": "execute_result"
    }
   ],
   "source": [
    "CrashesDF.cache() # optimization to make the processing faster\n",
    "CrashesDF.sample(False, 0.1).take(2)"
   ]
  },
  {
   "cell_type": "markdown",
   "metadata": {},
   "source": [
    "### C. Data entities, metrics and dimensions\n",
    "\n",
    "I've identified the following elements:\n",
    "\n",
    "* **Entities:** Traffic Crashes (main one which is measured - facts), Police Beat, Contributory Cause, Device Condition & First Crash Type\n",
    "* **Metrics:** Injuries_Fatal, Injuries_Incapacitating, Injuries_no_indication, Injuries_non_incapacitating, Injuries_reported_not_evident, interesection_related, Hit_and_run, Hour, Month, Year, Dow, Num_units, Posted_speed_limit\n",
    "* **Dimensions:** Latitude, Longitute, Road_Defect, Road_surface_cond, Street, Traffic_control_device, trafficway_type, Weather_condition, Work_zone, lighting_condition, Lane_count, Dooring\n",
    "\n",
    "### D. Column categorization\n",
    "\n",
    "The following could be a potential column categorization:\n",
    "\n",
    "* **Timing related columns:** *Dow*,*Hour*,*Year* and *Month*\n",
    "* **Crash related columns:** *Contributory_cause*, *First_Crash_Type*, *Device Condition*, *Num_Units*, *Weather Condition*, *Lighting_Condtion*, *Beat*, *Injuries_Fatal*, *Injuries_Incapacitating*, *Injuries_no_indication*, *Injuries_non_incapacitating*, *Injuries_reported_not_evident*, *interesection_related* & *Hit_and_run*, *Dooring*\n",
    "* **Location and Condtion of street related columns:** *Posted_speed_limit*, *Latitude*, *Longitute*, *Road_Defect*, *Road_surface_cond*,*Street*,*Traffic_control_device*,*trafficway_type*,*Work_zone* & *Lane_count*\n",
    "\n",
    "## 4. Columns groups basic profiling to better understand our data set\n",
    "### A. Timing related columns basic profiling"
   ]
  },
  {
   "cell_type": "code",
   "execution_count": 5,
   "metadata": {},
   "outputs": [
    {
     "name": "stdout",
     "output_type": "stream",
     "text": [
      "Summary of columns Day of Week, Hour, Month and Year:\n",
      "+-------+------------------+------------------+------------------+------------------+\n",
      "|summary|               dow|              hour|             month|              year|\n",
      "+-------+------------------+------------------+------------------+------------------+\n",
      "|  count|            178241|            178241|            178241|            178241|\n",
      "|   mean|3.1271031917460066|13.164490773727707| 6.637126138206137|  2017.29660964649|\n",
      "| stddev|1.9686750715144956|  5.53206252210308|3.5287043333623647|0.8475623815502351|\n",
      "|    min|                 0|                 0|                 1|              2016|\n",
      "|    25%|                 1|                 9|                 4|              2017|\n",
      "|    50%|                 3|                14|                 7|              2017|\n",
      "|    75%|                 5|                17|                10|              2018|\n",
      "|    max|                 6|                23|                12|              2019|\n",
      "+-------+------------------+------------------+------------------+------------------+\n",
      "\n",
      "Checking for nulls on columns Day of Week, Hour, Month and Year:\n",
      "+---+----+-----+----+\n",
      "|dow|hour|month|year|\n",
      "+---+----+-----+----+\n",
      "|  0|   0|    0|   0|\n",
      "+---+----+-----+----+\n",
      "\n",
      "Checking amount of distinct values in columns Day of Week, Hour, Month and Year:\n",
      "+---+----+-----+----+\n",
      "|dow|hour|month|year|\n",
      "+---+----+-----+----+\n",
      "|  7|  24|   12|   4|\n",
      "+---+----+-----+----+\n",
      "\n",
      "Most and least frequent occurrences for Hour and Day of Week columns:\n"
     ]
    },
    {
     "data": {
      "text/markdown": [
       "\n",
       "| leastFreqHour | mostFreqHour | leastFreqDayOfWeek | mostFreqDayOfWeek |\n",
       "|----|----|----|----|\n",
       "| 4 (1979 occurrences) | 16 (13556 occurrences) | 0 (21294 occurrences) | 5 (29086 occurrences) |\n"
      ],
      "text/plain": [
       "<IPython.core.display.Markdown object>"
      ]
     },
     "metadata": {},
     "output_type": "display_data"
    }
   ],
   "source": [
    "from IPython.display import display, Markdown\n",
    "from pyspark.sql.functions import when, count, col, countDistinct, desc, first, lit\n",
    "\n",
    "\n",
    "print (\"Summary of columns Day of Week, Hour, Month and Year:\")\n",
    "CrashesDF.select(\"dow\",\"hour\",\"month\",\"year\").summary().show()\n",
    "\n",
    "print(\"Checking for nulls on columns Day of Week, Hour, Month and Year:\")\n",
    "CrashesDF.select([count(when(col(c).isNull(), c)).alias(c) for c in [\"dow\",\"hour\",\"month\",\"year\"]]).show()\n",
    "\n",
    "print(\"Checking amount of distinct values in columns Day of Week, Hour, Month and Year:\")\n",
    "CrashesDF.select([countDistinct(c).alias(c) for c in [\"dow\",\"hour\",\"month\",\"year\"]]).show()\n",
    "\n",
    "print (\"Most and least frequent occurrences for Hour and Day of Week columns:\")\n",
    "HourofOccurrencesDF = CrashesDF.groupBy(\"hour\").agg(count(lit(1)).alias(\"Total\"))\n",
    "DayOfWeekDF = CrashesDF.groupBy(\"dow\").agg(count(lit(1)).alias(\"Total\"))\n",
    "\n",
    "leastFreqHour    = HourofOccurrencesDF.orderBy(col(\"Total\").asc()).first()\n",
    "mostFreqHour     = HourofOccurrencesDF.orderBy(col(\"Total\").desc()).first()\n",
    "leastFreqDayOfWeek     = DayOfWeekDF.orderBy(col(\"Total\").asc()).first()\n",
    "mostFreqDayOfWeek      = DayOfWeekDF.orderBy(col(\"Total\").desc()).first()\n",
    "\n",
    "display(Markdown(\"\"\"\n",
    "| %s | %s | %s | %s |\n",
    "|----|----|----|----|\n",
    "| %s | %s | %s | %s |\n",
    "\"\"\" % (\"leastFreqHour\", \"mostFreqHour\", \"leastFreqDayOfWeek\", \"mostFreqDayOfWeek\", \\\n",
    "       \"%d (%d occurrences)\" % (leastFreqHour[\"hour\"], leastFreqHour[\"Total\"]), \\\n",
    "       \"%d (%d occurrences)\" % (mostFreqHour[\"hour\"], mostFreqHour[\"Total\"]), \\\n",
    "       \"%d (%d occurrences)\" % (leastFreqDayOfWeek  [\"dow\"], leastFreqDayOfWeek [\"Total\"]), \\\n",
    "       \"%d (%d occurrences)\" % (mostFreqDayOfWeek  [\"dow\"], mostFreqDayOfWeek  [\"Total\"]))))"
   ]
  },
  {
   "cell_type": "markdown",
   "metadata": {},
   "source": [
    "### B. Crash related columns basic profiling"
   ]
  },
  {
   "cell_type": "code",
   "execution_count": 6,
   "metadata": {},
   "outputs": [
    {
     "name": "stdout",
     "output_type": "stream",
     "text": [
      "Summary of columns Police Beat,Number of Units Involved, Fatal Injuries, Incapacitated Injuries and Hit & Run:\n",
      "+-------+------------------+------------------+--------------------+-----------------------+-------------------+\n",
      "|summary|              beat|         num_units|      injuries_fatal|injuries_incapacitating|        hit_and_run|\n",
      "+-------+------------------+------------------+--------------------+-----------------------+-------------------+\n",
      "|  count|            178241|            178241|              178241|                 178241|             178241|\n",
      "|   mean|1240.5327057186619| 2.029336684601186|0.001088414001267...|   0.018620856032001615|  0.266824131372692|\n",
      "| stddev| 711.0807265746752|0.4209477748521104| 0.03559169382988048|    0.15873711547449149|0.44230092906238483|\n",
      "|    min|               111|                 1|                   0|                      0|                  0|\n",
      "|    25%|               711|                 2|                   0|                      0|                  0|\n",
      "|    50%|              1214|                 2|                   0|                      0|                  0|\n",
      "|    75%|              1824|                 2|                   0|                      0|                  1|\n",
      "|    max|              2535|                18|                   3|                      6|                  1|\n",
      "+-------+------------------+------------------+--------------------+-----------------------+-------------------+\n",
      "\n",
      "Checking for nulls on columns Police Beat,Number of Units Involved, Fatal Injuries, Incapacitated Injuries and Hit & Run:\n",
      "+----+---------+--------------+-----------------------+-----------+\n",
      "|beat|num_units|injuries_fatal|injuries_incapacitating|hit_and_run|\n",
      "+----+---------+--------------+-----------------------+-----------+\n",
      "|   0|        0|             0|                      0|          0|\n",
      "+----+---------+--------------+-----------------------+-----------+\n",
      "\n",
      "Checking amount of distinct values in columns Police Beat,Number of Units Involved, Fatal Injuries, Incapacitated Injuries and Hit & Run:\n",
      "+----+---------+--------------+-----------------------+-----------+\n",
      "|beat|num_units|injuries_fatal|injuries_incapacitating|hit_and_run|\n",
      "+----+---------+--------------+-----------------------+-----------+\n",
      "| 271|       13|             4|                      7|          2|\n",
      "+----+---------+--------------+-----------------------+-----------+\n",
      "\n",
      "Most and least frequent occurrences for Beat, Number of Units Involved, Fatal Injuries and Incapacitated Injuries columns:\n"
     ]
    },
    {
     "data": {
      "text/markdown": [
       "\n",
       "| leastFreqBeat | mostFreqBeat | leastFreqNumOfUnits | mostFreqNumOfUnits |\n",
       "|----|----|----|----|\n",
       "| 1654 (28 occurrences) | 1834 (2758 occurrences) | 12 (1 occurrences) | 2 (158129 occurrences) |\n"
      ],
      "text/plain": [
       "<IPython.core.display.Markdown object>"
      ]
     },
     "metadata": {},
     "output_type": "display_data"
    },
    {
     "data": {
      "text/markdown": [
       "\n",
       "| leastFreqFatalInjuries | mostFreqFatalInjuries | leastFreqIncapacitatedInjuries  | mostFreqIncapacitatedInjuries  |\n",
       "|----|----|----|----|\n",
       "| 3 (2 occurrences) | 0 (178061 occurrences) | 6 (1 occurrences) | 0 (175372 occurrences) |\n"
      ],
      "text/plain": [
       "<IPython.core.display.Markdown object>"
      ]
     },
     "metadata": {},
     "output_type": "display_data"
    },
    {
     "name": "stdout",
     "output_type": "stream",
     "text": [
      "Summary of columns No indication of Injuries, Injuries non Incapacitated, Injuries reported not evident and Intersection related:\n",
      "+-------+----------------------+---------------------------+-----------------------------+--------------------+\n",
      "|summary|injuries_no_indication|injuries_non_incapacitating|injuries_reported_not_evident|intersection_related|\n",
      "+-------+----------------------+---------------------------+-----------------------------+--------------------+\n",
      "|  count|                178241|                     178241|                       178241|              178241|\n",
      "|   mean|    2.0499941090994778|         0.0922683333239827|          0.05804500647999057| 0.22542512665436124|\n",
      "| stddev|     1.199611655663729|        0.39130870589728234|           0.3073335616306294| 0.41786315768896276|\n",
      "|    min|                     0|                          0|                            0|                   0|\n",
      "|    25%|                     1|                          0|                            0|                   0|\n",
      "|    50%|                     2|                          0|                            0|                   0|\n",
      "|    75%|                     2|                          0|                            0|                   0|\n",
      "|    max|                    61|                         21|                           10|                   1|\n",
      "+-------+----------------------+---------------------------+-----------------------------+--------------------+\n",
      "\n",
      "Checking for nulls on columns No indication of Injuries, Injuries non Incapacitated, Injuries reported not evident and Intersection related:\n",
      "+----------------------+---------------------------+-----------------------------+--------------------+\n",
      "|injuries_no_indication|injuries_non_incapacitating|injuries_reported_not_evident|intersection_related|\n",
      "+----------------------+---------------------------+-----------------------------+--------------------+\n",
      "|                     0|                          0|                            0|                   0|\n",
      "+----------------------+---------------------------+-----------------------------+--------------------+\n",
      "\n",
      "Checking amount of distinct values in columns No indication of Injuries, Injuries non Incapacitated, Injuries reported not evident and Intersection related:\n",
      "+----------------------+---------------------------+-----------------------------+--------------------+\n",
      "|injuries_no_indication|injuries_non_incapacitating|injuries_reported_not_evident|intersection_related|\n",
      "+----------------------+---------------------------+-----------------------------+--------------------+\n",
      "|                    40|                         13|                           11|                   2|\n",
      "+----------------------+---------------------------+-----------------------------+--------------------+\n",
      "\n"
     ]
    }
   ],
   "source": [
    "from IPython.display import display, Markdown\n",
    "from pyspark.sql.functions import when, count, col, countDistinct, desc, first\n",
    "\n",
    "print (\"Summary of columns Police Beat,Number of Units Involved, Fatal Injuries, Incapacitated Injuries and Hit & Run:\")\n",
    "CrashesDF.select(\"beat\", \"num_units\", \"injuries_fatal\", \"injuries_incapacitating\", \"hit_and_run\").summary().show()\n",
    "\n",
    "print(\"Checking for nulls on columns Police Beat,Number of Units Involved, Fatal Injuries, Incapacitated Injuries and Hit & Run:\")\n",
    "CrashesDF.select([count(when(col(c).isNull(), c)).alias(c) for c in [\"beat\", \"num_units\", \"injuries_fatal\", \"injuries_incapacitating\", \"hit_and_run\"]]).show()\n",
    "\n",
    "print(\"Checking amount of distinct values in columns Police Beat,Number of Units Involved, Fatal Injuries, Incapacitated Injuries and Hit & Run:\")\n",
    "CrashesDF.select([countDistinct(c).alias(c) for c in [\"beat\", \"num_units\", \"injuries_fatal\", \"injuries_incapacitating\", \"hit_and_run\"]]).show()\n",
    "\n",
    "print (\"Most and least frequent occurrences for Beat, Number of Units Involved, Fatal Injuries and Incapacitated Injuries columns:\")\n",
    "BeatDF = CrashesDF.groupBy(\"beat\").agg(count(lit(1)).alias(\"Total\"))\n",
    "NumOfUnitsDF   = CrashesDF.groupBy(\"num_units\").agg(count(lit(1)).alias(\"Total\"))\n",
    "FatalInjuriesDF    = CrashesDF.groupBy(\"injuries_fatal\").agg(count(lit(1)).alias(\"Total\"))\n",
    "IncapacitatedInjuriesDF      = CrashesDF.groupBy(\"injuries_incapacitating\").agg(count(lit(1)).alias(\"Total\"))\n",
    "\n",
    "leastFreqBeat    = BeatDF.orderBy(col(\"Total\").asc()).first()\n",
    "mostFreqBeat     = BeatDF.orderBy(col(\"Total\").desc()).first()\n",
    "leastFreqNumOfUnits      = NumOfUnitsDF.orderBy(col(\"Total\").asc()).first()\n",
    "mostFreqNumOfUnits        = NumOfUnitsDF.orderBy(col(\"Total\").desc()).first()\n",
    "leastFreqFatalInjuries      = FatalInjuriesDF.orderBy(col(\"Total\").asc()).first()\n",
    "mostFreqFatalInjuries       = FatalInjuriesDF.orderBy(col(\"Total\").desc()).first()\n",
    "leastFreqIncapacitatedInjuries         = IncapacitatedInjuriesDF.orderBy(col(\"Total\").asc()).first()\n",
    "mostFreqIncapacitatedInjuries          = IncapacitatedInjuriesDF.orderBy(col(\"Total\").desc()).first()\n",
    "\n",
    "display(Markdown(\"\"\"\n",
    "| %s | %s | %s | %s |\n",
    "|----|----|----|----|\n",
    "| %s | %s | %s | %s |\n",
    "\"\"\" % (\"leastFreqBeat\", \"mostFreqBeat\", \"leastFreqNumOfUnits\", \"mostFreqNumOfUnits\", \\\n",
    "       \"%d (%d occurrences)\" % (leastFreqBeat[\"beat\"], leastFreqBeat[\"Total\"]), \\\n",
    "       \"%d (%d occurrences)\" % (mostFreqBeat[\"beat\"], mostFreqBeat[\"Total\"]), \\\n",
    "       \"%s (%d occurrences)\" % (leastFreqNumOfUnits[\"num_units\"], leastFreqNumOfUnits[\"Total\"]), \\\n",
    "       \"%s (%d occurrences)\" % (mostFreqNumOfUnits[\"num_units\"], mostFreqNumOfUnits[\"Total\"]))))\n",
    "display(Markdown(\"\"\"\n",
    "| %s | %s | %s | %s |\n",
    "|----|----|----|----|\n",
    "| %s | %s | %s | %s |\n",
    "\"\"\" % (\"leastFreqFatalInjuries\", \"mostFreqFatalInjuries\", \"leastFreqIncapacitatedInjuries \", \"mostFreqIncapacitatedInjuries \", \\\n",
    "       \"%s (%d occurrences)\" % (leastFreqFatalInjuries[\"injuries_fatal\"], leastFreqFatalInjuries[\"Total\"]), \\\n",
    "       \"%s (%d occurrences)\" % (mostFreqFatalInjuries[\"injuries_fatal\"], mostFreqFatalInjuries[\"Total\"]), \\\n",
    "       \"%s (%d occurrences)\" % (leastFreqIncapacitatedInjuries [\"injuries_incapacitating\"], leastFreqIncapacitatedInjuries [\"Total\"]), \\\n",
    "       \"%s (%d occurrences)\" % (mostFreqIncapacitatedInjuries [\"injuries_incapacitating\"], mostFreqIncapacitatedInjuries [\"Total\"]))))\n",
    "\n",
    "print (\"Summary of columns No indication of Injuries, Injuries non Incapacitated, Injuries reported not evident and Intersection related:\")\n",
    "CrashesDF.select(\"injuries_no_indication\", \"injuries_non_incapacitating\", \"injuries_reported_not_evident\", \"intersection_related\").summary().show()\n",
    "\n",
    "print(\"Checking for nulls on columns No indication of Injuries, Injuries non Incapacitated, Injuries reported not evident and Intersection related:\")\n",
    "CrashesDF.select([count(when(col(c).isNull(), c)).alias(c) for c in [\"injuries_no_indication\", \"injuries_non_incapacitating\", \"injuries_reported_not_evident\", \"intersection_related\"]]).show()\n",
    "\n",
    "print(\"Checking amount of distinct values in columns No indication of Injuries, Injuries non Incapacitated, Injuries reported not evident and Intersection related:\")\n",
    "CrashesDF.select([countDistinct(c).alias(c) for c in [\"injuries_no_indication\", \"injuries_non_incapacitating\", \"injuries_reported_not_evident\", \"intersection_related\"]]).show()"
   ]
  },
  {
   "cell_type": "markdown",
   "metadata": {},
   "source": [
    "### C. Location and Street Condition related columns basic profiling"
   ]
  },
  {
   "cell_type": "code",
   "execution_count": 33,
   "metadata": {
    "scrolled": false
   },
   "outputs": [
    {
     "name": "stdout",
     "output_type": "stream",
     "text": [
      "Summary of columns Posted Speed Limit and Is the area an active Work Zone :\n",
      "+-------+------------------+--------------------+\n",
      "|summary|posted_speed_limit|           work_zone|\n",
      "+-------+------------------+--------------------+\n",
      "|  count|            178241|              178241|\n",
      "|   mean| 28.44888661980128|0.006911989946196442|\n",
      "| stddev| 6.452489404136152| 0.08285078667252987|\n",
      "|    min|                 0|                   0|\n",
      "|    25%|                30|                   0|\n",
      "|    50%|                30|                   0|\n",
      "|    75%|                30|                   0|\n",
      "|    max|                70|                   1|\n",
      "+-------+------------------+--------------------+\n",
      "\n",
      "Checking for nulls on columns Posted Speed Limit and Is the area an active Work Zone:\n",
      "+------------------+---------+\n",
      "|posted_speed_limit|work_zone|\n",
      "+------------------+---------+\n",
      "|                 0|        0|\n",
      "+------------------+---------+\n",
      "\n",
      "Checking amount of distinct values in columns Posted Speed Limit and Is the area an active Work Zone\n",
      "+------------------+---------+\n",
      "|posted_speed_limit|work_zone|\n",
      "+------------------+---------+\n",
      "|                31|        2|\n",
      "+------------------+---------+\n",
      "\n"
     ]
    }
   ],
   "source": [
    "from IPython.display import display, Markdown\n",
    "from pyspark.sql.functions import when, count, col, countDistinct, desc, first\n",
    "\n",
    "print (\"Summary of columns Posted Speed Limit and Is the area an active Work Zone :\")\n",
    "CrashesDF.select(\"posted_speed_limit\", \"work_zone\").summary().show()\n",
    "\n",
    "print(\"Checking for nulls on columns Posted Speed Limit and Is the area an active Work Zone:\")\n",
    "CrashesDF.select([count(when(col(c).isNull(), c)).alias(c) for c in [\"posted_speed_limit\", \"work_zone\"]]).show()\n",
    "\n",
    "print(\"Checking amount of distinct values in columns Posted Speed Limit and Is the area an active Work Zone\")\n",
    "CrashesDF.select([countDistinct(c).alias(c) for c in [\"posted_speed_limit\", \"work_zone\"]]).show()\n"
   ]
  },
  {
   "cell_type": "markdown",
   "metadata": {},
   "source": [
    "## 5. Business Questions for Traffic Crashes in Chicago\n",
    "\n",
    "### 1. Which streets in the City of Chicago had the most crashes?"
   ]
  },
  {
   "cell_type": "code",
   "execution_count": 10,
   "metadata": {
    "scrolled": false
   },
   "outputs": [
    {
     "data": {
      "text/markdown": [
       "**Streets with most Crashes**:"
      ],
      "text/plain": [
       "<IPython.core.display.Markdown object>"
      ]
     },
     "metadata": {},
     "output_type": "display_data"
    },
    {
     "name": "stdout",
     "output_type": "stream",
     "text": [
      "+------------------+-------------------+----------------------+--------------------+---------------------+\n",
      "|            street|Total Nº of Crashes|Total Nº of Fatalities|Lowest Nº of Crashes|Highest Nº of Crashes|\n",
      "+------------------+-------------------+----------------------+--------------------+---------------------+\n",
      "|     S WESTERN AVE|               5459|                     2|                   1|                    6|\n",
      "|      S PULASKI RD|               5347|                     3|                   1|                    8|\n",
      "|     S ASHLAND AVE|               5194|                     3|                   1|                    5|\n",
      "|      S HALSTED ST|               4956|                     5|                   1|                    6|\n",
      "|      S CICERO AVE|               4272|                     3|                   1|                    5|\n",
      "|       W NORTH AVE|               4233|                     5|                   1|                    7|\n",
      "|     N WESTERN AVE|               4131|                     1|                   1|                    7|\n",
      "|      S KEDZIE AVE|               4052|                     3|                   1|                    6|\n",
      "|S STONY ISLAND AVE|               3768|                     2|                   1|                    6|\n",
      "|  W IRVING PARK RD|               3615|                     0|                   1|                    6|\n",
      "|        S STATE ST|               3473|                     5|                   1|                    6|\n",
      "|        N CLARK ST|               3466|                     0|                   1|                    6|\n",
      "|     W BELMONT AVE|               3436|                     2|                   1|                    7|\n",
      "|      W MADISON ST|               3328|                     3|                   1|                    5|\n",
      "|      N CICERO AVE|               3325|                     0|                   1|                    5|\n",
      "|    S MICHIGAN AVE|               3241|                     3|                   1|                    6|\n",
      "|       W GRAND AVE|               3217|                     1|                   1|                    4|\n",
      "|   W FULLERTON AVE|               3211|                     1|                   1|                    8|\n",
      "|     W CHICAGO AVE|               3034|                     2|                   1|                    5|\n",
      "|      N PULASKI RD|               2935|                     0|                   1|                    4|\n",
      "+------------------+-------------------+----------------------+--------------------+---------------------+\n",
      "only showing top 20 rows\n",
      "\n"
     ]
    }
   ],
   "source": [
    "from pyspark.sql.functions import max, min, avg, stddev, sum\n",
    "from pyspark.sql.types import IntegerType\n",
    "\n",
    "display(Markdown(\"**Streets with most Crashes**:\"))\n",
    "CrashesDF.groupBy(\"street\")\\\n",
    "              .agg(sum(\"num_units\").alias(\"Total Nº of Crashes\"),\\\n",
    "                   sum(\"injuries_fatal\").alias(\"Total Nº of Fatalities\"),\\\n",
    "                   min(\"num_units\").alias(\"Lowest Nº of Crashes\"),\\\n",
    "                   max(\"num_units\").alias(\"Highest Nº of Crashes\"))\\\n",
    "              .sort(\"Total Nº of Crashes\", ascending=False).show()"
   ]
  },
  {
   "cell_type": "markdown",
   "metadata": {},
   "source": [
    "### 2. What is the Beat (police area code) with most traffic crashes?"
   ]
  },
  {
   "cell_type": "code",
   "execution_count": 9,
   "metadata": {},
   "outputs": [
    {
     "data": {
      "text/markdown": [
       "**Most traffic crashes by Police Beat**:"
      ],
      "text/plain": [
       "<IPython.core.display.Markdown object>"
      ]
     },
     "metadata": {},
     "output_type": "display_data"
    },
    {
     "name": "stdout",
     "output_type": "stream",
     "text": [
      "+----+-------------------+----------------------+--------------------------------+\n",
      "|beat|Total Nº of Crashes|Total Nº of Fatalities|Fatalities : Nº of Crashes t (%)|\n",
      "+----+-------------------+----------------------+--------------------------------+\n",
      "|1834|               5528|                     0|                             0.0|\n",
      "| 114|               4570|                     1|             0.02188183807439825|\n",
      "| 122|               4474|                     0|                             0.0|\n",
      "|1831|               4366|                     2|             0.04580852038479157|\n",
      "| 813|               3329|                     1|            0.030039050765995796|\n",
      "| 815|               3072|                     4|             0.13020833333333331|\n",
      "|1232|               2946|                     2|              0.0678886625933469|\n",
      "| 331|               2923|                     8|             0.27369141293191923|\n",
      "|2413|               2819|                     1|              0.0354735721887194|\n",
      "|1833|               2814|                     0|                             0.0|\n",
      "|1214|               2638|                     0|                             0.0|\n",
      "| 833|               2636|                     1|             0.03793626707132018|\n",
      "|1231|               2485|                     1|             0.04024144869215292|\n",
      "| 132|               2481|                     0|                             0.0|\n",
      "|1622|               2467|                     0|                             0.0|\n",
      "| 123|               2466|                     3|             0.12165450121654502|\n",
      "|1623|               2458|                     0|                             0.0|\n",
      "|2411|               2381|                     0|                             0.0|\n",
      "|2512|               2334|                     0|                             0.0|\n",
      "| 131|               2297|                     0|                             0.0|\n",
      "+----+-------------------+----------------------+--------------------------------+\n",
      "only showing top 20 rows\n",
      "\n"
     ]
    }
   ],
   "source": [
    "from pyspark.sql.functions import max, min, avg, stddev, sum\n",
    "from pyspark.sql.types import IntegerType\n",
    "\n",
    "display(Markdown(\"**Most traffic crashes by Police Beat**:\"))\n",
    "CrashesDF.groupBy(\"beat\")\\\n",
    "              .agg(sum(\"num_units\").alias(\"Total Nº of Crashes\"),\\\n",
    "                   sum(\"injuries_fatal\").alias(\"Total Nº of Fatalities\"),\\\n",
    "                   (sum(\"injuries_fatal\")/sum(\"num_units\")*100).alias(\"Fatalities : Nº of Crashes t (%)\"))\\\n",
    "              .sort(\"Total Nº of Crashes\", ascending=False).show()"
   ]
  },
  {
   "cell_type": "markdown",
   "metadata": {},
   "source": [
    "### 3. What hour of the day is it most likely for traffic crashes to happen? and what is the probability that there is a mortal victim?"
   ]
  },
  {
   "cell_type": "code",
   "execution_count": 8,
   "metadata": {},
   "outputs": [
    {
     "data": {
      "text/markdown": [
       "**Hour of the day is it most likely for traffic crashes & probability that there is a mortal victim**:"
      ],
      "text/plain": [
       "<IPython.core.display.Markdown object>"
      ]
     },
     "metadata": {},
     "output_type": "display_data"
    },
    {
     "name": "stdout",
     "output_type": "stream",
     "text": [
      "+----+-------------------+---------------------+----------------------+---------------------------+\n",
      "|hour|Total Nº of Crashes|Average Nº of Crashes|Total Nº of Fatalities|Probability of Fatality (%)|\n",
      "+----+-------------------+---------------------+----------------------+---------------------------+\n",
      "|   0|               7155|   2.0402053036783574|                     7|         0.0978336827393431|\n",
      "|   1|               6211|    2.055261416280609|                    21|        0.33810980518435035|\n",
      "|   2|               5572|    2.041773543422499|                    17|         0.3050969131371142|\n",
      "|   3|               4415|   2.0336250575771535|                     8|         0.1812004530011325|\n",
      "|   4|               4040|   2.0414350682162707|                    10|        0.24752475247524752|\n",
      "|   5|               5111|   2.0106215578284816|                     9|        0.17609078458227354|\n",
      "|   6|               8561|   2.0115131578947367|                     3|         0.0350426352061675|\n",
      "|   7|              17181|   2.0246288003770916|                     4|        0.02328153192480065|\n",
      "|   8|              20907|     2.02744375484872|                     9|        0.04304778303917348|\n",
      "|   9|              17697|   2.0167521367521366|                     6|        0.03390405153415833|\n",
      "|  10|              16239|   2.0092798812175205|                     3|       0.018474043968224645|\n",
      "|  11|              17431|   2.0121205125245294|                     5|        0.02868452756583099|\n",
      "|  12|              20253|   2.0176329946204423|                     7|        0.03456278082259418|\n",
      "|  13|              21226|   2.0197925587591588|                     3|        0.01413360972392349|\n",
      "|  14|              23979|   2.0310858885312553|                     3|       0.012510947078693858|\n",
      "|  15|              27247|    2.042656870829897|                     8|       0.029361030572173083|\n",
      "|  16|              27633|   2.0384331661257007|                     8|        0.02895089204936127|\n",
      "|  17|              27512|   2.0439821693907874|                     9|        0.03271299796452457|\n",
      "|  18|              22578|   2.0342373186773584|                     6|       0.026574541589157584|\n",
      "|  19|              16048|   2.0237074401008828|                     5|        0.03115653040877368|\n",
      "|  20|              12745|    2.023658304223563|                    11|        0.08630835621812476|\n",
      "|  21|              11671|    2.032213129026641|                     8|        0.06854596864021935|\n",
      "|  22|              11173|   2.0467118519875434|                    10|        0.08950147677436678|\n",
      "|  23|               9126|   2.0370535714285714|                    14|        0.15340784571553803|\n",
      "+----+-------------------+---------------------+----------------------+---------------------------+\n",
      "\n"
     ]
    }
   ],
   "source": [
    "from pyspark.sql.functions import max, min, avg, stddev, sum\n",
    "from pyspark.sql.types import IntegerType\n",
    "\n",
    "display(Markdown(\"**Hour of the day is it most likely for traffic crashes & probability that there is a mortal victim**:\"))\n",
    "CrashesDF.groupBy(\"hour\")\\\n",
    "              .agg(sum(\"num_units\").alias(\"Total Nº of Crashes\"),\\\n",
    "                   avg(\"num_units\").alias(\"Average Nº of Crashes\"),\\\n",
    "                   sum(\"injuries_fatal\").alias(\"Total Nº of Fatalities\"),\\\n",
    "                   (sum(\"injuries_fatal\")/sum(\"num_units\")*100).alias(\"Probability of Fatality (%)\"))\\\n",
    "              .sort(\"hour\", ascending=True).show(24)"
   ]
  },
  {
   "cell_type": "markdown",
   "metadata": {},
   "source": [
    "### 4. How does weather influence traffic crashes?"
   ]
  },
  {
   "cell_type": "code",
   "execution_count": 7,
   "metadata": {},
   "outputs": [
    {
     "data": {
      "text/markdown": [
       "**Weather Vs. Traffic Crashes**:"
      ],
      "text/plain": [
       "<IPython.core.display.Markdown object>"
      ]
     },
     "metadata": {},
     "output_type": "display_data"
    },
    {
     "name": "stdout",
     "output_type": "stream",
     "text": [
      "+--------------------+-------------------+----------------------+-------------------------------+\n",
      "|   weather_condition|Total Nº of Crashes|Total Nº of Fatalities|% of Deaths due to Weather type|\n",
      "+--------------------+-------------------+----------------------+-------------------------------+\n",
      "|severe_cross_wind...|                 66|                     0|                            0.0|\n",
      "|          sleet/hail|                629|                     0|                            0.0|\n",
      "|      fog/smoke/haze|                814|                     0|                            0.0|\n",
      "|               other|               1188|                     1|            0.08417508417508417|\n",
      "|     cloudy/overcast|              11554|                     3|            0.02596503375454388|\n",
      "|             unknown|              13817|                     5|            0.03618730549323298|\n",
      "|                snow|              14755|                     8|           0.054218908844459505|\n",
      "|                rain|              33218|                    25|            0.07526040098741646|\n",
      "|               clear|             285670|                   152|            0.05320824727832814|\n",
      "+--------------------+-------------------+----------------------+-------------------------------+\n",
      "\n"
     ]
    }
   ],
   "source": [
    "from pyspark.sql.functions import max, min, avg, stddev, sum\n",
    "from pyspark.sql.types import IntegerType\n",
    "\n",
    "display(Markdown(\"**Weather Vs. Traffic Crashes**:\"))\n",
    "CrashesDF.groupBy(\"weather_condition\")\\\n",
    "              .agg(sum(\"num_units\").alias(\"Total Nº of Crashes\"),\\\n",
    "                   sum(\"injuries_fatal\").alias(\"Total Nº of Fatalities\"),\\\n",
    "                   (sum(\"injuries_fatal\")/sum(\"num_units\")*100).alias(\"% of Deaths due to Weather type\"))\\\n",
    "              .sort(\"Total Nº of Crashes\", ascending=True).show()"
   ]
  },
  {
   "cell_type": "code",
   "execution_count": null,
   "metadata": {
    "collapsed": true
   },
   "outputs": [],
   "source": []
  }
 ],
 "metadata": {
  "kernelspec": {
   "display_name": "Python 3",
   "language": "python",
   "name": "python3"
  },
  "language_info": {
   "codemirror_mode": {
    "name": "ipython",
    "version": 3
   },
   "file_extension": ".py",
   "mimetype": "text/x-python",
   "name": "python",
   "nbconvert_exporter": "python",
   "pygments_lexer": "ipython3",
   "version": "3.6.1"
  }
 },
 "nbformat": 4,
 "nbformat_minor": 2
}
